{
 "cells": [
  {
   "cell_type": "code",
   "execution_count": 3,
   "metadata": {},
   "outputs": [
    {
     "name": "stdout",
     "output_type": "stream",
     "text": [
      "6\n"
     ]
    }
   ],
   "source": [
    "from datetime import date\n",
    "tday=date.today()\n",
    "print(tday.month)"
   ]
  },
  {
   "cell_type": "markdown",
   "metadata": {
    "colab_type": "text",
    "id": "J7--OvD9S-CH"
   },
   "source": []
  },
  {
   "cell_type": "markdown",
   "metadata": {
    "colab_type": "text",
    "id": "IvzZY2sdS-CI"
   },
   "source": [
    "When we talk about storing multiple values in a container-like data-structure, the first thing that comes to mind is a \n",
    "list.\n",
    "\n",
    "You can initialize a list as"
   ]
  },
  {
   "cell_type": "markdown",
   "metadata": {
    "colab_type": "text",
    "id": "kKu7gsu-S-CJ"
   },
   "source": [
    "### Initialise a list"
   ]
  },
  {
   "cell_type": "code",
   "execution_count": null,
   "metadata": {
    "colab": {},
    "colab_type": "code",
    "id": "daS17FAMS-CJ"
   },
   "outputs": [],
   "source": [
    "arr = list()"
   ]
  },
  {
   "cell_type": "code",
   "execution_count": null,
   "metadata": {
    "colab": {},
    "colab_type": "code",
    "id": "ORaazqatS-CM",
    "outputId": "365d2eaf-36c1-492d-b153-0247f44e2669"
   },
   "outputs": [
    {
     "data": {
      "text/plain": [
       "list"
      ]
     },
     "execution_count": 3,
     "metadata": {
      "tags": []
     },
     "output_type": "execute_result"
    }
   ],
   "source": [
    "type(arr)"
   ]
  },
  {
   "cell_type": "markdown",
   "metadata": {
    "colab_type": "text",
    "id": "P73PV8x_S-CP"
   },
   "source": [
    "or simply"
   ]
  },
  {
   "cell_type": "code",
   "execution_count": null,
   "metadata": {
    "colab": {},
    "colab_type": "code",
    "id": "MqOCI_jPS-CQ"
   },
   "outputs": [],
   "source": [
    "arr = []"
   ]
  },
  {
   "cell_type": "code",
   "execution_count": null,
   "metadata": {
    "colab": {},
    "colab_type": "code",
    "id": "kcDD3dvuS-CS",
    "outputId": "77a307e1-171c-4d2d-a81b-0ed471c86f3d"
   },
   "outputs": [
    {
     "data": {
      "text/plain": [
       "list"
      ]
     },
     "execution_count": 5,
     "metadata": {
      "tags": []
     },
     "output_type": "execute_result"
    }
   ],
   "source": [
    "type(arr)"
   ]
  },
  {
   "cell_type": "markdown",
   "metadata": {
    "colab_type": "text",
    "id": "lUeAHNHNS-CU"
   },
   "source": [
    "or with a few elements as"
   ]
  },
  {
   "cell_type": "code",
   "execution_count": null,
   "metadata": {
    "colab": {},
    "colab_type": "code",
    "id": "r_2Tm269S-CU"
   },
   "outputs": [],
   "source": [
    "arr = [1,2,3]"
   ]
  },
  {
   "cell_type": "code",
   "execution_count": null,
   "metadata": {
    "colab": {},
    "colab_type": "code",
    "id": "JgYdKdkAS-CX",
    "outputId": "6e385b8b-9b4b-40c7-d532-50bdf054bf9f"
   },
   "outputs": [
    {
     "name": "stdout",
     "output_type": "stream",
     "text": [
      "<class 'list'>\n"
     ]
    },
    {
     "data": {
      "text/plain": [
       "[1, 2, 3]"
      ]
     },
     "execution_count": 8,
     "metadata": {
      "tags": []
     },
     "output_type": "execute_result"
    }
   ],
   "source": [
    "print(type(arr))\n",
    "arr"
   ]
  },
  {
   "cell_type": "markdown",
   "metadata": {
    "colab_type": "text",
    "id": "7GyqdWW9S-CZ"
   },
   "source": [
    "Elements can be accessed easily like you do in most programming languages."
   ]
  },
  {
   "cell_type": "code",
   "execution_count": null,
   "metadata": {
    "colab": {},
    "colab_type": "code",
    "id": "6HmenRFIS-Ca"
   },
   "outputs": [],
   "source": [
    "arr2 = ['str','a'] #can be of nay data type  "
   ]
  },
  {
   "cell_type": "code",
   "execution_count": null,
   "metadata": {
    "colab": {},
    "colab_type": "code",
    "id": "POrVpn1_S-Cc",
    "outputId": "8e58a800-059d-4091-a5aa-63a0f032e783"
   },
   "outputs": [
    {
     "data": {
      "text/plain": [
       "['str', 'a']"
      ]
     },
     "execution_count": 10,
     "metadata": {
      "tags": []
     },
     "output_type": "execute_result"
    }
   ],
   "source": [
    "arr2"
   ]
  },
  {
   "cell_type": "code",
   "execution_count": null,
   "metadata": {
    "colab": {},
    "colab_type": "code",
    "id": "62HCsjtES-Ce"
   },
   "outputs": [],
   "source": [
    "l = [1,2.0,'a'] #can be mixed data type too"
   ]
  },
  {
   "cell_type": "code",
   "execution_count": null,
   "metadata": {
    "colab": {},
    "colab_type": "code",
    "id": "MuTb0311S-Cg",
    "outputId": "396e4854-c80d-4aa9-ace6-6ec704858043"
   },
   "outputs": [
    {
     "data": {
      "text/plain": [
       "[1, 2.0, 'a']"
      ]
     },
     "execution_count": 17,
     "metadata": {
      "tags": []
     },
     "output_type": "execute_result"
    }
   ],
   "source": [
    "l"
   ]
  },
  {
   "cell_type": "code",
   "execution_count": null,
   "metadata": {
    "colab": {},
    "colab_type": "code",
    "id": "P7gVS6EyS-Ci",
    "outputId": "0a1d70b5-34b0-4838-c941-cbf9c249b2ba"
   },
   "outputs": [
    {
     "data": {
      "text/plain": [
       "2.0"
      ]
     },
     "execution_count": 18,
     "metadata": {
      "tags": []
     },
     "output_type": "execute_result"
    }
   ],
   "source": [
    "l[1]"
   ]
  },
  {
   "cell_type": "code",
   "execution_count": null,
   "metadata": {
    "colab": {},
    "colab_type": "code",
    "id": "v43o_PF9S-Ck"
   },
   "outputs": [],
   "source": [
    "#lists can be nested also !"
   ]
  },
  {
   "cell_type": "code",
   "execution_count": null,
   "metadata": {
    "colab": {},
    "colab_type": "code",
    "id": "UzovAATIS-Cm"
   },
   "outputs": [],
   "source": [
    "l = [[1,2,3],[3]]"
   ]
  },
  {
   "cell_type": "code",
   "execution_count": null,
   "metadata": {
    "colab": {},
    "colab_type": "code",
    "id": "k3SW1s-KS-Co",
    "outputId": "e7182f93-dbce-4f72-dc0b-573fd20a81aa"
   },
   "outputs": [
    {
     "data": {
      "text/plain": [
       "[[1, 2, 3], [3]]"
      ]
     },
     "execution_count": 21,
     "metadata": {
      "tags": []
     },
     "output_type": "execute_result"
    }
   ],
   "source": [
    "l"
   ]
  },
  {
   "cell_type": "code",
   "execution_count": null,
   "metadata": {
    "colab": {},
    "colab_type": "code",
    "id": "j1ArUoMKS-Cq",
    "outputId": "a05dfabd-8f2c-4621-8d9e-3fa3be6a1fdf"
   },
   "outputs": [
    {
     "data": {
      "text/plain": [
       "2"
      ]
     },
     "execution_count": 22,
     "metadata": {
      "tags": []
     },
     "output_type": "execute_result"
    }
   ],
   "source": [
    "l[0][1]"
   ]
  },
  {
   "cell_type": "code",
   "execution_count": null,
   "metadata": {
    "colab": {},
    "colab_type": "code",
    "id": "kM83pvRqS-Cs",
    "outputId": "5289f5ba-6489-4b7d-f9d7-ec77ce1e561e"
   },
   "outputs": [
    {
     "data": {
      "text/plain": [
       "2"
      ]
     },
     "execution_count": 33,
     "metadata": {
      "tags": []
     },
     "output_type": "execute_result"
    }
   ],
   "source": [
    "l[0][1]"
   ]
  },
  {
   "cell_type": "markdown",
   "metadata": {
    "colab_type": "text",
    "id": "oDAYIZksS-Cu"
   },
   "source": [
    "### Indexing a list"
   ]
  },
  {
   "cell_type": "code",
   "execution_count": null,
   "metadata": {
    "colab": {},
    "colab_type": "code",
    "id": "kCx2fngkS-Cu",
    "outputId": "d35b931c-1437-4262-d4b4-3ceaab585972"
   },
   "outputs": [
    {
     "data": {
      "text/plain": [
       "[1, 2, 3]"
      ]
     },
     "execution_count": 23,
     "metadata": {
      "tags": []
     },
     "output_type": "execute_result"
    }
   ],
   "source": [
    "arr"
   ]
  },
  {
   "cell_type": "code",
   "execution_count": null,
   "metadata": {
    "colab": {},
    "colab_type": "code",
    "id": "qePqCqCtS-Cw",
    "outputId": "cce654f6-2d43-42fb-f22d-d49f38960df7"
   },
   "outputs": [
    {
     "name": "stdout",
     "output_type": "stream",
     "text": [
      "1\n"
     ]
    }
   ],
   "source": [
    "print(arr[0])"
   ]
  },
  {
   "cell_type": "code",
   "execution_count": null,
   "metadata": {
    "colab": {},
    "colab_type": "code",
    "id": "Ye9fd49nS-Cy",
    "outputId": "2df69dca-8fdd-4071-b7da-07d38a51b621"
   },
   "outputs": [
    {
     "name": "stdout",
     "output_type": "stream",
     "text": [
      "6\n"
     ]
    }
   ],
   "source": [
    "print(arr[0] + arr[1] + arr[2])"
   ]
  },
  {
   "cell_type": "code",
   "execution_count": null,
   "metadata": {
    "colab": {},
    "colab_type": "code",
    "id": "LXY6rpHvS-C0",
    "outputId": "d9bd461d-402d-4ffc-a274-04540559026e"
   },
   "outputs": [
    {
     "data": {
      "text/plain": [
       "[1, 2, 3]"
      ]
     },
     "execution_count": 26,
     "metadata": {
      "tags": []
     },
     "output_type": "execute_result"
    }
   ],
   "source": [
    "l[0]"
   ]
  },
  {
   "cell_type": "code",
   "execution_count": null,
   "metadata": {
    "colab": {},
    "colab_type": "code",
    "id": "bPRsPMAqS-C2",
    "outputId": "7d26edd3-c1e5-42ef-dffb-a3fe46d776f2"
   },
   "outputs": [
    {
     "data": {
      "text/plain": [
       "[3]"
      ]
     },
     "execution_count": 27,
     "metadata": {
      "tags": []
     },
     "output_type": "execute_result"
    }
   ],
   "source": [
    "l[1]"
   ]
  },
  {
   "cell_type": "code",
   "execution_count": null,
   "metadata": {
    "colab": {},
    "colab_type": "code",
    "id": "uqovATCtS-C4"
   },
   "outputs": [],
   "source": [
    "#indexing a list is the same as string since both are iterables\n",
    "lis = [1,2,3,4]"
   ]
  },
  {
   "cell_type": "code",
   "execution_count": null,
   "metadata": {
    "colab": {},
    "colab_type": "code",
    "id": "kaG_tRt3S-C5",
    "outputId": "051c5fee-7b6e-4cf5-964b-d75f08bad6a5"
   },
   "outputs": [
    {
     "data": {
      "text/plain": [
       "1"
      ]
     },
     "execution_count": 29,
     "metadata": {
      "tags": []
     },
     "output_type": "execute_result"
    }
   ],
   "source": [
    "lis[0]"
   ]
  },
  {
   "cell_type": "code",
   "execution_count": null,
   "metadata": {
    "colab": {},
    "colab_type": "code",
    "id": "_TAdJyzvS-C7",
    "outputId": "79b0c4b7-32fd-4ab7-fff7-bff7fda50d00"
   },
   "outputs": [
    {
     "data": {
      "text/plain": [
       "3"
      ]
     },
     "execution_count": 30,
     "metadata": {
      "tags": []
     },
     "output_type": "execute_result"
    }
   ],
   "source": [
    "lis[2]"
   ]
  },
  {
   "cell_type": "code",
   "execution_count": null,
   "metadata": {
    "colab": {},
    "colab_type": "code",
    "id": "o9w_uAhgS-C-",
    "outputId": "369bfcc2-eb2d-4b46-ae4f-e7e6bdc5d29e"
   },
   "outputs": [
    {
     "data": {
      "text/plain": [
       "4"
      ]
     },
     "execution_count": 31,
     "metadata": {
      "tags": []
     },
     "output_type": "execute_result"
    }
   ],
   "source": [
    "lis[-1]"
   ]
  },
  {
   "cell_type": "code",
   "execution_count": null,
   "metadata": {
    "colab": {},
    "colab_type": "code",
    "id": "5C4faXkaS-DD",
    "outputId": "a49fb7f5-08e7-451b-c1c1-1a18632c5217"
   },
   "outputs": [
    {
     "data": {
      "text/plain": [
       "1"
      ]
     },
     "execution_count": 32,
     "metadata": {
      "tags": []
     },
     "output_type": "execute_result"
    }
   ],
   "source": [
    "lis[-4]"
   ]
  },
  {
   "cell_type": "markdown",
   "metadata": {
    "colab_type": "text",
    "id": "ZY_s7dVfS-DE"
   },
   "source": [
    "### slicing a list "
   ]
  },
  {
   "cell_type": "code",
   "execution_count": null,
   "metadata": {
    "colab": {},
    "colab_type": "code",
    "id": "A69XvEJqS-DF",
    "outputId": "d47fc896-9fda-4a7e-8e62-14bf30163b13"
   },
   "outputs": [
    {
     "data": {
      "text/plain": [
       "[1, 2, 3, 4]"
      ]
     },
     "execution_count": 34,
     "metadata": {
      "tags": []
     },
     "output_type": "execute_result"
    }
   ],
   "source": [
    "lis"
   ]
  },
  {
   "cell_type": "code",
   "execution_count": null,
   "metadata": {
    "colab": {},
    "colab_type": "code",
    "id": "-GaIQcXOS-DG",
    "outputId": "0ec2cf75-1c1a-4bf8-9e47-e1829b550055"
   },
   "outputs": [
    {
     "data": {
      "text/plain": [
       "[1, 2]"
      ]
     },
     "execution_count": 35,
     "metadata": {
      "tags": []
     },
     "output_type": "execute_result"
    }
   ],
   "source": [
    "lis[0:2]"
   ]
  },
  {
   "cell_type": "code",
   "execution_count": null,
   "metadata": {
    "colab": {},
    "colab_type": "code",
    "id": "FrHmKED1S-DI",
    "outputId": "a9c8981f-d455-4e15-c706-4c49142ba966"
   },
   "outputs": [
    {
     "data": {
      "text/plain": [
       "[4, 3, 2, 1]"
      ]
     },
     "execution_count": 36,
     "metadata": {
      "tags": []
     },
     "output_type": "execute_result"
    }
   ],
   "source": [
    "lis[::-1]"
   ]
  },
  {
   "cell_type": "code",
   "execution_count": null,
   "metadata": {
    "colab": {},
    "colab_type": "code",
    "id": "auNFCsg_S-DL",
    "outputId": "ec69f0a6-0e59-4e96-d5fc-37cec7d5518c"
   },
   "outputs": [
    {
     "data": {
      "text/plain": [
       "[3]"
      ]
     },
     "execution_count": 37,
     "metadata": {
      "tags": []
     },
     "output_type": "execute_result"
    }
   ],
   "source": [
    "lis[-2:-1]"
   ]
  },
  {
   "cell_type": "code",
   "execution_count": null,
   "metadata": {
    "colab": {},
    "colab_type": "code",
    "id": "HF-e8ZrtS-DM",
    "outputId": "325ac459-9717-4d1a-bc20-4c1ec8abd106"
   },
   "outputs": [
    {
     "data": {
      "text/plain": [
       "[3, 4]"
      ]
     },
     "execution_count": 38,
     "metadata": {
      "tags": []
     },
     "output_type": "execute_result"
    }
   ],
   "source": [
    "lis[-2:]"
   ]
  },
  {
   "cell_type": "code",
   "execution_count": null,
   "metadata": {
    "colab": {},
    "colab_type": "code",
    "id": "evyUStrRS-DO",
    "outputId": "249bf585-d67f-4f91-a099-54a578e00515"
   },
   "outputs": [
    {
     "data": {
      "text/plain": [
       "[1, 3]"
      ]
     },
     "execution_count": 39,
     "metadata": {
      "tags": []
     },
     "output_type": "execute_result"
    }
   ],
   "source": [
    "lis[0:4:2] #take only the  indices  from 0 to 4 with a step of 2 "
   ]
  },
  {
   "cell_type": "code",
   "execution_count": null,
   "metadata": {
    "colab": {},
    "colab_type": "code",
    "id": "UCD4Z3MMS-DQ",
    "outputId": "7b036d5f-381e-4a66-8e67-273afca6ea76"
   },
   "outputs": [
    {
     "data": {
      "text/plain": [
       "[2, 4]"
      ]
     },
     "execution_count": 40,
     "metadata": {
      "tags": []
     },
     "output_type": "execute_result"
    }
   ],
   "source": [
    "lis[1::2] #take only the  indices  from 1 to end with a step of 2 "
   ]
  },
  {
   "cell_type": "code",
   "execution_count": null,
   "metadata": {
    "colab": {},
    "colab_type": "code",
    "id": "MpG6stP2S-DS",
    "outputId": "9984c4e0-fa50-4039-cf18-e73e9bfd3150"
   },
   "outputs": [
    {
     "data": {
      "text/plain": [
       "[1, 3]"
      ]
     },
     "execution_count": 41,
     "metadata": {
      "tags": []
     },
     "output_type": "execute_result"
    }
   ],
   "source": [
    "lis[::2] #default is from the start till the end "
   ]
  },
  {
   "cell_type": "code",
   "execution_count": null,
   "metadata": {
    "colab": {},
    "colab_type": "code",
    "id": "dfPNstg8S-DT",
    "outputId": "cf872de8-92dc-482f-caed-b5d655130f53"
   },
   "outputs": [
    {
     "ename": "TypeError",
     "evalue": "'str' object does not support item assignment",
     "output_type": "error",
     "traceback": [
      "\u001b[0;31m---------------------------------------------------------------------------\u001b[0m",
      "\u001b[0;31mTypeError\u001b[0m                                 Traceback (most recent call last)",
      "\u001b[0;32m<ipython-input-43-39395c92ed92>\u001b[0m in \u001b[0;36m<module>\u001b[0;34m\u001b[0m\n\u001b[1;32m      1\u001b[0m \u001b[0ms\u001b[0m \u001b[0;34m=\u001b[0m  \u001b[0;34m\"Bi2i\"\u001b[0m\u001b[0;34m\u001b[0m\u001b[0;34m\u001b[0m\u001b[0m\n\u001b[0;32m----> 2\u001b[0;31m \u001b[0ms\u001b[0m\u001b[0;34m[\u001b[0m\u001b[0;36m0\u001b[0m\u001b[0;34m]\u001b[0m \u001b[0;34m=\u001b[0m \u001b[0;34m'i'\u001b[0m\u001b[0;34m\u001b[0m\u001b[0;34m\u001b[0m\u001b[0m\n\u001b[0m",
      "\u001b[0;31mTypeError\u001b[0m: 'str' object does not support item assignment"
     ]
    }
   ],
   "source": [
    "s =  \"Bi2i\"\n",
    "s[0] = 'i' #immutable, hence throwing an error"
   ]
  },
  {
   "cell_type": "code",
   "execution_count": null,
   "metadata": {
    "colab": {},
    "colab_type": "code",
    "id": "KyZ3pnTGS-DW",
    "outputId": "7c6bde3f-05e8-42f3-9626-613f3f7c67ee"
   },
   "outputs": [
    {
     "name": "stdout",
     "output_type": "stream",
     "text": [
      "[1, 6, 3, 4]\n"
     ]
    },
    {
     "data": {
      "text/plain": [
       "[1, 9, 3, 4]"
      ]
     },
     "execution_count": 46,
     "metadata": {
      "tags": []
     },
     "output_type": "execute_result"
    }
   ],
   "source": [
    "#change the elements of a list \n",
    "print(lis)\n",
    "lis[1] = 9 #mutable\n",
    "lis"
   ]
  },
  {
   "cell_type": "code",
   "execution_count": null,
   "metadata": {
    "colab": {},
    "colab_type": "code",
    "id": "uFZF5aZgS-DX"
   },
   "outputs": [],
   "source": [
    "lis[1:4] =  ['a','b','c']"
   ]
  },
  {
   "cell_type": "code",
   "execution_count": null,
   "metadata": {
    "colab": {},
    "colab_type": "code",
    "id": "Ykk7hll8S-DZ",
    "outputId": "93de5068-57b5-4782-df8a-3ad25860bcd1"
   },
   "outputs": [
    {
     "data": {
      "text/plain": [
       "[1, 'a', 'b', 'c']"
      ]
     },
     "execution_count": 48,
     "metadata": {
      "tags": []
     },
     "output_type": "execute_result"
    }
   ],
   "source": [
    "lis"
   ]
  },
  {
   "cell_type": "markdown",
   "metadata": {
    "colab_type": "text",
    "id": "NyuauYJMS-Db"
   },
   "source": [
    "### Add more elements to the list "
   ]
  },
  {
   "cell_type": "code",
   "execution_count": 1,
   "metadata": {
    "colab": {},
    "colab_type": "code",
    "id": "5a4xJgPAS-Db"
   },
   "outputs": [],
   "source": [
    "lis = [1,'a','b','c']"
   ]
  },
  {
   "cell_type": "code",
   "execution_count": 2,
   "metadata": {
    "colab": {},
    "colab_type": "code",
    "id": "xYpwjMlXS-Dd"
   },
   "outputs": [],
   "source": [
    "#how to add more elements to a list?\n",
    "lis.extend([1,2,3])\n"
   ]
  },
  {
   "cell_type": "code",
   "execution_count": 3,
   "metadata": {
    "colab": {},
    "colab_type": "code",
    "id": "LuMX2xEfS-Df",
    "outputId": "5787ebea-e6b1-4e23-d932-2f2033ab81e4"
   },
   "outputs": [
    {
     "data": {
      "text/plain": [
       "[1, 'a', 'b', 'c', 1, 2, 3, [5, 6]]"
      ]
     },
     "execution_count": 3,
     "metadata": {},
     "output_type": "execute_result"
    }
   ],
   "source": [
    "lis.append([5,6])\n",
    "lis"
   ]
  },
  {
   "cell_type": "code",
   "execution_count": 4,
   "metadata": {
    "colab": {},
    "colab_type": "code",
    "id": "7ndL1CiGS-Di",
    "outputId": "9553280f-956e-495c-c768-862f3610ed6e"
   },
   "outputs": [
    {
     "data": {
      "text/plain": [
       "[1, 'a', 'b', 'c', 1, 2, 3, [5, 6], 5, 6]"
      ]
     },
     "execution_count": 4,
     "metadata": {},
     "output_type": "execute_result"
    }
   ],
   "source": [
    "lis.extend([5,6])\n",
    "lis"
   ]
  },
  {
   "cell_type": "code",
   "execution_count": 5,
   "metadata": {
    "colab": {},
    "colab_type": "code",
    "id": "pSNzveQJS-Dk",
    "outputId": "c5da8b38-894e-4409-ad59-4517be8a6b55"
   },
   "outputs": [
    {
     "data": {
      "text/plain": [
       "['new', 1, 'a', 'b', 'c', 1, 2, 3, [5, 6], 5, 6]"
      ]
     },
     "execution_count": 5,
     "metadata": {},
     "output_type": "execute_result"
    }
   ],
   "source": [
    "#insert at a position \n",
    "lis.insert(0,'new')\n",
    "lis"
   ]
  },
  {
   "cell_type": "code",
   "execution_count": 6,
   "metadata": {
    "colab": {},
    "colab_type": "code",
    "id": "zLq5Ew4mS-Dm"
   },
   "outputs": [],
   "source": [
    "lis.insert(5,'five')"
   ]
  },
  {
   "cell_type": "code",
   "execution_count": 7,
   "metadata": {
    "colab": {},
    "colab_type": "code",
    "id": "-jwsdvhAS-Dp",
    "outputId": "1af111a3-bfb7-4995-8ef0-1f2f4b3360c6"
   },
   "outputs": [
    {
     "data": {
      "text/plain": [
       "['new', 1, 'a', 'b', 'c', 'five', 1, 2, 3, [5, 6], 5, 6, 1, 2, 3]"
      ]
     },
     "execution_count": 7,
     "metadata": {},
     "output_type": "execute_result"
    }
   ],
   "source": [
    "lis_new = lis+[1,2,3] #When you dont want to change original list\n",
    "lis_new"
   ]
  },
  {
   "cell_type": "code",
   "execution_count": 8,
   "metadata": {
    "colab": {},
    "colab_type": "code",
    "id": "EPRntxWDS-Dr",
    "outputId": "65555e7f-8fe9-4977-ebc2-f9a5b8a17a7d"
   },
   "outputs": [
    {
     "data": {
      "text/plain": [
       "['new', 1, 'a', 'b', 'c', 'five', 1, 2, 3, [5, 6], 5, 6]"
      ]
     },
     "execution_count": 8,
     "metadata": {},
     "output_type": "execute_result"
    }
   ],
   "source": [
    "lis"
   ]
  },
  {
   "cell_type": "markdown",
   "metadata": {
    "colab_type": "text",
    "id": "aDJ0tlaMS-Dt"
   },
   "source": [
    "### Remove elements from a list "
   ]
  },
  {
   "cell_type": "code",
   "execution_count": 9,
   "metadata": {
    "colab": {},
    "colab_type": "code",
    "id": "oxi5pUGQS-Dt",
    "outputId": "c748f781-8999-413a-d9f2-9c1e98842d67"
   },
   "outputs": [
    {
     "data": {
      "text/plain": [
       "['new', 1, 'b', 'c', 'five', 1, 2, 3, [5, 6], 5, 6]"
      ]
     },
     "execution_count": 9,
     "metadata": {},
     "output_type": "execute_result"
    }
   ],
   "source": [
    "#delete elements \n",
    "del lis[2] # del from lis at index passed inside\n",
    "lis"
   ]
  },
  {
   "cell_type": "code",
   "execution_count": 10,
   "metadata": {
    "colab": {},
    "colab_type": "code",
    "id": "frtmKnyUS-Dv",
    "outputId": "2aa75e35-4c7f-4c1e-fdf7-42b08be3720e"
   },
   "outputs": [
    {
     "data": {
      "text/plain": [
       "6"
      ]
     },
     "execution_count": 10,
     "metadata": {},
     "output_type": "execute_result"
    }
   ],
   "source": [
    "lis.pop() #removes the last element "
   ]
  },
  {
   "cell_type": "code",
   "execution_count": 15,
   "metadata": {
    "colab": {},
    "colab_type": "code",
    "id": "ZO5L1g3DS-Dx"
   },
   "outputs": [],
   "source": [
    "lis.remove('c') #remove the element passed"
   ]
  },
  {
   "cell_type": "code",
   "execution_count": 16,
   "metadata": {
    "colab": {},
    "colab_type": "code",
    "id": "ozXZq-OYS-Dz",
    "outputId": "de0f0479-b622-4f8b-82eb-e7008f8f7c1d"
   },
   "outputs": [
    {
     "data": {
      "text/plain": [
       "['new', 1, 'b', 'five', 1, 3, [5, 6], 5]"
      ]
     },
     "execution_count": 16,
     "metadata": {},
     "output_type": "execute_result"
    }
   ],
   "source": [
    "lis"
   ]
  },
  {
   "cell_type": "code",
   "execution_count": null,
   "metadata": {
    "colab": {},
    "colab_type": "code",
    "id": "CcSjEQ0tS-D3",
    "outputId": "14dc5ffc-e0ff-4081-8ee3-6f8cd2f18aea"
   },
   "outputs": [
    {
     "data": {
      "text/plain": [
       "['new', 1, 4, 'five', 1]"
      ]
     },
     "execution_count": 79,
     "metadata": {
      "tags": []
     },
     "output_type": "execute_result"
    }
   ],
   "source": [
    "lis.pop(2) #pops at an index\n",
    "lis"
   ]
  },
  {
   "cell_type": "markdown",
   "metadata": {
    "colab_type": "text",
    "id": "79p7AC7JS-D4"
   },
   "source": [
    "### List methods "
   ]
  },
  {
   "cell_type": "markdown",
   "metadata": {
    "colab_type": "raw",
    "id": "AhcOx4wJS-D4"
   },
   "source": [
    "List methods \n",
    "\n",
    "append() - Add an element to the end of the list\n",
    "extend() - Add all elements of a list to the another list\n",
    "insert() - Insert an item at the defined index\n",
    "remove() - Removes an item from the list\n",
    "pop() - Removes and returns an element at the given index\n",
    "clear() - Removes all items from the list\n",
    "index() - Returns the index of the first matched item\n",
    "count() - Returns the count of number of items passed as an argument\n",
    "sort() - Sort items in a list in ascending order\n",
    "reverse() - Reverse the order of items in the list\n",
    "copy() - Returns a shallow copy of the list"
   ]
  },
  {
   "cell_type": "code",
   "execution_count": 20,
   "metadata": {
    "colab": {},
    "colab_type": "code",
    "id": "8lQKQSjVS-D5",
    "outputId": "f5fbdd25-c628-4396-ff9e-7fb472147375"
   },
   "outputs": [
    {
     "name": "stdout",
     "output_type": "stream",
     "text": [
      "1\n",
      "2\n",
      "[0, 1, 3, 4, 6, 8, 8]\n",
      "[8, 8, 6, 4, 3, 1, 0]\n",
      "[0, 1, 3, 4, 6, 8, 8]\n"
     ]
    }
   ],
   "source": [
    "my_list = [3, 8, 1, 6, 0, 8, 4]\n",
    "\n",
    "# returns the element at the mentioned index \n",
    "print(my_list.index(8))\n",
    "\n",
    "# returns the no of occurences of the mentioned value\n",
    "print(my_list.count(8))\n",
    "my_list.sort()\n",
    "print(my_list)\n",
    "#sorts and stores the sorted list to the list \n",
    "my_list.sort(reverse = True)\n",
    "\n",
    "print(my_list)\n",
    "\n",
    "#reverses the list\n",
    "my_list.reverse()\n",
    "\n",
    "print(my_list)"
   ]
  },
  {
   "cell_type": "code",
   "execution_count": null,
   "metadata": {
    "colab": {},
    "colab_type": "code",
    "id": "PQPe6UVDS-D6",
    "outputId": "c410481a-3473-4fed-c770-874e6e91dc0e"
   },
   "outputs": [
    {
     "name": "stdout",
     "output_type": "stream",
     "text": [
      "True\n",
      "False\n",
      "True\n"
     ]
    }
   ],
   "source": [
    "#checks if an element is in a list or not\n",
    "my_list = ['p','r','o','b','l','e','m']\n",
    "\n",
    "print('p' in my_list)\n",
    "\n",
    "print('a' in my_list)\n",
    "\n",
    "print('c' not in my_list)"
   ]
  },
  {
   "cell_type": "markdown",
   "metadata": {
    "colab_type": "text",
    "id": "qB_1W0I1S-D8"
   },
   "source": [
    "### Built in functions for lists "
   ]
  },
  {
   "cell_type": "markdown",
   "metadata": {
    "colab_type": "raw",
    "id": "e0wQhrVoS-D8"
   },
   "source": [
    "Built in functions using lists \n",
    "Function \tDescription\n",
    "all() \tReturn True if all elements of the list are true (or if the list is empty).\n",
    "any() \tReturn True if any element of the list is true. If the list is empty, return False.\n",
    "enumerate() \tReturn an enumerate object. It contains the index and value of all the items of list as a tuple.\n",
    "len() \tReturn the length (the number of items) in the list.\n",
    "list() \tConvert an iterable (tuple, string, set, dictionary) to a list.\n",
    "max() \tReturn the largest item in the list.\n",
    "min() \tReturn the smallest item in the list\n",
    "sorted() \tReturn a new sorted list (does not sort the list itself).\n",
    "sum() \tReturn the sum of all elements in the list."
   ]
  },
  {
   "cell_type": "code",
   "execution_count": null,
   "metadata": {
    "colab": {},
    "colab_type": "code",
    "id": "uaKTR9YNS-D9"
   },
   "outputs": [],
   "source": [
    "l = [1,2,3]"
   ]
  },
  {
   "cell_type": "code",
   "execution_count": null,
   "metadata": {
    "colab": {},
    "colab_type": "code",
    "id": "R5ZDGOYeS-D_",
    "outputId": "ffc99964-9dbf-4978-cd0d-e14089ef6797"
   },
   "outputs": [
    {
     "data": {
      "text/plain": [
       "6"
      ]
     },
     "execution_count": 85,
     "metadata": {
      "tags": []
     },
     "output_type": "execute_result"
    }
   ],
   "source": [
    "sum(l)"
   ]
  },
  {
   "cell_type": "code",
   "execution_count": null,
   "metadata": {
    "colab": {},
    "colab_type": "code",
    "id": "lSoYr9mkS-EB"
   },
   "outputs": [],
   "source": [
    "l = [4,2,6,8,1,0]"
   ]
  },
  {
   "cell_type": "code",
   "execution_count": null,
   "metadata": {
    "colab": {},
    "colab_type": "code",
    "id": "PCZ7MVo7S-EC",
    "outputId": "0cd3cd4c-0e26-4a7f-8d27-63b422098619"
   },
   "outputs": [
    {
     "data": {
      "text/plain": [
       "[4, 2, 6, 8, 1, 0]"
      ]
     },
     "execution_count": 100,
     "metadata": {
      "tags": []
     },
     "output_type": "execute_result"
    }
   ],
   "source": [
    "l"
   ]
  },
  {
   "cell_type": "code",
   "execution_count": null,
   "metadata": {
    "colab": {},
    "colab_type": "code",
    "id": "loLasNEGS-EE"
   },
   "outputs": [],
   "source": [
    "l.sort()"
   ]
  },
  {
   "cell_type": "code",
   "execution_count": null,
   "metadata": {
    "colab": {},
    "colab_type": "code",
    "id": "LgXe1ksbS-EG"
   },
   "outputs": [],
   "source": [
    "m = sorted(l,reverse = True)"
   ]
  },
  {
   "cell_type": "code",
   "execution_count": null,
   "metadata": {
    "colab": {},
    "colab_type": "code",
    "id": "HkbcYe3oS-EH",
    "outputId": "9128f934-f705-4bb9-c988-75b4a69378be"
   },
   "outputs": [
    {
     "data": {
      "text/plain": [
       "[8, 6, 4, 2, 1, 0]"
      ]
     },
     "execution_count": 109,
     "metadata": {
      "tags": []
     },
     "output_type": "execute_result"
    }
   ],
   "source": [
    "m"
   ]
  },
  {
   "cell_type": "code",
   "execution_count": null,
   "metadata": {
    "colab": {},
    "colab_type": "code",
    "id": "gwSsOYuXS-EJ",
    "outputId": "5d23d5e4-cdc5-4ace-fa2d-5c6588c39b2f"
   },
   "outputs": [
    {
     "data": {
      "text/plain": [
       "[0, 1, 2, 4, 6, 8]"
      ]
     },
     "execution_count": 106,
     "metadata": {
      "tags": []
     },
     "output_type": "execute_result"
    }
   ],
   "source": [
    "l"
   ]
  },
  {
   "cell_type": "code",
   "execution_count": null,
   "metadata": {
    "colab": {},
    "colab_type": "code",
    "id": "ycJ5NDliS-EK",
    "outputId": "26b45317-3a0c-45d0-ad37-0456d817f9f6"
   },
   "outputs": [
    {
     "data": {
      "text/plain": [
       "(1, 3)"
      ]
     },
     "execution_count": 62,
     "metadata": {
      "tags": []
     },
     "output_type": "execute_result"
    }
   ],
   "source": [
    "min(l) , max(l)"
   ]
  },
  {
   "cell_type": "code",
   "execution_count": null,
   "metadata": {
    "colab": {},
    "colab_type": "code",
    "id": "YPsyhMZ0S-EM",
    "outputId": "976b6544-0112-4dba-e71c-9b0bafb8004f"
   },
   "outputs": [
    {
     "data": {
      "text/plain": [
       "3"
      ]
     },
     "execution_count": 63,
     "metadata": {
      "tags": []
     },
     "output_type": "execute_result"
    }
   ],
   "source": [
    "len(l)"
   ]
  },
  {
   "cell_type": "code",
   "execution_count": null,
   "metadata": {
    "colab": {},
    "colab_type": "code",
    "id": "r7VZafcUS-EN",
    "outputId": "42731d60-a02e-43fb-9bb1-c5574ad651b2"
   },
   "outputs": [
    {
     "name": "stdout",
     "output_type": "stream",
     "text": [
      "0 : a\n",
      "1 : b\n"
     ]
    }
   ],
   "source": [
    "for i,x in enumerate(['a','b']):\n",
    "    print i,':',x"
   ]
  },
  {
   "cell_type": "markdown",
   "metadata": {
    "colab_type": "text",
    "id": "Iv2mDMnPS-EO"
   },
   "source": [
    "**Task**\n",
    "\n",
    "You have to initialize your list L = [] and follow the N commands given in N lines.\n",
    "\n",
    "Commands will be 1 of the 8 commands as given above, other than extend, and each command will have its value separated by space.\n",
    "\n",
    "Follow this example:\n",
    "\n",
    "**Sample Input**\n",
    "\n",
    "12\n",
    "insert 0 5\n",
    "insert 1 10\n",
    "insert 0 6\n",
    "print \n",
    "remove 6\n",
    "append 9\n",
    "append 1\n",
    "sort \n",
    "print\n",
    "pop\n",
    "reverse\n",
    "print\n",
    "\n",
    "**Sample Output**\n",
    "\n",
    "[6, 5, 10]\n",
    "[1, 5, 9, 10]\n",
    "[9, 5, 1]\n"
   ]
  },
  {
   "cell_type": "code",
   "execution_count": null,
   "metadata": {
    "colab": {},
    "colab_type": "code",
    "id": "2WlwBeQ-S-ER"
   },
   "outputs": [],
   "source": [
    "l = [1,2,3]\n",
    "m = l.copy()"
   ]
  },
  {
   "cell_type": "code",
   "execution_count": null,
   "metadata": {
    "colab": {},
    "colab_type": "code",
    "id": "Q20UkzFrS-ET",
    "outputId": "9a1c7d22-9544-42a6-d152-6c6dc391f29f"
   },
   "outputs": [
    {
     "data": {
      "text/plain": [
       "[1, 2, 3]"
      ]
     },
     "execution_count": 111,
     "metadata": {
      "tags": []
     },
     "output_type": "execute_result"
    }
   ],
   "source": [
    "l"
   ]
  },
  {
   "cell_type": "code",
   "execution_count": null,
   "metadata": {
    "colab": {},
    "colab_type": "code",
    "id": "yagoAC_RS-EU",
    "outputId": "08e9caea-cc0e-4344-e443-90142b804c4f"
   },
   "outputs": [
    {
     "data": {
      "text/plain": [
       "[1, 2, 3]"
      ]
     },
     "execution_count": 112,
     "metadata": {
      "tags": []
     },
     "output_type": "execute_result"
    }
   ],
   "source": [
    "m"
   ]
  },
  {
   "cell_type": "code",
   "execution_count": null,
   "metadata": {
    "colab": {},
    "colab_type": "code",
    "id": "_5TsGrLBS-EV"
   },
   "outputs": [],
   "source": [
    "l[1] = 3"
   ]
  },
  {
   "cell_type": "code",
   "execution_count": null,
   "metadata": {
    "colab": {},
    "colab_type": "code",
    "id": "eaTk9QWxS-EY",
    "outputId": "e84ec676-9f20-42ad-c36e-3bbedd81ee62"
   },
   "outputs": [
    {
     "data": {
      "text/plain": [
       "[1, 3, 3]"
      ]
     },
     "execution_count": 118,
     "metadata": {
      "tags": []
     },
     "output_type": "execute_result"
    }
   ],
   "source": [
    "l"
   ]
  },
  {
   "cell_type": "code",
   "execution_count": null,
   "metadata": {
    "colab": {},
    "colab_type": "code",
    "id": "bP4F2VvIS-EZ",
    "outputId": "f55b66e5-9816-4c9c-9472-0c4c284dfa36"
   },
   "outputs": [
    {
     "data": {
      "text/plain": [
       "[1, 2, 3]"
      ]
     },
     "execution_count": 119,
     "metadata": {
      "tags": []
     },
     "output_type": "execute_result"
    }
   ],
   "source": [
    "m"
   ]
  },
  {
   "cell_type": "code",
   "execution_count": null,
   "metadata": {
    "colab": {},
    "colab_type": "code",
    "id": "0QjtceROS-Eb"
   },
   "outputs": [],
   "source": []
  }
 ],
 "metadata": {
  "colab": {
   "name": "LIST.ipynb",
   "provenance": []
  },
  "kernelspec": {
   "display_name": "Python 3",
   "language": "python",
   "name": "python3"
  },
  "language_info": {
   "codemirror_mode": {
    "name": "ipython",
    "version": 3
   },
   "file_extension": ".py",
   "mimetype": "text/x-python",
   "name": "python",
   "nbconvert_exporter": "python",
   "pygments_lexer": "ipython3",
   "version": "3.8.8"
  }
 },
 "nbformat": 4,
 "nbformat_minor": 1
}
