{
  "nbformat": 4,
  "nbformat_minor": 0,
  "metadata": {
    "kernelspec": {
      "display_name": "Python 3",
      "language": "python",
      "name": "python3"
    },
    "language_info": {
      "codemirror_mode": {
        "name": "ipython",
        "version": 3
      },
      "file_extension": ".py",
      "mimetype": "text/x-python",
      "name": "python",
      "nbconvert_exporter": "python",
      "pygments_lexer": "ipython3",
      "version": "3.7.3"
    },
    "colab": {
      "name": "TUPLES.ipynb",
      "provenance": []
    }
  },
  "cells": [
    {
      "cell_type": "markdown",
      "metadata": {
        "id": "yUzSp4ZpTJyp",
        "colab_type": "text"
      },
      "source": [
        "##**TUPLES**"
      ]
    },
    {
      "cell_type": "markdown",
      "metadata": {
        "id": "-Gkl2WalTJyq",
        "colab_type": "text"
      },
      "source": [
        "Tuples are a data structure just like list(array); the prime difference is that tuples are immutable, which means that once created, you can not modify them.\n",
        "\n"
      ]
    },
    {
      "cell_type": "markdown",
      "metadata": {
        "id": "eHYSlUl1TJyq",
        "colab_type": "text"
      },
      "source": [
        "### Initialise A tuple "
      ]
    },
    {
      "cell_type": "code",
      "metadata": {
        "id": "-6jo4o0eTJyr",
        "colab_type": "code",
        "colab": {}
      },
      "source": [
        "k = tuple()"
      ],
      "execution_count": null,
      "outputs": []
    },
    {
      "cell_type": "code",
      "metadata": {
        "id": "MdZIaaZ1TJyu",
        "colab_type": "code",
        "colab": {},
        "outputId": "7c485538-547c-4266-d4db-2864524abfd5"
      },
      "source": [
        "k"
      ],
      "execution_count": null,
      "outputs": [
        {
          "output_type": "execute_result",
          "data": {
            "text/plain": [
              "()"
            ]
          },
          "metadata": {
            "tags": []
          },
          "execution_count": 6
        }
      ]
    },
    {
      "cell_type": "code",
      "metadata": {
        "id": "9K_84JKgTJyx",
        "colab_type": "code",
        "colab": {},
        "outputId": "6a65c506-2062-4bd2-ad11-11eade1a95fd"
      },
      "source": [
        "t = ()\n",
        "t"
      ],
      "execution_count": null,
      "outputs": [
        {
          "output_type": "execute_result",
          "data": {
            "text/plain": [
              "()"
            ]
          },
          "metadata": {
            "tags": []
          },
          "execution_count": 7
        }
      ]
    },
    {
      "cell_type": "code",
      "metadata": {
        "id": "LA37upd8TJyz",
        "colab_type": "code",
        "colab": {}
      },
      "source": [
        "#Another way is to simply add the elements directly into the tuple \n",
        "l = (1,2) #initialize a tuple "
      ],
      "execution_count": null,
      "outputs": []
    },
    {
      "cell_type": "code",
      "metadata": {
        "id": "0dfSdb7ZTJy2",
        "colab_type": "code",
        "colab": {}
      },
      "source": [
        "m = (2,1) #initialize a tuple "
      ],
      "execution_count": null,
      "outputs": []
    },
    {
      "cell_type": "code",
      "metadata": {
        "id": "uPiMYYjKTJy4",
        "colab_type": "code",
        "colab": {},
        "outputId": "53807e71-2d41-4d57-8dcf-8f21b4e22f47"
      },
      "source": [
        "l == m  #Order of occurence is important "
      ],
      "execution_count": null,
      "outputs": [
        {
          "output_type": "execute_result",
          "data": {
            "text/plain": [
              "False"
            ]
          },
          "metadata": {
            "tags": []
          },
          "execution_count": 10
        }
      ]
    },
    {
      "cell_type": "code",
      "metadata": {
        "id": "cLoSMGRfTJy6",
        "colab_type": "code",
        "colab": {},
        "outputId": "d510d4ed-d26f-4b84-ac63-0911f218c6a8"
      },
      "source": [
        "#create your  own tuple with different data types \n",
        "my_tuple = ()\n",
        "print(my_tuple)\n",
        "\n",
        "my_tuple = (1, 2, 3)\n",
        "print(my_tuple)\n",
        "\n",
        "# tuple with mixed datatypes\n",
        "my_tuple = (1, \"Hello\", 3.4)\n",
        "print(my_tuple)\n",
        "\n",
        "# nested tuple\n",
        "my_tuple = (\"mouse\", [8, 4, 6], (1, 2, 3))\n",
        "print(my_tuple)\n",
        "\n",
        "# tuple can be created without parentheses\n",
        "# also called tuple packing\n",
        "my_tuple = 3, 4.6, \"dog\"\n",
        "print(my_tuple)\n",
        "\n",
        "# tuple unpacking is also possible\n",
        "# it takes a tuple and unpacks it into all the variables given in the declaration\n",
        "a, b, c = my_tuple\n",
        "print(a)\n",
        "print(b)\n",
        "print(c)"
      ],
      "execution_count": null,
      "outputs": [
        {
          "output_type": "stream",
          "text": [
            "()\n",
            "(1, 2, 3)\n",
            "(1, 'Hello', 3.4)\n",
            "('mouse', [8, 4, 6], (1, 2, 3))\n",
            "(3, 4.6, 'dog')\n",
            "3\n",
            "4.6\n",
            "dog\n"
          ],
          "name": "stdout"
        }
      ]
    },
    {
      "cell_type": "markdown",
      "metadata": {
        "id": "Eiom-Vz5TJy9",
        "colab_type": "text"
      },
      "source": [
        "A cool use of tuple we do without realizing is swapping two numbers\n",
        "\n",
        "a,b = b,a\n",
        "\n",
        "Here a,b is a tuple and assigns itself values of b,a.\n",
        "\n"
      ]
    },
    {
      "cell_type": "code",
      "metadata": {
        "id": "iGu6PsNgTJy9",
        "colab_type": "code",
        "colab": {},
        "outputId": "37da931d-d2ab-4520-f6e3-25ff6f68e77b"
      },
      "source": [
        "l = (1,2)\n",
        "a,b = l\n",
        "print (a,b)\n",
        "(a , b )= (b,a)\n",
        "print (a,b)"
      ],
      "execution_count": null,
      "outputs": [
        {
          "output_type": "stream",
          "text": [
            "1 2\n",
            "2 1\n"
          ],
          "name": "stdout"
        }
      ]
    },
    {
      "cell_type": "code",
      "metadata": {
        "id": "zam5bsLBTJy_",
        "colab_type": "code",
        "colab": {},
        "outputId": "8fc16229-0f1e-4013-d15a-03177a1c3757"
      },
      "source": [
        "# only parentheses is not enough\n",
        "my_tuple = (\"hello\")\n",
        "print(type(my_tuple) , my_tuple)\n",
        "\n",
        "# need a comma at the end\n",
        "my_tuple = (\"hello\",)  \n",
        "print(type(my_tuple) , my_tuple)\n",
        "\n",
        "# parentheses is optional\n",
        "#would be declared a tuple if only a comma is present . Comma is mandatory \n",
        "my_tuple = \"hello\",\n",
        "print(type(my_tuple) , my_tuple)"
      ],
      "execution_count": null,
      "outputs": [
        {
          "output_type": "stream",
          "text": [
            "<class 'int'> 1\n",
            "<class 'tuple'> ('hello',)\n",
            "<class 'tuple'> ('hello',)\n"
          ],
          "name": "stdout"
        }
      ]
    },
    {
      "cell_type": "markdown",
      "metadata": {
        "id": "J3WQe_rLTJzB",
        "colab_type": "text"
      },
      "source": [
        "### Index a tuple "
      ]
    },
    {
      "cell_type": "code",
      "metadata": {
        "id": "ZPb8izpITJzC",
        "colab_type": "code",
        "colab": {},
        "outputId": "17196952-a742-4807-9f86-9e1230ab5fa7"
      },
      "source": [
        "#indexing is  the same as lists \n",
        "my_tuple = ('p','e','r','m','i','t')\n",
        "\n",
        "print(my_tuple[-1])\n",
        "\n",
        "print(my_tuple[-6])"
      ],
      "execution_count": null,
      "outputs": [
        {
          "output_type": "stream",
          "text": [
            "t\n",
            "p\n"
          ],
          "name": "stdout"
        }
      ]
    },
    {
      "cell_type": "code",
      "metadata": {
        "id": "RayIRSbPTJzD",
        "colab_type": "code",
        "colab": {},
        "outputId": "d468989d-9eed-4223-c364-858957de9ab6"
      },
      "source": [
        "my_tuple[1]"
      ],
      "execution_count": null,
      "outputs": [
        {
          "output_type": "execute_result",
          "data": {
            "text/plain": [
              "'e'"
            ]
          },
          "metadata": {
            "tags": []
          },
          "execution_count": 17
        }
      ]
    },
    {
      "cell_type": "markdown",
      "metadata": {
        "id": "Fcw6eCVCTJzG",
        "colab_type": "text"
      },
      "source": [
        "### Slicing  a tuple "
      ]
    },
    {
      "cell_type": "code",
      "metadata": {
        "id": "WukIJfNOTJzG",
        "colab_type": "code",
        "colab": {},
        "outputId": "aa0753ab-0cf9-4f1f-f7e4-1634f11cd015"
      },
      "source": [
        "my_tuple = ('p','r','o','g','r','a','m','i','z')\n",
        "\n",
        "# elements 2nd to 4th\n",
        "print(my_tuple[1:4])\n",
        "\n",
        "# elements beginning to 2nd\n",
        "print(my_tuple[:-7])\n",
        "\n",
        "# elements 8th to end\n",
        "print(my_tuple[7:])\n",
        "\n",
        "# elements beginning to end\n",
        "print(my_tuple[:])\n",
        "\n",
        "#elements in reverse\n",
        "print (my_tuple[::-1])"
      ],
      "execution_count": null,
      "outputs": [
        {
          "output_type": "stream",
          "text": [
            "('r', 'o', 'g')\n",
            "('p', 'r')\n",
            "('i', 'z')\n",
            "('p', 'r', 'o', 'g', 'r', 'a', 'm', 'i', 'z')\n",
            "('z', 'i', 'm', 'a', 'r', 'g', 'o', 'r', 'p')\n"
          ],
          "name": "stdout"
        }
      ]
    },
    {
      "cell_type": "code",
      "metadata": {
        "id": "LrsghZIjTJzI",
        "colab_type": "code",
        "colab": {},
        "outputId": "44e8ae8f-9a6b-421c-92dd-e95d96bc9581"
      },
      "source": [
        "#skipped indices\n",
        "my_tuple[::2] #start to end with 2 steps"
      ],
      "execution_count": null,
      "outputs": [
        {
          "output_type": "execute_result",
          "data": {
            "text/plain": [
              "('p', 'o', 'r', 'm', 'z')"
            ]
          },
          "metadata": {
            "tags": []
          },
          "execution_count": 19
        }
      ]
    },
    {
      "cell_type": "code",
      "metadata": {
        "id": "oFXawVzHTJzK",
        "colab_type": "code",
        "colab": {},
        "outputId": "e2f27980-2f1a-4254-d9a6-bd8702d5defc"
      },
      "source": [
        "my_tuple[1::3] #1st index to end with 3 steps "
      ],
      "execution_count": null,
      "outputs": [
        {
          "output_type": "execute_result",
          "data": {
            "text/plain": [
              "('r', 'r', 'i')"
            ]
          },
          "metadata": {
            "tags": []
          },
          "execution_count": 20
        }
      ]
    },
    {
      "cell_type": "markdown",
      "metadata": {
        "id": "FjGNB82ETJzM",
        "colab_type": "text"
      },
      "source": [
        "This surely restricts us in using them as we cannot add, remove, or assign values. But it gives us advantage in space and time complexities."
      ]
    },
    {
      "cell_type": "markdown",
      "metadata": {
        "id": "2qG9CoQSTJzM",
        "colab_type": "text"
      },
      "source": [
        "### Change a tuple "
      ]
    },
    {
      "cell_type": "code",
      "metadata": {
        "id": "AfndEtblTJzN",
        "colab_type": "code",
        "colab": {}
      },
      "source": [
        "l = (1,2)"
      ],
      "execution_count": null,
      "outputs": []
    },
    {
      "cell_type": "code",
      "metadata": {
        "id": "C62ttfidTJzP",
        "colab_type": "code",
        "colab": {},
        "outputId": "f104c814-0b78-430d-be2e-e2a04b14f3d8"
      },
      "source": [
        "l[1] = 3 #a tuple is immutable so cannot change an already declared tuple "
      ],
      "execution_count": null,
      "outputs": [
        {
          "output_type": "error",
          "ename": "TypeError",
          "evalue": "'tuple' object does not support item assignment",
          "traceback": [
            "\u001b[1;31m---------------------------------------------------------------------------\u001b[0m",
            "\u001b[1;31mTypeError\u001b[0m                                 Traceback (most recent call last)",
            "\u001b[1;32m<ipython-input-22-de910e0d9881>\u001b[0m in \u001b[0;36m<module>\u001b[1;34m\u001b[0m\n\u001b[1;32m----> 1\u001b[1;33m \u001b[0ml\u001b[0m\u001b[1;33m[\u001b[0m\u001b[1;36m1\u001b[0m\u001b[1;33m]\u001b[0m \u001b[1;33m=\u001b[0m \u001b[1;36m3\u001b[0m \u001b[1;31m#a tuple is immutable so cannot change an already declared tuple\u001b[0m\u001b[1;33m\u001b[0m\u001b[1;33m\u001b[0m\u001b[0m\n\u001b[0m",
            "\u001b[1;31mTypeError\u001b[0m: 'tuple' object does not support item assignment"
          ]
        }
      ]
    },
    {
      "cell_type": "code",
      "metadata": {
        "id": "2hw3vYaLTJzR",
        "colab_type": "code",
        "colab": {},
        "outputId": "2904b29d-1c25-4868-a05f-f2b80bd4cbab"
      },
      "source": [
        "l[2] =  3"
      ],
      "execution_count": null,
      "outputs": [
        {
          "output_type": "error",
          "ename": "TypeError",
          "evalue": "'tuple' object does not support item assignment",
          "traceback": [
            "\u001b[1;31m---------------------------------------------------------------------------\u001b[0m",
            "\u001b[1;31mTypeError\u001b[0m                                 Traceback (most recent call last)",
            "\u001b[1;32m<ipython-input-23-fe6e84fde8fc>\u001b[0m in \u001b[0;36m<module>\u001b[1;34m\u001b[0m\n\u001b[1;32m----> 1\u001b[1;33m \u001b[0ml\u001b[0m\u001b[1;33m[\u001b[0m\u001b[1;36m2\u001b[0m\u001b[1;33m]\u001b[0m \u001b[1;33m=\u001b[0m  \u001b[1;36m3\u001b[0m\u001b[1;33m\u001b[0m\u001b[1;33m\u001b[0m\u001b[0m\n\u001b[0m",
            "\u001b[1;31mTypeError\u001b[0m: 'tuple' object does not support item assignment"
          ]
        }
      ]
    },
    {
      "cell_type": "code",
      "metadata": {
        "id": "cXx5z0aATJzT",
        "colab_type": "code",
        "colab": {},
        "outputId": "e0b5c0e7-8dc2-451b-870c-f4ff664a1930"
      },
      "source": [
        "l = ('a',1,2)\n",
        "l[0] = 'b'"
      ],
      "execution_count": null,
      "outputs": [
        {
          "output_type": "error",
          "ename": "TypeError",
          "evalue": "'tuple' object does not support item assignment",
          "traceback": [
            "\u001b[1;31m---------------------------------------------------------------------------\u001b[0m",
            "\u001b[1;31mTypeError\u001b[0m                                 Traceback (most recent call last)",
            "\u001b[1;32m<ipython-input-24-cc5d63fbdb76>\u001b[0m in \u001b[0;36m<module>\u001b[1;34m\u001b[0m\n\u001b[0;32m      1\u001b[0m \u001b[0ml\u001b[0m \u001b[1;33m=\u001b[0m \u001b[1;33m(\u001b[0m\u001b[1;34m'a'\u001b[0m\u001b[1;33m,\u001b[0m\u001b[1;36m1\u001b[0m\u001b[1;33m,\u001b[0m\u001b[1;36m2\u001b[0m\u001b[1;33m)\u001b[0m\u001b[1;33m\u001b[0m\u001b[1;33m\u001b[0m\u001b[0m\n\u001b[1;32m----> 2\u001b[1;33m \u001b[0ml\u001b[0m\u001b[1;33m[\u001b[0m\u001b[1;36m0\u001b[0m\u001b[1;33m]\u001b[0m \u001b[1;33m=\u001b[0m \u001b[1;34m'b'\u001b[0m\u001b[1;33m\u001b[0m\u001b[1;33m\u001b[0m\u001b[0m\n\u001b[0m",
            "\u001b[1;31mTypeError\u001b[0m: 'tuple' object does not support item assignment"
          ]
        }
      ]
    },
    {
      "cell_type": "code",
      "metadata": {
        "id": "1F8hLfUkTJzV",
        "colab_type": "code",
        "colab": {},
        "outputId": "cd1d2370-d60b-48f2-a54b-76c78604218d"
      },
      "source": [
        "#but , if a mutable element is present inside a tuple, the element can be changed \n",
        "l = (1,2,[3,'a'])\n",
        "l[-1][0] = 'b'\n",
        "l"
      ],
      "execution_count": null,
      "outputs": [
        {
          "output_type": "execute_result",
          "data": {
            "text/plain": [
              "(1, 2, ['b', 'a'])"
            ]
          },
          "metadata": {
            "tags": []
          },
          "execution_count": 25
        }
      ]
    },
    {
      "cell_type": "code",
      "metadata": {
        "id": "usjVwftrTJzX",
        "colab_type": "code",
        "colab": {},
        "outputId": "bb58d327-211e-4eac-8b75-d720d2bf8ee8"
      },
      "source": [
        "my_tuple = (4, 2, 3, [6, 5])\n",
        "\n",
        "# tuples can be reassigned i.e. changed entirely\n",
        "# Output: ('p', 'r', 'o', 'g', 'r', 'a', 'm', 'i', 'z')\n",
        "my_tuple = ('p','r','o','g','r','a','m','i','z')\n",
        "print(my_tuple)"
      ],
      "execution_count": null,
      "outputs": [
        {
          "output_type": "stream",
          "text": [
            "('p', 'r', 'o', 'g', 'r', 'a', 'm', 'i', 'z')\n"
          ],
          "name": "stdout"
        }
      ]
    },
    {
      "cell_type": "code",
      "metadata": {
        "id": "9lD1CUurTJzY",
        "colab_type": "code",
        "colab": {},
        "outputId": "e5fa9cfa-c1e6-46d2-fb15-7eeb51a84d8d"
      },
      "source": [
        "# Concatenation with other tuple \n",
        "print((1, 2, 3) + (4, 5, 6))\n",
        "l = l+(1,2)\n",
        "print (l)\n",
        "\n",
        "# Repeat\n",
        "print((\"Repeat\",) * 3)"
      ],
      "execution_count": null,
      "outputs": [
        {
          "output_type": "stream",
          "text": [
            "(1, 2, 3, 4, 5, 6)\n",
            "(1, 2, ['b', 'a'], 1, 2)\n",
            "('Repeat', 'Repeat', 'Repeat')\n"
          ],
          "name": "stdout"
        }
      ]
    },
    {
      "cell_type": "markdown",
      "metadata": {
        "id": "VSugs88TTJza",
        "colab_type": "text"
      },
      "source": [
        "### Deleting a tuple "
      ]
    },
    {
      "cell_type": "code",
      "metadata": {
        "id": "cg8RQhDFTJzb",
        "colab_type": "code",
        "colab": {},
        "outputId": "5d30c5af-ab7e-45db-f605-270757cc14c6"
      },
      "source": [
        "my_tuple = ('p','r','o','g','r','a','m','i','z')\n",
        "\n",
        "# can't delete items since it is immutable \n",
        "del my_tuple[3]\n"
      ],
      "execution_count": null,
      "outputs": [
        {
          "output_type": "error",
          "ename": "TypeError",
          "evalue": "'tuple' object doesn't support item deletion",
          "traceback": [
            "\u001b[1;31m---------------------------------------------------------------------------\u001b[0m",
            "\u001b[1;31mTypeError\u001b[0m                                 Traceback (most recent call last)",
            "\u001b[1;32m<ipython-input-28-b3d171ab6a2a>\u001b[0m in \u001b[0;36m<module>\u001b[1;34m\u001b[0m\n\u001b[0;32m      2\u001b[0m \u001b[1;33m\u001b[0m\u001b[0m\n\u001b[0;32m      3\u001b[0m \u001b[1;31m# can't delete items since it is immutable\u001b[0m\u001b[1;33m\u001b[0m\u001b[1;33m\u001b[0m\u001b[1;33m\u001b[0m\u001b[0m\n\u001b[1;32m----> 4\u001b[1;33m \u001b[1;32mdel\u001b[0m \u001b[0mmy_tuple\u001b[0m\u001b[1;33m[\u001b[0m\u001b[1;36m3\u001b[0m\u001b[1;33m]\u001b[0m\u001b[1;33m\u001b[0m\u001b[1;33m\u001b[0m\u001b[0m\n\u001b[0m",
            "\u001b[1;31mTypeError\u001b[0m: 'tuple' object doesn't support item deletion"
          ]
        }
      ]
    },
    {
      "cell_type": "code",
      "metadata": {
        "id": "uMM9x-6FTJzd",
        "colab_type": "code",
        "colab": {},
        "outputId": "e13a6322-258f-41e5-a593-1251a22a23f4"
      },
      "source": [
        "\n",
        "#However, can delete entire tuple\n",
        "del my_tuple\n",
        "my_tuple #error since no tuple exists after deleting "
      ],
      "execution_count": null,
      "outputs": [
        {
          "output_type": "error",
          "ename": "NameError",
          "evalue": "name 'my_tuple' is not defined",
          "traceback": [
            "\u001b[1;31m---------------------------------------------------------------------------\u001b[0m",
            "\u001b[1;31mNameError\u001b[0m                                 Traceback (most recent call last)",
            "\u001b[1;32m<ipython-input-29-0c5e47d3ac05>\u001b[0m in \u001b[0;36m<module>\u001b[1;34m\u001b[0m\n\u001b[0;32m      2\u001b[0m \u001b[1;31m#However, can delete entire tuple\u001b[0m\u001b[1;33m\u001b[0m\u001b[1;33m\u001b[0m\u001b[1;33m\u001b[0m\u001b[0m\n\u001b[0;32m      3\u001b[0m \u001b[1;32mdel\u001b[0m \u001b[0mmy_tuple\u001b[0m\u001b[1;33m\u001b[0m\u001b[1;33m\u001b[0m\u001b[0m\n\u001b[1;32m----> 4\u001b[1;33m \u001b[0mmy_tuple\u001b[0m \u001b[1;31m#error since no tuple exists after deleting\u001b[0m\u001b[1;33m\u001b[0m\u001b[1;33m\u001b[0m\u001b[0m\n\u001b[0m",
            "\u001b[1;31mNameError\u001b[0m: name 'my_tuple' is not defined"
          ]
        }
      ]
    },
    {
      "cell_type": "markdown",
      "metadata": {
        "id": "XuXe_gS5TJzf",
        "colab_type": "text"
      },
      "source": [
        "### Tuple methods "
      ]
    },
    {
      "cell_type": "markdown",
      "metadata": {
        "id": "0AHqkjVjTJzg",
        "colab_type": "raw"
      },
      "source": [
        "count(x) \tReturn the number of items that is equal to x\n",
        "index(x) \tReturn index of first item that is equal to x"
      ]
    },
    {
      "cell_type": "code",
      "metadata": {
        "id": "LnsnsbkNTJzh",
        "colab_type": "code",
        "colab": {},
        "outputId": "69d9c02a-698a-4508-e33f-4f2fffac68fb"
      },
      "source": [
        "l = (2,2,4,1)\n",
        "l.count(2) #The number of times the element has occured can be accessed using "
      ],
      "execution_count": null,
      "outputs": [
        {
          "output_type": "execute_result",
          "data": {
            "text/plain": [
              "2"
            ]
          },
          "metadata": {
            "tags": []
          },
          "execution_count": 33
        }
      ]
    },
    {
      "cell_type": "code",
      "metadata": {
        "id": "G1DwtxejTJzj",
        "colab_type": "code",
        "colab": {},
        "outputId": "baf3a432-51de-4633-8f94-cef344a02008"
      },
      "source": [
        "my_tuple = ('a','p','p','l','e',)\n",
        "\n",
        "# Count of the element \n",
        "print(my_tuple.count('p'))\n",
        "\n",
        "# Index of the first occurence of the element \n",
        "print(my_tuple.index('l'))"
      ],
      "execution_count": null,
      "outputs": [
        {
          "output_type": "stream",
          "text": [
            "2\n",
            "3\n"
          ],
          "name": "stdout"
        }
      ]
    },
    {
      "cell_type": "code",
      "metadata": {
        "id": "ZYGVCda8TJzl",
        "colab_type": "code",
        "colab": {},
        "outputId": "e2b35a8b-d22b-4b99-9cec-dc8b12a8b1e6"
      },
      "source": [
        "#check if element is present in a tuple \n",
        "my_tuple = ('a','p','p','l','e',)\n",
        "\n",
        "# In operation\n",
        "print('a' in my_tuple)\n",
        "\n",
        "print('b' in my_tuple)\n",
        "\n",
        "# Not in operation\n",
        "print('g' not in my_tuple)"
      ],
      "execution_count": null,
      "outputs": [
        {
          "output_type": "stream",
          "text": [
            "True\n",
            "False\n",
            "True\n"
          ],
          "name": "stdout"
        }
      ]
    },
    {
      "cell_type": "markdown",
      "metadata": {
        "collapsed": true,
        "id": "eyRK8SJDTJzm",
        "colab_type": "text"
      },
      "source": [
        "### Built in functions using tuples "
      ]
    },
    {
      "cell_type": "markdown",
      "metadata": {
        "collapsed": true,
        "id": "EiojyHztTJzn",
        "colab_type": "raw"
      },
      "source": [
        "all() \tReturn True if all elements of the tuple are true (or if the tuple is empty).\n",
        "any() \tReturn True if any element of the tuple is true. If the tuple is empty, return False.\n",
        "enumerate() \tReturn an enumerate object. It contains the index and value of all the items of tuple as pairs.\n",
        "len() \tReturn the length (the number of items) in the tuple.\n",
        "max() \tReturn the largest item in the tuple.\n",
        "min() \tReturn the smallest item in the tuple\n",
        "sorted() \tTake elements in the tuple and return a new sorted list (does not sort the tuple itself).\n",
        "sum() \tRetrun the sum of all elements in the tuple.\n",
        "tuple() \tConvert an iterable (list, string, set, dictionary) to a tuple."
      ]
    },
    {
      "cell_type": "code",
      "metadata": {
        "id": "jdDHLGzBTJzn",
        "colab_type": "code",
        "colab": {}
      },
      "source": [
        "l = (1,2,3)"
      ],
      "execution_count": null,
      "outputs": []
    },
    {
      "cell_type": "code",
      "metadata": {
        "id": "M2KuQUHkTJzp",
        "colab_type": "code",
        "colab": {},
        "outputId": "8a29b6a4-c301-4c07-9413-c17426875474"
      },
      "source": [
        "sum(l)"
      ],
      "execution_count": null,
      "outputs": [
        {
          "output_type": "execute_result",
          "data": {
            "text/plain": [
              "6"
            ]
          },
          "metadata": {
            "tags": []
          },
          "execution_count": 39
        }
      ]
    },
    {
      "cell_type": "code",
      "metadata": {
        "id": "H2W0sgHjTJzr",
        "colab_type": "code",
        "colab": {},
        "outputId": "ae5af3aa-7980-4fc9-8c6b-aaee4cf4483e"
      },
      "source": [
        "sorted(l,reverse=True)"
      ],
      "execution_count": null,
      "outputs": [
        {
          "output_type": "execute_result",
          "data": {
            "text/plain": [
              "[3, 2, 1]"
            ]
          },
          "metadata": {
            "tags": []
          },
          "execution_count": 40
        }
      ]
    },
    {
      "cell_type": "code",
      "metadata": {
        "id": "w2ARbaTfTJzs",
        "colab_type": "code",
        "colab": {},
        "outputId": "a62c714d-4a80-49e2-cec6-a0254c925a1b"
      },
      "source": [
        "min(l) , max(l)"
      ],
      "execution_count": null,
      "outputs": [
        {
          "output_type": "execute_result",
          "data": {
            "text/plain": [
              "(1, 3)"
            ]
          },
          "metadata": {
            "tags": []
          },
          "execution_count": 41
        }
      ]
    },
    {
      "cell_type": "markdown",
      "metadata": {
        "id": "PYY19aBXTJzu",
        "colab_type": "text"
      },
      "source": [
        "Another awesome use of tuples is that they can be used as keys in a dictionary; in other words, tuples are hashable."
      ]
    },
    {
      "cell_type": "code",
      "metadata": {
        "id": "cnNGM_9jTJzx",
        "colab_type": "code",
        "colab": {}
      },
      "source": [
        "d = {}"
      ],
      "execution_count": null,
      "outputs": []
    },
    {
      "cell_type": "code",
      "metadata": {
        "id": "szO7wRzWTJzz",
        "colab_type": "code",
        "colab": {}
      },
      "source": [
        "d[l] = 1"
      ],
      "execution_count": null,
      "outputs": []
    },
    {
      "cell_type": "code",
      "metadata": {
        "id": "YjcWs_4KTJz1",
        "colab_type": "code",
        "colab": {},
        "outputId": "2a51d47c-f034-4726-d67f-fbc6d48eaccf"
      },
      "source": [
        "l"
      ],
      "execution_count": null,
      "outputs": [
        {
          "output_type": "execute_result",
          "data": {
            "text/plain": [
              "(1, 2, 3)"
            ]
          },
          "metadata": {
            "tags": []
          },
          "execution_count": 47
        }
      ]
    },
    {
      "cell_type": "code",
      "metadata": {
        "id": "n-9LdhzWTJz2",
        "colab_type": "code",
        "colab": {},
        "outputId": "abc2b588-4ebb-4c16-aa1e-47e8a6bf40d3"
      },
      "source": [
        "d"
      ],
      "execution_count": null,
      "outputs": [
        {
          "output_type": "execute_result",
          "data": {
            "text/plain": [
              "{(1, 2, 3): 1}"
            ]
          },
          "metadata": {
            "tags": []
          },
          "execution_count": 48
        }
      ]
    },
    {
      "cell_type": "code",
      "metadata": {
        "id": "u8lEmAJfTJz4",
        "colab_type": "code",
        "colab": {}
      },
      "source": [
        ""
      ],
      "execution_count": null,
      "outputs": []
    },
    {
      "cell_type": "markdown",
      "metadata": {
        "id": "o3EIEqQrTJz6",
        "colab_type": "text"
      },
      "source": [
        "##**Task**\n",
        "\n",
        "You are given an integer N in one line. The next line contains N space-separated integers. Create a tuple of those N integers. Lets call it T.\n",
        "Compute hash(T) and print it.\n",
        "\n",
        "Note hash() is one of the function in __builtins__ module.\n",
        "\n",
        "**Input Format**\n",
        "\n",
        "The first line contains N. The next line contains N space-separated integer values.\n",
        "\n",
        "**Output Format**\n",
        "\n",
        "Print the computed value.\n",
        "\n",
        "**Sample Input**\n",
        "\n",
        "2\n",
        "1 2\n",
        "\n",
        "**Sample Output**\n",
        "\n",
        "3713081631934410656"
      ]
    }
  ]
}