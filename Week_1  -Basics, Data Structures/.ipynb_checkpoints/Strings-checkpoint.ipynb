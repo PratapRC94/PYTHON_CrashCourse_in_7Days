{
 "cells": [
  {
   "cell_type": "markdown",
   "metadata": {},
   "source": [
    "**Strings**"
   ]
  },
  {
   "cell_type": "markdown",
   "metadata": {},
   "source": [
    "String is one of the most common used data type in Python. You create a string by enclosing some characters\n",
    "or numbers in single (‘) or double (”) quotes."
   ]
  },
  {
   "cell_type": "code",
   "execution_count": 1,
   "metadata": {},
   "outputs": [
    {
     "data": {
      "text/plain": [
       "'helloworld'"
      ]
     },
     "execution_count": 1,
     "metadata": {},
     "output_type": "execute_result"
    }
   ],
   "source": [
    "a = \"hello\"             # using double quote\n",
    "b = 'world'             # using single quote\n",
    "a + b                   # concatenates string"
   ]
  },
  {
   "cell_type": "code",
   "execution_count": 2,
   "metadata": {},
   "outputs": [
    {
     "data": {
      "text/plain": [
       "str"
      ]
     },
     "execution_count": 2,
     "metadata": {},
     "output_type": "execute_result"
    }
   ],
   "source": [
    "type(a)                 # query for data type"
   ]
  },
  {
   "cell_type": "code",
   "execution_count": 3,
   "metadata": {},
   "outputs": [
    {
     "data": {
      "text/plain": [
       "\"How're you doing?\""
      ]
     },
     "execution_count": 3,
     "metadata": {},
     "output_type": "execute_result"
    }
   ],
   "source": [
    "c = \"How're you doing?\" # mixing single and double quotes\n",
    "c"
   ]
  },
  {
   "cell_type": "code",
   "execution_count": 4,
   "metadata": {},
   "outputs": [
    {
     "data": {
      "text/plain": [
       "' A long string\\nthat spans a few\\nlines can be enclosed in\\ntriple quotes.\\n'"
      ]
     },
     "execution_count": 4,
     "metadata": {},
     "output_type": "execute_result"
    }
   ],
   "source": [
    "d = \"\"\" A long string\n",
    "... that spans a few\n",
    "... lines can be enclosed in\n",
    "... triple quotes.\n",
    "... \"\"\"\n",
    "d\n"
   ]
  },
  {
   "cell_type": "markdown",
   "metadata": {},
   "source": [
    "Accessing Values in a String\n",
    "\n",
    "A string comprises of a sequence of characters, and quite a few methods/functions that work on \n",
    "list (array) is applicable to String as well."
   ]
  },
  {
   "cell_type": "code",
   "execution_count": 5,
   "metadata": {},
   "outputs": [
    {
     "data": {
      "text/plain": [
       "'h'"
      ]
     },
     "execution_count": 5,
     "metadata": {},
     "output_type": "execute_result"
    }
   ],
   "source": [
    "a = \"hello\"\n",
    "a[0]   # get first character (same as list, zero indexed)"
   ]
  },
  {
   "cell_type": "code",
   "execution_count": 6,
   "metadata": {},
   "outputs": [
    {
     "data": {
      "text/plain": [
       "'o'"
      ]
     },
     "execution_count": 6,
     "metadata": {},
     "output_type": "execute_result"
    }
   ],
   "source": [
    "a[-1]               # get get last character"
   ]
  },
  {
   "cell_type": "code",
   "execution_count": 7,
   "metadata": {},
   "outputs": [
    {
     "data": {
      "text/plain": [
       "5"
      ]
     },
     "execution_count": 7,
     "metadata": {},
     "output_type": "execute_result"
    }
   ],
   "source": [
    "a[0:2]              # slicing works on string as well\n",
    "len(a)              # get number of characters in the string"
   ]
  },
  {
   "cell_type": "code",
   "execution_count": 8,
   "metadata": {},
   "outputs": [
    {
     "data": {
      "text/plain": [
       "2"
      ]
     },
     "execution_count": 8,
     "metadata": {},
     "output_type": "execute_result"
    }
   ],
   "source": [
    "a.count('l')        # get the number of occurence of a particular character"
   ]
  },
  {
   "cell_type": "markdown",
   "metadata": {},
   "source": [
    "Modifying a String\n",
    "\n",
    "String is immutable, and therefore its value cannot be modified directly. \n",
    "However, you can “modify” a string by re-assigning the value to another string."
   ]
  },
  {
   "cell_type": "markdown",
   "metadata": {},
   "source": [
    "a = \"hello\"\n",
    "\n",
    "a[0] = 'a'          # Not allow, produce error\n",
    "\n",
    "Traceback (most recent call last):\n",
    "\n",
    "  File \"<interactive input>\", line 1, in <module>\n",
    "  \n",
    "TypeError: 'str' object does not support item assignment"
   ]
  },
  {
   "cell_type": "code",
   "execution_count": 9,
   "metadata": {},
   "outputs": [
    {
     "data": {
      "text/plain": [
       "'aello'"
      ]
     },
     "execution_count": 9,
     "metadata": {},
     "output_type": "execute_result"
    }
   ],
   "source": [
    "b = 'a' + a[1:]     # replace the first character with 'a', and reassign the result to a new string\n",
    "b                   #execute and see the result\n",
    "#try getting only last 3 letters from the string\n"
   ]
  },
  {
   "cell_type": "markdown",
   "metadata": {},
   "source": [
    "**Built-in String Methods**\n",
    "\n",
    "Python provides quite a few very handy string methods. Some commonly used ones are shown below. \n",
    "For a complete list, refer to Python Docs: String Methods."
   ]
  },
  {
   "cell_type": "code",
   "execution_count": 15,
   "metadata": {
    "collapsed": true
   },
   "outputs": [],
   "source": [
    "a = \"hello\""
   ]
  },
  {
   "cell_type": "code",
   "execution_count": 11,
   "metadata": {},
   "outputs": [
    {
     "data": {
      "text/plain": [
       "'Hello'"
      ]
     },
     "execution_count": 11,
     "metadata": {},
     "output_type": "execute_result"
    }
   ],
   "source": [
    "a.capitalize()"
   ]
  },
  {
   "cell_type": "code",
   "execution_count": 12,
   "metadata": {},
   "outputs": [
    {
     "data": {
      "text/plain": [
       "'HELLO'"
      ]
     },
     "execution_count": 12,
     "metadata": {},
     "output_type": "execute_result"
    }
   ],
   "source": [
    "a.upper()"
   ]
  },
  {
   "cell_type": "code",
   "execution_count": 13,
   "metadata": {},
   "outputs": [
    {
     "data": {
      "text/plain": [
       "'hello'"
      ]
     },
     "execution_count": 13,
     "metadata": {},
     "output_type": "execute_result"
    }
   ],
   "source": [
    "a.lower()"
   ]
  },
  {
   "cell_type": "code",
   "execution_count": 14,
   "metadata": {},
   "outputs": [
    {
     "data": {
      "text/plain": [
       "'hallo'"
      ]
     },
     "execution_count": 14,
     "metadata": {},
     "output_type": "execute_result"
    }
   ],
   "source": [
    "a.replace('e','a')"
   ]
  },
  {
   "cell_type": "code",
   "execution_count": null,
   "metadata": {
    "collapsed": true
   },
   "outputs": [],
   "source": []
  },
  {
   "cell_type": "markdown",
   "metadata": {},
   "source": [
    "**Useful Methods for Finding Substrings**"
   ]
  },
  {
   "cell_type": "code",
   "execution_count": 16,
   "metadata": {
    "collapsed": true
   },
   "outputs": [],
   "source": [
    "a = \"Hello World\""
   ]
  },
  {
   "cell_type": "code",
   "execution_count": 17,
   "metadata": {},
   "outputs": [
    {
     "data": {
      "text/plain": [
       "True"
      ]
     },
     "execution_count": 17,
     "metadata": {},
     "output_type": "execute_result"
    }
   ],
   "source": [
    "a.startswith(\"H\")"
   ]
  },
  {
   "cell_type": "code",
   "execution_count": 18,
   "metadata": {},
   "outputs": [
    {
     "data": {
      "text/plain": [
       "False"
      ]
     },
     "execution_count": 18,
     "metadata": {},
     "output_type": "execute_result"
    }
   ],
   "source": [
    "a.endswith(\"D\")"
   ]
  },
  {
   "cell_type": "code",
   "execution_count": 19,
   "metadata": {},
   "outputs": [
    {
     "data": {
      "text/plain": [
       "6"
      ]
     },
     "execution_count": 19,
     "metadata": {},
     "output_type": "execute_result"
    }
   ],
   "source": [
    "a.find(\"World\")"
   ]
  },
  {
   "cell_type": "code",
   "execution_count": 20,
   "metadata": {},
   "outputs": [
    {
     "data": {
      "text/plain": [
       "6"
      ]
     },
     "execution_count": 20,
     "metadata": {},
     "output_type": "execute_result"
    }
   ],
   "source": [
    " a.index(\"World\")"
   ]
  },
  {
   "cell_type": "code",
   "execution_count": 21,
   "metadata": {},
   "outputs": [
    {
     "data": {
      "text/plain": [
       "-1"
      ]
     },
     "execution_count": 21,
     "metadata": {},
     "output_type": "execute_result"
    }
   ],
   "source": [
    "a.find(\"world\") # 'find' returns -1 if no substring is found."
   ]
  },
  {
   "cell_type": "code",
   "execution_count": 22,
   "metadata": {},
   "outputs": [
    {
     "ename": "ValueError",
     "evalue": "substring not found",
     "output_type": "error",
     "traceback": [
      "\u001b[0;31m---------------------------------------------------------------------------\u001b[0m",
      "\u001b[0;31mValueError\u001b[0m                                Traceback (most recent call last)",
      "\u001b[0;32m<ipython-input-22-ac18c2801acf>\u001b[0m in \u001b[0;36m<module>\u001b[0;34m()\u001b[0m\n\u001b[0;32m----> 1\u001b[0;31m \u001b[0ma\u001b[0m\u001b[0;34m.\u001b[0m\u001b[0mindex\u001b[0m\u001b[0;34m(\u001b[0m\u001b[0;34m\"world\"\u001b[0m\u001b[0;34m)\u001b[0m \u001b[0;31m# 'index' returns a error\u001b[0m\u001b[0;34m\u001b[0m\u001b[0m\n\u001b[0m",
      "\u001b[0;31mValueError\u001b[0m: substring not found"
     ]
    }
   ],
   "source": [
    " a.index(\"world\") # 'index' returns a error\n"
   ]
  },
  {
   "cell_type": "code",
   "execution_count": null,
   "metadata": {
    "collapsed": true
   },
   "outputs": [],
   "source": []
  },
  {
   "cell_type": "markdown",
   "metadata": {
    "collapsed": true
   },
   "source": [
    "| SN  |     Methods     | Description|\n",
    "|----------|-------------|\n",
    "|1|capitalize()|Capitalizes first letter of string|\n",
    "|2|center(width, fillchar)|Returns a space-padded string with the original string centered to a total of width columns.|\n",
    "|3|count(str, beg= 0,end=len(string))|Counts how many times str occurs in string or in a substring of string if starting index beg and ending index end are given.|\n",
    "|4|decode(encoding='UTF-8',errors='strict')|Decodes the string using the codec registered for encoding. encoding defaults to the default string encoding.|\n",
    "|5|encode(encoding='UTF-8',errors='strict') |Returns encoded string version of string; on error, default is to raise a ValueError unless errors is given with 'ignore' or 'replace'.|\n",
    "|6|endswith(suffix, beg=0, end=len(string))|Determines if string or a substring of string (if starting index beg and ending index end are given) ends with suffix; returns true if so and false otherwise.|\n",
    "|7|expandtabs(tabsize=8)|Expands tabs in string to multiple spaces; defaults to 8 spaces per tab if tabsize not provided.|\n",
    "|8|find(str, beg=0 end=len(string))|Determine if str occurs in string or in a substring of string if starting index beg and ending index end are given returns index if found and -1 otherwise.|\n",
    "|9|index(str, beg=0, end=len(string))|Same as find(), but raises an exception if str not found.|\n",
    "|10|isalnum()|Returns true if string has at least 1 character and all characters are alphanumeric and false otherwise.|\n",
    "|11|isalpha()|Returns true if string has at least 1 character and all characters are alphabetic and false otherwise.|\n",
    "|12|isdigit()|Returns true if string contains only digits and false otherwise.|\n",
    "|13|islower()|Returns true if string has at least 1 cased character and all cased characters are in lowercase and false otherwise.|\n",
    "|14|isnumeric()|Returns true if a unicode string contains only numeric characters and false otherwise.|\n",
    "|15|isspace()|Returns true if string contains only whitespace characters and false otherwise.|\n",
    "|16|istitle()|Returns true if string is properly \"titlecased\" and false otherwise.|\n",
    "|17|isupper()|Returns true if string has at least one cased character and all cased characters are in uppercase and false otherwise.|\n",
    "|18|join(seq)|Merges (concatenates) the string representations of elements in sequence seq into a string, with separator string.|\n",
    "|19|len(string)|Returns the length of the string|\n",
    "|20|ljust(width[, fillchar])|Returns a space-padded string with the original string left-justified to a total of width columns.|\n",
    "|21|lower()|Converts all uppercase letters in string to lowercase.|\n",
    "|22|lstrip()|Removes all leading whitespace in string.|\n",
    "|23|maketrans()|Returns a translation table to be used in translate function.|\n",
    "|24|max(str)|Returns the max alphabetical character from the string str.|\n",
    "|25|min(str)|Returns the min alphabetical character from the string str.|\n",
    "|26|replace(old, new [, max])|Replaces all occurrences of old in string with new or at most max occurrences if max given.|\n",
    "|27|rfind(str, beg=0,end=len(string))|Same as find(), but search backwards in string.|\n",
    "|28|rindex( str, beg=0, end=len(string))|Same as index(), but search backwards in string.|\n",
    "|29|rjust(width,[, fillchar])|Returns a space-padded string with the original string right-justified to a total of width columns.|\n",
    "|30|rstrip()|Removes all trailing whitespace of string.|\n",
    "|31|split(str=\"\", num=string.count(str))|Splits string according to delimiter str (space if not provided) and returns list of substrings; split into at most num substrings if given.|\n",
    "|32|splitlines( num=string.count('\\n'))|Splits string at all (or num) NEWLINEs and returns a list of each line with NEWLINEs removed.|\n",
    "|33|startswith(str, beg=0,end=len(string))|Determines if string or a substring of string (if starting index beg and ending index end are given) starts with substring str; returns true if so and false otherwise.|\n",
    "|34|strip([chars])|Performs both lstrip() and rstrip() on string|\n",
    "|35|swapcase()|Inverts case for all letters in string.|\n",
    "|36|title()|Returns \"titlecased\" version of string, that is, all words begin with uppercase and the rest are lowercase.|\n",
    "|37|translate(table, deletechars=\"\")|Translates string according to translation table str(256 chars), removing those in the del string.|\n",
    "|38|upper()|Converts lowercase letters in string to uppercase.|\n",
    "|39|zfill (width)|Returns original string leftpadded with zeros to a total of width characters; intended for numbers, zfill() retains any sign given (less one zero).|\n",
    "|40|isdecimal()|Returns true if a unicode string contains only decimal characters and false otherwise.|\n"
   ]
  },
  {
   "cell_type": "code",
   "execution_count": 26,
   "metadata": {},
   "outputs": [
    {
     "data": {
      "text/plain": [
       "'H'"
      ]
     },
     "execution_count": 26,
     "metadata": {},
     "output_type": "execute_result"
    }
   ],
   "source": [
    "min(\"PYTHON\")"
   ]
  },
  {
   "cell_type": "code",
   "execution_count": 27,
   "metadata": {},
   "outputs": [
    {
     "data": {
      "text/plain": [
       "'Python Is A Language'"
      ]
     },
     "execution_count": 27,
     "metadata": {},
     "output_type": "execute_result"
    }
   ],
   "source": [
    "\"python is a language\".title()"
   ]
  },
  {
   "cell_type": "code",
   "execution_count": 28,
   "metadata": {},
   "outputs": [
    {
     "data": {
      "text/plain": [
       "'PYthOn'"
      ]
     },
     "execution_count": 28,
     "metadata": {},
     "output_type": "execute_result"
    }
   ],
   "source": [
    "\"  PYthOn  \".rstrip().lstrip()"
   ]
  },
  {
   "cell_type": "raw",
   "metadata": {
    "collapsed": true
   },
   "source": [
    "# Cases I\n",
    "s.capitalize() Capitalize s # 'hello' => 'Hello'\n",
    "s.lower() Lowercase s # 'HELLO' => 'hello'\n",
    "s.swapcase() Swap cases of all characters in s # 'Hello' => \"hELLO\"\n",
    "s.title() Titlecase s # 'hello world' => 'Hello World'\n",
    "s.upper() Uppercase s # 'hello' => 'HELLO'\n",
    "Sequence Operations I\n",
    "s2 in s Return true if s contains s2\n",
    "s + s2 Concat s and s2\n",
    "len(s) Length of s\n",
    "min(s) Smallest character of s\n",
    "max(s) Largest character of s\n",
    "Sequence Operations II\n",
    "s2 not in s Return true if s does not contain s2\n",
    "s * integer Return integer copies of s concatenated # 'hello' => 'hellohellohello'\n",
    "s[index] Character at index of s\n",
    "s[i:j:k] Slice of s from i to j with step k\n",
    "s.count(s2) Count of s2 in s\n",
    "Whitespace I\n",
    "s.center(width) Center s with blank padding of width # 'hi' => ' hi '\n",
    "s.isspace() Return true if s only contains whitespace characters\n",
    "s.ljust(width) Left justifiy s with total size of width # 'hello' => 'hello '\n",
    "s.rjust(width) Right justify s with total size of width # 'hello' => ' hello'\n",
    "s.strip() Remove leading and trailing whitespace from s # ' hello ' => 'hello'\n",
    "Find / Replace I\n",
    "s.index(s2, i, j) Index of first occurrence of s2 in s after index i and before index j\n",
    "s.find(s2) Find and return lowest index of s2 in s\n",
    "s.index(s2) Return lowest index of s2 in s (but raise ValueError if not found)\n",
    "s.replace(s2, s3) Replace s2 with s3 in s\n",
    "s.replace(s2, s3, count) Replace s2 with s3 in s at most count times\n",
    "s.rfind(s2) Return highest index of s2 in s\n",
    "s.rindex(s2) Return highest index of s2 in s (raise ValueError if not found)\n",
    "Cases II\n",
    "s.casefold() Casefold s (aggressive lowercasing for caseless matching) # 'ßorat' => 'ssorat'\n",
    "s.islower() Return true if s is lowercase\n",
    "s.istitle() Return true if s is titlecased # 'Hello World' => true\n",
    "s.isupper() Return true if s is uppercase\n",
    "Inspection I\n",
    "s.endswith(s2) Return true if s ends with s2\n",
    "s.isalnum() Return true if s is alphanumeric\n",
    "s.isalpha() Return true if s is alphabetic\n",
    "s.isdecimal() Return true if s is decimal\n",
    "s.isnumeric() Return true if s is numeric\n",
    "s.startswith(s2) Return true is s starts with s2\n",
    "Splitting I\n",
    "s.join('123') Return s joined by iterable '123' # 'hello' => '1hello2hello3'\n",
    "s.partition(sep) Partition string at sep and return 3-tuple with part before, the sep itself, and part after # 'hello' => ('he', 'l', 'lo')\n",
    "s.rpartition(sep) Partition string at last occurrence of sep, return 3-tuple with part before, the sep, and part after # 'hello' => ('hel', 'l', 'o')\n",
    "s.rsplit(sep, maxsplit) Return list of s split by sep with rightmost maxsplits performed\n",
    "s.split(sep, maxsplit) Return list of s split by sep with leftmost maxsplits performed\n",
    "s.splitlines() Return a list of lines in s # 'hello\\nworld' => ['hello', 'world']\n",
    "Inspection II\n",
    "s[i:j] Slice of s from i to j\n",
    "s.endswith((s1, s2, s3)) Return true if s ends with any of string tuple s1, s2, and s3\n",
    "s.isdigit() Return true if s is digit\n",
    "s.isidentifier() Return true if s is a valid identifier\n",
    "s.isprintable() Return true is s is printable\n",
    "Whitespace II\n",
    "s.center(width, pad) Center s with padding pad of width # 'hi' => 'padpadhipadpad'\n",
    "s.expandtabs(integer) Replace all tabs with spaces of tabsize integer # 'hello\\tworld' => 'hello world'\n",
    "s.lstrip() Remove leading whitespace from s # ' hello ' => 'hello '\n",
    "s.rstrip() Remove trailing whitespace from s # ' hello ' => ' hello'\n",
    "s.zfill(width) Left fill s with ASCII '0' digits with total length width # '42' => '00042'"
   ]
  },
  {
   "cell_type": "code",
   "execution_count": null,
   "metadata": {
    "collapsed": true
   },
   "outputs": [],
   "source": []
  }
 ],
 "metadata": {
  "kernelspec": {
   "display_name": "Python 3",
   "language": "python",
   "name": "python3"
  },
  "language_info": {
   "codemirror_mode": {
    "name": "ipython",
    "version": 3
   },
   "file_extension": ".py",
   "mimetype": "text/x-python",
   "name": "python",
   "nbconvert_exporter": "python",
   "pygments_lexer": "ipython3",
   "version": "3.5.6"
  }
 },
 "nbformat": 4,
 "nbformat_minor": 1
}
