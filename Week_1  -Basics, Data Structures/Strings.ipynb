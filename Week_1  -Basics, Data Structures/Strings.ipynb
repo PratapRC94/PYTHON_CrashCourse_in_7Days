{
 "cells": [
  {
   "cell_type": "markdown",
   "metadata": {
    "colab_type": "text",
    "id": "yIKC4m1cSOHY"
   },
   "source": [
    "**Strings**"
   ]
  },
  {
   "cell_type": "markdown",
   "metadata": {
    "colab_type": "text",
    "id": "xfnqli7WSOHZ"
   },
   "source": [
    "String is one of the most common used data type in Python. You create a string by enclosing some characters\n",
    "or numbers in single (‘) or double (”) quotes."
   ]
  },
  {
   "cell_type": "code",
   "execution_count": null,
   "metadata": {
    "colab": {},
    "colab_type": "code",
    "id": "mmrKPRUASOHa",
    "outputId": "40c8654a-6637-4e77-d447-5b83501f4727"
   },
   "outputs": [
    {
     "data": {
      "text/plain": [
       "'helloworld'"
      ]
     },
     "execution_count": 1,
     "metadata": {
      "tags": []
     },
     "output_type": "execute_result"
    }
   ],
   "source": [
    "a = \"hello\"             # using double quote\n",
    "b = 'world'             # using single quote\n",
    "a + b                   # concatenates string"
   ]
  },
  {
   "cell_type": "code",
   "execution_count": null,
   "metadata": {
    "colab": {},
    "colab_type": "code",
    "id": "Mi3Vyco6SOHf",
    "outputId": "cb1d7b40-95f5-4280-a952-ce57856fcb5c"
   },
   "outputs": [
    {
     "data": {
      "text/plain": [
       "str"
      ]
     },
     "execution_count": 2,
     "metadata": {
      "tags": []
     },
     "output_type": "execute_result"
    }
   ],
   "source": [
    "type(a)                 # query for data type"
   ]
  },
  {
   "cell_type": "code",
   "execution_count": null,
   "metadata": {
    "colab": {},
    "colab_type": "code",
    "id": "DPXB1idISOHi",
    "outputId": "15162e96-06fb-4463-e550-45202d9172d4"
   },
   "outputs": [
    {
     "data": {
      "text/plain": [
       "\"How're you doing?\""
      ]
     },
     "execution_count": 3,
     "metadata": {
      "tags": []
     },
     "output_type": "execute_result"
    }
   ],
   "source": [
    "c = \"How're you doing?\" # mixing single and double quotes\n",
    "c"
   ]
  },
  {
   "cell_type": "code",
   "execution_count": null,
   "metadata": {
    "colab": {},
    "colab_type": "code",
    "id": "BI83ejE9SOHk",
    "outputId": "74273767-2956-489d-ab46-e9928c343dc1"
   },
   "outputs": [
    {
     "data": {
      "text/plain": [
       "' A long string\\nthat spans a few\\nlines can be enclosed in\\ntriple quotes.\\n'"
      ]
     },
     "execution_count": 4,
     "metadata": {
      "tags": []
     },
     "output_type": "execute_result"
    }
   ],
   "source": [
    "d = \"\"\" A long string\n",
    "... that spans a few\n",
    "... lines can be enclosed in\n",
    "... triple quotes.\n",
    "... \"\"\"\n",
    "d\n"
   ]
  },
  {
   "cell_type": "markdown",
   "metadata": {
    "colab_type": "text",
    "id": "_G0swYRWSOHn"
   },
   "source": [
    "Accessing Values in a String\n",
    "\n",
    "A string comprises of a sequence of characters, and quite a few methods/functions that work on \n",
    "list (array) is applicable to String as well."
   ]
  },
  {
   "cell_type": "code",
   "execution_count": null,
   "metadata": {
    "colab": {},
    "colab_type": "code",
    "id": "EpXoOHaASOHn",
    "outputId": "855f6275-500e-4860-8a8b-220906b98992"
   },
   "outputs": [
    {
     "data": {
      "text/plain": [
       "'h'"
      ]
     },
     "execution_count": 5,
     "metadata": {
      "tags": []
     },
     "output_type": "execute_result"
    }
   ],
   "source": [
    "a = \"hello\"\n",
    "a[0]   # get first character (same as list, zero indexed)"
   ]
  },
  {
   "cell_type": "code",
   "execution_count": null,
   "metadata": {
    "colab": {},
    "colab_type": "code",
    "id": "R06Uh3yOSOHp",
    "outputId": "3ffcb5f4-cf4c-4ee2-fe0c-283e365012ef"
   },
   "outputs": [
    {
     "data": {
      "text/plain": [
       "'o'"
      ]
     },
     "execution_count": 6,
     "metadata": {
      "tags": []
     },
     "output_type": "execute_result"
    }
   ],
   "source": [
    "a[-1]               # get get last character"
   ]
  },
  {
   "cell_type": "code",
   "execution_count": null,
   "metadata": {
    "colab": {},
    "colab_type": "code",
    "id": "dopmm65HSOHr",
    "outputId": "ed098af4-bd1c-46d4-907e-b3beb450885f"
   },
   "outputs": [
    {
     "data": {
      "text/plain": [
       "5"
      ]
     },
     "execution_count": 7,
     "metadata": {
      "tags": []
     },
     "output_type": "execute_result"
    }
   ],
   "source": [
    "a[0:2]              # slicing works on string as well\n",
    "len(a)              # get number of characters in the string"
   ]
  },
  {
   "cell_type": "code",
   "execution_count": null,
   "metadata": {
    "colab": {},
    "colab_type": "code",
    "id": "VYWkAnQGSOHv",
    "outputId": "ed9c98e3-3574-40d8-a8ff-0fdadc8b98d7"
   },
   "outputs": [
    {
     "data": {
      "text/plain": [
       "2"
      ]
     },
     "execution_count": 8,
     "metadata": {
      "tags": []
     },
     "output_type": "execute_result"
    }
   ],
   "source": [
    "a.count('l')        # get the number of occurence of a particular character"
   ]
  },
  {
   "cell_type": "markdown",
   "metadata": {
    "colab_type": "text",
    "id": "-0wn0_LOSOHx"
   },
   "source": [
    "Modifying a String\n",
    "\n",
    "String is immutable, and therefore its value cannot be modified directly. \n",
    "However, you can “modify” a string by re-assigning the value to another string."
   ]
  },
  {
   "cell_type": "markdown",
   "metadata": {
    "colab_type": "text",
    "id": "zY9tgk6USOHy"
   },
   "source": [
    "a = \"hello\"\n",
    "\n",
    "a[0] = 'a'          # Not allow, produce error\n",
    "\n",
    "Traceback (most recent call last):\n",
    "\n",
    "  File \"<interactive input>\", line 1, in <module>\n",
    "  \n",
    "TypeError: 'str' object does not support item assignment"
   ]
  },
  {
   "cell_type": "code",
   "execution_count": null,
   "metadata": {
    "colab": {},
    "colab_type": "code",
    "id": "dOlBFP-bSOHy",
    "outputId": "3f04cc16-8c86-4ddf-dc46-c14a27d22b06"
   },
   "outputs": [
    {
     "data": {
      "text/plain": [
       "'aello'"
      ]
     },
     "execution_count": 9,
     "metadata": {
      "tags": []
     },
     "output_type": "execute_result"
    }
   ],
   "source": [
    "b = 'a' + a[1:]     # replace the first character with 'a', and reassign the result to a new string\n",
    "b                   #execute and see the result\n",
    "#try getting only last 3 letters from the string\n"
   ]
  },
  {
   "cell_type": "markdown",
   "metadata": {
    "colab_type": "text",
    "id": "DGkYq1_nSOH1"
   },
   "source": [
    "**Built-in String Methods**\n",
    "\n",
    "Python provides quite a few very handy string methods. Some commonly used ones are shown below. \n",
    "For a complete list, refer to Python Docs: String Methods."
   ]
  },
  {
   "cell_type": "code",
   "execution_count": null,
   "metadata": {
    "colab": {},
    "colab_type": "code",
    "id": "_rzdzk9LSOH2"
   },
   "outputs": [],
   "source": [
    "a = \"hello\""
   ]
  },
  {
   "cell_type": "code",
   "execution_count": null,
   "metadata": {
    "colab": {},
    "colab_type": "code",
    "id": "LSZUPonhSOH4",
    "outputId": "812adf5d-4073-4470-f724-d61b869ccf20"
   },
   "outputs": [
    {
     "data": {
      "text/plain": [
       "'Hello'"
      ]
     },
     "execution_count": 11,
     "metadata": {
      "tags": []
     },
     "output_type": "execute_result"
    }
   ],
   "source": [
    "a.capitalize()"
   ]
  },
  {
   "cell_type": "code",
   "execution_count": null,
   "metadata": {
    "colab": {},
    "colab_type": "code",
    "id": "ZjwSIvNASOH7",
    "outputId": "09cccba5-6368-4f88-c19c-8fb9c662c5cd"
   },
   "outputs": [
    {
     "data": {
      "text/plain": [
       "'HELLO'"
      ]
     },
     "execution_count": 12,
     "metadata": {
      "tags": []
     },
     "output_type": "execute_result"
    }
   ],
   "source": [
    "a.upper()"
   ]
  },
  {
   "cell_type": "code",
   "execution_count": null,
   "metadata": {
    "colab": {},
    "colab_type": "code",
    "id": "j-tnitzYSOH9",
    "outputId": "10f2833a-b40e-42dc-8188-634623371f3e"
   },
   "outputs": [
    {
     "data": {
      "text/plain": [
       "'hello'"
      ]
     },
     "execution_count": 13,
     "metadata": {
      "tags": []
     },
     "output_type": "execute_result"
    }
   ],
   "source": [
    "a.lower()"
   ]
  },
  {
   "cell_type": "code",
   "execution_count": null,
   "metadata": {
    "colab": {},
    "colab_type": "code",
    "id": "PYFN4LOTSOH_",
    "outputId": "f7568776-2591-4452-9099-ca0faa90b678"
   },
   "outputs": [
    {
     "data": {
      "text/plain": [
       "'hallo'"
      ]
     },
     "execution_count": 14,
     "metadata": {
      "tags": []
     },
     "output_type": "execute_result"
    }
   ],
   "source": [
    "a.replace('e','a')"
   ]
  },
  {
   "cell_type": "code",
   "execution_count": null,
   "metadata": {
    "colab": {},
    "colab_type": "code",
    "id": "u7o2OFZhSOIB"
   },
   "outputs": [],
   "source": []
  },
  {
   "cell_type": "markdown",
   "metadata": {
    "colab_type": "text",
    "id": "-olhUu_sSOID"
   },
   "source": [
    "**Useful Methods for Finding Substrings**"
   ]
  },
  {
   "cell_type": "code",
   "execution_count": null,
   "metadata": {
    "colab": {},
    "colab_type": "code",
    "id": "rjeGmwSdSOID"
   },
   "outputs": [],
   "source": [
    "a = \"Hello World\""
   ]
  },
  {
   "cell_type": "code",
   "execution_count": null,
   "metadata": {
    "colab": {},
    "colab_type": "code",
    "id": "08A_LY8rSOIG",
    "outputId": "697900a1-2124-4867-da2d-09a70da2f701"
   },
   "outputs": [
    {
     "data": {
      "text/plain": [
       "True"
      ]
     },
     "execution_count": 17,
     "metadata": {
      "tags": []
     },
     "output_type": "execute_result"
    }
   ],
   "source": [
    "a.startswith(\"H\")"
   ]
  },
  {
   "cell_type": "code",
   "execution_count": null,
   "metadata": {
    "colab": {},
    "colab_type": "code",
    "id": "cDD-9JgnSOIJ",
    "outputId": "fd6cde81-358b-4af5-bfcf-7433640954f9"
   },
   "outputs": [
    {
     "data": {
      "text/plain": [
       "False"
      ]
     },
     "execution_count": 18,
     "metadata": {
      "tags": []
     },
     "output_type": "execute_result"
    }
   ],
   "source": [
    "a.endswith(\"D\")"
   ]
  },
  {
   "cell_type": "code",
   "execution_count": null,
   "metadata": {
    "colab": {},
    "colab_type": "code",
    "id": "iwn-S4P_SOIL",
    "outputId": "7557a4c2-30fb-49e5-9e7f-5d877d6bb89d"
   },
   "outputs": [
    {
     "data": {
      "text/plain": [
       "6"
      ]
     },
     "execution_count": 19,
     "metadata": {
      "tags": []
     },
     "output_type": "execute_result"
    }
   ],
   "source": [
    "a.find(\"World\")"
   ]
  },
  {
   "cell_type": "code",
   "execution_count": null,
   "metadata": {
    "colab": {},
    "colab_type": "code",
    "id": "N-uUFZOySOIN",
    "outputId": "558eee75-78ba-4c0e-e849-1a43d7b290ab"
   },
   "outputs": [
    {
     "data": {
      "text/plain": [
       "6"
      ]
     },
     "execution_count": 20,
     "metadata": {
      "tags": []
     },
     "output_type": "execute_result"
    }
   ],
   "source": [
    " a.index(\"World\")"
   ]
  },
  {
   "cell_type": "code",
   "execution_count": null,
   "metadata": {
    "colab": {},
    "colab_type": "code",
    "id": "KzrkFTd4SOIP",
    "outputId": "bc189b47-bd0b-4e77-b62b-543f45e0bdba"
   },
   "outputs": [
    {
     "data": {
      "text/plain": [
       "-1"
      ]
     },
     "execution_count": 21,
     "metadata": {
      "tags": []
     },
     "output_type": "execute_result"
    }
   ],
   "source": [
    "a.find(\"world\") # 'find' returns -1 if no substring is found."
   ]
  },
  {
   "cell_type": "code",
   "execution_count": null,
   "metadata": {
    "colab": {},
    "colab_type": "code",
    "id": "v54Cw9zuSOIR",
    "outputId": "3040d800-5ea6-4884-8619-e7eb05cc265e"
   },
   "outputs": [
    {
     "ename": "ValueError",
     "evalue": "substring not found",
     "output_type": "error",
     "traceback": [
      "\u001b[0;31m---------------------------------------------------------------------------\u001b[0m",
      "\u001b[0;31mValueError\u001b[0m                                Traceback (most recent call last)",
      "\u001b[0;32m<ipython-input-22-ac18c2801acf>\u001b[0m in \u001b[0;36m<module>\u001b[0;34m()\u001b[0m\n\u001b[0;32m----> 1\u001b[0;31m \u001b[0ma\u001b[0m\u001b[0;34m.\u001b[0m\u001b[0mindex\u001b[0m\u001b[0;34m(\u001b[0m\u001b[0;34m\"world\"\u001b[0m\u001b[0;34m)\u001b[0m \u001b[0;31m# 'index' returns a error\u001b[0m\u001b[0;34m\u001b[0m\u001b[0m\n\u001b[0m",
      "\u001b[0;31mValueError\u001b[0m: substring not found"
     ]
    }
   ],
   "source": [
    " a.index(\"world\") # 'index' returns a error\n"
   ]
  },
  {
   "cell_type": "code",
   "execution_count": null,
   "metadata": {
    "colab": {},
    "colab_type": "code",
    "id": "lPvu9pm2SOIT"
   },
   "outputs": [],
   "source": []
  },
  {
   "cell_type": "markdown",
   "metadata": {
    "colab_type": "text",
    "collapsed": true,
    "id": "Dfo4NphTSOIV"
   },
   "source": [
    "| SN  |     Methods     | Description|\n",
    "|----------|-------------|\n",
    "|1|capitalize()|Capitalizes first letter of string|\n",
    "|2|center(width, fillchar)|Returns a space-padded string with the original string centered to a total of width columns.|\n",
    "|3|count(str, beg= 0,end=len(string))|Counts how many times str occurs in string or in a substring of string if starting index beg and ending index end are given.|\n",
    "|4|decode(encoding='UTF-8',errors='strict')|Decodes the string using the codec registered for encoding. encoding defaults to the default string encoding.|\n",
    "|5|encode(encoding='UTF-8',errors='strict') |Returns encoded string version of string; on error, default is to raise a ValueError unless errors is given with 'ignore' or 'replace'.|\n",
    "|6|endswith(suffix, beg=0, end=len(string))|Determines if string or a substring of string (if starting index beg and ending index end are given) ends with suffix; returns true if so and false otherwise.|\n",
    "|7|expandtabs(tabsize=8)|Expands tabs in string to multiple spaces; defaults to 8 spaces per tab if tabsize not provided.|\n",
    "|8|find(str, beg=0 end=len(string))|Determine if str occurs in string or in a substring of string if starting index beg and ending index end are given returns index if found and -1 otherwise.|\n",
    "|9|index(str, beg=0, end=len(string))|Same as find(), but raises an exception if str not found.|\n",
    "|10|isalnum()|Returns true if string has at least 1 character and all characters are alphanumeric and false otherwise.|\n",
    "|11|isalpha()|Returns true if string has at least 1 character and all characters are alphabetic and false otherwise.|\n",
    "|12|isdigit()|Returns true if string contains only digits and false otherwise.|\n",
    "|13|islower()|Returns true if string has at least 1 cased character and all cased characters are in lowercase and false otherwise.|\n",
    "|14|isnumeric()|Returns true if a unicode string contains only numeric characters and false otherwise.|\n",
    "|15|isspace()|Returns true if string contains only whitespace characters and false otherwise.|\n",
    "|16|istitle()|Returns true if string is properly \"titlecased\" and false otherwise.|\n",
    "|17|isupper()|Returns true if string has at least one cased character and all cased characters are in uppercase and false otherwise.|\n",
    "|18|join(seq)|Merges (concatenates) the string representations of elements in sequence seq into a string, with separator string.|\n",
    "|19|len(string)|Returns the length of the string|\n",
    "|20|ljust(width[, fillchar])|Returns a space-padded string with the original string left-justified to a total of width columns.|\n",
    "|21|lower()|Converts all uppercase letters in string to lowercase.|\n",
    "|22|lstrip()|Removes all leading whitespace in string.|\n",
    "|23|maketrans()|Returns a translation table to be used in translate function.|\n",
    "|24|max(str)|Returns the max alphabetical character from the string str.|\n",
    "|25|min(str)|Returns the min alphabetical character from the string str.|\n",
    "|26|replace(old, new [, max])|Replaces all occurrences of old in string with new or at most max occurrences if max given.|\n",
    "|27|rfind(str, beg=0,end=len(string))|Same as find(), but search backwards in string.|\n",
    "|28|rindex( str, beg=0, end=len(string))|Same as index(), but search backwards in string.|\n",
    "|29|rjust(width,[, fillchar])|Returns a space-padded string with the original string right-justified to a total of width columns.|\n",
    "|30|rstrip()|Removes all trailing whitespace of string.|\n",
    "|31|split(str=\"\", num=string.count(str))|Splits string according to delimiter str (space if not provided) and returns list of substrings; split into at most num substrings if given.|\n",
    "|32|splitlines( num=string.count('\\n'))|Splits string at all (or num) NEWLINEs and returns a list of each line with NEWLINEs removed.|\n",
    "|33|startswith(str, beg=0,end=len(string))|Determines if string or a substring of string (if starting index beg and ending index end are given) starts with substring str; returns true if so and false otherwise.|\n",
    "|34|strip([chars])|Performs both lstrip() and rstrip() on string|\n",
    "|35|swapcase()|Inverts case for all letters in string.|\n",
    "|36|title()|Returns \"titlecased\" version of string, that is, all words begin with uppercase and the rest are lowercase.|\n",
    "|37|translate(table, deletechars=\"\")|Translates string according to translation table str(256 chars), removing those in the del string.|\n",
    "|38|upper()|Converts lowercase letters in string to uppercase.|\n",
    "|39|zfill (width)|Returns original string leftpadded with zeros to a total of width characters; intended for numbers, zfill() retains any sign given (less one zero).|\n",
    "|40|isdecimal()|Returns true if a unicode string contains only decimal characters and false otherwise.|\n"
   ]
  },
  {
   "cell_type": "code",
   "execution_count": null,
   "metadata": {
    "colab": {},
    "colab_type": "code",
    "id": "X9jCB-DESOIV",
    "outputId": "03e5c5c2-7821-4936-dd2c-6fdb4bb364c5"
   },
   "outputs": [
    {
     "data": {
      "text/plain": [
       "'H'"
      ]
     },
     "execution_count": 26,
     "metadata": {
      "tags": []
     },
     "output_type": "execute_result"
    }
   ],
   "source": [
    "min(\"PYTHON\")"
   ]
  },
  {
   "cell_type": "code",
   "execution_count": null,
   "metadata": {
    "colab": {},
    "colab_type": "code",
    "id": "bwutSMYVSOIX",
    "outputId": "c3145cf7-3bc6-4317-b67b-904aeb02f24a"
   },
   "outputs": [
    {
     "data": {
      "text/plain": [
       "'Python Is A Language'"
      ]
     },
     "execution_count": 27,
     "metadata": {
      "tags": []
     },
     "output_type": "execute_result"
    }
   ],
   "source": [
    "\"python is a language\".title()"
   ]
  },
  {
   "cell_type": "code",
   "execution_count": null,
   "metadata": {
    "colab": {},
    "colab_type": "code",
    "id": "gwqscERFSOIZ",
    "outputId": "65bc0044-9d26-4e1b-a54e-1d64a6c7442f"
   },
   "outputs": [
    {
     "data": {
      "text/plain": [
       "'PYthOn'"
      ]
     },
     "execution_count": 28,
     "metadata": {
      "tags": []
     },
     "output_type": "execute_result"
    }
   ],
   "source": [
    "\"  PYthOn  \".rstrip().lstrip()"
   ]
  },
  {
   "cell_type": "code",
   "execution_count": 1,
   "metadata": {
    "colab": {},
    "colab_type": "code",
    "id": "lky1-M-0SOIb"
   },
   "outputs": [
    {
     "data": {
      "text/plain": [
       "[10, 9, 8, 7, 6, 5, 4, 3, 2, 1]"
      ]
     },
     "execution_count": 1,
     "metadata": {},
     "output_type": "execute_result"
    }
   ],
   "source": [
    "list(reversed(range(1,11)))"
   ]
  },
  {
   "cell_type": "code",
   "execution_count": null,
   "metadata": {},
   "outputs": [],
   "source": []
  }
 ],
 "metadata": {
  "colab": {
   "name": "Strings.ipynb",
   "provenance": []
  },
  "kernelspec": {
   "display_name": "Python 3",
   "language": "python",
   "name": "python3"
  },
  "language_info": {
   "codemirror_mode": {
    "name": "ipython",
    "version": 3
   },
   "file_extension": ".py",
   "mimetype": "text/x-python",
   "name": "python",
   "nbconvert_exporter": "python",
   "pygments_lexer": "ipython3",
   "version": "3.8.8"
  }
 },
 "nbformat": 4,
 "nbformat_minor": 1
}
