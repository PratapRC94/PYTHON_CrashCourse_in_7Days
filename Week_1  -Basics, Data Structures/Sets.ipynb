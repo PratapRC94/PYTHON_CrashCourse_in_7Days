{
 "cells": [
  {
   "cell_type": "markdown",
   "metadata": {
    "colab_type": "text",
    "id": "3WQ_JclSTQ_-"
   },
   "source": [
    "##**SETS**"
   ]
  },
  {
   "cell_type": "markdown",
   "metadata": {
    "colab_type": "text",
    "id": "HN4ZsjpUTQ__"
   },
   "source": [
    "<span style=\"font-size:150%;\">Sets are unordered bag of unique values. A single set contains values of any immutable data type.</span>"
   ]
  },
  {
   "cell_type": "markdown",
   "metadata": {
    "colab_type": "text",
    "id": "LCvOFh-hTQ__"
   },
   "source": [
    "### CREATING SET"
   ]
  },
  {
   "cell_type": "code",
   "execution_count": null,
   "metadata": {
    "colab": {},
    "colab_type": "code",
    "id": "YNljWcPaTRAA",
    "outputId": "a3fb612b-64a8-4263-a321-e8e9fa7677b7"
   },
   "outputs": [
    {
     "data": {
      "text/plain": [
       "{}"
      ]
     },
     "execution_count": 1,
     "metadata": {
      "tags": []
     },
     "output_type": "execute_result"
    }
   ],
   "source": [
    "#Directly assigning values to a set\n",
    "\n",
    "myset = {} # just empty curly braces means an empty set \n",
    "myset"
   ]
  },
  {
   "cell_type": "code",
   "execution_count": null,
   "metadata": {
    "colab": {},
    "colab_type": "code",
    "id": "Swt2vmtETRAE",
    "outputId": "7655dc81-08e9-468b-af0e-e5e96b13765f"
   },
   "outputs": [
    {
     "data": {
      "text/plain": [
       "dict"
      ]
     },
     "execution_count": 2,
     "metadata": {
      "tags": []
     },
     "output_type": "execute_result"
    }
   ],
   "source": [
    "type(myset)"
   ]
  },
  {
   "cell_type": "code",
   "execution_count": 1,
   "metadata": {
    "colab": {},
    "colab_type": "code",
    "id": "8kRajFN_TRAG",
    "outputId": "1d71d518-eeef-4b6f-be03-01bbd0c08cf2"
   },
   "outputs": [
    {
     "data": {
      "text/plain": [
       "set()"
      ]
     },
     "execution_count": 1,
     "metadata": {},
     "output_type": "execute_result"
    }
   ],
   "source": [
    " \n",
    "myset = set() # Initializing a set\n",
    "myset = set([]) # Creating a set from a list\n",
    "myset"
   ]
  },
  {
   "cell_type": "code",
   "execution_count": 2,
   "metadata": {
    "colab": {},
    "colab_type": "code",
    "id": "LXLzNuY_TRAI",
    "outputId": "ae50e5ba-b43f-4a07-9225-9de59165091a"
   },
   "outputs": [
    {
     "data": {
      "text/plain": [
       "set"
      ]
     },
     "execution_count": 2,
     "metadata": {},
     "output_type": "execute_result"
    }
   ],
   "source": [
    "type(myset)"
   ]
  },
  {
   "cell_type": "code",
   "execution_count": 3,
   "metadata": {
    "colab": {},
    "colab_type": "code",
    "id": "eaxw0yPBTRAL",
    "outputId": "b1ec1694-6a7a-4824-bbb2-ca03d7ea179e"
   },
   "outputs": [
    {
     "data": {
      "text/plain": [
       "{1, 2}"
      ]
     },
     "execution_count": 3,
     "metadata": {},
     "output_type": "execute_result"
    }
   ],
   "source": [
    "myset = {1,2} #Directly enter values inside the braces \n",
    "myset"
   ]
  },
  {
   "cell_type": "code",
   "execution_count": 5,
   "metadata": {
    "colab": {},
    "colab_type": "code",
    "id": "GRgnVfgnTRAR",
    "outputId": "b19c4f97-be97-4459-8d18-7d48712cb303"
   },
   "outputs": [
    {
     "data": {
      "text/plain": [
       "{1, 2, 5}"
      ]
     },
     "execution_count": 5,
     "metadata": {},
     "output_type": "execute_result"
    }
   ],
   "source": [
    "myset = set([1,2,2,2,5]) #Create a set from a list \n",
    "myset"
   ]
  },
  {
   "cell_type": "code",
   "execution_count": 6,
   "metadata": {
    "colab": {},
    "colab_type": "code",
    "id": "D1d04Z_CTRAU",
    "outputId": "15d5be03-a224-4ef9-ba82-475bae5d752d"
   },
   "outputs": [
    {
     "name": "stdout",
     "output_type": "stream",
     "text": [
      "{1, 2, 3, 4}\n",
      "1\n",
      "2\n",
      "3\n",
      "4\n"
     ]
    }
   ],
   "source": [
    "l = [1,2,3,4]\n",
    "myset = set(l)\n",
    "print(myset)\n",
    "for i in myset:\n",
    "    print(i)"
   ]
  },
  {
   "cell_type": "code",
   "execution_count": 7,
   "metadata": {
    "colab": {},
    "colab_type": "code",
    "id": "kSNq-My3TRAW",
    "outputId": "dc43aec6-3e3d-4391-9105-1ffa4817981b"
   },
   "outputs": [
    {
     "name": "stdout",
     "output_type": "stream",
     "text": [
      "{1, 2, 3}\n",
      "{1.0, (1, 2, 3), 'Hello'}\n"
     ]
    }
   ],
   "source": [
    "# set of integers\n",
    "my_set = {1, 2, 3}\n",
    "print(my_set)\n",
    "\n",
    "# set of mixed datatypes\n",
    "my_set = {1.0, \"Hello\", (1, 2, 3)}\n",
    "print(my_set)"
   ]
  },
  {
   "cell_type": "code",
   "execution_count": 5,
   "metadata": {
    "colab": {},
    "colab_type": "code",
    "id": "kZRHa0d9TRAY"
   },
   "outputs": [],
   "source": [
    "myset = {1,2,1}"
   ]
  },
  {
   "cell_type": "code",
   "execution_count": 6,
   "metadata": {
    "colab": {},
    "colab_type": "code",
    "id": "BehvErmrTRAa",
    "outputId": "10b9cc1f-a90c-4b0a-cddb-dd8c3d194ef3"
   },
   "outputs": [
    {
     "data": {
      "text/plain": [
       "{1, 2}"
      ]
     },
     "execution_count": 6,
     "metadata": {},
     "output_type": "execute_result"
    }
   ],
   "source": [
    "myset"
   ]
  },
  {
   "cell_type": "code",
   "execution_count": 13,
   "metadata": {
    "colab": {},
    "colab_type": "code",
    "id": "dKX_8Ns4TRAc",
    "outputId": "11060c90-a450-4261-8221-15f6f2ff1949"
   },
   "outputs": [
    {
     "ename": "TypeError",
     "evalue": "set expected at most 1 argument, got 2",
     "output_type": "error",
     "traceback": [
      "\u001b[1;31m---------------------------------------------------------------------------\u001b[0m",
      "\u001b[1;31mTypeError\u001b[0m                                 Traceback (most recent call last)",
      "\u001b[1;32m<ipython-input-13-90701c80e1e8>\u001b[0m in \u001b[0;36m<module>\u001b[1;34m\u001b[0m\n\u001b[0;32m      1\u001b[0m \u001b[1;31m#a set cannot be made from mutable types - lists for example\u001b[0m\u001b[1;33m\u001b[0m\u001b[1;33m\u001b[0m\u001b[1;33m\u001b[0m\u001b[0m\n\u001b[1;32m----> 2\u001b[1;33m \u001b[0mset\u001b[0m\u001b[1;33m(\u001b[0m\u001b[1;33m[\u001b[0m\u001b[1;36m1\u001b[0m\u001b[1;33m,\u001b[0m\u001b[1;36m2\u001b[0m\u001b[1;33m,\u001b[0m\u001b[1;36m2\u001b[0m\u001b[1;33m]\u001b[0m\u001b[1;33m,\u001b[0m\u001b[1;33m[\u001b[0m\u001b[1;36m3\u001b[0m\u001b[1;33m,\u001b[0m\u001b[1;36m4\u001b[0m\u001b[1;33m]\u001b[0m\u001b[1;33m)\u001b[0m\u001b[1;33m\u001b[0m\u001b[1;33m\u001b[0m\u001b[0m\n\u001b[0m",
      "\u001b[1;31mTypeError\u001b[0m: set expected at most 1 argument, got 2"
     ]
    }
   ],
   "source": [
    "#a set cannot be made from mutable types - lists for example \n",
    "set([1,2,2],[3,4])"
   ]
  },
  {
   "cell_type": "code",
   "execution_count": 14,
   "metadata": {
    "colab": {},
    "colab_type": "code",
    "id": "2KOQsn00TRAf"
   },
   "outputs": [
    {
     "data": {
      "text/plain": [
       "{1, 2}"
      ]
     },
     "execution_count": 14,
     "metadata": {},
     "output_type": "execute_result"
    }
   ],
   "source": [
    "myset"
   ]
  },
  {
   "cell_type": "markdown",
   "metadata": {
    "colab_type": "text",
    "id": "bME40GHNTRAh"
   },
   "source": [
    "### MODIFYING SET - add() and update()"
   ]
  },
  {
   "cell_type": "code",
   "execution_count": 8,
   "metadata": {
    "colab": {},
    "colab_type": "code",
    "id": "dHx_2DS-TRAh",
    "outputId": "ba182c9d-52a2-47c4-cb34-db9afc34c877"
   },
   "outputs": [
    {
     "data": {
      "text/plain": [
       "{(5, 6), 1, 2, 5, 6}"
      ]
     },
     "execution_count": 8,
     "metadata": {},
     "output_type": "execute_result"
    }
   ],
   "source": [
    "myset.add((5,6)) # similar to list append\n",
    "myset.update((5,6)) # list extend\n",
    "myset"
   ]
  },
  {
   "cell_type": "code",
   "execution_count": 9,
   "metadata": {
    "colab": {},
    "colab_type": "code",
    "id": "iNgmXjJ-TRAl"
   },
   "outputs": [
    {
     "data": {
      "text/plain": [
       "{(5, 6), 1, 2, 5, 6, 9}"
      ]
     },
     "execution_count": 9,
     "metadata": {},
     "output_type": "execute_result"
    }
   ],
   "source": [
    "myset.add(9) #replace ? with the new element\n",
    "myset"
   ]
  },
  {
   "cell_type": "code",
   "execution_count": null,
   "metadata": {
    "colab": {},
    "colab_type": "code",
    "collapsed": true,
    "id": "UVg2cc_PTRAn"
   },
   "outputs": [],
   "source": [
    "myset.add(?) # replace ? with already existing item in the set\n",
    "myset"
   ]
  },
  {
   "cell_type": "code",
   "execution_count": null,
   "metadata": {
    "colab": {},
    "colab_type": "code",
    "collapsed": true,
    "id": "oV9eDeOUTRAp"
   },
   "outputs": [],
   "source": [
    "myset.add((?)) #try Adding a tuple \n",
    "myset"
   ]
  },
  {
   "cell_type": "code",
   "execution_count": null,
   "metadata": {
    "colab": {},
    "colab_type": "code",
    "id": "TQtdqvxKTRAr",
    "outputId": "a2653b12-53c5-47e1-d84e-537e9da973ac"
   },
   "outputs": [
    {
     "data": {
      "text/plain": [
       "{1, 2, 3, 4, 5, 9}"
      ]
     },
     "execution_count": 13,
     "metadata": {
      "tags": []
     },
     "output_type": "execute_result"
    }
   ],
   "source": [
    "myset.update([5,9]) # update() only works for iterable objects\n",
    "myset"
   ]
  },
  {
   "cell_type": "code",
   "execution_count": null,
   "metadata": {
    "colab": {},
    "colab_type": "code",
    "collapsed": true,
    "id": "EszWF64LTRAt"
   },
   "outputs": [],
   "source": [
    "myset.update([?,?]) # update() only works for iterable objects\n",
    "myset"
   ]
  },
  {
   "cell_type": "code",
   "execution_count": 13,
   "metadata": {
    "colab": {},
    "colab_type": "code",
    "id": "7-Rm0Rm6TRAv",
    "outputId": "334ec384-d520-4c46-c95c-37e4d0504187"
   },
   "outputs": [
    {
     "data": {
      "text/plain": [
       "{(5, 6), 19, 2, 5, 6, 9}"
      ]
     },
     "execution_count": 13,
     "metadata": {},
     "output_type": "execute_result"
    }
   ],
   "source": [
    "myset.update({5,19}) #Works for another set also \n",
    "myset"
   ]
  },
  {
   "cell_type": "code",
   "execution_count": null,
   "metadata": {
    "colab": {},
    "colab_type": "code",
    "collapsed": true,
    "id": "1MLRETL0TRAx"
   },
   "outputs": [],
   "source": [
    "myset.update({?,?}) #replace ? with your values \n",
    "myset"
   ]
  },
  {
   "cell_type": "code",
   "execution_count": 14,
   "metadata": {
    "colab": {},
    "colab_type": "code",
    "id": "Y37Pj2bbTRAy",
    "outputId": "845f07b9-7525-4e06-a89a-13db97c24c09"
   },
   "outputs": [
    {
     "data": {
      "text/plain": [
       "{(5, 6), 19, 2, 21, 22, 5, 6, 9, 'a', 'g'}"
      ]
     },
     "execution_count": 14,
     "metadata": {},
     "output_type": "execute_result"
    }
   ],
   "source": [
    "myset.update({21,22}, ['a','g']) #works for multiple iterable elements also \n",
    "myset"
   ]
  },
  {
   "cell_type": "code",
   "execution_count": null,
   "metadata": {
    "colab": {},
    "colab_type": "code",
    "collapsed": true,
    "id": "GnxYU29BTRA0"
   },
   "outputs": [],
   "source": [
    "myset.update({?,?,?}, [?,?]) #replace ? with your values \n",
    "myset"
   ]
  },
  {
   "cell_type": "markdown",
   "metadata": {
    "colab_type": "text",
    "id": "fOqcTkP4TRA2"
   },
   "source": [
    "REMOVING ITEMS - discard() and remove()\n",
    "\n",
    "Both discard() and remove() take a single value as an argument and removes that value from the set. If that value is not present in the set, discard() does nothing but remove() raises a KeyError exception\n"
   ]
  },
  {
   "cell_type": "code",
   "execution_count": 15,
   "metadata": {
    "colab": {},
    "colab_type": "code",
    "id": "ydrNFg2sTRA2"
   },
   "outputs": [
    {
     "ename": "KeyError",
     "evalue": "1",
     "output_type": "error",
     "traceback": [
      "\u001b[1;31m---------------------------------------------------------------------------\u001b[0m",
      "\u001b[1;31mKeyError\u001b[0m                                  Traceback (most recent call last)",
      "\u001b[1;32m<ipython-input-15-f70fc8fa467a>\u001b[0m in \u001b[0;36m<module>\u001b[1;34m\u001b[0m\n\u001b[1;32m----> 1\u001b[1;33m \u001b[0mmyset\u001b[0m\u001b[1;33m.\u001b[0m\u001b[0mremove\u001b[0m\u001b[1;33m(\u001b[0m\u001b[1;36m1\u001b[0m\u001b[1;33m)\u001b[0m \u001b[1;31m#REmoves the element from the set. Takes individual elements as arguments\u001b[0m\u001b[1;33m\u001b[0m\u001b[1;33m\u001b[0m\u001b[0m\n\u001b[0m",
      "\u001b[1;31mKeyError\u001b[0m: 1"
     ]
    }
   ],
   "source": [
    "myset.remove(1) #REmoves the element from the set. Takes individual elements as arguments "
   ]
  },
  {
   "cell_type": "code",
   "execution_count": 16,
   "metadata": {
    "colab": {},
    "colab_type": "code",
    "id": "KfHScMxUTRA5",
    "outputId": "3a21db36-ba4e-44b5-89f2-2dadc52e7e4b"
   },
   "outputs": [
    {
     "data": {
      "text/plain": [
       "{(5, 6), 19, 2, 21, 22, 5, 6, 9, 'a', 'g'}"
      ]
     },
     "execution_count": 16,
     "metadata": {},
     "output_type": "execute_result"
    }
   ],
   "source": [
    "myset "
   ]
  },
  {
   "cell_type": "code",
   "execution_count": 17,
   "metadata": {
    "colab": {},
    "colab_type": "code",
    "id": "qQ5Lc_LmTRA7",
    "outputId": "201f8d76-21be-4a51-d879-82635dcef586"
   },
   "outputs": [
    {
     "data": {
      "text/plain": [
       "{(5, 6), 19, 2, 21, 22, 5, 6, 9, 'g'}"
      ]
     },
     "execution_count": 17,
     "metadata": {},
     "output_type": "execute_result"
    }
   ],
   "source": [
    "myset.remove('a') #REmoves the element from the set. Takes individual elements as arguments \n",
    "myset "
   ]
  },
  {
   "cell_type": "code",
   "execution_count": 21,
   "metadata": {
    "colab": {},
    "colab_type": "code",
    "id": "lDQiuRtQTRA9",
    "outputId": "7ee9e4f4-9d8f-48aa-ffb1-93f945a455ee"
   },
   "outputs": [],
   "source": [
    "myset.remove((5,6))"
   ]
  },
  {
   "cell_type": "code",
   "execution_count": 22,
   "metadata": {},
   "outputs": [
    {
     "data": {
      "text/plain": [
       "{2, 21, 22, 5, 6, 9, 'g'}"
      ]
     },
     "execution_count": 22,
     "metadata": {},
     "output_type": "execute_result"
    }
   ],
   "source": [
    "myset"
   ]
  },
  {
   "cell_type": "code",
   "execution_count": 23,
   "metadata": {
    "colab": {},
    "colab_type": "code",
    "id": "hYNF67NCTRA-"
   },
   "outputs": [
    {
     "data": {
      "text/plain": [
       "{2, 21, 22, 5, 6, 9, 'g'}"
      ]
     },
     "execution_count": 23,
     "metadata": {},
     "output_type": "execute_result"
    }
   ],
   "source": [
    "myset.discard(19) \n",
    "myset"
   ]
  },
  {
   "cell_type": "code",
   "execution_count": null,
   "metadata": {
    "colab": {},
    "colab_type": "code",
    "collapsed": true,
    "id": "3gBGz1iOTRBA"
   },
   "outputs": [],
   "source": [
    "myset.remove(?)\n",
    "myset"
   ]
  },
  {
   "cell_type": "code",
   "execution_count": 36,
   "metadata": {},
   "outputs": [
    {
     "name": "stdout",
     "output_type": "stream",
     "text": [
      "{'l', 'H', 'o', 'r', 'e', 'W', 'd'}\n"
     ]
    }
   ],
   "source": [
    "my_set = set(\"HelloWorld\")\n",
    "print(my_set)"
   ]
  },
  {
   "cell_type": "code",
   "execution_count": 24,
   "metadata": {
    "colab": {},
    "colab_type": "code",
    "id": "fammUU-ZTRBE",
    "outputId": "8d064e4e-1a6a-4242-b335-abe5f74b3c5e"
   },
   "outputs": [
    {
     "name": "stdout",
     "output_type": "stream",
     "text": [
      "{'l', 'H', 'o', 'r', 'e', 'W', 'd'}\n",
      "l\n",
      "{'o', 'r', 'e', 'W', 'd'}\n",
      "set()\n"
     ]
    }
   ],
   "source": [
    "# initialize my_set\n",
    "my_set = set(\"HelloWorld\")\n",
    "print(my_set)\n",
    "\n",
    "# pop an element at random \n",
    "print(my_set.pop())\n",
    "\n",
    "# pop another element at random \n",
    "my_set.pop()\n",
    "print(my_set)\n",
    "\n",
    "# clear my_set\n",
    "my_set.clear()\n",
    "print(my_set)"
   ]
  },
  {
   "cell_type": "code",
   "execution_count": 26,
   "metadata": {
    "colab": {},
    "colab_type": "code",
    "id": "QlwZ3oFCTRBG"
   },
   "outputs": [
    {
     "data": {
      "text/plain": [
       "{1, 2, 3, 4, 5}"
      ]
     },
     "execution_count": 26,
     "metadata": {},
     "output_type": "execute_result"
    }
   ],
   "source": [
    "s = {1,2,3,4,5}\n",
    "s"
   ]
  },
  {
   "cell_type": "code",
   "execution_count": 29,
   "metadata": {},
   "outputs": [
    {
     "data": {
      "text/plain": [
       "1"
      ]
     },
     "execution_count": 29,
     "metadata": {},
     "output_type": "execute_result"
    }
   ],
   "source": [
    "s.pop()"
   ]
  },
  {
   "cell_type": "code",
   "execution_count": 31,
   "metadata": {},
   "outputs": [
    {
     "data": {
      "text/plain": [
       "2"
      ]
     },
     "execution_count": 31,
     "metadata": {},
     "output_type": "execute_result"
    }
   ],
   "source": [
    "s.pop()"
   ]
  },
  {
   "cell_type": "code",
   "execution_count": 35,
   "metadata": {},
   "outputs": [
    {
     "data": {
      "text/plain": [
       "{3, 4, 5}"
      ]
     },
     "execution_count": 35,
     "metadata": {},
     "output_type": "execute_result"
    }
   ],
   "source": [
    "s"
   ]
  },
  {
   "cell_type": "code",
   "execution_count": 25,
   "metadata": {
    "colab": {},
    "colab_type": "code",
    "id": "P_W8s40BTRBI",
    "outputId": "eefdcea4-e85a-443d-f4d1-eb1c798c5c68"
   },
   "outputs": [
    {
     "name": "stderr",
     "output_type": "stream",
     "text": [
      "<>:2: SyntaxWarning: 'set' object is not subscriptable; perhaps you missed a comma?\n",
      "<>:2: SyntaxWarning: 'set' object is not subscriptable; perhaps you missed a comma?\n",
      "<ipython-input-25-a3e9b151132a>:2: SyntaxWarning: 'set' object is not subscriptable; perhaps you missed a comma?\n",
      "  {1,2}[1]\n"
     ]
    },
    {
     "ename": "TypeError",
     "evalue": "'set' object is not subscriptable",
     "output_type": "error",
     "traceback": [
      "\u001b[1;31m---------------------------------------------------------------------------\u001b[0m",
      "\u001b[1;31mTypeError\u001b[0m                                 Traceback (most recent call last)",
      "\u001b[1;32m<ipython-input-25-a3e9b151132a>\u001b[0m in \u001b[0;36m<module>\u001b[1;34m\u001b[0m\n\u001b[0;32m      1\u001b[0m \u001b[1;31m#Try indexing a set\u001b[0m\u001b[1;33m\u001b[0m\u001b[1;33m\u001b[0m\u001b[1;33m\u001b[0m\u001b[0m\n\u001b[1;32m----> 2\u001b[1;33m \u001b[1;33m{\u001b[0m\u001b[1;36m1\u001b[0m\u001b[1;33m,\u001b[0m\u001b[1;36m2\u001b[0m\u001b[1;33m}\u001b[0m\u001b[1;33m[\u001b[0m\u001b[1;36m1\u001b[0m\u001b[1;33m]\u001b[0m\u001b[1;33m\u001b[0m\u001b[1;33m\u001b[0m\u001b[0m\n\u001b[0m",
      "\u001b[1;31mTypeError\u001b[0m: 'set' object is not subscriptable"
     ]
    }
   ],
   "source": [
    "#Try indexing a set\n",
    "{1,2}[1]"
   ]
  },
  {
   "cell_type": "markdown",
   "metadata": {
    "colab_type": "text",
    "id": "RcG5A63yTRBK"
   },
   "source": [
    "Sets do not support indexing . So, indexing a set is not possible "
   ]
  },
  {
   "cell_type": "code",
   "execution_count": null,
   "metadata": {
    "colab": {},
    "colab_type": "code",
    "collapsed": true,
    "id": "F1XsWMd9TRBK"
   },
   "outputs": [],
   "source": []
  },
  {
   "cell_type": "markdown",
   "metadata": {
    "colab_type": "text",
    "id": "MjFG4w-wTRBN"
   },
   "source": [
    "### COMMON SET OPERATIONS - union(), intersection() and difference()"
   ]
  },
  {
   "cell_type": "code",
   "execution_count": 37,
   "metadata": {
    "colab": {},
    "colab_type": "code",
    "id": "pAb3kWxOTRBN",
    "outputId": "98a6eac3-37a0-4b03-e76c-c41f681fdbae"
   },
   "outputs": [
    {
     "data": {
      "text/plain": [
       "{2, 4, 5, 9, 11, 12}"
      ]
     },
     "execution_count": 37,
     "metadata": {},
     "output_type": "execute_result"
    }
   ],
   "source": [
    "a = {2, 4, 5, 9}\n",
    "b = {2, 4, 11, 12}\n",
    "a.union(b) # Values which exist in a or b\n",
    "   "
   ]
  },
  {
   "cell_type": "code",
   "execution_count": null,
   "metadata": {
    "colab": {},
    "colab_type": "code",
    "id": "FkARdQa7TRBP",
    "outputId": "3c073608-4b48-4d17-cc2e-198907405cd8"
   },
   "outputs": [
    {
     "data": {
      "text/plain": [
       "{2, 4}"
      ]
     },
     "execution_count": 22,
     "metadata": {
      "tags": []
     },
     "output_type": "execute_result"
    }
   ],
   "source": [
    "a.intersection(b) # Values which exist in a and b"
   ]
  },
  {
   "cell_type": "code",
   "execution_count": 39,
   "metadata": {},
   "outputs": [
    {
     "data": {
      "text/plain": [
       "({5, 9}, {11, 12})"
      ]
     },
     "execution_count": 39,
     "metadata": {},
     "output_type": "execute_result"
    }
   ],
   "source": [
    "a-b,b-a"
   ]
  },
  {
   "cell_type": "code",
   "execution_count": null,
   "metadata": {
    "colab": {},
    "colab_type": "code",
    "id": "dmMHiEzOTRBR",
    "outputId": "8838d6d7-75b3-4ff6-f516-7dc93c9987af"
   },
   "outputs": [
    {
     "data": {
      "text/plain": [
       "{5, 9}"
      ]
     },
     "execution_count": 23,
     "metadata": {
      "tags": []
     },
     "output_type": "execute_result"
    }
   ],
   "source": [
    "a.difference(b) # Values which exist in a but not in b"
   ]
  },
  {
   "cell_type": "markdown",
   "metadata": {
    "colab_type": "text",
    "id": "-sUjisFqTRBT"
   },
   "source": [
    "      \n",
    "\n",
    "union() and intersection() are symmetric methods i.e. to say,"
   ]
  },
  {
   "cell_type": "markdown",
   "metadata": {
    "colab_type": "text",
    "id": "9IjaK6K5TRBT"
   },
   "source": [
    "        a.union(b) == b.union(a)\n",
    "        True\n",
    "        a.intersection(b) == b.intersection(a)\n",
    "        True\n",
    "        a.difference(b) == b.difference(a)\n",
    "        False\n",
    "\n",
    "These other built-in data structures in Python are also useful."
   ]
  },
  {
   "cell_type": "markdown",
   "metadata": {
    "colab_type": "raw",
    "id": "4AhMLwJXTRBU"
   },
   "source": [
    "Other set operations \n",
    "Method \tDescription\n",
    "add() \tAdd an element to a set\n",
    "clear() \tRemove all elements form a set\n",
    "copy() \tReturn a shallow copy of a set\n",
    "difference() \tReturn the difference of two or more sets as a new set\n",
    "difference_update() \tRemove all elements of another set from this set\n",
    "discard() \tRemove an element from set if it is a member. (Do nothing if the element is not in set)\n",
    "intersection() \tReturn the intersection of two sets as a new set\n",
    "intersection_update() \tUpdate the set with the intersection of itself and another\n",
    "isdisjoint() \tReturn True if two sets have a null intersection\n",
    "issubset() \tReturn True if another set contains this set\n",
    "issuperset() \tReturn True if this set contains another set\n",
    "pop() \tRemove and return an arbitary set element. Raise KeyError if the set is empty\n",
    "remove() \tRemove an element from a set. If the element is not a member, raise a KeyError\n",
    "symmetric_difference() \tReturn the symmetric difference of two sets as a new set\n",
    "symmetric_difference_update() \tUpdate a set with the symmetric difference of itself and another\n",
    "union() \tReturn the union of sets in a new set\n",
    "update() \tUpdate a set with the union of itself and others\n"
   ]
  },
  {
   "cell_type": "markdown",
   "metadata": {
    "colab_type": "text",
    "id": "ObY396JFTRBU"
   },
   "source": [
    "### Check if an element is present in a set or not "
   ]
  },
  {
   "cell_type": "code",
   "execution_count": 41,
   "metadata": {
    "colab": {},
    "colab_type": "code",
    "id": "Fk1mwCYETRBU",
    "outputId": "af545b4c-f340-4f14-a3db-3f60289d7e30"
   },
   "outputs": [
    {
     "data": {
      "text/plain": [
       "{'a', 'e', 'l', 'p'}"
      ]
     },
     "execution_count": 41,
     "metadata": {},
     "output_type": "execute_result"
    }
   ],
   "source": [
    "# initialize my_set\n",
    "my_set = set(\"apple\")\n",
    "my_set"
   ]
  },
  {
   "cell_type": "code",
   "execution_count": 44,
   "metadata": {
    "colab": {},
    "colab_type": "code",
    "id": "Fk1mwCYETRBU",
    "outputId": "af545b4c-f340-4f14-a3db-3f60289d7e30"
   },
   "outputs": [
    {
     "name": "stdout",
     "output_type": "stream",
     "text": [
      "True\n",
      "False\n"
     ]
    }
   ],
   "source": [
    "# check if 'a' is present\n",
    "print('a' in my_set)\n",
    "\n",
    "# check if 'p' is present\n",
    "print('p' not in my_set)"
   ]
  },
  {
   "cell_type": "markdown",
   "metadata": {
    "colab_type": "raw",
    "id": "e-i5UhdMTRBW"
   },
   "source": [
    "Built in functions for set \n",
    "all() \tReturn True if all elements of the set are true (or if the set is empty).\n",
    "any() \tReturn True if any element of the set is true. If the set is empty, return False.\n",
    "enumerate() \tReturn an enumerate object. It contains the index and value of all the items of set as a pair.\n",
    "len() \tReturn the length (the number of items) in the set.\n",
    "max() \tReturn the largest item in the set.\n",
    "min() \tReturn the smallest item in the set.\n",
    "sorted() \tReturn a new sorted list from elements in the set(does not sort the set itself).\n",
    "sum() \tRetrun the sum of all elements in the set."
   ]
  },
  {
   "cell_type": "markdown",
   "metadata": {
    "colab_type": "text",
    "id": "5KNL2nYTTRBX"
   },
   "source": [
    "Frozenset is a new class that has the characteristics of a set, but its elements cannot be changed once assigned. While tuples are immutable lists, frozensets are immutable sets.\n",
    "\n",
    "Sets being mutable are unhashable, so they can't be used as dictionary keys. On the other hand, frozensets are hashable and can be used as keys to a dictionary.\n",
    "\n",
    "Frozensets can be created using the function frozenset()."
   ]
  },
  {
   "cell_type": "code",
   "execution_count": 54,
   "metadata": {
    "colab": {},
    "colab_type": "code",
    "id": "VvsboVs6TRBX"
   },
   "outputs": [],
   "source": [
    "# initialize A and B\n",
    "A = frozenset([1, 2, 3, 4])\n",
    "B = frozenset([5,6,3,4])"
   ]
  },
  {
   "cell_type": "code",
   "execution_count": 55,
   "metadata": {},
   "outputs": [
    {
     "data": {
      "text/plain": [
       "frozenset({1, 2, 3, 4})"
      ]
     },
     "execution_count": 55,
     "metadata": {},
     "output_type": "execute_result"
    }
   ],
   "source": [
    "A"
   ]
  },
  {
   "cell_type": "code",
   "execution_count": 56,
   "metadata": {
    "colab": {},
    "colab_type": "code",
    "id": "Cx5OVy1lTRBa",
    "outputId": "2b25a70c-a21c-4d3f-b68e-0c9008073624"
   },
   "outputs": [
    {
     "name": "stdout",
     "output_type": "stream",
     "text": [
      "False\n",
      "frozenset({1, 2})\n",
      "frozenset({1, 2, 3, 4, 5, 6})\n"
     ]
    }
   ],
   "source": [
    "print (A.isdisjoint(B)) \n",
    "\n",
    "print (A.difference(B))\n",
    "print  (A | B)\n"
   ]
  },
  {
   "cell_type": "code",
   "execution_count": 57,
   "metadata": {
    "colab": {},
    "colab_type": "code",
    "id": "F7gLjZv5TRBd",
    "outputId": "01b80d5e-686f-4d4c-cb37-15cf4c1d8362"
   },
   "outputs": [
    {
     "ename": "AttributeError",
     "evalue": "'frozenset' object has no attribute 'add'",
     "output_type": "error",
     "traceback": [
      "\u001b[1;31m---------------------------------------------------------------------------\u001b[0m",
      "\u001b[1;31mAttributeError\u001b[0m                            Traceback (most recent call last)",
      "\u001b[1;32m<ipython-input-57-48ba83096232>\u001b[0m in \u001b[0;36m<module>\u001b[1;34m\u001b[0m\n\u001b[1;32m----> 1\u001b[1;33m \u001b[0mA\u001b[0m\u001b[1;33m.\u001b[0m\u001b[0madd\u001b[0m\u001b[1;33m(\u001b[0m\u001b[1;36m3\u001b[0m\u001b[1;33m)\u001b[0m \u001b[1;31m#since it is immutable cannot add any elements\u001b[0m\u001b[1;33m\u001b[0m\u001b[1;33m\u001b[0m\u001b[0m\n\u001b[0m",
      "\u001b[1;31mAttributeError\u001b[0m: 'frozenset' object has no attribute 'add'"
     ]
    }
   ],
   "source": [
    " A.add(3) #since it is immutable cannot add any elements "
   ]
  },
  {
   "cell_type": "markdown",
   "metadata": {
    "colab_type": "text",
    "id": "WZTRYdZtTRBf"
   },
   "source": [
    "TASK:\n",
    "\n",
    "\n",
    "You are given two set of integers M and N and you have to print their symmetric difference in ascending order. The first line of input contains value of M followed by M integers, then value of N followed by N integers. Symmetric difference between M and N mean those values which either exist in M or in N but not in both.\n",
    "\n",
    "Input Format\n",
    "\n",
    "Value of M followed by M integers, then value of N followed by N integers.\n",
    "\n",
    "Output Format\n",
    "\n",
    "Integers in ascending order, one per line.\n",
    "\n",
    "Sample Input\n",
    "\n",
    "4\n",
    "2 4 5 9\n",
    "4\n",
    "2 4 11 12\n",
    "\n",
    "Sample Output\n",
    "\n",
    "5\n",
    "9\n",
    "11\n",
    "12\n"
   ]
  },
  {
   "cell_type": "code",
   "execution_count": null,
   "metadata": {
    "colab": {},
    "colab_type": "code",
    "collapsed": true,
    "id": "l6pEYwk-TRBg"
   },
   "outputs": [],
   "source": []
  }
 ],
 "metadata": {
  "colab": {
   "name": "Sets.ipynb",
   "provenance": []
  },
  "kernelspec": {
   "display_name": "Python 3",
   "language": "python",
   "name": "python3"
  },
  "language_info": {
   "codemirror_mode": {
    "name": "ipython",
    "version": 3
   },
   "file_extension": ".py",
   "mimetype": "text/x-python",
   "name": "python",
   "nbconvert_exporter": "python",
   "pygments_lexer": "ipython3",
   "version": "3.8.3"
  }
 },
 "nbformat": 4,
 "nbformat_minor": 1
}
