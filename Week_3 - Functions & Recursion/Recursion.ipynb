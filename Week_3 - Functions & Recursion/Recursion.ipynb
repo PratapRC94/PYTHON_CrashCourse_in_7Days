{
 "cells": [
  {
   "cell_type": "markdown",
   "metadata": {
    "colab_type": "text",
    "id": "Sa_k6VjG2w_A"
   },
   "source": [
    "# Recursion"
   ]
  },
  {
   "cell_type": "markdown",
   "metadata": {
    "colab_type": "text",
    "id": "ivyU9aZo2w_B"
   },
   "source": [
    "### A function calling itself directly or indirectly until a given condition fails is recursive function"
   ]
  },
  {
   "cell_type": "markdown",
   "metadata": {
    "colab_type": "text",
    "id": "0HDLv0_42w_C"
   },
   "source": [
    "Recursion is a way of programming or coding a problem, in which a function calls itself one or more times in its body.\n",
    "Usually, it is returning the return value of this function call. If a function definition fulfils the condition of \n",
    "recursion, we call this function a recursive function.\n",
    "\n",
    "##Termination condition:\n",
    "A recursive function has to terminate to be used in a program. A recursive function terminates, \n",
    "if with every recursive call the solution of the problem is downsized and moves towards a base case.\n",
    "A base case is a case, where the problem can be solved without further recursion. \n",
    "A recursion can lead to an infinite loop, if the base case is not met in the calls.\n",
    "\n",
    "Example:\n",
    "4! = 4 * 3!\n",
    "\n",
    "3! = 3 * 2!\n",
    "\n",
    "2! = 2 * 1\n",
    "\n",
    "Replacing the calculated values gives us the following expression\n",
    "\n",
    "4! = 4 * 3 * 2 * 1"
   ]
  },
  {
   "cell_type": "markdown",
   "metadata": {
    "colab_type": "text",
    "id": "QOzGjJqy2w_C"
   },
   "source": [
    "### Let's learn recursion via examples:\n",
    "\n",
    "### Factorial of a given number"
   ]
  },
  {
   "cell_type": "code",
   "execution_count": 1,
   "metadata": {
    "colab": {
     "base_uri": "https://localhost:8080/",
     "height": 52
    },
    "colab_type": "code",
    "executionInfo": {
     "elapsed": 6982,
     "status": "ok",
     "timestamp": 1597926864970,
     "user": {
      "displayName": "alagammai S",
      "photoUrl": "https://lh3.googleusercontent.com/a-/AOh14GhZNT_NQ-aKH4tM8oHzZX5_0iAVygaciigkw-lJ=s64",
      "userId": "11707248983129845113"
     },
     "user_tz": -330
    },
    "id": "M1b1uhyR2w_D",
    "outputId": "b0e0a0dd-e2d4-4e3a-e5a5-717872a457b7"
   },
   "outputs": [
    {
     "name": "stdout",
     "output_type": "stream",
     "text": [
      "enter the number:3\n"
     ]
    },
    {
     "data": {
      "text/plain": [
       "6"
      ]
     },
     "execution_count": 1,
     "metadata": {
      "tags": []
     },
     "output_type": "execute_result"
    }
   ],
   "source": [
    "def factorial(n):\n",
    "    if n == 0:\n",
    "        return 1\n",
    "    else:\n",
    "        return n * factorial(n-1)\n",
    "    \n",
    "    \n",
    "factorial(int(input(\"enter the number:\")))"
   ]
  },
  {
   "cell_type": "code",
   "execution_count": null,
   "metadata": {},
   "outputs": [
    {
     "name": "stdout",
     "output_type": "stream",
     "text": [
      "enter the number:5\n"
     ]
    }
   ],
   "source": [
    "def factorial(n):\n",
    "    return n * factorial(n-1)\n",
    "    \n",
    "    \n",
    "factorial(int(input(\"enter the number:\")))"
   ]
  },
  {
   "cell_type": "code",
   "execution_count": null,
   "metadata": {
    "colab": {},
    "colab_type": "code",
    "id": "zMmBb6N33bBA"
   },
   "outputs": [],
   "source": [
    "3*fac(2) = 3*2*fact(1) = 3*2*1*fact(0) = 3*2*1*1"
   ]
  },
  {
   "cell_type": "markdown",
   "metadata": {
    "colab_type": "text",
    "id": "bCg4eoz62w_G"
   },
   "source": []
  },
  {
   "cell_type": "markdown",
   "metadata": {
    "colab_type": "text",
    "id": "X1-1L0no2w_H"
   },
   "source": [
    "### Find fibonacci series of a given length:"
   ]
  },
  {
   "cell_type": "markdown",
   "metadata": {
    "colab_type": "text",
    "id": "6RcrXooV2w_H"
   },
   "source": [
    "### Printing the series one by one"
   ]
  },
  {
   "cell_type": "code",
   "execution_count": 2,
   "metadata": {
    "ExecuteTime": {
     "end_time": "2019-06-14T09:49:20.578319Z",
     "start_time": "2019-06-14T09:49:20.563078Z"
    },
    "colab": {},
    "colab_type": "code",
    "executionInfo": {
     "elapsed": 1372,
     "status": "ok",
     "timestamp": 1597927043230,
     "user": {
      "displayName": "alagammai S",
      "photoUrl": "https://lh3.googleusercontent.com/a-/AOh14GhZNT_NQ-aKH4tM8oHzZX5_0iAVygaciigkw-lJ=s64",
      "userId": "11707248983129845113"
     },
     "user_tz": -330
    },
    "id": "Ljl34OTE2w_I"
   },
   "outputs": [],
   "source": [
    "def fibonacci(length):\n",
    "    if(length <= 1):\n",
    "        return length\n",
    "    else:\n",
    "        return (fibonacci(length-1) + fibonacci(length-2))"
   ]
  },
  {
   "cell_type": "code",
   "execution_count": 3,
   "metadata": {
    "ExecuteTime": {
     "end_time": "2019-06-14T09:50:13.159201Z",
     "start_time": "2019-06-14T09:50:11.855612Z"
    },
    "colab": {
     "base_uri": "https://localhost:8080/",
     "height": 139
    },
    "colab_type": "code",
    "executionInfo": {
     "elapsed": 4371,
     "status": "ok",
     "timestamp": 1597927066630,
     "user": {
      "displayName": "alagammai S",
      "photoUrl": "https://lh3.googleusercontent.com/a-/AOh14GhZNT_NQ-aKH4tM8oHzZX5_0iAVygaciigkw-lJ=s64",
      "userId": "11707248983129845113"
     },
     "user_tz": -330
    },
    "id": "elN6qEpb2w_K",
    "outputId": "bc780a3d-4dea-4025-d4df-c6c1fe1a229d"
   },
   "outputs": [
    {
     "name": "stdout",
     "output_type": "stream",
     "text": [
      "No.of elements:3\n",
      "Fibonacci sequence :\n",
      "0\n",
      "1\n",
      "1\n",
      "2\n",
      "3\n"
     ]
    }
   ],
   "source": [
    "length = int(input(\"No.of elements:\"))\n",
    "\n",
    "print(\"Fibonacci sequence :\")\n",
    "for var in range(0,length+2):\n",
    "    print(fibonacci(var))"
   ]
  },
  {
   "cell_type": "code",
   "execution_count": null,
   "metadata": {
    "colab": {},
    "colab_type": "code",
    "id": "2wVy3_sm4KjF"
   },
   "outputs": [],
   "source": [
    "[0,1,2,3,4]\n",
    "fib(1)+fib(0) = 1+0 = 1\n",
    "fib(2)+fib(1) = (fib(1)+fib(0))+(fib(0)+fib(-1)) = 1+0 = 1\n",
    "\n"
   ]
  },
  {
   "cell_type": "markdown",
   "metadata": {
    "colab_type": "text",
    "id": "bVIMn99R2w_N"
   },
   "source": [
    "### Printing a list of fibonacci series"
   ]
  },
  {
   "cell_type": "code",
   "execution_count": 4,
   "metadata": {
    "ExecuteTime": {
     "end_time": "2019-06-14T09:51:11.826229Z",
     "start_time": "2019-06-14T09:51:11.816941Z"
    },
    "colab": {},
    "colab_type": "code",
    "executionInfo": {
     "elapsed": 1623,
     "status": "ok",
     "timestamp": 1597927425147,
     "user": {
      "displayName": "alagammai S",
      "photoUrl": "https://lh3.googleusercontent.com/a-/AOh14GhZNT_NQ-aKH4tM8oHzZX5_0iAVygaciigkw-lJ=s64",
      "userId": "11707248983129845113"
     },
     "user_tz": -330
    },
    "id": "1IDOQpBi2w_O"
   },
   "outputs": [],
   "source": [
    "def fibonacci(length):\n",
    "    if(length <= 1):\n",
    "        return length\n",
    "    else:\n",
    "        return (fibonacci(length-1) + fibonacci(length-2))"
   ]
  },
  {
   "cell_type": "code",
   "execution_count": 5,
   "metadata": {
    "ExecuteTime": {
     "end_time": "2019-06-14T09:51:55.081999Z",
     "start_time": "2019-06-14T09:51:53.003831Z"
    },
    "colab": {
     "base_uri": "https://localhost:8080/",
     "height": 34
    },
    "colab_type": "code",
    "executionInfo": {
     "elapsed": 6677,
     "status": "ok",
     "timestamp": 1597927430215,
     "user": {
      "displayName": "alagammai S",
      "photoUrl": "https://lh3.googleusercontent.com/a-/AOh14GhZNT_NQ-aKH4tM8oHzZX5_0iAVygaciigkw-lJ=s64",
      "userId": "11707248983129845113"
     },
     "user_tz": -330
    },
    "id": "3wBx0lAy2w_U",
    "outputId": "5adf488a-5c05-4bf9-deaf-1bb3dcf49df6"
   },
   "outputs": [
    {
     "name": "stdout",
     "output_type": "stream",
     "text": [
      "No.of elements:3\n"
     ]
    }
   ],
   "source": [
    "length = int(input(\"No.of elements:\"))\n",
    "\n",
    "fibonacci_list = []\n",
    "\n",
    "for var in range(0,length+2):\n",
    "    fibonacci_list.append(fibonacci(var))"
   ]
  },
  {
   "cell_type": "code",
   "execution_count": 6,
   "metadata": {
    "ExecuteTime": {
     "end_time": "2019-06-14T09:51:56.633521Z",
     "start_time": "2019-06-14T09:51:56.625000Z"
    },
    "colab": {
     "base_uri": "https://localhost:8080/",
     "height": 52
    },
    "colab_type": "code",
    "executionInfo": {
     "elapsed": 1540,
     "status": "ok",
     "timestamp": 1597927437250,
     "user": {
      "displayName": "alagammai S",
      "photoUrl": "https://lh3.googleusercontent.com/a-/AOh14GhZNT_NQ-aKH4tM8oHzZX5_0iAVygaciigkw-lJ=s64",
      "userId": "11707248983129845113"
     },
     "user_tz": -330
    },
    "id": "Xxyg1b8f2w_X",
    "outputId": "122c6376-af0f-4ab0-9e4b-ffeb661f7561"
   },
   "outputs": [
    {
     "name": "stdout",
     "output_type": "stream",
     "text": [
      "Fibonacci sequence :\n",
      "[0, 1, 1, 2, 3]\n"
     ]
    }
   ],
   "source": [
    "print(\"Fibonacci sequence :\")\n",
    "print(fibonacci_list)"
   ]
  },
  {
   "cell_type": "code",
   "execution_count": null,
   "metadata": {
    "colab": {},
    "colab_type": "code",
    "id": "Oqlr8Cxk2w_a"
   },
   "outputs": [],
   "source": []
  }
 ],
 "metadata": {
  "colab": {
   "collapsed_sections": [],
   "name": "Recursion.ipynb",
   "provenance": []
  },
  "kernelspec": {
   "display_name": "Python 3",
   "language": "python",
   "name": "python3"
  },
  "language_info": {
   "codemirror_mode": {
    "name": "ipython",
    "version": 3
   },
   "file_extension": ".py",
   "mimetype": "text/x-python",
   "name": "python",
   "nbconvert_exporter": "python",
   "pygments_lexer": "ipython3",
   "version": "3.8.8"
  }
 },
 "nbformat": 4,
 "nbformat_minor": 1
}
