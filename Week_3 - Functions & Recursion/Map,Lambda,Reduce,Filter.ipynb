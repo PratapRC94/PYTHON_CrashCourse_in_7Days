{
 "cells": [
  {
   "cell_type": "markdown",
   "metadata": {
    "colab_type": "text",
    "id": "cE-8C1u82dlb"
   },
   "source": [
    "Python provides several functions which enable a functional approach to programming. These functions are all convenience features in that they can be written in Python fairly easily.\n",
    "\n",
    "\n",
    "\n",
    "\n",
    "Functional programming is all about expressions. We may say that the Functional programming is an expression oriented programming.\n",
    "\n",
    "Expression oriented functions of Python provides are:\n",
    "\n",
    "    lambda\n",
    "    map(aFunction, aSequence)\n",
    "    filter(aFunction, aSequence)\n",
    "    reduce(aFunction, aSequence)\n",
    "    list comprehension"
   ]
  },
  {
   "cell_type": "markdown",
   "metadata": {
    "colab_type": "text",
    "id": "pL6fMdn32dlc"
   },
   "source": [
    "## lambda\n",
    "\n",
    "#### it is similar to function definition.\n",
    "#### 'def' keyword is equivalent to 'lambda'\n",
    "#### variables passing inside () is equivalent to variables before ':' in lambda.\n",
    "#### return statement is explicitly specified by the return keyword along with the function output, but in lambda whatever is given \n",
    "#### after ':' is considered as the return statement (implicit)\n"
   ]
  },
  {
   "cell_type": "markdown",
   "metadata": {
    "colab_type": "text",
    "id": "-zIUcRQt2dld"
   },
   "source": [
    "### Common key points:\n",
    "##### both kind of function definition will have only one return statement (implicit as well as explicit) with one or more results together.\n",
    "##### default argument is possible in both"
   ]
  },
  {
   "cell_type": "code",
   "execution_count": 1,
   "metadata": {
    "colab": {},
    "colab_type": "code",
    "executionInfo": {
     "elapsed": 1266,
     "status": "ok",
     "timestamp": 1597927634082,
     "user": {
      "displayName": "alagammai S",
      "photoUrl": "https://lh3.googleusercontent.com/a-/AOh14GhZNT_NQ-aKH4tM8oHzZX5_0iAVygaciigkw-lJ=s64",
      "userId": "11707248983129845113"
     },
     "user_tz": -330
    },
    "id": "13c1XvVh2dle"
   },
   "outputs": [],
   "source": [
    "def a(x):\n",
    "    return (sum(x),len(x))"
   ]
  },
  {
   "cell_type": "code",
   "execution_count": 2,
   "metadata": {
    "colab": {
     "base_uri": "https://localhost:8080/",
     "height": 52
    },
    "colab_type": "code",
    "executionInfo": {
     "elapsed": 1160,
     "status": "ok",
     "timestamp": 1597927636347,
     "user": {
      "displayName": "alagammai S",
      "photoUrl": "https://lh3.googleusercontent.com/a-/AOh14GhZNT_NQ-aKH4tM8oHzZX5_0iAVygaciigkw-lJ=s64",
      "userId": "11707248983129845113"
     },
     "user_tz": -330
    },
    "id": "7jLlG8XC2dlh",
    "outputId": "d91558d9-fd08-4d11-d643-46a8c60fb591"
   },
   "outputs": [
    {
     "name": "stdout",
     "output_type": "stream",
     "text": [
      "(15, 3)\n",
      "(24, 3)\n"
     ]
    }
   ],
   "source": [
    "for i in ([4,5,6],[7,8,9]):\n",
    "    print(a(i))"
   ]
  },
  {
   "cell_type": "code",
   "execution_count": 6,
   "metadata": {
    "colab": {
     "base_uri": "https://localhost:8080/",
     "height": 52
    },
    "colab_type": "code",
    "executionInfo": {
     "elapsed": 1185,
     "status": "ok",
     "timestamp": 1597928025956,
     "user": {
      "displayName": "alagammai S",
      "photoUrl": "https://lh3.googleusercontent.com/a-/AOh14GhZNT_NQ-aKH4tM8oHzZX5_0iAVygaciigkw-lJ=s64",
      "userId": "11707248983129845113"
     },
     "user_tz": -330
    },
    "id": "k7u8mY267nYC",
    "outputId": "77a530f8-6040-4fca-b55b-bda597f5c5c5"
   },
   "outputs": [
    {
     "name": "stdout",
     "output_type": "stream",
     "text": [
      "\n"
     ]
    },
    {
     "data": {
      "text/plain": [
       "NoneType"
      ]
     },
     "execution_count": 6,
     "metadata": {
      "tags": []
     },
     "output_type": "execute_result"
    }
   ],
   "source": [
    "type(print())"
   ]
  },
  {
   "cell_type": "code",
   "execution_count": 4,
   "metadata": {
    "colab": {
     "base_uri": "https://localhost:8080/",
     "height": 86
    },
    "colab_type": "code",
    "executionInfo": {
     "elapsed": 1153,
     "status": "ok",
     "timestamp": 1597927945858,
     "user": {
      "displayName": "alagammai S",
      "photoUrl": "https://lh3.googleusercontent.com/a-/AOh14GhZNT_NQ-aKH4tM8oHzZX5_0iAVygaciigkw-lJ=s64",
      "userId": "11707248983129845113"
     },
     "user_tz": -330
    },
    "id": "4A-xxAqR7R7C",
    "outputId": "28febab5-72ca-4fcb-b3ad-df9d91d63e1c"
   },
   "outputs": [
    {
     "name": "stdout",
     "output_type": "stream",
     "text": [
      "[4, 5, 6]\n",
      "None\n",
      "[7, 8, 9]\n",
      "None\n"
     ]
    }
   ],
   "source": [
    "a = lambda x:print(x)\n",
    "for i in ([4,5,6],[7,8,9]):\n",
    "    print(a(i))"
   ]
  },
  {
   "cell_type": "code",
   "execution_count": 3,
   "metadata": {
    "colab": {
     "base_uri": "https://localhost:8080/",
     "height": 52
    },
    "colab_type": "code",
    "executionInfo": {
     "elapsed": 1046,
     "status": "ok",
     "timestamp": 1597927784638,
     "user": {
      "displayName": "alagammai S",
      "photoUrl": "https://lh3.googleusercontent.com/a-/AOh14GhZNT_NQ-aKH4tM8oHzZX5_0iAVygaciigkw-lJ=s64",
      "userId": "11707248983129845113"
     },
     "user_tz": -330
    },
    "id": "GIdIlOjZ2dll",
    "outputId": "b75a39dd-5857-472b-c83d-4b3e352f40e0"
   },
   "outputs": [
    {
     "name": "stdout",
     "output_type": "stream",
     "text": [
      "(15, 3)\n",
      "(24, 3)\n"
     ]
    }
   ],
   "source": [
    "a = lambda x:(sum(x),len(x))\n",
    "\n",
    "for i in ([4,5,6],[7,8,9]):\n",
    "    print(a(i))"
   ]
  },
  {
   "cell_type": "code",
   "execution_count": 1,
   "metadata": {
    "colab": {
     "base_uri": "https://localhost:8080/",
     "height": 34
    },
    "colab_type": "code",
    "executionInfo": {
     "elapsed": 1107,
     "status": "ok",
     "timestamp": 1597928457630,
     "user": {
      "displayName": "alagammai S",
      "photoUrl": "https://lh3.googleusercontent.com/a-/AOh14GhZNT_NQ-aKH4tM8oHzZX5_0iAVygaciigkw-lJ=s64",
      "userId": "11707248983129845113"
     },
     "user_tz": -330
    },
    "id": "5OPoKjKi8Q3V",
    "outputId": "dc5fd463-8395-4826-a8ca-fdf1b0630c7d"
   },
   "outputs": [
    {
     "data": {
      "text/plain": [
       "[int, int, str, tuple]"
      ]
     },
     "execution_count": 1,
     "metadata": {},
     "output_type": "execute_result"
    }
   ],
   "source": [
    "def var(x,lis):\n",
    "    for elem in x:\n",
    "        lis.append(type(elem))\n",
    "    return lis\n",
    "\n",
    "li = []\n",
    "var([1,2,'a',(1,2)],li)"
   ]
  },
  {
   "cell_type": "code",
   "execution_count": 11,
   "metadata": {
    "colab": {},
    "colab_type": "code",
    "executionInfo": {
     "elapsed": 1318,
     "status": "ok",
     "timestamp": 1597929095465,
     "user": {
      "displayName": "alagammai S",
      "photoUrl": "https://lh3.googleusercontent.com/a-/AOh14GhZNT_NQ-aKH4tM8oHzZX5_0iAVygaciigkw-lJ=s64",
      "userId": "11707248983129845113"
     },
     "user_tz": -330
    },
    "id": "TC-JAxUJ_p9B"
   },
   "outputs": [],
   "source": [
    "l = [9,0,8]\n",
    "l = l.append(10)\n",
    "l"
   ]
  },
  {
   "cell_type": "code",
   "execution_count": 12,
   "metadata": {
    "colab": {
     "base_uri": "https://localhost:8080/",
     "height": 34
    },
    "colab_type": "code",
    "executionInfo": {
     "elapsed": 878,
     "status": "ok",
     "timestamp": 1597929102886,
     "user": {
      "displayName": "alagammai S",
      "photoUrl": "https://lh3.googleusercontent.com/a-/AOh14GhZNT_NQ-aKH4tM8oHzZX5_0iAVygaciigkw-lJ=s64",
      "userId": "11707248983129845113"
     },
     "user_tz": -330
    },
    "id": "eAFGF85U_w7Y",
    "outputId": "e53521d1-dd54-4a46-8bb0-47887a2d78da"
   },
   "outputs": [
    {
     "data": {
      "text/plain": [
       "NoneType"
      ]
     },
     "execution_count": 12,
     "metadata": {
      "tags": []
     },
     "output_type": "execute_result"
    }
   ],
   "source": [
    "type(l)"
   ]
  },
  {
   "cell_type": "code",
   "execution_count": 10,
   "metadata": {
    "colab": {
     "base_uri": "https://localhost:8080/",
     "height": 86
    },
    "colab_type": "code",
    "executionInfo": {
     "elapsed": 1235,
     "status": "ok",
     "timestamp": 1597929006340,
     "user": {
      "displayName": "alagammai S",
      "photoUrl": "https://lh3.googleusercontent.com/a-/AOh14GhZNT_NQ-aKH4tM8oHzZX5_0iAVygaciigkw-lJ=s64",
      "userId": "11707248983129845113"
     },
     "user_tz": -330
    },
    "id": "maszmHBW9U8j",
    "outputId": "6cc09ce5-5fbb-42b6-d360-82e337c63b8d"
   },
   "outputs": [
    {
     "name": "stdout",
     "output_type": "stream",
     "text": [
      "None\n",
      "None\n",
      "None\n",
      "None\n"
     ]
    }
   ],
   "source": [
    "var = lambda x,lis:lis.append(type(x))\n",
    "lis = []\n",
    "for elem in [1,2,'a',(1,2)]:\n",
    "    print(var(elem,lis))\n",
    "\n",
    "# lis"
   ]
  },
  {
   "cell_type": "code",
   "execution_count": null,
   "metadata": {
    "colab": {},
    "colab_type": "code",
    "id": "Ykv2n_J82dln",
    "outputId": "125bb487-91a9-4e2b-f046-4da964d796ed"
   },
   "outputs": [
    {
     "data": {
      "text/plain": [
       "[int, int, str, tuple]"
      ]
     },
     "execution_count": 6,
     "metadata": {
      "tags": []
     },
     "output_type": "execute_result"
    }
   ],
   "source": [
    "l = [1,2,'a',(1,2)]\n",
    "typel = []\n",
    "for x in l:\n",
    "    typel.append(type(x))\n",
    "typel"
   ]
  },
  {
   "cell_type": "markdown",
   "metadata": {
    "colab_type": "text",
    "id": "ECcCBrUn2dlv"
   },
   "source": [
    "### Advantages of lambda:\n",
    "##### One liner - simple\n",
    "##### easily underwstandable\n",
    "\n",
    "### Disadvantages:\n",
    "#### Docstring cannot be included\n",
    "#### very long functionalaities cannot be included in lambda\n"
   ]
  },
  {
   "cell_type": "markdown",
   "metadata": {
    "colab_type": "text",
    "id": "aKV5GhCM2dlv"
   },
   "source": [
    "## map\n",
    "\n",
    "One of the common things we do with list and other sequences is applying an operation to each item and collect the result. For example, updating all the items in a list can be done easily with a for loop:"
   ]
  },
  {
   "cell_type": "code",
   "execution_count": 3,
   "metadata": {
    "colab": {},
    "colab_type": "code",
    "executionInfo": {
     "elapsed": 1073,
     "status": "ok",
     "timestamp": 1597929625449,
     "user": {
      "displayName": "alagammai S",
      "photoUrl": "https://lh3.googleusercontent.com/a-/AOh14GhZNT_NQ-aKH4tM8oHzZX5_0iAVygaciigkw-lJ=s64",
      "userId": "11707248983129845113"
     },
     "user_tz": -330
    },
    "id": "cRAITEv-A4xL"
   },
   "outputs": [],
   "source": [
    "fnSim = lambda x:len(x)"
   ]
  },
  {
   "cell_type": "code",
   "execution_count": 17,
   "metadata": {
    "colab": {
     "base_uri": "https://localhost:8080/",
     "height": 69
    },
    "colab_type": "code",
    "executionInfo": {
     "elapsed": 1049,
     "status": "ok",
     "timestamp": 1597929443874,
     "user": {
      "displayName": "alagammai S",
      "photoUrl": "https://lh3.googleusercontent.com/a-/AOh14GhZNT_NQ-aKH4tM8oHzZX5_0iAVygaciigkw-lJ=s64",
      "userId": "11707248983129845113"
     },
     "user_tz": -330
    },
    "id": "2EN6A7ryA-8s",
    "outputId": "15e829cf-d957-4912-f2fe-7a84ed6e9575"
   },
   "outputs": [
    {
     "name": "stdout",
     "output_type": "stream",
     "text": [
      "4\n",
      "9\n",
      "2\n"
     ]
    }
   ],
   "source": [
    "for elem in [[2,22,1,1],'jhgjhkhda',[90,4]]:\n",
    "  print(fnSim(elem))"
   ]
  },
  {
   "cell_type": "code",
   "execution_count": 4,
   "metadata": {
    "colab": {
     "base_uri": "https://localhost:8080/",
     "height": 69
    },
    "colab_type": "code",
    "executionInfo": {
     "elapsed": 1156,
     "status": "ok",
     "timestamp": 1597929799974,
     "user": {
      "displayName": "alagammai S",
      "photoUrl": "https://lh3.googleusercontent.com/a-/AOh14GhZNT_NQ-aKH4tM8oHzZX5_0iAVygaciigkw-lJ=s64",
      "userId": "11707248983129845113"
     },
     "user_tz": -330
    },
    "id": "-iIo43iwAryS",
    "outputId": "fb8662ce-d1a0-4cb9-c0bb-4b0cb83280e0"
   },
   "outputs": [
    {
     "name": "stdout",
     "output_type": "stream",
     "text": [
      "4\n",
      "9\n",
      "2\n"
     ]
    }
   ],
   "source": [
    "var = map(fnSim,[[2,22,1,1],'jhgjhkhda',[90,4]])\n",
    "for i in var:\n",
    "    print(i)"
   ]
  },
  {
   "cell_type": "code",
   "execution_count": 5,
   "metadata": {},
   "outputs": [
    {
     "data": {
      "text/plain": [
       "<map at 0x21cb8c0bbe0>"
      ]
     },
     "execution_count": 5,
     "metadata": {},
     "output_type": "execute_result"
    }
   ],
   "source": [
    "map(fnSim,[[2,22,1,1],'jhgjhkhda',[90,4]])"
   ]
  },
  {
   "cell_type": "code",
   "execution_count": 6,
   "metadata": {
    "colab": {
     "base_uri": "https://localhost:8080/",
     "height": 34
    },
    "colab_type": "code",
    "executionInfo": {
     "elapsed": 1362,
     "status": "ok",
     "timestamp": 1597929904298,
     "user": {
      "displayName": "alagammai S",
      "photoUrl": "https://lh3.googleusercontent.com/a-/AOh14GhZNT_NQ-aKH4tM8oHzZX5_0iAVygaciigkw-lJ=s64",
      "userId": "11707248983129845113"
     },
     "user_tz": -330
    },
    "id": "52US1fLPCz55",
    "outputId": "4bc14a5b-ba8c-4b5b-9f75-08e935437c56"
   },
   "outputs": [
    {
     "data": {
      "text/plain": [
       "[4, 9, 2]"
      ]
     },
     "execution_count": 6,
     "metadata": {},
     "output_type": "execute_result"
    }
   ],
   "source": [
    "list(map(fnSim,[[2,22,1,1],'jhgjhkhda',[90,4]]))"
   ]
  },
  {
   "cell_type": "code",
   "execution_count": 9,
   "metadata": {
    "colab": {
     "base_uri": "https://localhost:8080/",
     "height": 52
    },
    "colab_type": "code",
    "executionInfo": {
     "elapsed": 1168,
     "status": "ok",
     "timestamp": 1597929921680,
     "user": {
      "displayName": "alagammai S",
      "photoUrl": "https://lh3.googleusercontent.com/a-/AOh14GhZNT_NQ-aKH4tM8oHzZX5_0iAVygaciigkw-lJ=s64",
      "userId": "11707248983129845113"
     },
     "user_tz": -330
    },
    "id": "JeqFuMZY2dlw",
    "outputId": "978c731a-89c2-4737-b50d-0d4ecde06a9f"
   },
   "outputs": [
    {
     "name": "stdout",
     "output_type": "stream",
     "text": [
      "<map object at 0x0000021CB8C57F10>\n"
     ]
    },
    {
     "data": {
      "text/plain": [
       "[int, int, str, tuple]"
      ]
     },
     "execution_count": 9,
     "metadata": {},
     "output_type": "execute_result"
    }
   ],
   "source": [
    "f1 = lambda x : type(x)\n",
    "l = [1,2,'a',(1,2)]\n",
    "print(map(f1,l))\n",
    "(list(map(f1,l)))"
   ]
  },
  {
   "cell_type": "code",
   "execution_count": 27,
   "metadata": {
    "colab": {
     "base_uri": "https://localhost:8080/",
     "height": 34
    },
    "colab_type": "code",
    "executionInfo": {
     "elapsed": 1216,
     "status": "ok",
     "timestamp": 1597929942229,
     "user": {
      "displayName": "alagammai S",
      "photoUrl": "https://lh3.googleusercontent.com/a-/AOh14GhZNT_NQ-aKH4tM8oHzZX5_0iAVygaciigkw-lJ=s64",
      "userId": "11707248983129845113"
     },
     "user_tz": -330
    },
    "id": "chrHNmFs2dly",
    "outputId": "3e33b7e3-2612-4940-8ad0-f04c24b60904"
   },
   "outputs": [
    {
     "data": {
      "text/plain": [
       "(int, int, str, tuple)"
      ]
     },
     "execution_count": 27,
     "metadata": {
      "tags": []
     },
     "output_type": "execute_result"
    }
   ],
   "source": [
    "tuple(map(f1,l))"
   ]
  },
  {
   "cell_type": "markdown",
   "metadata": {
    "colab_type": "text",
    "id": "sNWTxxNJ2dl0"
   },
   "source": [
    "###### Practice 1\n",
    "\n",
    "###### list of integers ranging from 0 to 10 as input, return the square and cube of those numbers in a list of tuples"
   ]
  },
  {
   "cell_type": "code",
   "execution_count": 10,
   "metadata": {
    "colab": {
     "base_uri": "https://localhost:8080/",
     "height": 191
    },
    "colab_type": "code",
    "executionInfo": {
     "elapsed": 1056,
     "status": "ok",
     "timestamp": 1597930162187,
     "user": {
      "displayName": "alagammai S",
      "photoUrl": "https://lh3.googleusercontent.com/a-/AOh14GhZNT_NQ-aKH4tM8oHzZX5_0iAVygaciigkw-lJ=s64",
      "userId": "11707248983129845113"
     },
     "user_tz": -330
    },
    "id": "IvVBkf6UDMFs",
    "outputId": "6b60980b-e7c5-472a-80a9-04491d152bc0"
   },
   "outputs": [
    {
     "data": {
      "text/plain": [
       "[(0, 0),\n",
       " (1, 1),\n",
       " (4, 8),\n",
       " (9, 27),\n",
       " (16, 64),\n",
       " (25, 125),\n",
       " (36, 216),\n",
       " (49, 343),\n",
       " (64, 512),\n",
       " (81, 729)]"
      ]
     },
     "execution_count": 10,
     "metadata": {},
     "output_type": "execute_result"
    }
   ],
   "source": [
    "sample = lambda x:(x**2,x**3)\n",
    "list(map(sample,list(range(0,10))))"
   ]
  },
  {
   "cell_type": "code",
   "execution_count": 11,
   "metadata": {
    "collapsed": true
   },
   "outputs": [
    {
     "ename": "TypeError",
     "evalue": "unsupported operand type(s) for ** or pow(): 'list' and 'int'",
     "output_type": "error",
     "traceback": [
      "\u001b[1;31m---------------------------------------------------------------------------\u001b[0m",
      "\u001b[1;31mTypeError\u001b[0m                                 Traceback (most recent call last)",
      "\u001b[1;32m<ipython-input-11-b9660e98af07>\u001b[0m in \u001b[0;36m<module>\u001b[1;34m\u001b[0m\n\u001b[1;32m----> 1\u001b[1;33m \u001b[0msample\u001b[0m\u001b[1;33m(\u001b[0m\u001b[0mlist\u001b[0m\u001b[1;33m(\u001b[0m\u001b[0mrange\u001b[0m\u001b[1;33m(\u001b[0m\u001b[1;36m0\u001b[0m\u001b[1;33m,\u001b[0m\u001b[1;36m10\u001b[0m\u001b[1;33m)\u001b[0m\u001b[1;33m)\u001b[0m\u001b[1;33m)\u001b[0m\u001b[1;33m\u001b[0m\u001b[1;33m\u001b[0m\u001b[0m\n\u001b[0m",
      "\u001b[1;32m<ipython-input-10-b7fddf6c1b48>\u001b[0m in \u001b[0;36m<lambda>\u001b[1;34m(x)\u001b[0m\n\u001b[1;32m----> 1\u001b[1;33m \u001b[0msample\u001b[0m \u001b[1;33m=\u001b[0m \u001b[1;32mlambda\u001b[0m \u001b[0mx\u001b[0m\u001b[1;33m:\u001b[0m\u001b[1;33m(\u001b[0m\u001b[0mx\u001b[0m\u001b[1;33m**\u001b[0m\u001b[1;36m2\u001b[0m\u001b[1;33m,\u001b[0m\u001b[0mx\u001b[0m\u001b[1;33m**\u001b[0m\u001b[1;36m3\u001b[0m\u001b[1;33m)\u001b[0m\u001b[1;33m\u001b[0m\u001b[1;33m\u001b[0m\u001b[0m\n\u001b[0m\u001b[0;32m      2\u001b[0m \u001b[0mlist\u001b[0m\u001b[1;33m(\u001b[0m\u001b[0mmap\u001b[0m\u001b[1;33m(\u001b[0m\u001b[0msample\u001b[0m\u001b[1;33m,\u001b[0m\u001b[0mlist\u001b[0m\u001b[1;33m(\u001b[0m\u001b[0mrange\u001b[0m\u001b[1;33m(\u001b[0m\u001b[1;36m0\u001b[0m\u001b[1;33m,\u001b[0m\u001b[1;36m10\u001b[0m\u001b[1;33m)\u001b[0m\u001b[1;33m)\u001b[0m\u001b[1;33m)\u001b[0m\u001b[1;33m)\u001b[0m\u001b[1;33m\u001b[0m\u001b[1;33m\u001b[0m\u001b[0m\n",
      "\u001b[1;31mTypeError\u001b[0m: unsupported operand type(s) for ** or pow(): 'list' and 'int'"
     ]
    }
   ],
   "source": [
    "sample = lambda x:(x**2,x**3)\n",
    "sample([0,1,2,3,4,5,6,7,8,9])"
   ]
  },
  {
   "cell_type": "code",
   "execution_count": 19,
   "metadata": {
    "colab": {},
    "colab_type": "code",
    "id": "jQxFXvzs2dl0",
    "outputId": "ff8086b2-2b74-4f44-cd39-3993a5e10f72"
   },
   "outputs": [
    {
     "data": {
      "text/plain": [
       "[[0, 0],\n",
       " [1, 1],\n",
       " [4, 8],\n",
       " [9, 27],\n",
       " [16, 64],\n",
       " [25, 125],\n",
       " [36, 216],\n",
       " [49, 343],\n",
       " [64, 512],\n",
       " [81, 729]]"
      ]
     },
     "execution_count": 19,
     "metadata": {},
     "output_type": "execute_result"
    }
   ],
   "source": [
    "l1 = list(range(10))\n",
    "list(map(lambda x:[pow(x,2),pow(x,3)],l1))"
   ]
  },
  {
   "cell_type": "markdown",
   "metadata": {
    "colab_type": "text",
    "id": "BjhSuQL52dl3"
   },
   "source": [
    "#### zip([iterable, ...]) \n",
    "\n",
    "This function returns a list of tuples, where the i-th tuple contains the i-th element from each of the argument sequences or iterables.\n",
    "\n",
    "If argument sequences are of unequal lengths, then returned list is truncated in length to the length of the shortest argument sequence.\n",
    "\n"
   ]
  },
  {
   "cell_type": "code",
   "execution_count": 33,
   "metadata": {
    "colab": {
     "base_uri": "https://localhost:8080/",
     "height": 34
    },
    "colab_type": "code",
    "executionInfo": {
     "elapsed": 3060,
     "status": "ok",
     "timestamp": 1597930209205,
     "user": {
      "displayName": "alagammai S",
      "photoUrl": "https://lh3.googleusercontent.com/a-/AOh14GhZNT_NQ-aKH4tM8oHzZX5_0iAVygaciigkw-lJ=s64",
      "userId": "11707248983129845113"
     },
     "user_tz": -330
    },
    "id": "UCqAuPXG2dl3",
    "outputId": "635da392-e135-4647-a4b3-9550b140b11e"
   },
   "outputs": [
    {
     "data": {
      "text/plain": [
       "[(1, 1), (2, 4), (3, 9)]"
      ]
     },
     "execution_count": 33,
     "metadata": {
      "tags": []
     },
     "output_type": "execute_result"
    }
   ],
   "source": [
    "m = [1,2,3]\n",
    "n = [1,4,9]\n",
    "list(zip(m,n))"
   ]
  },
  {
   "cell_type": "code",
   "execution_count": 36,
   "metadata": {
    "colab": {
     "base_uri": "https://localhost:8080/",
     "height": 34
    },
    "colab_type": "code",
    "executionInfo": {
     "elapsed": 1138,
     "status": "ok",
     "timestamp": 1597930452019,
     "user": {
      "displayName": "alagammai S",
      "photoUrl": "https://lh3.googleusercontent.com/a-/AOh14GhZNT_NQ-aKH4tM8oHzZX5_0iAVygaciigkw-lJ=s64",
      "userId": "11707248983129845113"
     },
     "user_tz": -330
    },
    "id": "Tkwiax2hE5e8",
    "outputId": "1ad194e0-9c6a-473f-cdb9-0655b7e82bb7"
   },
   "outputs": [
    {
     "data": {
      "text/plain": [
       "[(2, 6, 8), (3, 7, 9)]"
      ]
     },
     "execution_count": 36,
     "metadata": {
      "tags": []
     },
     "output_type": "execute_result"
    }
   ],
   "source": [
    "list(zip([2,3,4],[6,7,8],[8,9,]))"
   ]
  },
  {
   "cell_type": "code",
   "execution_count": 2,
   "metadata": {
    "colab": {
     "base_uri": "https://localhost:8080/",
     "height": 34
    },
    "colab_type": "code",
    "executionInfo": {
     "elapsed": 1144,
     "status": "ok",
     "timestamp": 1597930726217,
     "user": {
      "displayName": "alagammai S",
      "photoUrl": "https://lh3.googleusercontent.com/a-/AOh14GhZNT_NQ-aKH4tM8oHzZX5_0iAVygaciigkw-lJ=s64",
      "userId": "11707248983129845113"
     },
     "user_tz": -330
    },
    "id": "2SBBDEQREKy5",
    "outputId": "fd871994-eb6f-4d48-d22a-02ebb0c58146"
   },
   "outputs": [
    {
     "data": {
      "text/plain": [
       "[(50, 20), (66, 30)]"
      ]
     },
     "execution_count": 2,
     "metadata": {},
     "output_type": "execute_result"
    }
   ],
   "source": [
    "list(map(lambda x,y,z:(x+y*z,x*y+z),(2,3,4),(6,7,8),(8,9,)))"
   ]
  },
  {
   "cell_type": "code",
   "execution_count": null,
   "metadata": {},
   "outputs": [],
   "source": [
    ",[6,7,8],[8,9,"
   ]
  },
  {
   "cell_type": "code",
   "execution_count": null,
   "metadata": {},
   "outputs": [],
   "source": [
    "l1 = [[2,6,8],[3,7,9]]\n",
    "for i in l1:\n",
    "    i[0]+i[1]*i[2] , i[0]*i[1]+i[2]"
   ]
  },
  {
   "cell_type": "code",
   "execution_count": null,
   "metadata": {},
   "outputs": [],
   "source": [
    "[2,6,8]\n",
    "x y z\n",
    "2 + 6*8 = 50\n",
    "2*6 +8 = 20\n",
    "\n",
    "[3,7,9]\n",
    "3 + 7*9 = 66\n",
    "3*7 +9 = 30"
   ]
  },
  {
   "cell_type": "code",
   "execution_count": 3,
   "metadata": {
    "colab": {},
    "colab_type": "code",
    "id": "Cc8ZDzlz2dl6",
    "outputId": "bde6c2c8-9cd5-477e-f001-3928944f998a"
   },
   "outputs": [
    {
     "data": {
      "text/plain": [
       "[(2, 6, 8), (3, 7, 9)]"
      ]
     },
     "execution_count": 3,
     "metadata": {},
     "output_type": "execute_result"
    }
   ],
   "source": [
    "def f1(x,y,z=1):\n",
    "    return (x+y*z,x*y+z)\n",
    "list(zip([2,3,4],[6,7,8],[8,9,]))"
   ]
  },
  {
   "cell_type": "code",
   "execution_count": 4,
   "metadata": {},
   "outputs": [
    {
     "data": {
      "text/plain": [
       "(2, 2)"
      ]
     },
     "execution_count": 4,
     "metadata": {},
     "output_type": "execute_result"
    }
   ],
   "source": [
    "f1(1,1)"
   ]
  },
  {
   "cell_type": "code",
   "execution_count": null,
   "metadata": {
    "colab": {},
    "colab_type": "code",
    "id": "yCdOxy0d2dl8",
    "outputId": "ced20bfe-a43a-4653-fca9-dca151d49196"
   },
   "outputs": [
    {
     "data": {
      "text/plain": [
       "[(1, 'H'), (2, 'a'), (3, 'c'), (4, 'k'), (5, 'e')]"
      ]
     },
     "execution_count": 63,
     "metadata": {
      "tags": []
     },
     "output_type": "execute_result"
    }
   ],
   "source": [
    "list(zip([1,2,3,4,5,6],'Hacke'))"
   ]
  },
  {
   "cell_type": "code",
   "execution_count": null,
   "metadata": {
    "colab": {},
    "colab_type": "code",
    "id": "z8lC8Qo42dl-",
    "outputId": "4d66936f-307a-455a-88f6-97b45cdbfb10"
   },
   "outputs": [
    {
     "data": {
      "text/plain": [
       "[(1, 0), (2, 9), (3, 8), (4, 7), (5, 6), (7, 5), (6, 4)]"
      ]
     },
     "execution_count": 104,
     "metadata": {
      "tags": []
     },
     "output_type": "execute_result"
    }
   ],
   "source": [
    "l1 = list(zip([1,2,3,4,5,7,6],[0,9,8,7,6,5,4,3,2,1,2]))\n",
    "l1"
   ]
  },
  {
   "cell_type": "code",
   "execution_count": null,
   "metadata": {
    "colab": {},
    "colab_type": "code",
    "id": "jKSMgFC02dmD",
    "outputId": "292fadc0-9181-4018-efa5-557008d1e883"
   },
   "outputs": [
    {
     "data": {
      "text/plain": [
       "{1: 0, 2: 9, 3: 8, 4: 7, 5: 6, 6: 4, 7: 5}"
      ]
     },
     "execution_count": 105,
     "metadata": {
      "tags": []
     },
     "output_type": "execute_result"
    }
   ],
   "source": [
    "dict(l1)"
   ]
  },
  {
   "cell_type": "code",
   "execution_count": null,
   "metadata": {
    "colab": {},
    "colab_type": "code",
    "id": "exhCMmxCD6p1"
   },
   "outputs": [],
   "source": []
  },
  {
   "cell_type": "markdown",
   "metadata": {
    "colab_type": "text",
    "id": "dCe5oJnL2dmG"
   },
   "source": [
    "## Other Built In functions"
   ]
  },
  {
   "cell_type": "code",
   "execution_count": null,
   "metadata": {
    "colab": {},
    "colab_type": "code",
    "id": "hAd2h75E2dmG",
    "outputId": "6bec32cc-7f31-49ef-d6c0-87a8ce692024"
   },
   "outputs": [
    {
     "data": {
      "text/plain": [
       "97"
      ]
     },
     "execution_count": 57,
     "metadata": {
      "tags": []
     },
     "output_type": "execute_result"
    }
   ],
   "source": [
    "sum([9,7,81])"
   ]
  },
  {
   "cell_type": "code",
   "execution_count": null,
   "metadata": {
    "colab": {},
    "colab_type": "code",
    "id": "0OUbP5es2dmI",
    "outputId": "1e28f2d2-70e4-4252-cc7b-c4112339e32f"
   },
   "outputs": [
    {
     "name": "stdout",
     "output_type": "stream",
     "text": [
      "119\n"
     ]
    },
    {
     "data": {
      "text/plain": [
       "127"
      ]
     },
     "execution_count": 60,
     "metadata": {
      "tags": []
     },
     "output_type": "execute_result"
    }
   ],
   "source": [
    "print(sum([2,31,77,9]))\n",
    "sum([2,2,2,2])+119"
   ]
  },
  {
   "cell_type": "code",
   "execution_count": null,
   "metadata": {
    "colab": {},
    "colab_type": "code",
    "id": "Xk5Cj9Tb2dmL",
    "outputId": "b47d8be6-475a-43a9-844c-9a733e0476cc"
   },
   "outputs": [
    {
     "data": {
      "text/plain": [
       "[7, 9, 81]"
      ]
     },
     "execution_count": 58,
     "metadata": {
      "tags": []
     },
     "output_type": "execute_result"
    }
   ],
   "source": [
    "sorted([9,7,81])"
   ]
  },
  {
   "cell_type": "code",
   "execution_count": null,
   "metadata": {
    "colab": {},
    "colab_type": "code",
    "id": "Z9MYNV0A2dmN",
    "outputId": "b5569219-6bcc-4db7-e9b4-e186e8945aff"
   },
   "outputs": [
    {
     "data": {
      "text/plain": [
       "243"
      ]
     },
     "execution_count": 16,
     "metadata": {
      "tags": []
     },
     "output_type": "execute_result"
    }
   ],
   "source": [
    "pow(3,5) #Mathematical power function . Returns 3^5"
   ]
  },
  {
   "cell_type": "markdown",
   "metadata": {
    "colab_type": "text",
    "id": "WYdlNwha2dmP"
   },
   "source": [
    "#### find the 10th power of 2, 11th power of 3 and goes on from the lists as follows: [2, 3, 4], [10, 11, 12] "
   ]
  },
  {
   "cell_type": "code",
   "execution_count": null,
   "metadata": {
    "colab": {},
    "colab_type": "code",
    "collapsed": true,
    "id": "jFqXl_pd2dmP"
   },
   "outputs": [],
   "source": [
    "list(map(pow,)) #Maps the pow function with both the elements of the list \n",
    "#Returns pow(2,10), pow(3,11), pow(4,12)"
   ]
  },
  {
   "cell_type": "code",
   "execution_count": null,
   "metadata": {
    "colab": {},
    "colab_type": "code",
    "id": "Tn0i8jxw2dmR",
    "outputId": "f82fa44a-7c51-4be8-c718-f46e82c9a072"
   },
   "outputs": [
    {
     "name": "stdout",
     "output_type": "stream",
     "text": [
      "range(0, 3)\n"
     ]
    },
    {
     "data": {
      "text/plain": [
       "[0, 1, 2]"
      ]
     },
     "execution_count": 54,
     "metadata": {
      "tags": []
     },
     "output_type": "execute_result"
    }
   ],
   "source": [
    "print(range(3))\n",
    "list(range(3))"
   ]
  },
  {
   "cell_type": "code",
   "execution_count": null,
   "metadata": {
    "colab": {},
    "colab_type": "code",
    "id": "4zDBgrH22dmT",
    "outputId": "37a8b303-f9dd-4faf-f0ca-68bfe466f038"
   },
   "outputs": [
    {
     "data": {
      "text/plain": [
       "' '"
      ]
     },
     "execution_count": 74,
     "metadata": {
      "tags": []
     },
     "output_type": "execute_result"
    }
   ],
   "source": [
    "p=' '\n",
    "p.join()"
   ]
  },
  {
   "cell_type": "markdown",
   "metadata": {
    "colab_type": "text",
    "id": "PWFe14J-2dmU"
   },
   "source": [
    "## filter and reduce\n",
    "\n",
    "As the name suggests filter extracts each element in the sequence for which the function returns True. The reduce function is a little less obvious in its intent. This function reduces a list to a single value by combining elements via a supplied function. The map function is the simplest one among Python built-ins used for functional programming.\n",
    "\n",
    "These tools apply functions to sequences and other iterables. The filter filters out items based on a test function which is a filter and apply functions to pairs of item and running result which is reduce.\n",
    "\n",
    "Because they return iterables, range and filter both require list calls to display all their results in Python 3.0.\n",
    "\n",
    "As an example, the following filter call picks out items in a sequence that are less than zero:"
   ]
  },
  {
   "cell_type": "code",
   "execution_count": null,
   "metadata": {
    "colab": {},
    "colab_type": "code",
    "id": "mcLQcLmg2dmV",
    "outputId": "8651251c-0d74-4592-8e4b-8e5808334e22"
   },
   "outputs": [
    {
     "data": {
      "text/plain": [
       "[-5, -4, -3, -2, -1, 0, 1, 2, 3, 4]"
      ]
     },
     "execution_count": 15,
     "metadata": {
      "tags": []
     },
     "output_type": "execute_result"
    }
   ],
   "source": [
    "list(range(-5,5))"
   ]
  },
  {
   "cell_type": "code",
   "execution_count": 12,
   "metadata": {
    "colab": {},
    "colab_type": "code",
    "id": "A5sXA3pl2dmW"
   },
   "outputs": [
    {
     "data": {
      "text/plain": [
       "[-5, -4, -3, -2, -1]"
      ]
     },
     "execution_count": 12,
     "metadata": {},
     "output_type": "execute_result"
    }
   ],
   "source": [
    "result = []\n",
    "for x in range(-5, 5):\n",
    "    if x < 0:\n",
    "        result.append(x)\n",
    "\n",
    "result"
   ]
  },
  {
   "cell_type": "code",
   "execution_count": 13,
   "metadata": {
    "colab": {},
    "colab_type": "code",
    "id": "eEgV1nkD2dmZ",
    "outputId": "e91ccd44-bb17-4575-d9a0-f14d7301ef73"
   },
   "outputs": [
    {
     "data": {
      "text/plain": [
       "[-5, -4, -3, -2, -1]"
      ]
     },
     "execution_count": 13,
     "metadata": {},
     "output_type": "execute_result"
    }
   ],
   "source": [
    "list( filter((lambda x: x < 0), range(-5,5)))"
   ]
  },
  {
   "cell_type": "code",
   "execution_count": 14,
   "metadata": {
    "colab": {},
    "colab_type": "code",
    "id": "RTbkwv6M2dmb",
    "outputId": "cbb912cc-9b55-4d7d-fb71-920132fac869"
   },
   "outputs": [
    {
     "data": {
      "text/plain": [
       "[True, True, True, True, True, False, False, False, False, False]"
      ]
     },
     "execution_count": 14,
     "metadata": {},
     "output_type": "execute_result"
    }
   ],
   "source": [
    "list( map((lambda x: x < 0), range(-5,5))) #Filters out elements lesser than zero"
   ]
  },
  {
   "cell_type": "markdown",
   "metadata": {
    "colab_type": "text",
    "id": "GNSU0N4T2dmd"
   },
   "source": [
    "#### from this list [None,99,None,676,2,'jkshhf'], get [99, 676, 2, 'jkshhf']"
   ]
  },
  {
   "cell_type": "code",
   "execution_count": null,
   "metadata": {
    "colab": {},
    "colab_type": "code",
    "id": "tjdN9_3-2dmd",
    "outputId": "e1fd4da8-b1db-40f8-86c3-8bca2ea1238d"
   },
   "outputs": [
    {
     "data": {
      "text/plain": [
       "[99, 676, 2, 'jkshhf']"
      ]
     },
     "execution_count": 90,
     "metadata": {
      "tags": []
     },
     "output_type": "execute_result"
    }
   ],
   "source": [
    "list(filter(None,[None,99,None,676,2,'jkshhf']))"
   ]
  },
  {
   "cell_type": "markdown",
   "metadata": {
    "colab_type": "text",
    "id": "dV4rj8c-2dmf"
   },
   "source": [
    "## Reduce\n",
    "\n",
    "##### As name says it reduces to a single solution iterating through any iterable"
   ]
  },
  {
   "cell_type": "markdown",
   "metadata": {
    "colab_type": "text",
    "id": "kggMi2p52dmg"
   },
   "source": [
    "At each step, reduce passes the current product or division, along with the next item from the list, \n",
    "to the passed-in lambda function. By default, the first item in the sequence initialized the starting value.\n",
    "\n",
    "Here's the for loop version of the first of these calls, with the multiplication hardcoded inside the loop:"
   ]
  },
  {
   "cell_type": "code",
   "execution_count": 15,
   "metadata": {
    "colab": {},
    "colab_type": "code",
    "id": "UZ327_342dmg",
    "outputId": "46b01561-d04b-4911-b8a8-eba3de8da141"
   },
   "outputs": [
    {
     "data": {
      "text/plain": [
       "24"
      ]
     },
     "execution_count": 15,
     "metadata": {},
     "output_type": "execute_result"
    }
   ],
   "source": [
    "def myreduce(fnc, seq):\n",
    "    tally = seq[0]\n",
    "    for next in seq[1:]:\n",
    "        tally = fnc(tally, next) #The value of tally keeps changing as \n",
    "                        #the next element comes and the function is applied recursively  \n",
    "    return tally\n",
    "myreduce( (lambda x, y: x * y), [1, 2, 3, 4])"
   ]
  },
  {
   "cell_type": "code",
   "execution_count": null,
   "metadata": {
    "colab": {},
    "colab_type": "code",
    "id": "NkMxC40H2dmh",
    "outputId": "1f8e5b86-8401-40d7-bf4e-808455037c58"
   },
   "outputs": [
    {
     "data": {
      "text/plain": [
       "0.041666666666666664"
      ]
     },
     "execution_count": 94,
     "metadata": {
      "tags": []
     },
     "output_type": "execute_result"
    }
   ],
   "source": [
    "myreduce( (lambda x, y: x / float(y)), [1, 2, 3, 4])"
   ]
  },
  {
   "cell_type": "code",
   "execution_count": null,
   "metadata": {
    "colab": {},
    "colab_type": "code",
    "id": "SPTlSMO12dmk",
    "outputId": "5a886470-a315-4ce8-b892-d53b51b205ac"
   },
   "outputs": [
    {
     "data": {
      "text/plain": [
       "24"
      ]
     },
     "execution_count": 95,
     "metadata": {
      "tags": []
     },
     "output_type": "execute_result"
    }
   ],
   "source": [
    "from functools import reduce\n",
    "reduce((lambda x, y: x * y), [1, 2, 3, 4]) #Returns product of all the elements in the list "
   ]
  },
  {
   "cell_type": "code",
   "execution_count": null,
   "metadata": {
    "colab": {},
    "colab_type": "code",
    "id": "h0iTkIGw2dml",
    "outputId": "83e467da-27d5-49d0-b084-b325ade0410e"
   },
   "outputs": [
    {
     "data": {
      "text/plain": [
       "0.5"
      ]
     },
     "execution_count": 112,
     "metadata": {
      "tags": []
     },
     "output_type": "execute_result"
    }
   ],
   "source": [
    "1/2"
   ]
  },
  {
   "cell_type": "code",
   "execution_count": null,
   "metadata": {
    "colab": {},
    "colab_type": "code",
    "id": "S3WW2LUY2dmn",
    "outputId": "ccb1fcd2-e85a-44f7-f27b-d0c154ec1833"
   },
   "outputs": [
    {
     "data": {
      "text/plain": [
       "0.04167"
      ]
     },
     "execution_count": 114,
     "metadata": {
      "tags": []
     },
     "output_type": "execute_result"
    }
   ],
   "source": [
    "round(reduce( (lambda x, y: x / y), [1, 2, 3, 4] ),5)"
   ]
  },
  {
   "cell_type": "markdown",
   "metadata": {
    "colab_type": "text",
    "id": "awugzyg-2dmp"
   },
   "source": [
    "##### Practice 2\n",
    "##### Concatenate a list of strings to make a sentence. Using the Dijkstra's famous quote on bug:"
   ]
  },
  {
   "cell_type": "code",
   "execution_count": 20,
   "metadata": {
    "colab": {},
    "colab_type": "code",
    "id": "sydG10sm2dmp",
    "outputId": "3595fbf4-ce2f-4a8b-e21e-c80c37e4595f"
   },
   "outputs": [],
   "source": [
    "import functools\n",
    "L = ['Testing', 'shows', 'the', 'presence', ',','not', 'the', 'absence', 'of', 'bugs']"
   ]
  },
  {
   "cell_type": "code",
   "execution_count": 21,
   "metadata": {
    "colab": {},
    "colab_type": "code",
    "id": "rm-Jvsr_2dmr"
   },
   "outputs": [
    {
     "data": {
      "text/plain": [
       "'Testingshowsthepresence,nottheabsenceofbugs'"
      ]
     },
     "execution_count": 21,
     "metadata": {},
     "output_type": "execute_result"
    }
   ],
   "source": [
    "functools.reduce( (lambda x,y:x+y), L)"
   ]
  },
  {
   "cell_type": "markdown",
   "metadata": {
    "colab_type": "text",
    "id": "yHBuMo0w2dms"
   },
   "source": [
    "Wait, what happened ?!!!\n",
    "Oh , there is no space in the words. \n",
    "Lets concate with space now "
   ]
  },
  {
   "cell_type": "code",
   "execution_count": 22,
   "metadata": {
    "colab": {},
    "colab_type": "code",
    "id": "_egv6n-X2dmt",
    "outputId": "dcd339e8-8879-4f14-e276-2bbc5104059f"
   },
   "outputs": [
    {
     "data": {
      "text/plain": [
       "'Testing shows the presence , not the absence of bugs'"
      ]
     },
     "execution_count": 22,
     "metadata": {},
     "output_type": "execute_result"
    }
   ],
   "source": [
    "functools.reduce( (lambda x,y:x+' '+y), L) #All done !"
   ]
  },
  {
   "cell_type": "markdown",
   "metadata": {
    "colab_type": "text",
    "id": "63tk-XQn2dmv"
   },
   "source": [
    "We can get the same result by using join :"
   ]
  },
  {
   "cell_type": "code",
   "execution_count": 23,
   "metadata": {
    "colab": {},
    "colab_type": "code",
    "id": "f_MtK1Zk2dmw",
    "outputId": "56d9470c-f4a2-4385-81a4-83701eeadfa8"
   },
   "outputs": [
    {
     "data": {
      "text/plain": [
       "'Testing shows the presence , not the absence of bugs'"
      ]
     },
     "execution_count": 23,
     "metadata": {},
     "output_type": "execute_result"
    }
   ],
   "source": [
    "' '.join(L)"
   ]
  },
  {
   "cell_type": "markdown",
   "metadata": {
    "colab_type": "text",
    "id": "fEQPADDK2dmy"
   },
   "source": [
    "We can also use operator to produce the same result:"
   ]
  },
  {
   "cell_type": "code",
   "execution_count": 24,
   "metadata": {
    "colab": {},
    "colab_type": "code",
    "id": "k8Mdv7wG2dmy",
    "outputId": "d4cce064-be15-470c-ffe4-36e8e270d00a"
   },
   "outputs": [
    {
     "data": {
      "text/plain": [
       "'Testingshowsthepresence,nottheabsenceofbugs'"
      ]
     },
     "execution_count": 24,
     "metadata": {},
     "output_type": "execute_result"
    }
   ],
   "source": [
    "import functools, operator\n",
    "functools.reduce(operator.add, L)"
   ]
  },
  {
   "cell_type": "markdown",
   "metadata": {
    "colab_type": "text",
    "id": "MKhEeWtl2dm0"
   },
   "source": [
    "The built-in reduce also allows an optional third argument placed before the items in the sequence to serve as \n",
    "a default result when the sequence is empty."
   ]
  },
  {
   "cell_type": "markdown",
   "metadata": {
    "colab_type": "text",
    "id": "yjvvO4iV2dm0"
   },
   "source": [
    "#### List Comprehension"
   ]
  },
  {
   "cell_type": "code",
   "execution_count": null,
   "metadata": {
    "colab": {},
    "colab_type": "code",
    "id": "HlHMFEWE2dm1",
    "outputId": "0803ef06-4f8d-4aa9-e4b5-cd4d06a72d90"
   },
   "outputs": [
    {
     "data": {
      "text/plain": [
       "[1, 4, 9, 16]"
      ]
     },
     "execution_count": 76,
     "metadata": {
      "tags": []
     },
     "output_type": "execute_result"
    }
   ],
   "source": [
    "numbers = [1, 2, 3, 4]\n",
    "squares = []\n",
    "for n in numbers:\n",
    "    squares.append(n**2)\n",
    "squares"
   ]
  },
  {
   "cell_type": "code",
   "execution_count": null,
   "metadata": {
    "colab": {},
    "colab_type": "code",
    "id": "4ppUkEIF2dm3",
    "outputId": "b0290256-e2fb-421f-d133-60da6697da2b"
   },
   "outputs": [
    {
     "data": {
      "text/plain": [
       "[1, 4, 9, 16]"
      ]
     },
     "execution_count": 77,
     "metadata": {
      "tags": []
     },
     "output_type": "execute_result"
    }
   ],
   "source": [
    "squares = [n**2 for n in numbers]\n",
    "squares"
   ]
  },
  {
   "cell_type": "code",
   "execution_count": null,
   "metadata": {
    "colab": {},
    "colab_type": "code",
    "id": "Et77sgbH2dm5",
    "outputId": "09171cbd-f8ee-4a1f-fbdd-814c3d43bce2"
   },
   "outputs": [
    {
     "data": {
      "text/plain": [
       "[1, 9, 25, 49, 81]"
      ]
     },
     "execution_count": 80,
     "metadata": {
      "tags": []
     },
     "output_type": "execute_result"
    }
   ],
   "source": [
    "odd_sq = []\n",
    "for x in range(1, 11):\n",
    "    if x % 2 == 1:\n",
    "        odd_sq.append(x**2)\n",
    "        \n",
    "odd_sq"
   ]
  },
  {
   "cell_type": "code",
   "execution_count": null,
   "metadata": {
    "colab": {},
    "colab_type": "code",
    "id": "eIQGdZEr2dm7",
    "outputId": "cb77053e-d14f-41d7-c6ae-bcfe8eb15daa"
   },
   "outputs": [
    {
     "data": {
      "text/plain": [
       "[1, 9, 25, 49, 81]"
      ]
     },
     "execution_count": 81,
     "metadata": {
      "tags": []
     },
     "output_type": "execute_result"
    }
   ],
   "source": [
    "[x ** 2 for x in range(1, 11) if x % 2 == 1]"
   ]
  },
  {
   "cell_type": "markdown",
   "metadata": {
    "colab_type": "text",
    "id": "cfeunkMS2dm-"
   },
   "source": [
    "#### Practice 3\n",
    "###### Replicate the above functionality by map lambda"
   ]
  },
  {
   "cell_type": "code",
   "execution_count": null,
   "metadata": {
    "colab": {},
    "colab_type": "code",
    "collapsed": true,
    "id": "SCDuqpmZ2dm-"
   },
   "outputs": [],
   "source": []
  }
 ],
 "metadata": {
  "anaconda-cloud": {},
  "colab": {
   "collapsed_sections": [
    "WYdlNwha2dmP",
    "GNSU0N4T2dmd",
    "yjvvO4iV2dm0",
    "cfeunkMS2dm-"
   ],
   "name": "Functionals2 (1).ipynb",
   "provenance": []
  },
  "kernelspec": {
   "display_name": "Python 3",
   "language": "python",
   "name": "python3"
  },
  "language_info": {
   "codemirror_mode": {
    "name": "ipython",
    "version": 3
   },
   "file_extension": ".py",
   "mimetype": "text/x-python",
   "name": "python",
   "nbconvert_exporter": "python",
   "pygments_lexer": "ipython3",
   "version": "3.8.8"
  }
 },
 "nbformat": 4,
 "nbformat_minor": 1
}
