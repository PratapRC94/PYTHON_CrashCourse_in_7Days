{
 "cells": [
  {
   "cell_type": "markdown",
   "metadata": {
    "colab_type": "text",
    "id": "6RfALjmyLo_m"
   },
   "source": [
    "# Python (Data type vs data structure)"
   ]
  },
  {
   "cell_type": "markdown",
   "metadata": {
    "colab_type": "text",
    "id": "hTmjGmxtLo_p"
   },
   "source": [
    "#### Data Type\n",
    "  - number (int, float)\n",
    "  - text (***str***)\n",
    "  - boolean (yes/no, true/false, 1/0)"
   ]
  },
  {
   "cell_type": "markdown",
   "metadata": {
    "colab_type": "text",
    "id": "dgg4pWT5Lo_s"
   },
   "source": [
    "#### Data Structure\n",
    "  - list\n",
    "  - set\n",
    "  - dictionary\n",
    "  - array"
   ]
  },
  {
   "cell_type": "markdown",
   "metadata": {
    "colab_type": "text",
    "id": "8HEUDFkALo_u"
   },
   "source": [
    "### Define a string"
   ]
  },
  {
   "cell_type": "code",
   "execution_count": 1,
   "metadata": {
    "ExecuteTime": {
     "end_time": "2020-08-27T04:37:29.546696Z",
     "start_time": "2020-08-27T04:37:29.526658Z"
    },
    "colab": {},
    "colab_type": "code",
    "id": "zDlcEPwULo_x",
    "outputId": "96798255-725e-4f7b-be17-f4750fb84a46"
   },
   "outputs": [
    {
     "name": "stdout",
     "output_type": "stream",
     "text": [
      "1\n",
      "<class 'str'>\n",
      "1\n",
      "<class 'int'>\n",
      "abc123\n",
      "<class 'str'>\n"
     ]
    }
   ],
   "source": [
    "string = '1'\n",
    "print (string)\n",
    "print (type(string))\n",
    "string = 1\n",
    "print (string)\n",
    "print (type(string))\n",
    "string = 'abc123'\n",
    "print (string)\n",
    "print (type(string))"
   ]
  },
  {
   "cell_type": "markdown",
   "metadata": {
    "colab_type": "text",
    "id": "pGMHtlrXLpAC"
   },
   "source": [
    "### Functions of string"
   ]
  },
  {
   "cell_type": "code",
   "execution_count": 3,
   "metadata": {
    "ExecuteTime": {
     "end_time": "2020-08-27T04:37:34.014542Z",
     "start_time": "2020-08-27T04:37:33.996545Z"
    },
    "colab": {},
    "colab_type": "code",
    "id": "vx2UncCMLpAE",
    "outputId": "4de181a4-11a7-41d4-ec12-9a6d25cf48b3"
   },
   "outputs": [
    {
     "name": "stdout",
     "output_type": "stream",
     "text": [
      "Abc123\n",
      "1\n",
      "-1\n",
      "True\n",
      "False\n",
      "Abc123\n",
      "False\n",
      "False\n",
      "True\n",
      "['abc123']\n",
      "['hello', 'world']\n"
     ]
    }
   ],
   "source": [
    "print (string.capitalize())\n",
    "print (string.find('b'))\n",
    "print (string.find('A'))\n",
    "print (string.endswith('3'))\n",
    "print (string.endswith('4'))\n",
    "print (string.capitalize())\n",
    "print (string.isnumeric())\n",
    "print (string.isalpha())\n",
    "print (string.isalnum())\n",
    "print (string.split(' '))\n",
    "print ('hello world'.split())"
   ]
  },
  {
   "cell_type": "markdown",
   "metadata": {
    "colab_type": "text",
    "id": "s2B8O_ydLpAN"
   },
   "source": [
    "### Bigger string"
   ]
  },
  {
   "cell_type": "code",
   "execution_count": 4,
   "metadata": {
    "ExecuteTime": {
     "end_time": "2020-08-27T04:37:59.831357Z",
     "start_time": "2020-08-27T04:37:59.821915Z"
    },
    "colab": {},
    "colab_type": "code",
    "id": "Si_cAfGZLpAP",
    "outputId": "e0678520-8f81-49ae-af83-63c234770673"
   },
   "outputs": [
    {
     "name": "stdout",
     "output_type": "stream",
     "text": [
      "I bought10 packet of chips.\n",
      "I bought 5 packets of nachos.\n",
      "I bought 100 toffess.\n",
      "I bought 2 bottles of cold drinks.\n",
      "['I', 'bought10', 'packet', 'of', 'chips.', 'I', 'bought', '5', 'packets', 'of', 'nachos.', 'I', 'bought', '100', 'toffess.', 'I', 'bought', '2', 'bottles', 'of', 'cold', 'drinks.']\n"
     ]
    }
   ],
   "source": [
    "string = 'I bought10 packet of chips.\\nI bought 5 packets of nachos.\\nI bought 100 toffess.\\nI bought 2 bottles of cold drinks.'\n",
    "print (string)\n",
    "print (string.split())"
   ]
  },
  {
   "cell_type": "code",
   "execution_count": 4,
   "metadata": {
    "ExecuteTime": {
     "end_time": "2020-08-27T04:38:29.847140Z",
     "start_time": "2020-08-27T04:38:29.838186Z"
    },
    "colab": {},
    "colab_type": "code",
    "id": "SMnnckcOLpAY",
    "outputId": "5cd574f3-3d5b-45f6-b614-f7003111c16e"
   },
   "outputs": [
    {
     "name": "stdout",
     "output_type": "stream",
     "text": [
      "['5', '100', '2']\n"
     ]
    }
   ],
   "source": [
    "only_numbers = []\n",
    "for element in string.split():\n",
    "    if element.isnumeric():\n",
    "        only_numbers.append(element)\n",
    "print (only_numbers)"
   ]
  },
  {
   "cell_type": "markdown",
   "metadata": {
    "colab_type": "text",
    "id": "N83nj8QALpAg"
   },
   "source": [
    "#### Let's define a function just to re reuse it "
   ]
  },
  {
   "cell_type": "code",
   "execution_count": 5,
   "metadata": {
    "ExecuteTime": {
     "end_time": "2020-08-27T04:38:50.291789Z",
     "start_time": "2020-08-27T04:38:50.280761Z"
    },
    "colab": {},
    "colab_type": "code",
    "id": "cmUiYvV7LpAh"
   },
   "outputs": [],
   "source": [
    "def extract_num(string):\n",
    "    only_numbers = []\n",
    "    for element in string.split():\n",
    "        if element.isnumeric():\n",
    "            only_numbers.append(element)\n",
    "    return (only_numbers)"
   ]
  },
  {
   "cell_type": "code",
   "execution_count": 6,
   "metadata": {
    "ExecuteTime": {
     "end_time": "2020-08-27T04:38:51.305149Z",
     "start_time": "2020-08-27T04:38:51.283152Z"
    },
    "colab": {},
    "colab_type": "code",
    "id": "70m5g3GgLpAq",
    "outputId": "aec30e14-602c-4fc0-f623-c222d9bb3c38"
   },
   "outputs": [
    {
     "data": {
      "text/plain": [
       "['5', '100', '2']"
      ]
     },
     "execution_count": 6,
     "metadata": {},
     "output_type": "execute_result"
    }
   ],
   "source": [
    "extract_num(string)"
   ]
  },
  {
   "cell_type": "markdown",
   "metadata": {
    "colab_type": "text",
    "id": "ENJiteFGLpAw"
   },
   "source": [
    "# Now, this user defined function can be replaced by an inbuilt library in Python"
   ]
  },
  {
   "cell_type": "markdown",
   "metadata": {
    "colab_type": "text",
    "id": "OC8QHYZwLpAy"
   },
   "source": [
    "# REGEX"
   ]
  },
  {
   "cell_type": "markdown",
   "metadata": {
    "colab_type": "text",
    "id": "CpbxYxeCLpAz"
   },
   "source": [
    "***Regex is one of the most powerful tools of Python that helps us to search for any pattern in the input string and manipulate strings effectively***"
   ]
  },
  {
   "cell_type": "code",
   "execution_count": 1,
   "metadata": {
    "ExecuteTime": {
     "end_time": "2020-08-27T04:39:54.575086Z",
     "start_time": "2020-08-27T04:39:54.569084Z"
    },
    "colab": {},
    "colab_type": "code",
    "id": "eoMp_fNvLpAz"
   },
   "outputs": [],
   "source": [
    "import re #regex python inbuilt library"
   ]
  },
  {
   "cell_type": "markdown",
   "metadata": {
    "colab_type": "text",
    "id": "yAN137pCLpA6"
   },
   "source": [
    "## Syntax\n",
    "### re.method_name(pattern, string)\n",
    "### pattern ---> r''\n"
   ]
  },
  {
   "cell_type": "markdown",
   "metadata": {
    "colab_type": "text",
    "id": "DG-PYnnfLpA8"
   },
   "source": [
    "### Understanding some metacharacters/reserved characters"
   ]
  },
  {
   "cell_type": "markdown",
   "metadata": {
    "colab_type": "text",
    "id": "O0D7aHb_LpA9"
   },
   "source": [
    "#### Character Class\n",
    "The first metacharacters we’ll look at are '[' and ']'. They’re used for specifying a character class, which is a set of characters that you wish to match.\n",
    "eg:[a-c] means the input can contain any character from a to c . \n",
    "This can also be representated as [abc].\n",
    "Similarly, to define a class of numerics we define using [0-9]"
   ]
  },
  {
   "cell_type": "markdown",
   "metadata": {
    "colab_type": "text",
    "id": "6UQKWLumLpA_"
   },
   "source": [
    "### Some sample customized character sets\n",
    "\n",
    "#### [a-z]\n",
    "#### [A-Z]\n",
    "#### [A-Za-z]\n",
    "#### [A-z] = [A-Z]+[a-z]\n",
    "#### [a-z0-9]"
   ]
  },
  {
   "cell_type": "markdown",
   "metadata": {
    "colab_type": "text",
    "id": "6V2S_IW1LpBA"
   },
   "source": [
    "# Method 1\n",
    "\n",
    "#### re.findall(pattern, string)\n",
    "#### returns a list of all the matches"
   ]
  },
  {
   "cell_type": "code",
   "execution_count": 5,
   "metadata": {},
   "outputs": [],
   "source": [
    "import re"
   ]
  },
  {
   "cell_type": "code",
   "execution_count": 10,
   "metadata": {
    "ExecuteTime": {
     "end_time": "2020-08-27T04:42:34.964805Z",
     "start_time": "2020-08-27T04:42:34.940762Z"
    },
    "colab": {},
    "colab_type": "code",
    "id": "nc1Dgt8wLpBB",
    "outputId": "3770cf23-da6d-45cf-997e-01234ce23a3a"
   },
   "outputs": [
    {
     "data": {
      "text/plain": [
       "['a', 'b', 'c']"
      ]
     },
     "execution_count": 10,
     "metadata": {},
     "output_type": "execute_result"
    }
   ],
   "source": [
    "string = 'abcdef'\n",
    "pattern = r'[a-c]'\n",
    "re.findall(pattern, string)"
   ]
  },
  {
   "cell_type": "code",
   "execution_count": 11,
   "metadata": {
    "ExecuteTime": {
     "end_time": "2020-08-27T04:42:53.486881Z",
     "start_time": "2020-08-27T04:42:53.479829Z"
    },
    "colab": {},
    "colab_type": "code",
    "id": "SsU6q12FLpBJ",
    "outputId": "b5801eff-da0e-4e9e-bb09-d5df66d02ba9"
   },
   "outputs": [
    {
     "data": {
      "text/plain": [
       "['a', 'b', 'c', 'd', 'e', 'f']"
      ]
     },
     "execution_count": 11,
     "metadata": {},
     "output_type": "execute_result"
    }
   ],
   "source": [
    "string = 'a b c d e f'\n",
    "pattern = r'[a-z]'\n",
    "re.findall(pattern, string)"
   ]
  },
  {
   "cell_type": "code",
   "execution_count": 12,
   "metadata": {
    "ExecuteTime": {
     "end_time": "2020-08-27T04:43:28.679477Z",
     "start_time": "2020-08-27T04:43:28.669477Z"
    },
    "colab": {},
    "colab_type": "code",
    "id": "7nZ25dDnLpBP",
    "outputId": "f5896942-b89e-4c87-e3ca-e8a515307396"
   },
   "outputs": [
    {
     "data": {
      "text/plain": [
       "[]"
      ]
     },
     "execution_count": 12,
     "metadata": {},
     "output_type": "execute_result"
    }
   ],
   "source": [
    "string = 'a b c d e f '\n",
    "pattern = r'[A-Z]'\n",
    "re.findall(pattern, string)"
   ]
  },
  {
   "cell_type": "code",
   "execution_count": 13,
   "metadata": {
    "ExecuteTime": {
     "end_time": "2020-08-27T04:43:41.440141Z",
     "start_time": "2020-08-27T04:43:41.433159Z"
    },
    "colab": {},
    "colab_type": "code",
    "id": "imvQeGVCLpBY",
    "outputId": "ba6754b8-7f8a-4d8f-8071-94a714f53138"
   },
   "outputs": [
    {
     "data": {
      "text/plain": [
       "['1', '2']"
      ]
     },
     "execution_count": 13,
     "metadata": {},
     "output_type": "execute_result"
    }
   ],
   "source": [
    "string = 'a b c 1 2 3'\n",
    "pattern = r'[0-2]'\n",
    "re.findall(pattern, string)"
   ]
  },
  {
   "cell_type": "code",
   "execution_count": 14,
   "metadata": {
    "ExecuteTime": {
     "end_time": "2020-08-27T04:43:59.353860Z",
     "start_time": "2020-08-27T04:43:59.347868Z"
    },
    "colab": {},
    "colab_type": "code",
    "id": "J8Diu0WrLpBe",
    "outputId": "cae8ab6f-fcbf-48df-b3c9-010f7b1f1620"
   },
   "outputs": [
    {
     "data": {
      "text/plain": [
       "['1', '2', '3']"
      ]
     },
     "execution_count": 14,
     "metadata": {},
     "output_type": "execute_result"
    }
   ],
   "source": [
    "string = 'a b c 1 2 3'\n",
    "pattern = r'[0-9]'\n",
    "re.findall(pattern, string)"
   ]
  },
  {
   "cell_type": "code",
   "execution_count": 7,
   "metadata": {
    "ExecuteTime": {
     "end_time": "2020-08-27T04:44:16.368199Z",
     "start_time": "2020-08-27T04:44:16.356169Z"
    },
    "colab": {},
    "colab_type": "code",
    "id": "hithz5twLpBm",
    "outputId": "32f2a81b-c654-4fb2-d345-bd503245d412"
   },
   "outputs": [
    {
     "data": {
      "text/plain": [
       "['aa']"
      ]
     },
     "execution_count": 7,
     "metadata": {},
     "output_type": "execute_result"
    }
   ],
   "source": [
    "string = 'aab c 1 2 3'\n",
    "pattern = r'[a-z][a-z]'\n",
    "re.findall(pattern, string)"
   ]
  },
  {
   "cell_type": "code",
   "execution_count": 12,
   "metadata": {},
   "outputs": [
    {
     "name": "stdout",
     "output_type": "stream",
     "text": [
      "abcd\n",
      "123 abcd\\n123\n"
     ]
    }
   ],
   "source": [
    "string1 = 'abcd\\n123'\n",
    "string2 = r'abcd\\n123'\n",
    "pattern = '[a-z][a-z]'\n",
    "#print(re.findall(pattern, string1))\n",
    "#print(re.findall(pattern, string2))\n",
    "print(string1, string2)"
   ]
  },
  {
   "cell_type": "code",
   "execution_count": 16,
   "metadata": {
    "ExecuteTime": {
     "end_time": "2020-08-27T04:48:27.463267Z",
     "start_time": "2020-08-27T04:48:27.443285Z"
    },
    "colab": {},
    "colab_type": "code",
    "id": "OQBR4sPpLpBt",
    "outputId": "511e5d05-c564-47a2-d1a2-cfa3520f33fe"
   },
   "outputs": [
    {
     "data": {
      "text/plain": [
       "['ab', 'cd']"
      ]
     },
     "execution_count": 16,
     "metadata": {},
     "output_type": "execute_result"
    }
   ],
   "source": [
    "string = 'abcd123'\n",
    "pattern = '[a-z][a-z]'\n",
    "re.findall(pattern, string)"
   ]
  },
  {
   "cell_type": "code",
   "execution_count": 19,
   "metadata": {},
   "outputs": [
    {
     "data": {
      "text/plain": [
       "['ab', 'cd', '12']"
      ]
     },
     "execution_count": 19,
     "metadata": {},
     "output_type": "execute_result"
    }
   ],
   "source": [
    "string = 'abcd123'\n",
    "pattern = r'\\w{2}'\n",
    "re.findall(pattern, string)"
   ]
  },
  {
   "cell_type": "code",
   "execution_count": 18,
   "metadata": {
    "ExecuteTime": {
     "end_time": "2020-08-27T04:48:19.620022Z",
     "start_time": "2020-08-27T04:48:19.603064Z"
    },
    "colab": {},
    "colab_type": "code",
    "id": "XyG55k8_LpBy",
    "outputId": "3a128f76-0cf3-494c-f415-62eb04376335"
   },
   "outputs": [
    {
     "data": {
      "text/plain": [
       "['abc']"
      ]
     },
     "execution_count": 18,
     "metadata": {},
     "output_type": "execute_result"
    }
   ],
   "source": [
    "string = 'abc123'\n",
    "pattern = '[a-z][a-z][a-z]'\n",
    "re.findall(pattern, string)"
   ]
  },
  {
   "cell_type": "markdown",
   "metadata": {
    "colab_type": "text",
    "id": "2VrKw8WzLpB3"
   },
   "source": [
    "### Now, we introduce some more reserved characters\n",
    "  - \\+ (one or more)\n",
    "  - \\* (zero or more)\n",
    "  - \\? (zero or one)"
   ]
  },
  {
   "cell_type": "code",
   "execution_count": 5,
   "metadata": {},
   "outputs": [],
   "source": [
    "import re"
   ]
  },
  {
   "cell_type": "code",
   "execution_count": 7,
   "metadata": {
    "ExecuteTime": {
     "end_time": "2020-08-27T04:51:06.226004Z",
     "start_time": "2020-08-27T04:51:06.203009Z"
    },
    "colab": {},
    "colab_type": "code",
    "id": "D7lHoa38LpB5",
    "outputId": "27a21eea-b157-4906-ddc7-b014864bb12f"
   },
   "outputs": [
    {
     "data": {
      "text/plain": [
       "['a', 'def']"
      ]
     },
     "execution_count": 7,
     "metadata": {},
     "output_type": "execute_result"
    }
   ],
   "source": [
    "string = 'a123 def456'\n",
    "pattern = r'[a-z]+'\n",
    "re.findall(pattern, string)"
   ]
  },
  {
   "cell_type": "code",
   "execution_count": 20,
   "metadata": {
    "ExecuteTime": {
     "end_time": "2020-08-27T04:52:14.746908Z",
     "start_time": "2020-08-27T04:52:14.734891Z"
    },
    "colab": {},
    "colab_type": "code",
    "id": "JBYFu7ZGLpB-",
    "outputId": "d63c6e73-6e71-4ceb-8430-375171559268"
   },
   "outputs": [
    {
     "data": {
      "text/plain": [
       "['abc', '$ ', ' ']"
      ]
     },
     "execution_count": 20,
     "metadata": {},
     "output_type": "execute_result"
    }
   ],
   "source": [
    "string = 'abc123456$ 44 '\n",
    "pattern = r'\\D+'\n",
    "re.findall(pattern, string)"
   ]
  },
  {
   "cell_type": "code",
   "execution_count": 24,
   "metadata": {
    "ExecuteTime": {
     "end_time": "2020-08-27T04:58:02.497675Z",
     "start_time": "2020-08-27T04:58:02.472665Z"
    },
    "colab": {},
    "colab_type": "code",
    "id": "o7IiwPqhLpCD",
    "outputId": "af62c417-9cd2-4fe4-8733-b982211cb0c0"
   },
   "outputs": [
    {
     "data": {
      "text/plain": [
       "['123', 'F456', '1']"
      ]
     },
     "execution_count": 24,
     "metadata": {},
     "output_type": "execute_result"
    }
   ],
   "source": [
    "string = '123abc deF456 1'\n",
    "pattern = '[a-z]?[0-9]+'\n",
    "re.findall(pattern, string,re.IGNORECASE)"
   ]
  },
  {
   "cell_type": "code",
   "execution_count": 30,
   "metadata": {
    "ExecuteTime": {
     "end_time": "2020-08-27T05:03:41.616960Z",
     "start_time": "2020-08-27T05:03:41.603917Z"
    },
    "colab": {},
    "colab_type": "code",
    "id": "4LsIJNDCLpCJ",
    "outputId": "28f18407-94d4-41ac-8e0a-ffffb62d1509"
   },
   "outputs": [
    {
     "data": {
      "text/plain": [
       "['def456', 'ghi789']"
      ]
     },
     "execution_count": 30,
     "metadata": {},
     "output_type": "execute_result"
    }
   ],
   "source": [
    "string = '123 def456 ghi789'\n",
    "pattern = r'[A-z]+[0-9]+'\n",
    "re.findall(pattern, string)"
   ]
  },
  {
   "cell_type": "code",
   "execution_count": 43,
   "metadata": {
    "ExecuteTime": {
     "end_time": "2020-08-27T05:09:32.495649Z",
     "start_time": "2020-08-27T05:09:32.477654Z"
    },
    "colab": {},
    "colab_type": "code",
    "id": "ejacvmf5LpCO",
    "outputId": "f058b16a-6fb8-4783-fec3-782ce7cf400f"
   },
   "outputs": [
    {
     "name": "stdout",
     "output_type": "stream",
     "text": [
      "abbb\n",
      "ab\n"
     ]
    }
   ],
   "source": [
    "print (re.search('ab*','abbb').group())\n",
    "print (re.search('ab?','abbb').group())"
   ]
  },
  {
   "cell_type": "markdown",
   "metadata": {
    "colab_type": "text",
    "id": "NIHgef6OLpCS"
   },
   "source": [
    "#### \\d ---> [0,1,2,...9]   ---> integer set\n",
    "#### \\D ---> negation([0,1,...9]) ---> non-integer set\n",
    "\n",
    "#### \\w ---> [a-zA-Z0-9_] -----> alphanumeric set\n",
    "#### \\W ---> negation([a-zA-Z0-9_]) ---> non-alphanumeric set\n",
    "\n",
    "#### \\s ---> [ ,tab,\\n,\\r] -------> space character set\n",
    "#### \\S ---> negation([ ,tab,\\n,\\r]) -------> non-space character set\n",
    "\n",
    "#### . -----> matches everything except new line character"
   ]
  },
  {
   "cell_type": "markdown",
   "metadata": {
    "colab_type": "text",
    "id": "Y3LCKmEKLpCT"
   },
   "source": [
    "#### Combining character classes"
   ]
  },
  {
   "cell_type": "code",
   "execution_count": 44,
   "metadata": {
    "ExecuteTime": {
     "end_time": "2020-08-27T05:12:11.561700Z",
     "start_time": "2020-08-27T05:12:11.550665Z"
    },
    "colab": {},
    "colab_type": "code",
    "id": "0V2m1VhbLpCV",
    "outputId": "7afadc26-39c5-429c-e203-06e5ba47f761"
   },
   "outputs": [
    {
     "data": {
      "text/plain": [
       "[' ', ' ', ' ', ' ', ' ', ' ', ' ', '$']"
      ]
     },
     "execution_count": 44,
     "metadata": {},
     "output_type": "execute_result"
    }
   ],
   "source": [
    "string = 'a b c 1 2 3 _ $'\n",
    "pattern = r'\\W'\n",
    "re.findall(pattern, string)"
   ]
  },
  {
   "cell_type": "code",
   "execution_count": 76,
   "metadata": {
    "ExecuteTime": {
     "end_time": "2020-08-27T05:27:32.946591Z",
     "start_time": "2020-08-27T05:27:32.928592Z"
    },
    "colab": {},
    "colab_type": "code",
    "id": "URo2JhEcLpCc",
    "outputId": "d5932f61-9d25-4b46-fef1-2decacc18366"
   },
   "outputs": [
    {
     "data": {
      "text/plain": [
       "['bc']"
      ]
     },
     "execution_count": 76,
     "metadata": {},
     "output_type": "execute_result"
    }
   ],
   "source": [
    "re.findall('([a-z]{2})\\d+_', 'abc1234575865_ajbkb')"
   ]
  },
  {
   "cell_type": "markdown",
   "metadata": {
    "colab_type": "text",
    "id": "nYqCEfY2LpCj"
   },
   "source": [
    "### The number of times each of the characters from a character set has to appear is restricted by\n",
    "\n",
    "##### {min_number,max_number} -------> start, end is restricted\n",
    "##### {fixed number} -------> restricted to only this number\n",
    "##### {min_number,} ------> maximum is boundless"
   ]
  },
  {
   "cell_type": "code",
   "execution_count": 39,
   "metadata": {
    "ExecuteTime": {
     "end_time": "2020-08-27T05:33:46.536468Z",
     "start_time": "2020-08-27T05:33:46.523436Z"
    },
    "colab": {},
    "colab_type": "code",
    "id": "iBpI4hKCLpCl"
   },
   "outputs": [],
   "source": [
    "stri1 = '1st day of month February 5th of year 2017'\n",
    "stri2 = '16th day of month February of year 2040'\n",
    "pattern= r\"(\\d{1,2}[a-z]{2})[\\w\\s]+([A-Z][A-Za-z]+)[\\w\\s]+(\\d{4})\""
   ]
  },
  {
   "cell_type": "code",
   "execution_count": 38,
   "metadata": {},
   "outputs": [
    {
     "data": {
      "text/plain": [
       "['1st', '5th']"
      ]
     },
     "execution_count": 38,
     "metadata": {},
     "output_type": "execute_result"
    }
   ],
   "source": [
    "re.findall(r\"(\\d{1,2}[a-z]{2})\",stri1)"
   ]
  },
  {
   "cell_type": "code",
   "execution_count": 40,
   "metadata": {
    "ExecuteTime": {
     "end_time": "2020-08-27T05:33:47.022736Z",
     "start_time": "2020-08-27T05:33:47.009734Z"
    }
   },
   "outputs": [
    {
     "data": {
      "text/plain": [
       "[('1st', 'February', '2017')]"
      ]
     },
     "execution_count": 40,
     "metadata": {},
     "output_type": "execute_result"
    }
   ],
   "source": [
    "re.findall(pattern, stri1)"
   ]
  },
  {
   "cell_type": "code",
   "execution_count": 41,
   "metadata": {
    "ExecuteTime": {
     "end_time": "2020-08-27T05:33:56.339138Z",
     "start_time": "2020-08-27T05:33:56.332138Z"
    },
    "colab": {},
    "colab_type": "code",
    "id": "bAsSiG6GLpCq",
    "outputId": "5fe90f79-9ac7-4976-db6d-082b9b87aaa9"
   },
   "outputs": [
    {
     "name": "stdout",
     "output_type": "stream",
     "text": [
      "1st February 2017\n",
      "16th February 2040\n"
     ]
    }
   ],
   "source": [
    "for string in [stri1,stri2]:\n",
    "    print(' '.join(re.findall(pattern,string)[0]))\n",
    "# '9th February 2017'"
   ]
  },
  {
   "cell_type": "code",
   "execution_count": 89,
   "metadata": {
    "ExecuteTime": {
     "end_time": "2020-08-27T05:38:35.600804Z",
     "start_time": "2020-08-27T05:38:35.587762Z"
    },
    "colab": {},
    "colab_type": "code",
    "id": "gHaRXSL8LpCw",
    "outputId": "dc4a3d0d-8738-4ec4-e9ca-e5fe806f02f0"
   },
   "outputs": [
    {
     "name": "stdout",
     "output_type": "stream",
     "text": [
      "zero or more b ab\n",
      "one or more b abbbbbb\n",
      "zero or one b ab\n",
      "followed by three b abbb\n",
      "followed by two to three b abbb\n"
     ]
    }
   ],
   "source": [
    "print ('zero or more b', re.search(r\"(ab*)\",\"ababbb\").group())\n",
    "print ('one or more b', re.search(r\"(ab+)\",\"abbbbbb\").group())\n",
    "print ('zero or one b', re.search(r\"(ab?)\",\"abbbabab\").group())\n",
    "print ('followed by three b', re.search(r\"(ab{3})\",\"xxabbbbyxab\").group())\n",
    "print ('followed by two to three b', re.search(r\"(ab{2,3})\",\"xyabbbabab\").group())\n"
   ]
  },
  {
   "cell_type": "markdown",
   "metadata": {
    "colab_type": "text",
    "id": "1X4TnfDZLpC0"
   },
   "source": [
    "#####  ( ) ---> extract the required information, from the matched string\n",
    "\n",
    "##### \\ -------> Escape character\n",
    "\n",
    "##### to alter the meaning of a character in regex to its original meaning .\n",
    "##### The backslash can be followed by various characters to signal various special sequences. You can escape the special meaning of the metacharacters by preceding them with a '\\' . You can search for a \"+\"  using \"\\\\+\"\n"
   ]
  },
  {
   "cell_type": "code",
   "execution_count": 90,
   "metadata": {
    "ExecuteTime": {
     "end_time": "2020-08-27T05:39:47.448706Z",
     "start_time": "2020-08-27T05:39:47.439664Z"
    },
    "colab": {},
    "colab_type": "code",
    "id": "6uLXgYNXLpC1"
   },
   "outputs": [],
   "source": [
    "mob_no1 = 'xyDz@@@mmm.co.in\\n\\n jhkjhljl'\n",
    "mob_no2 = 'xyzmmm.co.in'\n",
    "mob_no3 = 'uiadhkAZahks@@mmm.com is my mail id'"
   ]
  },
  {
   "cell_type": "code",
   "execution_count": 95,
   "metadata": {
    "ExecuteTime": {
     "end_time": "2020-08-27T05:41:07.673286Z",
     "start_time": "2020-08-27T05:41:07.649332Z"
    },
    "colab": {},
    "colab_type": "code",
    "id": "NcGSeY2uLpC7",
    "outputId": "31dd5dc0-146b-4bd9-9389-f916b9aa685e",
    "scrolled": false
   },
   "outputs": [
    {
     "data": {
      "text/plain": [
       "['22+354=532315']"
      ]
     },
     "execution_count": 95,
     "metadata": {},
     "output_type": "execute_result"
    }
   ],
   "source": [
    "re.findall(r'\\d+\\+\\d+=\\d+','22+354=532315')"
   ]
  },
  {
   "cell_type": "code",
   "execution_count": 97,
   "metadata": {
    "ExecuteTime": {
     "end_time": "2020-08-27T05:41:28.809110Z",
     "start_time": "2020-08-27T05:41:28.791107Z"
    },
    "colab": {},
    "colab_type": "code",
    "id": "kIlln7bgLpC-",
    "outputId": "fb12da3b-0c33-4251-fba1-352894d00120"
   },
   "outputs": [
    {
     "data": {
      "text/plain": [
       "['A']"
      ]
     },
     "execution_count": 97,
     "metadata": {},
     "output_type": "execute_result"
    }
   ],
   "source": [
    "re.findall('A','Aeroplane')"
   ]
  },
  {
   "cell_type": "code",
   "execution_count": 98,
   "metadata": {
    "ExecuteTime": {
     "end_time": "2020-08-27T05:43:09.573463Z",
     "start_time": "2020-08-27T05:43:09.561463Z"
    },
    "colab": {},
    "colab_type": "code",
    "id": "b7WuDdr-LpDD",
    "outputId": "c5066c48-03f1-4748-b776-faa057d0bf86",
    "scrolled": true
   },
   "outputs": [
    {
     "data": {
      "text/plain": [
       "['uiadhkAZahks@']"
      ]
     },
     "execution_count": 98,
     "metadata": {},
     "output_type": "execute_result"
    }
   ],
   "source": [
    "re.findall(r\"(\\w+@)@[A-z]+\\.com\",mob_no3)"
   ]
  },
  {
   "cell_type": "code",
   "execution_count": 43,
   "metadata": {
    "ExecuteTime": {
     "end_time": "2020-08-27T05:43:30.215381Z",
     "start_time": "2020-08-27T05:43:30.210378Z"
    },
    "colab": {},
    "colab_type": "code",
    "id": "45Uj7uINLpDG"
   },
   "outputs": [],
   "source": [
    "amount = 'twuytyu has transferred rs.34000 in your Kotak Bank in the acc num 9997866675275. Updated balance is rs.50000'"
   ]
  },
  {
   "cell_type": "code",
   "execution_count": 45,
   "metadata": {
    "ExecuteTime": {
     "end_time": "2020-08-27T05:45:01.369599Z",
     "start_time": "2020-08-27T05:45:01.357634Z"
    },
    "colab": {},
    "colab_type": "code",
    "id": "CUkyih_8LpDK",
    "outputId": "4fb755bd-e4de-4552-8b41-85118273e6e2"
   },
   "outputs": [
    {
     "data": {
      "text/plain": [
       "['0', '0']"
      ]
     },
     "execution_count": 45,
     "metadata": {},
     "output_type": "execute_result"
    }
   ],
   "source": [
    "re.findall(r'rs.(\\d)+',amount)"
   ]
  },
  {
   "cell_type": "code",
   "execution_count": 46,
   "metadata": {
    "ExecuteTime": {
     "end_time": "2020-08-27T05:45:12.706108Z",
     "start_time": "2020-08-27T05:45:12.689153Z"
    },
    "colab": {},
    "colab_type": "code",
    "id": "JzaG6zzfLpDQ",
    "outputId": "e16710f7-a4f2-46b3-d4ed-3b4c5ffd3f16"
   },
   "outputs": [
    {
     "data": {
      "text/plain": [
       "['3', '5']"
      ]
     },
     "execution_count": 46,
     "metadata": {},
     "output_type": "execute_result"
    }
   ],
   "source": [
    "re.findall(r'rs.(\\d)',amount)"
   ]
  },
  {
   "cell_type": "code",
   "execution_count": 48,
   "metadata": {
    "ExecuteTime": {
     "end_time": "2020-08-27T05:45:52.062175Z",
     "start_time": "2020-08-27T05:45:52.046134Z"
    },
    "colab": {},
    "colab_type": "code",
    "id": "ngkDnUh5LpDU",
    "outputId": "32a647aa-b996-4630-e1ad-de7aa2c8febb"
   },
   "outputs": [
    {
     "data": {
      "text/plain": [
       "['34000', '50000']"
      ]
     },
     "execution_count": 48,
     "metadata": {},
     "output_type": "execute_result"
    }
   ],
   "source": [
    "re.findall(r'rs.(\\d+)',amount) ### actual required amount"
   ]
  },
  {
   "cell_type": "code",
   "execution_count": 70,
   "metadata": {
    "ExecuteTime": {
     "end_time": "2020-08-27T05:49:09.994503Z",
     "start_time": "2020-08-27T05:49:09.969548Z"
    },
    "colab": {},
    "colab_type": "code",
    "id": "d46K2D8TLpDY",
    "outputId": "88563781-1a0f-4e4f-fbfd-5503a42ddb2b"
   },
   "outputs": [
    {
     "data": {
      "text/plain": [
       "[('24', '01', '2009')]"
      ]
     },
     "execution_count": 70,
     "metadata": {},
     "output_type": "execute_result"
    }
   ],
   "source": [
    "string3='24-01-2009'\n",
    "re.findall('([\\d]{1,2})-(\\d{1,2})-([0-9]{2,4})',string3)\n",
    "\n",
    "#The day is 24th, month is 01, year is 2009"
   ]
  },
  {
   "cell_type": "code",
   "execution_count": 72,
   "metadata": {},
   "outputs": [],
   "source": [
    "p=r'([\\d]{1,2})-(\\d{1,2})-([0-9]{2,4})'\n",
    "res = re.match(p,string3)"
   ]
  },
  {
   "cell_type": "code",
   "execution_count": 73,
   "metadata": {},
   "outputs": [
    {
     "data": {
      "text/plain": [
       "'24-01-2009'"
      ]
     },
     "execution_count": 73,
     "metadata": {},
     "output_type": "execute_result"
    }
   ],
   "source": [
    "res.group()"
   ]
  },
  {
   "cell_type": "code",
   "execution_count": 76,
   "metadata": {},
   "outputs": [
    {
     "data": {
      "text/plain": [
       "('24', '01', '2009')"
      ]
     },
     "execution_count": 76,
     "metadata": {},
     "output_type": "execute_result"
    }
   ],
   "source": [
    "res.group(1),res.group(2),res.group(3)"
   ]
  },
  {
   "cell_type": "code",
   "execution_count": 108,
   "metadata": {
    "ExecuteTime": {
     "end_time": "2020-08-27T05:52:23.703074Z",
     "start_time": "2020-08-27T05:52:23.693035Z"
    },
    "colab": {},
    "colab_type": "code",
    "id": "QIGEXXXBLpDb",
    "outputId": "486b9e87-3392-420c-ee16-388c75fe6c5f"
   },
   "outputs": [
    {
     "name": "stdout",
     "output_type": "stream",
     "text": [
      "['Bangalore']\n",
      "['Pune']\n",
      "['Chennai']\n"
     ]
    }
   ],
   "source": [
    "input1 = ['Im in      Bangalore','Im in Pune','im in Chennai']\n",
    "for i in input1:\n",
    "    print (re.findall('im in\\s+([a-zA-Z]+)',i,re.IGNORECASE))"
   ]
  },
  {
   "cell_type": "markdown",
   "metadata": {
    "colab_type": "text",
    "id": "dL9klbvfLpDf"
   },
   "source": [
    "### Let's introduce some more reserved characters"
   ]
  },
  {
   "cell_type": "markdown",
   "metadata": {
    "colab_type": "text",
    "id": "qtvfJVdXLpDf"
   },
   "source": [
    "- \\^ (Two Func: beginning of the string & negation of the class)\n",
    "- \\$ (One Func: Check at the end of string)"
   ]
  },
  {
   "cell_type": "markdown",
   "metadata": {
    "colab_type": "raw",
    "id": "eQk2l1BNLpDg"
   },
   "source": [
    "beginning of a string ------>  ^ outside the character class ^[]\n",
    "negation of class     ------>  ^ inside the character class [^]\n",
    "end of a string       ------>  $ outside the character class []$"
   ]
  },
  {
   "cell_type": "code",
   "execution_count": 30,
   "metadata": {
    "ExecuteTime": {
     "end_time": "2020-08-27T05:54:54.163984Z",
     "start_time": "2020-08-27T05:54:54.139024Z"
    },
    "colab": {},
    "colab_type": "code",
    "id": "Zkb18FnSLpDg",
    "outputId": "645a18f5-56cb-49bd-dbac-11b4b51bae32"
   },
   "outputs": [
    {
     "data": {
      "text/plain": [
       "['alagammai_0491']"
      ]
     },
     "execution_count": 30,
     "metadata": {},
     "output_type": "execute_result"
    }
   ],
   "source": [
    "sam = 'alagammai_0491 is my id'\n",
    "pattern = r'^[a-z]+_\\d+'\n",
    "\n",
    "re.findall(string=sam,pattern=pattern)"
   ]
  },
  {
   "cell_type": "code",
   "execution_count": 28,
   "metadata": {
    "ExecuteTime": {
     "end_time": "2020-08-27T05:55:33.324394Z",
     "start_time": "2020-08-27T05:55:33.308396Z"
    },
    "colab": {},
    "colab_type": "code",
    "id": "RhKyPGmTLpDk",
    "outputId": "83b8a632-e787-40ca-b94b-9a5d820cac35"
   },
   "outputs": [
    {
     "name": "stdout",
     "output_type": "stream",
     "text": [
      "['B', 'n', 'g', 'l', 'r']\n"
     ]
    }
   ],
   "source": [
    "print(re.findall(r'([^aeiou])','Bngalore',re.IGNORECASE))"
   ]
  },
  {
   "cell_type": "code",
   "execution_count": 111,
   "metadata": {
    "ExecuteTime": {
     "end_time": "2020-08-27T05:56:15.337584Z",
     "start_time": "2020-08-27T05:56:15.327933Z"
    },
    "colab": {},
    "colab_type": "code",
    "id": "FpIcF3X5LpDn",
    "outputId": "5257ef18-c446-4aff-af8f-5a5ff679d63c"
   },
   "outputs": [
    {
     "name": "stdout",
     "output_type": "stream",
     "text": [
      "['Bng', 'l', 'r']\n"
     ]
    }
   ],
   "source": [
    "print(re.findall(r'([^aeiou]+)','Bngalore',re.IGNORECASE))"
   ]
  },
  {
   "cell_type": "code",
   "execution_count": 121,
   "metadata": {
    "ExecuteTime": {
     "end_time": "2020-08-27T06:01:15.511521Z",
     "start_time": "2020-08-27T06:01:15.502060Z"
    },
    "colab": {},
    "colab_type": "code",
    "id": "hFmESsnmLpDr",
    "outputId": "5c64737f-89a2-4d45-9c71-a2fe61472eae",
    "scrolled": true
   },
   "outputs": [
    {
     "data": {
      "text/plain": [
       "['alagammai_0491']"
      ]
     },
     "execution_count": 121,
     "metadata": {},
     "output_type": "execute_result"
    }
   ],
   "source": [
    "re.findall(r'^[a-z]+_\\d+$','alagammai_0491')"
   ]
  },
  {
   "cell_type": "code",
   "execution_count": 116,
   "metadata": {
    "ExecuteTime": {
     "end_time": "2020-08-27T05:59:57.397782Z",
     "start_time": "2020-08-27T05:59:57.389829Z"
    },
    "colab": {},
    "colab_type": "code",
    "id": "CLjVsCjPLpDv",
    "outputId": "1bc57c36-44ce-46c5-a099-370dd64cee39"
   },
   "outputs": [
    {
     "name": "stdout",
     "output_type": "stream",
     "text": [
      "['ioe']\n"
     ]
    }
   ],
   "source": [
    "print(re.findall(r'[aeiou]+$','ungalaejhskhuihiwioe',re.IGNORECASE))"
   ]
  },
  {
   "cell_type": "markdown",
   "metadata": {
    "colab_type": "text",
    "id": "f-N0Ptj9LpD0"
   },
   "source": [
    "##### finditer ---> finding span of each and every pattern match in a string happening through findall "
   ]
  },
  {
   "cell_type": "code",
   "execution_count": 129,
   "metadata": {
    "ExecuteTime": {
     "end_time": "2020-08-27T06:09:54.524161Z",
     "start_time": "2020-08-27T06:09:54.517119Z"
    },
    "colab": {},
    "colab_type": "code",
    "id": "Qz2Jg3ToLpD1",
    "outputId": "e1935f5b-274e-4617-ee03-17770360863a",
    "scrolled": false
   },
   "outputs": [
    {
     "data": {
      "text/plain": [
       "['24', '01', '20', '09']"
      ]
     },
     "execution_count": 129,
     "metadata": {},
     "output_type": "execute_result"
    }
   ],
   "source": [
    "re.findall(\"\\d{2}\",'24-01-2009') #finds the matched all substrings that match the pattern "
   ]
  },
  {
   "cell_type": "code",
   "execution_count": 130,
   "metadata": {
    "ExecuteTime": {
     "end_time": "2020-08-27T06:10:25.143897Z",
     "start_time": "2020-08-27T06:10:25.128938Z"
    },
    "colab": {},
    "colab_type": "code",
    "id": "ngZCKPESLpD6",
    "outputId": "2bdb5475-1154-48fb-fe2f-5dc62542de25"
   },
   "outputs": [
    {
     "name": "stdout",
     "output_type": "stream",
     "text": [
      "0 : 2\n",
      "3 : 5\n",
      "6 : 8\n",
      "8 : 10\n"
     ]
    }
   ],
   "source": [
    "#instead of displaying the matched substring like findall, \n",
    "#finditer returns the start and end positions of the matched substrings \n",
    "for i in re.finditer(r\"\\d{2}\",'24-01-2009'):\n",
    "    print (i.start(),':',i.end())"
   ]
  },
  {
   "cell_type": "markdown",
   "metadata": {
    "colab_type": "text",
    "id": "J9M4qYFvLpD9"
   },
   "source": [
    "# Match"
   ]
  },
  {
   "cell_type": "markdown",
   "metadata": {
    "colab_type": "text",
    "id": "yLME15K9LpD-"
   },
   "source": [
    "### re.match(pattern,string)"
   ]
  },
  {
   "cell_type": "code",
   "execution_count": 8,
   "metadata": {
    "ExecuteTime": {
     "end_time": "2020-08-27T06:12:12.012433Z",
     "start_time": "2020-08-27T06:12:12.001433Z"
    },
    "colab": {},
    "colab_type": "code",
    "id": "xWU85N5cLpD-"
   },
   "outputs": [],
   "source": [
    "\n",
    "pattern = r\"([a-z]+)([0-9]+)\"\n",
    "string1 = \"asd1213 xyz678\"\n",
    "string2 = \"Basd123angalore\""
   ]
  },
  {
   "cell_type": "code",
   "execution_count": 3,
   "metadata": {
    "ExecuteTime": {
     "end_time": "2020-08-27T06:12:19.845260Z",
     "start_time": "2020-08-27T06:12:19.839263Z"
    },
    "colab": {},
    "colab_type": "code",
    "id": "0D8T-rJOLpEB",
    "outputId": "e5e832e8-d32b-4d1b-874d-746a2cefadea"
   },
   "outputs": [
    {
     "data": {
      "text/plain": [
       "<re.Match object; span=(0, 7), match='asd1213'>"
      ]
     },
     "execution_count": 3,
     "metadata": {},
     "output_type": "execute_result"
    }
   ],
   "source": [
    "match1 = re.match(pattern,string1)\n",
    "match1"
   ]
  },
  {
   "cell_type": "code",
   "execution_count": 7,
   "metadata": {},
   "outputs": [
    {
     "data": {
      "text/plain": [
       "<re.Match object; span=(0, 7), match='basd123'>"
      ]
     },
     "execution_count": 7,
     "metadata": {},
     "output_type": "execute_result"
    }
   ],
   "source": [
    "re.match(pattern,string2)"
   ]
  },
  {
   "cell_type": "code",
   "execution_count": 24,
   "metadata": {
    "ExecuteTime": {
     "end_time": "2020-08-27T06:12:56.546593Z",
     "start_time": "2020-08-27T06:12:56.528560Z"
    },
    "colab": {},
    "colab_type": "code",
    "id": "iE169Y7vLpEG",
    "outputId": "2126e2f1-084a-457a-ddb3-d14867ed9047"
   },
   "outputs": [
    {
     "data": {
      "text/plain": [
       "re.Match"
      ]
     },
     "execution_count": 24,
     "metadata": {},
     "output_type": "execute_result"
    }
   ],
   "source": [
    "type(match1)"
   ]
  },
  {
   "cell_type": "code",
   "execution_count": 25,
   "metadata": {
    "ExecuteTime": {
     "end_time": "2020-08-27T06:13:20.996635Z",
     "start_time": "2020-08-27T06:13:20.978634Z"
    },
    "colab": {},
    "colab_type": "code",
    "id": "C-eR2XkkLpEL",
    "outputId": "10cd39a8-7e2a-4ccd-9fa7-fde11abd8228"
   },
   "outputs": [
    {
     "data": {
      "text/plain": [
       "'asd1213'"
      ]
     },
     "execution_count": 25,
     "metadata": {},
     "output_type": "execute_result"
    }
   ],
   "source": [
    "match1.group()"
   ]
  },
  {
   "cell_type": "code",
   "execution_count": 19,
   "metadata": {
    "ExecuteTime": {
     "end_time": "2020-08-27T06:13:23.522397Z",
     "start_time": "2020-08-27T06:13:23.515363Z"
    },
    "colab": {},
    "colab_type": "code",
    "id": "YPGfTr7eLpER",
    "outputId": "182a2ccd-1836-4852-923e-5f7f499b33e7"
   },
   "outputs": [
    {
     "name": "stdout",
     "output_type": "stream",
     "text": [
      "asd\n"
     ]
    }
   ],
   "source": [
    "print (match1.group(1))"
   ]
  },
  {
   "cell_type": "code",
   "execution_count": 20,
   "metadata": {
    "ExecuteTime": {
     "end_time": "2020-08-27T06:13:31.799334Z",
     "start_time": "2020-08-27T06:13:31.786052Z"
    },
    "colab": {},
    "colab_type": "code",
    "id": "tM6KYyEGLpEW",
    "outputId": "f9912a75-fe50-4592-a8c0-b27efc85c252"
   },
   "outputs": [
    {
     "name": "stdout",
     "output_type": "stream",
     "text": [
      "1213\n"
     ]
    }
   ],
   "source": [
    "print (match1.group(2))"
   ]
  },
  {
   "cell_type": "code",
   "execution_count": 5,
   "metadata": {
    "ExecuteTime": {
     "end_time": "2020-08-27T06:14:28.711363Z",
     "start_time": "2020-08-27T06:14:28.684310Z"
    },
    "colab": {},
    "colab_type": "code",
    "id": "HS_C7B4sLpEo",
    "outputId": "f97aaa3f-43ee-4658-b0b4-d5dcaf941861"
   },
   "outputs": [
    {
     "ename": "AttributeError",
     "evalue": "'NoneType' object has no attribute 'group'",
     "output_type": "error",
     "traceback": [
      "\u001b[1;31m---------------------------------------------------------------------------\u001b[0m",
      "\u001b[1;31mAttributeError\u001b[0m                            Traceback (most recent call last)",
      "\u001b[1;32m<ipython-input-5-f82b2ed4b655>\u001b[0m in \u001b[0;36m<module>\u001b[1;34m\u001b[0m\n\u001b[0;32m      1\u001b[0m \u001b[0mmatch2\u001b[0m \u001b[1;33m=\u001b[0m \u001b[0mre\u001b[0m\u001b[1;33m.\u001b[0m\u001b[0mmatch\u001b[0m\u001b[1;33m(\u001b[0m\u001b[0mpattern\u001b[0m\u001b[1;33m,\u001b[0m\u001b[0mstring2\u001b[0m\u001b[1;33m)\u001b[0m\u001b[1;33m\u001b[0m\u001b[1;33m\u001b[0m\u001b[0m\n\u001b[1;32m----> 2\u001b[1;33m \u001b[0mprint\u001b[0m \u001b[1;33m(\u001b[0m\u001b[0mmatch2\u001b[0m\u001b[1;33m.\u001b[0m\u001b[0mgroup\u001b[0m\u001b[1;33m(\u001b[0m\u001b[1;33m)\u001b[0m\u001b[1;33m)\u001b[0m\u001b[1;33m\u001b[0m\u001b[1;33m\u001b[0m\u001b[0m\n\u001b[0m\u001b[0;32m      3\u001b[0m \u001b[1;31m#throws error because match checks for a match only at the beginning of a string . So, we use search instead\u001b[0m\u001b[1;33m\u001b[0m\u001b[1;33m\u001b[0m\u001b[1;33m\u001b[0m\u001b[0m\n",
      "\u001b[1;31mAttributeError\u001b[0m: 'NoneType' object has no attribute 'group'"
     ]
    }
   ],
   "source": [
    "match2 = re.match(pattern,string2)\n",
    "print (match2.group()) \n",
    "#throws error because match checks for a match only at the beginning of a string . So, we use search instead"
   ]
  },
  {
   "cell_type": "code",
   "execution_count": 33,
   "metadata": {},
   "outputs": [
    {
     "data": {
      "text/plain": [
       "NoneType"
      ]
     },
     "execution_count": 33,
     "metadata": {},
     "output_type": "execute_result"
    }
   ],
   "source": [
    "type(match2)"
   ]
  },
  {
   "cell_type": "markdown",
   "metadata": {
    "colab_type": "text",
    "id": "nG9ky_LrLpEt"
   },
   "source": [
    "# Search "
   ]
  },
  {
   "cell_type": "markdown",
   "metadata": {
    "colab_type": "text",
    "id": "4y8ktb9zLpEt"
   },
   "source": [
    "### re.search(pattern,string) "
   ]
  },
  {
   "cell_type": "code",
   "execution_count": 10,
   "metadata": {
    "ExecuteTime": {
     "end_time": "2020-08-27T06:17:53.446445Z",
     "start_time": "2020-08-27T06:17:53.427489Z"
    },
    "colab": {},
    "colab_type": "code",
    "id": "QFFe-_AvLpEv"
   },
   "outputs": [],
   "source": [
    "string2 = 'AHSGJskjahdkadk23123 POIcvfsjdhfds21876437'"
   ]
  },
  {
   "cell_type": "code",
   "execution_count": 18,
   "metadata": {},
   "outputs": [],
   "source": [
    "pattern = r\"[a-z]+[0-9]+\""
   ]
  },
  {
   "cell_type": "code",
   "execution_count": 19,
   "metadata": {
    "ExecuteTime": {
     "end_time": "2020-08-27T06:19:30.949450Z",
     "start_time": "2020-08-27T06:19:30.937452Z"
    },
    "colab": {},
    "colab_type": "code",
    "id": "WnIF-KeCLpEz"
   },
   "outputs": [],
   "source": [
    "match2 = re.search(pattern,string2)"
   ]
  },
  {
   "cell_type": "code",
   "execution_count": 16,
   "metadata": {},
   "outputs": [],
   "source": [
    "match_match = re.match(pattern,string2)"
   ]
  },
  {
   "cell_type": "code",
   "execution_count": 17,
   "metadata": {},
   "outputs": [
    {
     "ename": "AttributeError",
     "evalue": "'NoneType' object has no attribute 'group'",
     "output_type": "error",
     "traceback": [
      "\u001b[1;31m---------------------------------------------------------------------------\u001b[0m",
      "\u001b[1;31mAttributeError\u001b[0m                            Traceback (most recent call last)",
      "\u001b[1;32m<ipython-input-17-9bc2ad7019d4>\u001b[0m in \u001b[0;36m<module>\u001b[1;34m\u001b[0m\n\u001b[1;32m----> 1\u001b[1;33m \u001b[0mmatch_match\u001b[0m\u001b[1;33m.\u001b[0m\u001b[0mgroup\u001b[0m\u001b[1;33m(\u001b[0m\u001b[1;33m)\u001b[0m\u001b[1;33m\u001b[0m\u001b[1;33m\u001b[0m\u001b[0m\n\u001b[0m",
      "\u001b[1;31mAttributeError\u001b[0m: 'NoneType' object has no attribute 'group'"
     ]
    }
   ],
   "source": [
    "match_match.group()"
   ]
  },
  {
   "cell_type": "code",
   "execution_count": 22,
   "metadata": {},
   "outputs": [
    {
     "data": {
      "text/plain": [
       "'skjahdkadk23123'"
      ]
     },
     "execution_count": 22,
     "metadata": {},
     "output_type": "execute_result"
    }
   ],
   "source": [
    "match2.group()"
   ]
  },
  {
   "cell_type": "code",
   "execution_count": 23,
   "metadata": {},
   "outputs": [
    {
     "data": {
      "text/plain": [
       "['skjahdkadk23123', 'cvfsjdhfds21876437']"
      ]
     },
     "execution_count": 23,
     "metadata": {},
     "output_type": "execute_result"
    }
   ],
   "source": [
    "match3 = re.findall(pattern,string2)\n",
    "match3"
   ]
  },
  {
   "cell_type": "code",
   "execution_count": 59,
   "metadata": {},
   "outputs": [],
   "source": [
    "pattern = r\"([a-z]+)([0-9]+)\""
   ]
  },
  {
   "cell_type": "code",
   "execution_count": 43,
   "metadata": {
    "ExecuteTime": {
     "end_time": "2020-08-27T06:19:34.815024Z",
     "start_time": "2020-08-27T06:19:34.806317Z"
    },
    "colab": {},
    "colab_type": "code",
    "id": "b5uqsE5bLpE3",
    "outputId": "2eb33afa-4b2a-4222-d14e-8babdc4e06b4"
   },
   "outputs": [
    {
     "data": {
      "text/plain": [
       "'([a-z]+)([0-9]+)'"
      ]
     },
     "execution_count": 43,
     "metadata": {},
     "output_type": "execute_result"
    }
   ],
   "source": [
    "pattern"
   ]
  },
  {
   "cell_type": "code",
   "execution_count": 36,
   "metadata": {
    "ExecuteTime": {
     "end_time": "2020-08-27T06:19:35.302191Z",
     "start_time": "2020-08-27T06:19:35.294189Z"
    },
    "colab": {},
    "colab_type": "code",
    "id": "urAJ8s_ZLpE5",
    "outputId": "944d87b1-3a23-4736-f685-12e52309d9b6"
   },
   "outputs": [
    {
     "data": {
      "text/plain": [
       "<re.Match object; span=(5, 20), match='skjahdkadk23123'>"
      ]
     },
     "execution_count": 36,
     "metadata": {},
     "output_type": "execute_result"
    }
   ],
   "source": [
    "match2"
   ]
  },
  {
   "cell_type": "code",
   "execution_count": 37,
   "metadata": {
    "ExecuteTime": {
     "end_time": "2020-08-27T06:20:35.531884Z",
     "start_time": "2020-08-27T06:20:35.519883Z"
    },
    "colab": {},
    "colab_type": "code",
    "id": "2qIYVCefLpE9",
    "outputId": "fe3b1acb-caf5-4835-db0d-c6d7115255dd",
    "scrolled": true
   },
   "outputs": [
    {
     "data": {
      "text/plain": [
       "re.Match"
      ]
     },
     "execution_count": 37,
     "metadata": {},
     "output_type": "execute_result"
    }
   ],
   "source": [
    "type(match2)"
   ]
  },
  {
   "cell_type": "code",
   "execution_count": 38,
   "metadata": {
    "ExecuteTime": {
     "end_time": "2020-08-27T06:20:37.325831Z",
     "start_time": "2020-08-27T06:20:37.303794Z"
    },
    "colab": {},
    "colab_type": "code",
    "id": "7JDHc6HNLpE_",
    "outputId": "113ee569-f402-4b44-c3de-0b662ba18ed4"
   },
   "outputs": [
    {
     "data": {
      "text/plain": [
       "(5, 20)"
      ]
     },
     "execution_count": 38,
     "metadata": {},
     "output_type": "execute_result"
    }
   ],
   "source": [
    "match2.span()[0],match2.span()[1]"
   ]
  },
  {
   "cell_type": "code",
   "execution_count": 39,
   "metadata": {},
   "outputs": [
    {
     "data": {
      "text/plain": [
       "'skjahdkadk23123'"
      ]
     },
     "execution_count": 39,
     "metadata": {},
     "output_type": "execute_result"
    }
   ],
   "source": [
    "match2.group()"
   ]
  },
  {
   "cell_type": "code",
   "execution_count": 146,
   "metadata": {
    "ExecuteTime": {
     "end_time": "2020-08-27T06:21:23.585012Z",
     "start_time": "2020-08-27T06:21:23.572973Z"
    },
    "colab": {},
    "colab_type": "code",
    "id": "iAzAmBEaLpFB",
    "outputId": "1f28574c-e5de-4970-ffa4-0512cf60221b"
   },
   "outputs": [
    {
     "data": {
      "text/plain": [
       "'skjahdkadk23123'"
      ]
     },
     "execution_count": 146,
     "metadata": {},
     "output_type": "execute_result"
    }
   ],
   "source": [
    "match2.group(0)"
   ]
  },
  {
   "cell_type": "code",
   "execution_count": 147,
   "metadata": {
    "ExecuteTime": {
     "end_time": "2020-08-27T06:22:06.027321Z",
     "start_time": "2020-08-27T06:22:06.021322Z"
    },
    "colab": {},
    "colab_type": "code",
    "id": "FVZIyGFpLpFG",
    "outputId": "9d75dd4e-f14c-4f4f-ad81-6c981f9a532e"
   },
   "outputs": [
    {
     "data": {
      "text/plain": [
       "'skjahdkadk'"
      ]
     },
     "execution_count": 147,
     "metadata": {},
     "output_type": "execute_result"
    }
   ],
   "source": [
    "match2.group(1)"
   ]
  },
  {
   "cell_type": "code",
   "execution_count": 148,
   "metadata": {
    "ExecuteTime": {
     "end_time": "2020-08-27T06:22:13.386441Z",
     "start_time": "2020-08-27T06:22:13.371464Z"
    },
    "colab": {},
    "colab_type": "code",
    "id": "BjfiWDsbLpFJ",
    "outputId": "a3a742c1-0134-45ca-8a14-44b34ed15d98"
   },
   "outputs": [
    {
     "data": {
      "text/plain": [
       "'23123'"
      ]
     },
     "execution_count": 148,
     "metadata": {},
     "output_type": "execute_result"
    }
   ],
   "source": [
    "match2.group(2)"
   ]
  },
  {
   "cell_type": "code",
   "execution_count": 156,
   "metadata": {
    "ExecuteTime": {
     "end_time": "2020-08-27T06:29:45.506887Z",
     "start_time": "2020-08-27T06:29:45.497385Z"
    },
    "colab": {},
    "colab_type": "code",
    "id": "zSxVannELpFM",
    "outputId": "80b57de3-8445-49f7-af4e-982d9b204171"
   },
   "outputs": [
    {
     "name": "stdout",
     "output_type": "stream",
     "text": [
      "<class 're.Match'>\n",
      "<class 'NoneType'>\n",
      "<re.Match object; span=(4, 10), match='def456'>\n",
      "None\n"
     ]
    }
   ],
   "source": [
    "string = '123 def456 ghi789'\n",
    "pattern = r'([A-z]+)([0-9]+)'\n",
    "match = re.search(pattern, string)\n",
    "match_2 = re.match(pattern, string)\n",
    "print (type(match))\n",
    "print (type(match_2))\n",
    "print (match)\n",
    "print (match_2)"
   ]
  },
  {
   "cell_type": "code",
   "execution_count": 150,
   "metadata": {
    "ExecuteTime": {
     "end_time": "2020-08-27T06:24:45.458596Z",
     "start_time": "2020-08-27T06:24:45.446505Z"
    },
    "colab": {},
    "colab_type": "code",
    "id": "_S_L4zw9LpFP",
    "outputId": "710ef5fb-d8ea-4efd-b909-634729fa0beb",
    "scrolled": true
   },
   "outputs": [
    {
     "name": "stdout",
     "output_type": "stream",
     "text": [
      "def456\n",
      "def\n",
      "456\n"
     ]
    }
   ],
   "source": [
    "print (match.group(0))\n",
    "print (match.group(1))\n",
    "print (match.group(2))"
   ]
  },
  {
   "cell_type": "code",
   "execution_count": 157,
   "metadata": {
    "ExecuteTime": {
     "end_time": "2020-08-27T06:30:48.551439Z",
     "start_time": "2020-08-27T06:30:48.528921Z"
    },
    "colab": {},
    "colab_type": "code",
    "id": "94HPHu1zLpFR",
    "outputId": "edfaa7f0-4307-4e55-ee02-53744d68d8f8"
   },
   "outputs": [
    {
     "name": "stdout",
     "output_type": "stream",
     "text": [
      "<re.Match object; span=(3, 6), match='Bng'>\n",
      "None\n",
      "<re.Match object; span=(0, 3), match='Bng'>\n"
     ]
    }
   ],
   "source": [
    "print(re.search(r'([^aeiou]+)','eiuBngalore',re.IGNORECASE))\n",
    "print(re.match(r'([^aeiou]+)','eiuBngalore',re.IGNORECASE))\n",
    "print(re.match(r'([^aeiou]+)','Bngalore',re.IGNORECASE))"
   ]
  },
  {
   "cell_type": "code",
   "execution_count": 158,
   "metadata": {
    "ExecuteTime": {
     "end_time": "2020-08-27T06:31:58.527615Z",
     "start_time": "2020-08-27T06:31:58.513619Z"
    },
    "colab": {},
    "colab_type": "code",
    "id": "XUv1d-1ZLpFU",
    "outputId": "ef2d4edf-e47b-41c3-d096-7f138d4fc70e"
   },
   "outputs": [
    {
     "data": {
      "text/plain": [
       "''"
      ]
     },
     "execution_count": 158,
     "metadata": {},
     "output_type": "execute_result"
    }
   ],
   "source": [
    "pattern1 = r\"\"\n",
    "v1=re.search(pattern1,string3)\n",
    "v1.group()  #displays the first matched result "
   ]
  },
  {
   "cell_type": "code",
   "execution_count": 42,
   "metadata": {},
   "outputs": [
    {
     "data": {
      "text/plain": [
       "['ab', 'cd']"
      ]
     },
     "execution_count": 42,
     "metadata": {},
     "output_type": "execute_result"
    }
   ],
   "source": [
    "string = 'abcd123'\n",
    "pattern = '[a-z][a-z]'\n",
    "re.findall(pattern, string)"
   ]
  },
  {
   "cell_type": "markdown",
   "metadata": {
    "colab_type": "text",
    "id": "yD_xkLHxLpFY"
   },
   "source": [
    "## Sub, Subn, Split"
   ]
  },
  {
   "cell_type": "markdown",
   "metadata": {
    "colab_type": "text",
    "id": "dfbGe16KLpFZ"
   },
   "source": [
    "### re.sub(pattern,string_replacing_with,string_to_be_replaced) -----> substitution as per the pattern\n",
    "### re.subn(pattern,string_replacing_with,string_to_be_replaced) -----> substitution as per the pattern along with number of time substitution happened\n",
    "### re.split(pattern,string) -----> split the string by the pattern"
   ]
  },
  {
   "cell_type": "code",
   "execution_count": 162,
   "metadata": {
    "ExecuteTime": {
     "end_time": "2020-08-27T06:38:29.633504Z",
     "start_time": "2020-08-27T06:38:29.617501Z"
    },
    "colab": {},
    "colab_type": "code",
    "id": "B2a-XgG0LpFZ",
    "outputId": "9f27b9cc-da1d-4543-892d-b6be9caef0b2",
    "scrolled": true
   },
   "outputs": [
    {
     "data": {
      "text/plain": [
       "'ALPHABETS123 ALPHABETS ALPHABETS 234asfdf'"
      ]
     },
     "execution_count": 162,
     "metadata": {},
     "output_type": "execute_result"
    }
   ],
   "source": [
    "re.sub('[A-z]+', 'ALPHABETS', 'abc123 kjhkhk oipiopi 234asfdf', count=3)"
   ]
  },
  {
   "cell_type": "code",
   "execution_count": 163,
   "metadata": {
    "ExecuteTime": {
     "end_time": "2020-08-27T06:38:31.326775Z",
     "start_time": "2020-08-27T06:38:31.303205Z"
    },
    "colab": {},
    "colab_type": "code",
    "id": "KE-wGmEbLpFc",
    "outputId": "f80c2380-cbcc-4fdf-f3c2-17072ad7b6b2"
   },
   "outputs": [
    {
     "data": {
      "text/plain": [
       "('ALPHABETS123 ALPHABETS oipiopi 234asfdf', 2)"
      ]
     },
     "execution_count": 163,
     "metadata": {},
     "output_type": "execute_result"
    }
   ],
   "source": [
    "re.subn('[A-z]+', 'ALPHABETS', 'abc123 kjhkhk oipiopi 234asfdf', count=2)"
   ]
  },
  {
   "cell_type": "code",
   "execution_count": 164,
   "metadata": {
    "ExecuteTime": {
     "end_time": "2020-08-27T06:38:41.353015Z",
     "start_time": "2020-08-27T06:38:41.327998Z"
    },
    "colab": {},
    "colab_type": "code",
    "id": "ZKcuIz2pLpFh",
    "outputId": "eee9507e-e4d8-4d89-ad9f-ffaec0b9098d"
   },
   "outputs": [
    {
     "data": {
      "text/plain": [
       "[':', ':']"
      ]
     },
     "execution_count": 164,
     "metadata": {},
     "output_type": "execute_result"
    }
   ],
   "source": [
    "#To parse a date format from MM:DD:YYY to MM-DD-YYY\n",
    "year=\"Today's date is 30:09:2016\"\n",
    "pattern2=r\"(:)\"   \n",
    "#searches for : everywhere nd replaces with -\n",
    "re.findall(pattern2,year)"
   ]
  },
  {
   "cell_type": "code",
   "execution_count": 165,
   "metadata": {
    "ExecuteTime": {
     "end_time": "2020-08-27T06:40:12.272382Z",
     "start_time": "2020-08-27T06:40:12.259418Z"
    },
    "colab": {},
    "colab_type": "code",
    "id": "7fkC75SiLpFp",
    "outputId": "ec2f63b4-8a54-411e-9236-f44301196c72"
   },
   "outputs": [
    {
     "data": {
      "text/plain": [
       "\"Today's date is 30-09-2016\""
      ]
     },
     "execution_count": 165,
     "metadata": {},
     "output_type": "execute_result"
    }
   ],
   "source": [
    "re.sub(pattern2,\"-\",year)"
   ]
  },
  {
   "cell_type": "code",
   "execution_count": 166,
   "metadata": {
    "ExecuteTime": {
     "end_time": "2020-08-27T06:40:13.135177Z",
     "start_time": "2020-08-27T06:40:13.127176Z"
    },
    "colab": {},
    "colab_type": "code",
    "id": "cMl9vX3cLpFr",
    "outputId": "808a6437-716a-4d15-e1ee-5eb5039045a0"
   },
   "outputs": [
    {
     "data": {
      "text/plain": [
       "(\"Today's date is 30-09-2016\", 2)"
      ]
     },
     "execution_count": 166,
     "metadata": {},
     "output_type": "execute_result"
    }
   ],
   "source": [
    "re.subn(pattern2,\"-\",year)"
   ]
  },
  {
   "cell_type": "code",
   "execution_count": 167,
   "metadata": {
    "ExecuteTime": {
     "end_time": "2020-08-27T06:40:13.586878Z",
     "start_time": "2020-08-27T06:40:13.575878Z"
    },
    "colab": {},
    "colab_type": "code",
    "id": "J94VwumRLpFv",
    "outputId": "de3c785c-30a4-4397-f119-448b3ac9bddf"
   },
   "outputs": [
    {
     "name": "stdout",
     "output_type": "stream",
     "text": [
      "the substituted sentence is  He was ____ disguised but captured ____ by police.\n",
      "the adverbs in the sentence are ['carefully', 'quickly']\n"
     ]
    }
   ],
   "source": [
    "text = \"He was carefully disguised but captured quickly by police.\"\n",
    "\n",
    "pattern3=r\"(\\w+ly)\" \n",
    "print ('the substituted sentence is ', re.sub(pattern3,\"____\",text))\n",
    "print ('the adverbs in the sentence are', re.findall(pattern3,text))"
   ]
  },
  {
   "cell_type": "code",
   "execution_count": 168,
   "metadata": {
    "ExecuteTime": {
     "end_time": "2020-08-27T06:40:14.070886Z",
     "start_time": "2020-08-27T06:40:14.050887Z"
    },
    "colab": {},
    "colab_type": "code",
    "id": "A54UnPBrLpFy",
    "outputId": "e0909e9b-5823-427b-f4e8-99538d692628"
   },
   "outputs": [
    {
     "data": {
      "text/plain": [
       "['uygjgjg', 'hkhkjhk', 'nmvhjkhj']"
      ]
     },
     "execution_count": 168,
     "metadata": {},
     "output_type": "execute_result"
    }
   ],
   "source": [
    "re.split(r'\\d+','uygjgjg45456667hkhkjhk7665354390980nmvhjkhj')"
   ]
  },
  {
   "cell_type": "code",
   "execution_count": null,
   "metadata": {
    "colab": {},
    "colab_type": "code",
    "id": "EWSDtAZQLpF1"
   },
   "outputs": [],
   "source": []
  },
  {
   "cell_type": "markdown",
   "metadata": {
    "colab_type": "text",
    "id": "IcmBiT2qLpF5"
   },
   "source": [
    "# Practise Questions"
   ]
  },
  {
   "cell_type": "markdown",
   "metadata": {
    "colab_type": "text",
    "id": "A31mygPBLpF5"
   },
   "source": [
    "###### Exercise 1 \n",
    "    \n",
    "Write a Python program to remove leading zeros from an IP address. \n",
    "Input: 216.0008.094.196 \n",
    "Output : 216.8.94.196"
   ]
  },
  {
   "cell_type": "markdown",
   "metadata": {
    "colab_type": "text",
    "id": "XPiW5KlvLpF5"
   },
   "source": [
    "###### Exercise 2\n",
    "\n",
    "Write a Python program to convert a date of yyyy-mm-dd format to dd-mm-yyyy format.\n",
    "\n",
    "Input: 2026-01-02 \n",
    "\n",
    "\n",
    "Output : 01-02-2026"
   ]
  },
  {
   "cell_type": "markdown",
   "metadata": {
    "colab_type": "text",
    "id": "sg-fFxd_LpF5"
   },
   "source": [
    "###### Exercise 3:\n",
    "\n",
    "Zara has a text article and wants to know the important context of the text. Write a regex pattern that returns all the important words from the text . \n",
    "Note: According to Zara, important words are  the words enclosed in quotes (single or double)\n",
    "\n",
    "EG: Input : \"Python\", 'PHP', \"Java\" are the important languages that are used now a days\n",
    "Output : ['Python', 'PHP', 'Java']\n"
   ]
  },
  {
   "cell_type": "markdown",
   "metadata": {
    "colab_type": "text",
    "id": "12U2nokyLpF6"
   },
   "source": [
    "###### Exercise 4:\n",
    "\n",
    "Write a regular expression that finds all IP addresses listed in an input text and replaces it with the new string . \n",
    "\n",
    "Eg:; Input : text = 'IPs : 173.254.28.78 or 167.81.178.97 are the IPs listed'\n",
    "             to_replace = '127.0.0.1'\n",
    "\n",
    "Output : IPs : 127.0.0.1 or 127.0.0.1 are the IPs listed\n"
   ]
  },
  {
   "cell_type": "markdown",
   "metadata": {
    "colab_type": "text",
    "collapsed": true,
    "id": "ihPvz9-8LpF6"
   },
   "source": [
    "##### Exercise 5 :\n",
    "\n",
    "find all the phone numbers from a given text using a single regex \n",
    "\n",
    "Inputs :                                  \n",
    "Number  1 : 000-002-08-5678               \n",
    "Numbers are : 78-7328                     \n",
    "More numbers : +91-02-008-7892    \n",
    "\n",
    "Outputs:\n",
    "000-002-08-567\n",
    "78-7328\n",
    "+91-02-008-789\n",
    "\n",
    "\n",
    "Assume that the codes cannot exceed 3 numbers . "
   ]
  },
  {
   "cell_type": "markdown",
   "metadata": {
    "colab_type": "text",
    "id": "XX3GWaKzLpF7"
   },
   "source": [
    "###### Exercise 6 :\n",
    "   \n",
    "Extract dates from the following text\n",
    "\n",
    "On May 13, 1998, at 15:45 hours, India secretly conducted a series of underground nuclear tests with five bombs in Pokhran, Rajasthan. Although this was not the first time the country was testing its nuclear weapons (the first successful test took place in 1974 under the codename “Smiling Buddha”), this one was certainly the most memorable if one takes into consideration the sheer effect it had on its states and neighbouring countries. On May 15, 1998, shortly after the detonation of all five warheads, then Prime Minister Atal Bihari Vajpayee declared India a full-fledged nuclear state.\n",
    "  \n",
    "  Ans:\n",
    "May 13, 1998 \n",
    "May 15, 1998\n"
   ]
  },
  {
   "cell_type": "markdown",
   "metadata": {
    "colab_type": "text",
    "id": "OmsAIflOLpF7"
   },
   "source": [
    "###### Exercise 7:\n",
    "\n",
    "Extract all the proper nouns from the text - Proper nouns are those words which have all capitalised or the first character capitalized \n",
    "\n",
    "The President of the United States (POTUS /ˈpoʊtəs/ POH-təs)[note 2] is the head of state and head of government of the United States of America. The president directs the executive branch of the federal government and is the commander-in-chief of the United States Armed Forces.\n",
    "\n",
    "Ans :\n",
    "The\n",
    "President\n",
    "United\n",
    "States\n",
    "POTUS\n",
    "POH\n",
    "United\n",
    "States\n",
    "America\n",
    "The\n",
    "United\n",
    "States\n",
    "Armed\n",
    "Forces\n"
   ]
  },
  {
   "cell_type": "code",
   "execution_count": null,
   "metadata": {
    "colab": {},
    "colab_type": "code",
    "id": "93KY236RLpF8"
   },
   "outputs": [],
   "source": []
  },
  {
   "cell_type": "code",
   "execution_count": null,
   "metadata": {},
   "outputs": [],
   "source": []
  },
  {
   "cell_type": "code",
   "execution_count": null,
   "metadata": {},
   "outputs": [],
   "source": []
  }
 ],
 "metadata": {
  "colab": {
   "collapsed_sections": [
    "DG-PYnnfLpA8",
    "O0D7aHb_LpA9",
    "6UQKWLumLpA_",
    "NIHgef6OLpCS",
    "Y3LCKmEKLpCT",
    "nYqCEfY2LpCj",
    "dL9klbvfLpDf",
    "yLME15K9LpD-",
    "4y8ktb9zLpEt",
    "dfbGe16KLpFZ"
   ],
   "name": "Week_6_REGEX.ipynb",
   "provenance": []
  },
  "kernelspec": {
   "display_name": "Python 3",
   "language": "python",
   "name": "python3"
  },
  "language_info": {
   "codemirror_mode": {
    "name": "ipython",
    "version": 3
   },
   "file_extension": ".py",
   "mimetype": "text/x-python",
   "name": "python",
   "nbconvert_exporter": "python",
   "pygments_lexer": "ipython3",
   "version": "3.8.8"
  }
 },
 "nbformat": 4,
 "nbformat_minor": 1
}
