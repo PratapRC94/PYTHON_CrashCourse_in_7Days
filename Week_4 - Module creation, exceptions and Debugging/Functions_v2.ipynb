{
 "cells": [
  {
   "cell_type": "markdown",
   "metadata": {},
   "source": [
    "## Using functions in a script"
   ]
  },
  {
   "cell_type": "markdown",
   "metadata": {},
   "source": [
    "A special variable called __\\_\\_name____ provides the functionality of the __main__ function. As it is an in-built variable in python language, we can write a program just to see the value of this variable as below."
   ]
  },
  {
   "cell_type": "code",
   "execution_count": 1,
   "metadata": {},
   "outputs": [
    {
     "name": "stdout",
     "output_type": "stream",
     "text": [
      "The variable __name__ tells me which context this file is running in.\n",
      "The value of __name__ is: '__main__'\n"
     ]
    }
   ],
   "source": [
    "print(\"The variable __name__ tells me which context this file is running in.\")\n",
    "print(\"The value of __name__ is:\", repr(__name__))"
   ]
  },
  {
   "cell_type": "code",
   "execution_count": 2,
   "metadata": {},
   "outputs": [],
   "source": [
    "def simple_add(x, y):\n",
    "    return x+y\n",
    "\n",
    "def simple_mul(x, y):\n",
    "    return x*y"
   ]
  },
  {
   "cell_type": "code",
   "execution_count": 3,
   "metadata": {},
   "outputs": [
    {
     "data": {
      "text/plain": [
       "5"
      ]
     },
     "execution_count": 3,
     "metadata": {},
     "output_type": "execute_result"
    }
   ],
   "source": [
    "simple_add(2, 3)"
   ]
  },
  {
   "cell_type": "code",
   "execution_count": 4,
   "metadata": {},
   "outputs": [
    {
     "data": {
      "text/plain": [
       "20"
      ]
     },
     "execution_count": 4,
     "metadata": {},
     "output_type": "execute_result"
    }
   ],
   "source": [
    "simple_mul(4, 5)"
   ]
  },
  {
   "cell_type": "code",
   "execution_count": 5,
   "metadata": {},
   "outputs": [
    {
     "name": "stdout",
     "output_type": "stream",
     "text": [
      "13\n",
      "42\n"
     ]
    }
   ],
   "source": [
    "if __name__ == '__main__':\n",
    "    a, b = 6, 7\n",
    "    print(simple_add(a, b))\n",
    "    print(simple_mul(a, b))"
   ]
  },
  {
   "cell_type": "markdown",
   "metadata": {},
   "source": [
    "The second feature is about importing one python script into another. \n",
    "\n",
    "In such a scenario, there seem to be two different scopes which can be considered as the main() function. The first scope can be the __\\_\\_main\\____ variable of the currently running program and the second the scope of the __\\_\\_main\\____ variable of the imported script used in the current program."
   ]
  },
  {
   "cell_type": "markdown",
   "metadata": {},
   "source": [
    "The below function is defined in a python file as example.py"
   ]
  },
  {
   "cell_type": "code",
   "execution_count": 6,
   "metadata": {},
   "outputs": [
    {
     "name": "stdout",
     "output_type": "stream",
     "text": [
      "The value of __name__ is  __main__\n"
     ]
    }
   ],
   "source": [
    "def temp():\n",
    "    print('The value of __name__ is ', __name__)\n",
    "\n",
    "if __name__ == '__main__':\n",
    "    temp()"
   ]
  },
  {
   "cell_type": "code",
   "execution_count": 7,
   "metadata": {},
   "outputs": [
    {
     "name": "stdout",
     "output_type": "stream",
     "text": [
      "Running the imported script\n",
      "The value of __name__ is  example\n",
      "\n",
      "\n",
      "Running the current script\n",
      "The value of __name__ is  __main__\n"
     ]
    }
   ],
   "source": [
    "import example\n",
    "\n",
    "print('Running the imported script')\n",
    "example.temp()\n",
    "\n",
    "print('\\n')\n",
    "print('Running the current script')\n",
    "print ('The value of __name__ is ', __name__)"
   ]
  },
  {
   "cell_type": "markdown",
   "metadata": {},
   "source": [
    "## Complete code in procedural style"
   ]
  },
  {
   "cell_type": "code",
   "execution_count": 8,
   "metadata": {},
   "outputs": [
    {
     "name": "stdout",
     "output_type": "stream",
     "text": [
      "This is my main function that is going to be called first\n",
      "Now you are in the add function\n",
      "13\n",
      "Now you are in the multiply function\n",
      "42\n"
     ]
    }
   ],
   "source": [
    "def simple_add(x, y):\n",
    "    print(\"Now you are in the add function\")\n",
    "    return x+y\n",
    "\n",
    "def simple_mul(x, y):\n",
    "    print(\"Now you are in the multiply function\")\n",
    "    return x*y\n",
    "\n",
    "def main():\n",
    "    a, b = 6, 7\n",
    "    print(\"This is my main function that is going to be called first\")\n",
    "    print(simple_add(a, b))\n",
    "    print(simple_mul(a, b))\n",
    "\n",
    "if __name__ == '__main__':\n",
    "    main()"
   ]
  },
  {
   "cell_type": "markdown",
   "metadata": {},
   "source": [
    "## Complete code in Object oriented style"
   ]
  },
  {
   "cell_type": "markdown",
   "metadata": {},
   "source": [
    "The first method __\\_\\_init\\____() is a special method, which is called class constructor or initialization method that Python calls when you create a new instance of this class."
   ]
  },
  {
   "cell_type": "code",
   "execution_count": 9,
   "metadata": {},
   "outputs": [
    {
     "name": "stdout",
     "output_type": "stream",
     "text": [
      "This is called first and is used for any kind of initialization\n",
      "Next the main function is executed\n",
      "Now you are in the add function\n",
      "Sum of numbers =  13\n",
      "Now you are in the multiply function\n",
      "Multiplication of numbers =  42\n"
     ]
    }
   ],
   "source": [
    "class Sample:\n",
    "    \n",
    "    def __init__(self, a, b):\n",
    "        print(\"This is called first and is used for any kind of initialization\")\n",
    "        self.x = a\n",
    "        self.y = b\n",
    "    \n",
    "    def simple_add(self):\n",
    "        print(\"Now you are in the add function\")\n",
    "        return self.x+self.y\n",
    "    \n",
    "    def simple_mul(self):\n",
    "        print(\"Now you are in the multiply function\")\n",
    "        return self.x*self.y\n",
    "    \n",
    "    def main(self):\n",
    "        print(\"Next the main function is executed\")\n",
    "        print('Sum of numbers = ', simple_add(a, b))\n",
    "        print('Multiplication of numbers = ',simple_mul(a, b))\n",
    "\n",
    "if __name__ == '__main__':\n",
    "    obj = Sample(6, 7)\n",
    "    obj.main()"
   ]
  },
  {
   "cell_type": "code",
   "execution_count": null,
   "metadata": {},
   "outputs": [],
   "source": []
  }
 ],
 "metadata": {
  "kernelspec": {
   "display_name": "Python 3",
   "language": "python",
   "name": "python3"
  },
  "language_info": {
   "codemirror_mode": {
    "name": "ipython",
    "version": 3
   },
   "file_extension": ".py",
   "mimetype": "text/x-python",
   "name": "python",
   "nbconvert_exporter": "python",
   "pygments_lexer": "ipython3",
   "version": "3.8.3"
  }
 },
 "nbformat": 4,
 "nbformat_minor": 4
}
