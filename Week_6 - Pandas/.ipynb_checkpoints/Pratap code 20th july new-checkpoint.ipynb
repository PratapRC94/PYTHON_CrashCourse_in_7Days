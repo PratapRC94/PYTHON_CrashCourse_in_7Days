{
 "cells": [
  {
   "cell_type": "code",
   "execution_count": 1,
   "metadata": {},
   "outputs": [
    {
     "ename": "SyntaxError",
     "evalue": "invalid syntax (<ipython-input-1-2f46b7511ad6>, line 1)",
     "output_type": "error",
     "traceback": [
      "\u001b[1;36m  File \u001b[1;32m\"<ipython-input-1-2f46b7511ad6>\"\u001b[1;36m, line \u001b[1;32m1\u001b[0m\n\u001b[1;33m    1.Create dataframe from the API_Response dictionary (considering this a json input)\u001b[0m\n\u001b[1;37m      ^\u001b[0m\n\u001b[1;31mSyntaxError\u001b[0m\u001b[1;31m:\u001b[0m invalid syntax\n"
     ]
    }
   ],
   "source": [
    "1.Create dataframe from the API_Response dictionary (considering this a json input)\n",
    "\n",
    "2. in that dataframe, all the keys of each dictionary will be the columns and values of each keys are the row values\n",
    "\n",
    "3. now just filter out the required columns(keys) viz. synonyms for all the variations and name for the company names"
   ]
  },
  {
   "cell_type": "code",
   "execution_count": 2,
   "metadata": {},
   "outputs": [],
   "source": [
    "import numpy as np\n",
    "import pandas as pd\n",
    "API_Response = {\"ID1\":{\"acquisitions\":[],\"be\":[\"Security\"],\"duns_num\":[\"943069856\"],\"email_domain\":[\"bridgei2i.com\"],\n",
    "                \"id\":\"5eb9be69c50c3cfb74bb64d5\",\"is_partner\":\"false\",\"name\":\"BRIDGEi2i\",\"partner_be_id\":\"\",\"stock_ticker\":[\"\"],\n",
    "                \"synonyms\":[\"Bi2i\", \"BRIDGEi2i\",\"BRIDGEi2i Analytics\",\"BRIDGEi2i Analytics Pvt Ltd\"],\n",
    "                \"update_date\":\"2020-06-16T03:19:00Z\",\"docid\":\"5eb9be69c50c3cfb74bb64d5\",\"tracktimestamp\":\"2021-06-11T21:46:20.688Z\",\n",
    "                \"source\":\"abc\",\"repository\":\"CDC\",\"component\":\"abc\",\"action\":\"ADD\",\"mimetype\":\"text/html\",\"tikaparsingneeded\":\"false\"},\n",
    "                \"ID2\":{\"acquisitions\":[],\"be\":[\"Security\"],\"duns_num\":[\"943069856\"],\"email_domain\":[\"bridgei2i.com\"],\"id\":\"5eb9be69c50c3cfb74bb64d5\",\n",
    "                \"is_partner\":\"false\",\"name\":\"Google\",\"partner_be_id\":\"\",\"stock_ticker\":[\"\"],\"synonyms\":[\"G\", \"GIndia\"],\n",
    "                \"update_date\":\"2020-06-16T03:19:00Z\",\"docid\":\"5eb9be69c50c3cfb74bb64d5\",\"tracktimestamp\":\"2021-06-11T21:46:20.688Z\",\n",
    "                \"source\":\"abc\",\"repository\":\"CDC\",\"component\":\"abc\",\"action\":\"ADD\",\"mimetype\":\"text/html\",\"tikaparsingneeded\":\"false\"}}\n",
    "                "
   ]
  },
  {
   "cell_type": "code",
   "execution_count": 3,
   "metadata": {},
   "outputs": [
    {
     "data": {
      "text/html": [
       "<div>\n",
       "<style scoped>\n",
       "    .dataframe tbody tr th:only-of-type {\n",
       "        vertical-align: middle;\n",
       "    }\n",
       "\n",
       "    .dataframe tbody tr th {\n",
       "        vertical-align: top;\n",
       "    }\n",
       "\n",
       "    .dataframe thead th {\n",
       "        text-align: right;\n",
       "    }\n",
       "</style>\n",
       "<table border=\"1\" class=\"dataframe\">\n",
       "  <thead>\n",
       "    <tr style=\"text-align: right;\">\n",
       "      <th></th>\n",
       "      <th>acquisitions</th>\n",
       "      <th>be</th>\n",
       "      <th>duns_num</th>\n",
       "      <th>email_domain</th>\n",
       "      <th>id</th>\n",
       "      <th>is_partner</th>\n",
       "      <th>name</th>\n",
       "      <th>partner_be_id</th>\n",
       "      <th>stock_ticker</th>\n",
       "      <th>synonyms</th>\n",
       "      <th>update_date</th>\n",
       "      <th>docid</th>\n",
       "      <th>tracktimestamp</th>\n",
       "      <th>source</th>\n",
       "      <th>repository</th>\n",
       "      <th>component</th>\n",
       "      <th>action</th>\n",
       "      <th>mimetype</th>\n",
       "      <th>tikaparsingneeded</th>\n",
       "    </tr>\n",
       "  </thead>\n",
       "  <tbody>\n",
       "    <tr>\n",
       "      <th>ID1</th>\n",
       "      <td>[]</td>\n",
       "      <td>[Security]</td>\n",
       "      <td>[943069856]</td>\n",
       "      <td>[bridgei2i.com]</td>\n",
       "      <td>5eb9be69c50c3cfb74bb64d5</td>\n",
       "      <td>false</td>\n",
       "      <td>BRIDGEi2i</td>\n",
       "      <td></td>\n",
       "      <td>[]</td>\n",
       "      <td>[Bi2i, BRIDGEi2i, BRIDGEi2i Analytics, BRIDGEi...</td>\n",
       "      <td>2020-06-16T03:19:00Z</td>\n",
       "      <td>5eb9be69c50c3cfb74bb64d5</td>\n",
       "      <td>2021-06-11T21:46:20.688Z</td>\n",
       "      <td>abc</td>\n",
       "      <td>CDC</td>\n",
       "      <td>abc</td>\n",
       "      <td>ADD</td>\n",
       "      <td>text/html</td>\n",
       "      <td>false</td>\n",
       "    </tr>\n",
       "    <tr>\n",
       "      <th>ID2</th>\n",
       "      <td>[]</td>\n",
       "      <td>[Security]</td>\n",
       "      <td>[943069856]</td>\n",
       "      <td>[bridgei2i.com]</td>\n",
       "      <td>5eb9be69c50c3cfb74bb64d5</td>\n",
       "      <td>false</td>\n",
       "      <td>Google</td>\n",
       "      <td></td>\n",
       "      <td>[]</td>\n",
       "      <td>[G, GIndia]</td>\n",
       "      <td>2020-06-16T03:19:00Z</td>\n",
       "      <td>5eb9be69c50c3cfb74bb64d5</td>\n",
       "      <td>2021-06-11T21:46:20.688Z</td>\n",
       "      <td>abc</td>\n",
       "      <td>CDC</td>\n",
       "      <td>abc</td>\n",
       "      <td>ADD</td>\n",
       "      <td>text/html</td>\n",
       "      <td>false</td>\n",
       "    </tr>\n",
       "  </tbody>\n",
       "</table>\n",
       "</div>"
      ],
      "text/plain": [
       "    acquisitions          be     duns_num     email_domain  \\\n",
       "ID1           []  [Security]  [943069856]  [bridgei2i.com]   \n",
       "ID2           []  [Security]  [943069856]  [bridgei2i.com]   \n",
       "\n",
       "                           id is_partner       name partner_be_id  \\\n",
       "ID1  5eb9be69c50c3cfb74bb64d5      false  BRIDGEi2i                 \n",
       "ID2  5eb9be69c50c3cfb74bb64d5      false     Google                 \n",
       "\n",
       "    stock_ticker                                           synonyms  \\\n",
       "ID1           []  [Bi2i, BRIDGEi2i, BRIDGEi2i Analytics, BRIDGEi...   \n",
       "ID2           []                                        [G, GIndia]   \n",
       "\n",
       "              update_date                     docid            tracktimestamp  \\\n",
       "ID1  2020-06-16T03:19:00Z  5eb9be69c50c3cfb74bb64d5  2021-06-11T21:46:20.688Z   \n",
       "ID2  2020-06-16T03:19:00Z  5eb9be69c50c3cfb74bb64d5  2021-06-11T21:46:20.688Z   \n",
       "\n",
       "    source repository component action   mimetype tikaparsingneeded  \n",
       "ID1    abc        CDC       abc    ADD  text/html             false  \n",
       "ID2    abc        CDC       abc    ADD  text/html             false  "
      ]
     },
     "execution_count": 3,
     "metadata": {},
     "output_type": "execute_result"
    }
   ],
   "source": [
    "Z=pd.DataFrame.from_dict(API_Response, orient='index')\n",
    "Z"
   ]
  },
  {
   "cell_type": "code",
   "execution_count": 4,
   "metadata": {},
   "outputs": [],
   "source": [
    "df=pd.DataFrame()\n",
    "df['variations']= Z['synonyms']\n",
    "df['ID']= Z['name']"
   ]
  },
  {
   "cell_type": "code",
   "execution_count": 5,
   "metadata": {},
   "outputs": [
    {
     "data": {
      "text/html": [
       "<div>\n",
       "<style scoped>\n",
       "    .dataframe tbody tr th:only-of-type {\n",
       "        vertical-align: middle;\n",
       "    }\n",
       "\n",
       "    .dataframe tbody tr th {\n",
       "        vertical-align: top;\n",
       "    }\n",
       "\n",
       "    .dataframe thead th {\n",
       "        text-align: right;\n",
       "    }\n",
       "</style>\n",
       "<table border=\"1\" class=\"dataframe\">\n",
       "  <thead>\n",
       "    <tr style=\"text-align: right;\">\n",
       "      <th></th>\n",
       "      <th>variations</th>\n",
       "      <th>ID</th>\n",
       "    </tr>\n",
       "  </thead>\n",
       "  <tbody>\n",
       "    <tr>\n",
       "      <th>ID1</th>\n",
       "      <td>[Bi2i, BRIDGEi2i, BRIDGEi2i Analytics, BRIDGEi...</td>\n",
       "      <td>BRIDGEi2i</td>\n",
       "    </tr>\n",
       "    <tr>\n",
       "      <th>ID2</th>\n",
       "      <td>[G, GIndia]</td>\n",
       "      <td>Google</td>\n",
       "    </tr>\n",
       "  </tbody>\n",
       "</table>\n",
       "</div>"
      ],
      "text/plain": [
       "                                            variations         ID\n",
       "ID1  [Bi2i, BRIDGEi2i, BRIDGEi2i Analytics, BRIDGEi...  BRIDGEi2i\n",
       "ID2                                        [G, GIndia]     Google"
      ]
     },
     "execution_count": 5,
     "metadata": {},
     "output_type": "execute_result"
    }
   ],
   "source": [
    "df"
   ]
  },
  {
   "cell_type": "code",
   "execution_count": 6,
   "metadata": {},
   "outputs": [],
   "source": [
    "df.reset_index(inplace=True)"
   ]
  },
  {
   "cell_type": "code",
   "execution_count": 7,
   "metadata": {},
   "outputs": [
    {
     "data": {
      "text/html": [
       "<div>\n",
       "<style scoped>\n",
       "    .dataframe tbody tr th:only-of-type {\n",
       "        vertical-align: middle;\n",
       "    }\n",
       "\n",
       "    .dataframe tbody tr th {\n",
       "        vertical-align: top;\n",
       "    }\n",
       "\n",
       "    .dataframe thead th {\n",
       "        text-align: right;\n",
       "    }\n",
       "</style>\n",
       "<table border=\"1\" class=\"dataframe\">\n",
       "  <thead>\n",
       "    <tr style=\"text-align: right;\">\n",
       "      <th></th>\n",
       "      <th>index</th>\n",
       "      <th>variations</th>\n",
       "      <th>ID</th>\n",
       "    </tr>\n",
       "  </thead>\n",
       "  <tbody>\n",
       "    <tr>\n",
       "      <th>0</th>\n",
       "      <td>ID1</td>\n",
       "      <td>[Bi2i, BRIDGEi2i, BRIDGEi2i Analytics, BRIDGEi...</td>\n",
       "      <td>BRIDGEi2i</td>\n",
       "    </tr>\n",
       "    <tr>\n",
       "      <th>1</th>\n",
       "      <td>ID2</td>\n",
       "      <td>[G, GIndia]</td>\n",
       "      <td>Google</td>\n",
       "    </tr>\n",
       "  </tbody>\n",
       "</table>\n",
       "</div>"
      ],
      "text/plain": [
       "  index                                         variations         ID\n",
       "0   ID1  [Bi2i, BRIDGEi2i, BRIDGEi2i Analytics, BRIDGEi...  BRIDGEi2i\n",
       "1   ID2                                        [G, GIndia]     Google"
      ]
     },
     "execution_count": 7,
     "metadata": {},
     "output_type": "execute_result"
    }
   ],
   "source": [
    "df"
   ]
  },
  {
   "cell_type": "code",
   "execution_count": 8,
   "metadata": {},
   "outputs": [],
   "source": [
    "df.drop('index',axis=1,inplace=True)"
   ]
  },
  {
   "cell_type": "code",
   "execution_count": 9,
   "metadata": {},
   "outputs": [
    {
     "data": {
      "text/html": [
       "<div>\n",
       "<style scoped>\n",
       "    .dataframe tbody tr th:only-of-type {\n",
       "        vertical-align: middle;\n",
       "    }\n",
       "\n",
       "    .dataframe tbody tr th {\n",
       "        vertical-align: top;\n",
       "    }\n",
       "\n",
       "    .dataframe thead th {\n",
       "        text-align: right;\n",
       "    }\n",
       "</style>\n",
       "<table border=\"1\" class=\"dataframe\">\n",
       "  <thead>\n",
       "    <tr style=\"text-align: right;\">\n",
       "      <th></th>\n",
       "      <th>variations</th>\n",
       "      <th>ID</th>\n",
       "    </tr>\n",
       "  </thead>\n",
       "  <tbody>\n",
       "    <tr>\n",
       "      <th>0</th>\n",
       "      <td>[Bi2i, BRIDGEi2i, BRIDGEi2i Analytics, BRIDGEi...</td>\n",
       "      <td>BRIDGEi2i</td>\n",
       "    </tr>\n",
       "    <tr>\n",
       "      <th>1</th>\n",
       "      <td>[G, GIndia]</td>\n",
       "      <td>Google</td>\n",
       "    </tr>\n",
       "  </tbody>\n",
       "</table>\n",
       "</div>"
      ],
      "text/plain": [
       "                                          variations         ID\n",
       "0  [Bi2i, BRIDGEi2i, BRIDGEi2i Analytics, BRIDGEi...  BRIDGEi2i\n",
       "1                                        [G, GIndia]     Google"
      ]
     },
     "execution_count": 9,
     "metadata": {},
     "output_type": "execute_result"
    }
   ],
   "source": [
    "df"
   ]
  },
  {
   "cell_type": "code",
   "execution_count": 10,
   "metadata": {},
   "outputs": [],
   "source": [
    "df1=df.copy()"
   ]
  },
  {
   "cell_type": "code",
   "execution_count": 11,
   "metadata": {},
   "outputs": [
    {
     "name": "stdout",
     "output_type": "stream",
     "text": [
      "['Bi2i', 'BRIDGEi2i', 'BRIDGEi2i Analytics', 'BRIDGEi2i Analytics Pvt Ltd']\n",
      "None\n"
     ]
    },
    {
     "data": {
      "text/plain": [
       "0    None\n",
       "1    None\n",
       "dtype: object"
      ]
     },
     "execution_count": 11,
     "metadata": {},
     "output_type": "execute_result"
    }
   ],
   "source": [
    "def get_synonyms(name,var):\n",
    "    if name in var:\n",
    "        print(var)\n",
    "        #return var\n",
    "    else:\n",
    "        var1=var.append(name)\n",
    "        print (var1)\n",
    "        #return(var)\n",
    "    \n",
    "\n",
    "\n",
    "#df1['Final'] = df1[['ID','variations']].apply(lambda x : get_synonyms(x[0],x[1]),axis=1)\n",
    "df1[['ID','variations']].apply(lambda x : get_synonyms(x[0],x[1]),axis=1)"
   ]
  },
  {
   "cell_type": "code",
   "execution_count": 12,
   "metadata": {},
   "outputs": [
    {
     "data": {
      "text/html": [
       "<div>\n",
       "<style scoped>\n",
       "    .dataframe tbody tr th:only-of-type {\n",
       "        vertical-align: middle;\n",
       "    }\n",
       "\n",
       "    .dataframe tbody tr th {\n",
       "        vertical-align: top;\n",
       "    }\n",
       "\n",
       "    .dataframe thead th {\n",
       "        text-align: right;\n",
       "    }\n",
       "</style>\n",
       "<table border=\"1\" class=\"dataframe\">\n",
       "  <thead>\n",
       "    <tr style=\"text-align: right;\">\n",
       "      <th></th>\n",
       "      <th>variations</th>\n",
       "      <th>ID</th>\n",
       "    </tr>\n",
       "  </thead>\n",
       "  <tbody>\n",
       "    <tr>\n",
       "      <th>0</th>\n",
       "      <td>[Bi2i, BRIDGEi2i, BRIDGEi2i Analytics, BRIDGEi...</td>\n",
       "      <td>BRIDGEi2i</td>\n",
       "    </tr>\n",
       "    <tr>\n",
       "      <th>1</th>\n",
       "      <td>[G, GIndia, Google]</td>\n",
       "      <td>Google</td>\n",
       "    </tr>\n",
       "  </tbody>\n",
       "</table>\n",
       "</div>"
      ],
      "text/plain": [
       "                                          variations         ID\n",
       "0  [Bi2i, BRIDGEi2i, BRIDGEi2i Analytics, BRIDGEi...  BRIDGEi2i\n",
       "1                                [G, GIndia, Google]     Google"
      ]
     },
     "execution_count": 12,
     "metadata": {},
     "output_type": "execute_result"
    }
   ],
   "source": [
    "df1"
   ]
  },
  {
   "cell_type": "code",
   "execution_count": null,
   "metadata": {},
   "outputs": [],
   "source": []
  }
 ],
 "metadata": {
  "kernelspec": {
   "display_name": "Python 3",
   "language": "python",
   "name": "python3"
  },
  "language_info": {
   "codemirror_mode": {
    "name": "ipython",
    "version": 3
   },
   "file_extension": ".py",
   "mimetype": "text/x-python",
   "name": "python",
   "nbconvert_exporter": "python",
   "pygments_lexer": "ipython3",
   "version": "3.8.3"
  }
 },
 "nbformat": 4,
 "nbformat_minor": 4
}
