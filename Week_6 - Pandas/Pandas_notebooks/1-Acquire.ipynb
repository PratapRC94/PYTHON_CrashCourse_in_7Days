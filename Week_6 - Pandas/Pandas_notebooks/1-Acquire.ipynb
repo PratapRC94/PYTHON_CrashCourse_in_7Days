{
 "cells": [
  {
   "cell_type": "markdown",
   "metadata": {
    "colab_type": "text",
    "id": "1I1ZdihuZzMK"
   },
   "source": [
    "#  1. Acquire the Data\n",
    "\n",
    "> \"Data is the new oil\"\n",
    "\n",
    "**Ways to acquire data** (typical data source)\n",
    "\n",
    "- Download from an internal system\n",
    "- Obtained from client, or other 3rd party\n",
    "- Extracted from a web-based API\n",
    "- Scraped from a website\n",
    "- Extracted from a PDF file\n",
    "- Gathered manually and recorded\n",
    "\n",
    "**Data Formats**\n",
    "- Flat files (e.g. csv)\n",
    "- Excel files\n",
    "- Database (e.g. MySQL)\n",
    "- JSON\n",
    "- HDFS (Hadoop)\n",
    "\n",
    "Two Datasets\n",
    "- Price of Weed in US\n",
    "- Demographic data by US State \n",
    "\n",
    "\n",
    "## 1.1 - Crowdsource the Price of Weed dataset\n",
    "\n",
    "![Price of weed website](http://www.priceofweed.com/app/misc/images/logo.png)\n",
    "\n",
    "The Price of Weed website - http://www.priceofweed.com/\n",
    "\n",
    "Crowdsources the price paid by people on the street to get weed. Self Reported.\n",
    "- **Location** is auto detected or can be choosen\n",
    "- **Quality** is classified in three categories \n",
    "    - High \n",
    "    - Medium\n",
    "    - Low\n",
    "- **Price by weight**\n",
    "    - an ounce\n",
    "    - a half ounce\n",
    "    - a quarter\n",
    "    - an eighth\n",
    "    - 10 grams\n",
    "    - 5 grams\n",
    "    - 1 gram\n",
    "- **Strain** (though not showed in the dataset)\n",
    "\n",
    "Reported at individual transaction level\n",
    "\n",
    "Here is a sample data set from United States - http://www.priceofweed.com/prices/United-States.html\n",
    "\n",
    "See note - *Averages are corrected for outliers based on standard deviation from the mean.*\n",
    "\n",
    "\n",
    "## 1.2  Scrape the data\n",
    "\n",
    "[Frank Bi](https://github.com/frankbi) from The Verge wrote a script to scrape the data daily. The daily prices are available on github at https://github.com/frankbi/price-of-weed\n",
    "\n",
    "Here is sample data from one day - 23rd July 2015 - https://github.com/frankbi/price-of-weed/blob/master/data/weedprices23072015.csv\n",
    "\n",
    "\n",
    "## 1.3  Combine the data\n",
    "\n",
    "All the csv files for each day were combined into one large csv. Done by YHAT.\n",
    "\n",
    "http://blog.yhathq.com/posts/7-funny-datasets.html\n",
    "\n",
    "\n",
    "## 1.4 Key Questions / Assumptions\n",
    "\n",
    "> Data is an abstraction of the reality.\n",
    "\n",
    "- What assumptions have been in this entire data collections process?\n",
    "- Are we aware of the assumptions in this process?\n",
    "- How to ensure that the data is accurate or representative for the question we are trying to answer? \n",
    "\n",
    "\n",
    "## 1.5 Loading the Data\n"
   ]
  },
  {
   "cell_type": "code",
   "execution_count": 1,
   "metadata": {
    "colab": {},
    "colab_type": "code",
    "id": "c-jP24egZzMM"
   },
   "outputs": [],
   "source": [
    "# Load the libraries\n",
    "import pandas as pd\n",
    "import numpy as np"
   ]
  },
  {
   "cell_type": "code",
   "execution_count": 2,
   "metadata": {
    "colab": {},
    "colab_type": "code",
    "id": "19VhJS0kZzMU"
   },
   "outputs": [],
   "source": [
    "# Load the dataset\n",
    "df = pd.read_(\"D:/Self-Study/PYTHON/Contact Class/Week_6 - Pandas/data/Weed_Price.csv\")"
   ]
  },
  {
   "cell_type": "code",
   "execution_count": 5,
   "metadata": {},
   "outputs": [
    {
     "data": {
      "text/plain": [
       "(22899, 8)"
      ]
     },
     "execution_count": 5,
     "metadata": {},
     "output_type": "execute_result"
    }
   ],
   "source": [
    "df.shape"
   ]
  },
  {
   "cell_type": "code",
   "execution_count": 4,
   "metadata": {
    "colab": {},
    "colab_type": "code",
    "id": "YkpHcR7iZzMh",
    "outputId": "e0beff1e-8ff5-4132-9133-8f91b5292a7e"
   },
   "outputs": [
    {
     "name": "stdout",
     "output_type": "stream",
     "text": [
      "                  State   HighQ  HighQN    MedQ  MedQN    LowQ  LowQN  \\\n",
      "0               Alabama  339.06    1042  198.64    933  149.49    123   \n",
      "1                Alaska  288.75     252  260.60    297  388.58     26   \n",
      "2               Arizona  303.31    1941  209.35   1625  189.45    222   \n",
      "3              Arkansas  361.85     576  185.62    544  125.87    112   \n",
      "4            California  248.78   12096  193.56  12812  192.92    778   \n",
      "5              Colorado  236.31    2161  195.29   1728  213.50    128   \n",
      "6           Connecticut  347.90    1294  273.97   1316  257.36     91   \n",
      "7              Delaware  373.18     347  226.25    273  199.88     34   \n",
      "8  District of Columbia  352.26     433  295.67    349  213.72     39   \n",
      "9               Florida  306.43    6506  220.03   5237  158.26    514   \n",
      "\n",
      "         date  \n",
      "0  2014-01-01  \n",
      "1  2014-01-01  \n",
      "2  2014-01-01  \n",
      "3  2014-01-01  \n",
      "4  2014-01-01  \n",
      "5  2014-01-01  \n",
      "6  2014-01-01  \n",
      "7  2014-01-01  \n",
      "8  2014-01-01  \n",
      "9  2014-01-01  \n"
     ]
    }
   ],
   "source": [
    "print(df.head(10))"
   ]
  },
  {
   "cell_type": "code",
   "execution_count": 4,
   "metadata": {},
   "outputs": [
    {
     "data": {
      "text/html": [
       "<div>\n",
       "<style scoped>\n",
       "    .dataframe tbody tr th:only-of-type {\n",
       "        vertical-align: middle;\n",
       "    }\n",
       "\n",
       "    .dataframe tbody tr th {\n",
       "        vertical-align: top;\n",
       "    }\n",
       "\n",
       "    .dataframe thead th {\n",
       "        text-align: right;\n",
       "    }\n",
       "</style>\n",
       "<table border=\"1\" class=\"dataframe\">\n",
       "  <thead>\n",
       "    <tr style=\"text-align: right;\">\n",
       "      <th></th>\n",
       "      <th>State</th>\n",
       "      <th>HighQ</th>\n",
       "      <th>HighQN</th>\n",
       "      <th>MedQ</th>\n",
       "      <th>MedQN</th>\n",
       "      <th>LowQ</th>\n",
       "      <th>LowQN</th>\n",
       "      <th>date</th>\n",
       "    </tr>\n",
       "  </thead>\n",
       "  <tbody>\n",
       "    <tr>\n",
       "      <th>22894</th>\n",
       "      <td>Virginia</td>\n",
       "      <td>364.98</td>\n",
       "      <td>3513</td>\n",
       "      <td>293.12</td>\n",
       "      <td>3079</td>\n",
       "      <td>NaN</td>\n",
       "      <td>284</td>\n",
       "      <td>2014-12-31</td>\n",
       "    </tr>\n",
       "    <tr>\n",
       "      <th>22895</th>\n",
       "      <td>Washington</td>\n",
       "      <td>233.05</td>\n",
       "      <td>3337</td>\n",
       "      <td>189.92</td>\n",
       "      <td>3562</td>\n",
       "      <td>NaN</td>\n",
       "      <td>160</td>\n",
       "      <td>2014-12-31</td>\n",
       "    </tr>\n",
       "    <tr>\n",
       "      <th>22896</th>\n",
       "      <td>West Virginia</td>\n",
       "      <td>359.35</td>\n",
       "      <td>551</td>\n",
       "      <td>224.03</td>\n",
       "      <td>545</td>\n",
       "      <td>NaN</td>\n",
       "      <td>60</td>\n",
       "      <td>2014-12-31</td>\n",
       "    </tr>\n",
       "    <tr>\n",
       "      <th>22897</th>\n",
       "      <td>Wisconsin</td>\n",
       "      <td>350.52</td>\n",
       "      <td>2244</td>\n",
       "      <td>272.71</td>\n",
       "      <td>2221</td>\n",
       "      <td>NaN</td>\n",
       "      <td>167</td>\n",
       "      <td>2014-12-31</td>\n",
       "    </tr>\n",
       "    <tr>\n",
       "      <th>22898</th>\n",
       "      <td>Wyoming</td>\n",
       "      <td>322.27</td>\n",
       "      <td>131</td>\n",
       "      <td>351.86</td>\n",
       "      <td>197</td>\n",
       "      <td>NaN</td>\n",
       "      <td>12</td>\n",
       "      <td>2014-12-31</td>\n",
       "    </tr>\n",
       "  </tbody>\n",
       "</table>\n",
       "</div>"
      ],
      "text/plain": [
       "               State   HighQ  HighQN    MedQ  MedQN  LowQ  LowQN        date\n",
       "22894       Virginia  364.98    3513  293.12   3079   NaN    284  2014-12-31\n",
       "22895     Washington  233.05    3337  189.92   3562   NaN    160  2014-12-31\n",
       "22896  West Virginia  359.35     551  224.03    545   NaN     60  2014-12-31\n",
       "22897      Wisconsin  350.52    2244  272.71   2221   NaN    167  2014-12-31\n",
       "22898        Wyoming  322.27     131  351.86    197   NaN     12  2014-12-31"
      ]
     },
     "execution_count": 4,
     "metadata": {},
     "output_type": "execute_result"
    }
   ],
   "source": [
    "df.tail()"
   ]
  },
  {
   "cell_type": "code",
   "execution_count": 5,
   "metadata": {
    "colab": {},
    "colab_type": "code",
    "id": "ptHE1l34ZzMo",
    "outputId": "19a9bdaf-e108-456a-f307-f6ea0cd153e3"
   },
   "outputs": [
    {
     "data": {
      "text/plain": [
       "Index(['State', 'HighQ', 'HighQN', 'MedQ', 'MedQN', 'LowQ', 'LowQN', 'date'], dtype='object')"
      ]
     },
     "execution_count": 5,
     "metadata": {},
     "output_type": "execute_result"
    }
   ],
   "source": [
    "col = df.columns\n",
    "col"
   ]
  },
  {
   "cell_type": "code",
   "execution_count": 6,
   "metadata": {},
   "outputs": [
    {
     "data": {
      "text/plain": [
       "State      object\n",
       "HighQ     float64\n",
       "HighQN      int64\n",
       "MedQ      float64\n",
       "MedQN       int64\n",
       "LowQ      float64\n",
       "LowQN       int64\n",
       "date       object\n",
       "dtype: object"
      ]
     },
     "execution_count": 6,
     "metadata": {},
     "output_type": "execute_result"
    }
   ],
   "source": [
    "df.dtypes"
   ]
  },
  {
   "cell_type": "code",
   "execution_count": 9,
   "metadata": {
    "colab": {},
    "colab_type": "code",
    "id": "XE3Got3QZzMt",
    "outputId": "be99bbc8-9354-4c3a-87a8-bddc8a04a8f3"
   },
   "outputs": [
    {
     "data": {
      "text/plain": [
       "((22899, 8), 22899, 8)"
      ]
     },
     "execution_count": 9,
     "metadata": {},
     "output_type": "execute_result"
    }
   ],
   "source": [
    "# Shape of the dateset - rows & columns\n",
    "df.shape,df.shape[0],df.shape[1]"
   ]
  },
  {
   "cell_type": "code",
   "execution_count": 10,
   "metadata": {},
   "outputs": [
    {
     "data": {
      "text/html": [
       "<div>\n",
       "<style scoped>\n",
       "    .dataframe tbody tr th:only-of-type {\n",
       "        vertical-align: middle;\n",
       "    }\n",
       "\n",
       "    .dataframe tbody tr th {\n",
       "        vertical-align: top;\n",
       "    }\n",
       "\n",
       "    .dataframe thead th {\n",
       "        text-align: right;\n",
       "    }\n",
       "</style>\n",
       "<table border=\"1\" class=\"dataframe\">\n",
       "  <thead>\n",
       "    <tr style=\"text-align: right;\">\n",
       "      <th></th>\n",
       "      <th>State</th>\n",
       "      <th>HighQ</th>\n",
       "      <th>HighQN</th>\n",
       "      <th>MedQ</th>\n",
       "      <th>MedQN</th>\n",
       "      <th>LowQ</th>\n",
       "      <th>LowQN</th>\n",
       "      <th>date</th>\n",
       "    </tr>\n",
       "  </thead>\n",
       "  <tbody>\n",
       "    <tr>\n",
       "      <th>0</th>\n",
       "      <td>Alabama</td>\n",
       "      <td>339.06</td>\n",
       "      <td>1042</td>\n",
       "      <td>198.64</td>\n",
       "      <td>933</td>\n",
       "      <td>149.49</td>\n",
       "      <td>123</td>\n",
       "      <td>2014-01-01</td>\n",
       "    </tr>\n",
       "    <tr>\n",
       "      <th>1</th>\n",
       "      <td>Alaska</td>\n",
       "      <td>288.75</td>\n",
       "      <td>252</td>\n",
       "      <td>260.60</td>\n",
       "      <td>297</td>\n",
       "      <td>388.58</td>\n",
       "      <td>26</td>\n",
       "      <td>2014-01-01</td>\n",
       "    </tr>\n",
       "    <tr>\n",
       "      <th>2</th>\n",
       "      <td>Arizona</td>\n",
       "      <td>303.31</td>\n",
       "      <td>1941</td>\n",
       "      <td>209.35</td>\n",
       "      <td>1625</td>\n",
       "      <td>189.45</td>\n",
       "      <td>222</td>\n",
       "      <td>2014-01-01</td>\n",
       "    </tr>\n",
       "    <tr>\n",
       "      <th>3</th>\n",
       "      <td>Arkansas</td>\n",
       "      <td>361.85</td>\n",
       "      <td>576</td>\n",
       "      <td>185.62</td>\n",
       "      <td>544</td>\n",
       "      <td>125.87</td>\n",
       "      <td>112</td>\n",
       "      <td>2014-01-01</td>\n",
       "    </tr>\n",
       "    <tr>\n",
       "      <th>4</th>\n",
       "      <td>California</td>\n",
       "      <td>248.78</td>\n",
       "      <td>12096</td>\n",
       "      <td>193.56</td>\n",
       "      <td>12812</td>\n",
       "      <td>192.92</td>\n",
       "      <td>778</td>\n",
       "      <td>2014-01-01</td>\n",
       "    </tr>\n",
       "  </tbody>\n",
       "</table>\n",
       "</div>"
      ],
      "text/plain": [
       "        State   HighQ  HighQN    MedQ  MedQN    LowQ  LowQN        date\n",
       "0     Alabama  339.06    1042  198.64    933  149.49    123  2014-01-01\n",
       "1      Alaska  288.75     252  260.60    297  388.58     26  2014-01-01\n",
       "2     Arizona  303.31    1941  209.35   1625  189.45    222  2014-01-01\n",
       "3    Arkansas  361.85     576  185.62    544  125.87    112  2014-01-01\n",
       "4  California  248.78   12096  193.56  12812  192.92    778  2014-01-01"
      ]
     },
     "execution_count": 10,
     "metadata": {},
     "output_type": "execute_result"
    }
   ],
   "source": [
    "df.head()"
   ]
  },
  {
   "cell_type": "code",
   "execution_count": 11,
   "metadata": {
    "colab": {},
    "colab_type": "code",
    "id": "CTOw2yotZzMz",
    "outputId": "badd032d-1ea0-4de1-b2a5-d489a2228416"
   },
   "outputs": [
    {
     "data": {
      "text/plain": [
       "State      object\n",
       "HighQ     float64\n",
       "HighQN      int64\n",
       "MedQ      float64\n",
       "MedQN       int64\n",
       "LowQ      float64\n",
       "LowQN       int64\n",
       "date       object\n",
       "dtype: object"
      ]
     },
     "execution_count": 11,
     "metadata": {},
     "output_type": "execute_result"
    }
   ],
   "source": [
    "# Check for type of each variable\n",
    "df.dtypes"
   ]
  },
  {
   "cell_type": "code",
   "execution_count": 23,
   "metadata": {
    "colab": {},
    "colab_type": "code",
    "id": "DfmM0DglZzM8"
   },
   "outputs": [],
   "source": [
    "# Lets load this again with date as date type\n",
    "df = pd.read_csv(\"Weed_Price.csv\", parse_dates=[-1])"
   ]
  },
  {
   "cell_type": "code",
   "execution_count": 24,
   "metadata": {
    "colab": {},
    "colab_type": "code",
    "id": "3D7xQcnFZzNB",
    "outputId": "d9054199-8761-4005-ccab-a0ba6465bb28"
   },
   "outputs": [
    {
     "data": {
      "text/plain": [
       "State             object\n",
       "HighQ            float64\n",
       "HighQN             int64\n",
       "MedQ             float64\n",
       "MedQN              int64\n",
       "LowQ             float64\n",
       "LowQN              int64\n",
       "date      datetime64[ns]\n",
       "dtype: object"
      ]
     },
     "execution_count": 24,
     "metadata": {},
     "output_type": "execute_result"
    }
   ],
   "source": [
    "# Now check for type for each row\n",
    "df.dtypes"
   ]
  },
  {
   "cell_type": "code",
   "execution_count": 80,
   "metadata": {},
   "outputs": [],
   "source": [
    "# Load the dataset\n",
    "df = pd.read_csv(\"/home/ishwarya/Downloads/Python/Weed_Price.csv\")"
   ]
  },
  {
   "cell_type": "code",
   "execution_count": 81,
   "metadata": {},
   "outputs": [],
   "source": [
    "df[\"date\"]=pd.to_datetime(df[\"date\"])"
   ]
  },
  {
   "cell_type": "code",
   "execution_count": 82,
   "metadata": {},
   "outputs": [
    {
     "data": {
      "text/plain": [
       "State             object\n",
       "HighQ            float64\n",
       "HighQN             int64\n",
       "MedQ             float64\n",
       "MedQN              int64\n",
       "LowQ             float64\n",
       "LowQN              int64\n",
       "date      datetime64[ns]\n",
       "dtype: object"
      ]
     },
     "execution_count": 82,
     "metadata": {},
     "output_type": "execute_result"
    }
   ],
   "source": [
    "df.dtypes"
   ]
  },
  {
   "cell_type": "code",
   "execution_count": 28,
   "metadata": {
    "colab": {},
    "colab_type": "code",
    "id": "bvaY_8VQZzNN",
    "outputId": "765f691c-414d-4d42-fd27-5da9c89adde2"
   },
   "outputs": [
    {
     "data": {
      "text/plain": [
       "RangeIndex(start=0, stop=22899, step=1)"
      ]
     },
     "execution_count": 28,
     "metadata": {},
     "output_type": "execute_result"
    }
   ],
   "source": [
    "# Get the index of all rows\n",
    "df.index"
   ]
  },
  {
   "cell_type": "markdown",
   "metadata": {
    "colab_type": "text",
    "id": "AOJXjcQAZzNS"
   },
   "source": [
    "## 1.6 Viewing the Data"
   ]
  },
  {
   "cell_type": "code",
   "execution_count": 32,
   "metadata": {
    "colab": {},
    "colab_type": "code",
    "id": "rPzqKVJeZzNf",
    "outputId": "330e2f3a-7105-48ac-ec54-73888391855f"
   },
   "outputs": [
    {
     "data": {
      "text/html": [
       "<div>\n",
       "<style scoped>\n",
       "    .dataframe tbody tr th:only-of-type {\n",
       "        vertical-align: middle;\n",
       "    }\n",
       "\n",
       "    .dataframe tbody tr th {\n",
       "        vertical-align: top;\n",
       "    }\n",
       "\n",
       "    .dataframe thead th {\n",
       "        text-align: right;\n",
       "    }\n",
       "</style>\n",
       "<table border=\"1\" class=\"dataframe\">\n",
       "  <thead>\n",
       "    <tr style=\"text-align: right;\">\n",
       "      <th></th>\n",
       "      <th>State</th>\n",
       "      <th>HighQ</th>\n",
       "      <th>HighQN</th>\n",
       "      <th>MedQ</th>\n",
       "      <th>MedQN</th>\n",
       "      <th>LowQ</th>\n",
       "      <th>LowQN</th>\n",
       "      <th>date</th>\n",
       "    </tr>\n",
       "  </thead>\n",
       "  <tbody>\n",
       "    <tr>\n",
       "      <th>30</th>\n",
       "      <td>Oklahoma</td>\n",
       "      <td>364.57</td>\n",
       "      <td>754</td>\n",
       "      <td>228.12</td>\n",
       "      <td>664</td>\n",
       "      <td>121.60</td>\n",
       "      <td>131</td>\n",
       "      <td>2014-01-01</td>\n",
       "    </tr>\n",
       "    <tr>\n",
       "      <th>31</th>\n",
       "      <td>Oregon</td>\n",
       "      <td>213.49</td>\n",
       "      <td>1612</td>\n",
       "      <td>188.55</td>\n",
       "      <td>1336</td>\n",
       "      <td>175.87</td>\n",
       "      <td>61</td>\n",
       "      <td>2014-01-01</td>\n",
       "    </tr>\n",
       "    <tr>\n",
       "      <th>32</th>\n",
       "      <td>Maryland</td>\n",
       "      <td>380.03</td>\n",
       "      <td>1963</td>\n",
       "      <td>248.71</td>\n",
       "      <td>1546</td>\n",
       "      <td>196.59</td>\n",
       "      <td>152</td>\n",
       "      <td>2014-01-01</td>\n",
       "    </tr>\n",
       "    <tr>\n",
       "      <th>33</th>\n",
       "      <td>Massachusetts</td>\n",
       "      <td>354.84</td>\n",
       "      <td>2878</td>\n",
       "      <td>297.28</td>\n",
       "      <td>2467</td>\n",
       "      <td>217.89</td>\n",
       "      <td>219</td>\n",
       "      <td>2014-01-01</td>\n",
       "    </tr>\n",
       "    <tr>\n",
       "      <th>34</th>\n",
       "      <td>Michigan</td>\n",
       "      <td>299.36</td>\n",
       "      <td>3048</td>\n",
       "      <td>277.63</td>\n",
       "      <td>2529</td>\n",
       "      <td>227.48</td>\n",
       "      <td>230</td>\n",
       "      <td>2014-01-01</td>\n",
       "    </tr>\n",
       "  </tbody>\n",
       "</table>\n",
       "</div>"
      ],
      "text/plain": [
       "            State   HighQ  HighQN    MedQ  MedQN    LowQ  LowQN       date\n",
       "30       Oklahoma  364.57     754  228.12    664  121.60    131 2014-01-01\n",
       "31         Oregon  213.49    1612  188.55   1336  175.87     61 2014-01-01\n",
       "32       Maryland  380.03    1963  248.71   1546  196.59    152 2014-01-01\n",
       "33  Massachusetts  354.84    2878  297.28   2467  217.89    219 2014-01-01\n",
       "34       Michigan  299.36    3048  277.63   2529  227.48    230 2014-01-01"
      ]
     },
     "execution_count": 32,
     "metadata": {},
     "output_type": "execute_result"
    }
   ],
   "source": [
    "# Get specific rows\n",
    "df[30:35]"
   ]
  },
  {
   "cell_type": "code",
   "execution_count": 15,
   "metadata": {
    "colab": {},
    "colab_type": "code",
    "collapsed": true,
    "id": "a8x3f1nGZzNk",
    "outputId": "dc324897-ac16-42b8-de90-9c7e82676b46"
   },
   "outputs": [
    {
     "data": {
      "text/plain": [
       "0                     Alabama\n",
       "1                      Alaska\n",
       "2                     Arizona\n",
       "3                    Arkansas\n",
       "4                  California\n",
       "5                    Colorado\n",
       "6                 Connecticut\n",
       "7                    Delaware\n",
       "8        District of Columbia\n",
       "9                     Florida\n",
       "10                    Georgia\n",
       "11                     Hawaii\n",
       "12                      Idaho\n",
       "13                   Illinois\n",
       "14                    Indiana\n",
       "15                       Iowa\n",
       "16                     Kansas\n",
       "17                   Kentucky\n",
       "18                  Louisiana\n",
       "19                      Maine\n",
       "20                    Montana\n",
       "21                   Nebraska\n",
       "22                     Nevada\n",
       "23              New Hampshire\n",
       "24                 New Jersey\n",
       "25                 New Mexico\n",
       "26                   New York\n",
       "27             North Carolina\n",
       "28               North Dakota\n",
       "29                       Ohio\n",
       "                 ...         \n",
       "22869                Nebraska\n",
       "22870                  Nevada\n",
       "22871           New Hampshire\n",
       "22872              New Jersey\n",
       "22873              New Mexico\n",
       "22874                New York\n",
       "22875          North Carolina\n",
       "22876            North Dakota\n",
       "22877                    Ohio\n",
       "22878                Oklahoma\n",
       "22879                  Oregon\n",
       "22880                Maryland\n",
       "22881           Massachusetts\n",
       "22882                Michigan\n",
       "22883               Minnesota\n",
       "22884             Mississippi\n",
       "22885                Missouri\n",
       "22886            Pennsylvania\n",
       "22887            Rhode Island\n",
       "22888          South Carolina\n",
       "22889            South Dakota\n",
       "22890               Tennessee\n",
       "22891                   Texas\n",
       "22892                    Utah\n",
       "22893                 Vermont\n",
       "22894                Virginia\n",
       "22895              Washington\n",
       "22896           West Virginia\n",
       "22897               Wisconsin\n",
       "22898                 Wyoming\n",
       "Name: State, Length: 22899, dtype: object"
      ]
     },
     "execution_count": 15,
     "metadata": {},
     "output_type": "execute_result"
    }
   ],
   "source": [
    "# Can we access a specific columns\n",
    "df[\"State\"]"
   ]
  },
  {
   "cell_type": "code",
   "execution_count": 16,
   "metadata": {
    "colab": {},
    "colab_type": "code",
    "collapsed": true,
    "id": "72REkYA7ZzNr",
    "outputId": "5d5c85a1-d37f-4a58-aeaf-3b90015e4012"
   },
   "outputs": [
    {
     "data": {
      "text/plain": [
       "0                     Alabama\n",
       "1                      Alaska\n",
       "2                     Arizona\n",
       "3                    Arkansas\n",
       "4                  California\n",
       "5                    Colorado\n",
       "6                 Connecticut\n",
       "7                    Delaware\n",
       "8        District of Columbia\n",
       "9                     Florida\n",
       "10                    Georgia\n",
       "11                     Hawaii\n",
       "12                      Idaho\n",
       "13                   Illinois\n",
       "14                    Indiana\n",
       "15                       Iowa\n",
       "16                     Kansas\n",
       "17                   Kentucky\n",
       "18                  Louisiana\n",
       "19                      Maine\n",
       "20                    Montana\n",
       "21                   Nebraska\n",
       "22                     Nevada\n",
       "23              New Hampshire\n",
       "24                 New Jersey\n",
       "25                 New Mexico\n",
       "26                   New York\n",
       "27             North Carolina\n",
       "28               North Dakota\n",
       "29                       Ohio\n",
       "                 ...         \n",
       "22869                Nebraska\n",
       "22870                  Nevada\n",
       "22871           New Hampshire\n",
       "22872              New Jersey\n",
       "22873              New Mexico\n",
       "22874                New York\n",
       "22875          North Carolina\n",
       "22876            North Dakota\n",
       "22877                    Ohio\n",
       "22878                Oklahoma\n",
       "22879                  Oregon\n",
       "22880                Maryland\n",
       "22881           Massachusetts\n",
       "22882                Michigan\n",
       "22883               Minnesota\n",
       "22884             Mississippi\n",
       "22885                Missouri\n",
       "22886            Pennsylvania\n",
       "22887            Rhode Island\n",
       "22888          South Carolina\n",
       "22889            South Dakota\n",
       "22890               Tennessee\n",
       "22891                   Texas\n",
       "22892                    Utah\n",
       "22893                 Vermont\n",
       "22894                Virginia\n",
       "22895              Washington\n",
       "22896           West Virginia\n",
       "22897               Wisconsin\n",
       "22898                 Wyoming\n",
       "Name: State, Length: 22899, dtype: object"
      ]
     },
     "execution_count": 16,
     "metadata": {},
     "output_type": "execute_result"
    }
   ],
   "source": [
    "# Using the dot notation\n",
    "df.State\n"
   ]
  },
  {
   "cell_type": "code",
   "execution_count": 4,
   "metadata": {
    "colab": {},
    "colab_type": "code",
    "collapsed": true,
    "id": "7yo497dmZzNw",
    "outputId": "e0f8a0cf-1cd7-4429-e9f8-55a9f16201bf"
   },
   "outputs": [
    {
     "data": {
      "text/html": [
       "<div>\n",
       "<style scoped>\n",
       "    .dataframe tbody tr th:only-of-type {\n",
       "        vertical-align: middle;\n",
       "    }\n",
       "\n",
       "    .dataframe tbody tr th {\n",
       "        vertical-align: top;\n",
       "    }\n",
       "\n",
       "    .dataframe thead th {\n",
       "        text-align: right;\n",
       "    }\n",
       "</style>\n",
       "<table border=\"1\" class=\"dataframe\">\n",
       "  <thead>\n",
       "    <tr style=\"text-align: right;\">\n",
       "      <th></th>\n",
       "      <th>State</th>\n",
       "      <th>HighQ</th>\n",
       "    </tr>\n",
       "  </thead>\n",
       "  <tbody>\n",
       "    <tr>\n",
       "      <th>0</th>\n",
       "      <td>Alabama</td>\n",
       "      <td>339.06</td>\n",
       "    </tr>\n",
       "    <tr>\n",
       "      <th>1</th>\n",
       "      <td>Alaska</td>\n",
       "      <td>288.75</td>\n",
       "    </tr>\n",
       "    <tr>\n",
       "      <th>2</th>\n",
       "      <td>Arizona</td>\n",
       "      <td>303.31</td>\n",
       "    </tr>\n",
       "    <tr>\n",
       "      <th>3</th>\n",
       "      <td>Arkansas</td>\n",
       "      <td>361.85</td>\n",
       "    </tr>\n",
       "    <tr>\n",
       "      <th>4</th>\n",
       "      <td>California</td>\n",
       "      <td>248.78</td>\n",
       "    </tr>\n",
       "    <tr>\n",
       "      <th>...</th>\n",
       "      <td>...</td>\n",
       "      <td>...</td>\n",
       "    </tr>\n",
       "    <tr>\n",
       "      <th>22894</th>\n",
       "      <td>Virginia</td>\n",
       "      <td>364.98</td>\n",
       "    </tr>\n",
       "    <tr>\n",
       "      <th>22895</th>\n",
       "      <td>Washington</td>\n",
       "      <td>233.05</td>\n",
       "    </tr>\n",
       "    <tr>\n",
       "      <th>22896</th>\n",
       "      <td>West Virginia</td>\n",
       "      <td>359.35</td>\n",
       "    </tr>\n",
       "    <tr>\n",
       "      <th>22897</th>\n",
       "      <td>Wisconsin</td>\n",
       "      <td>350.52</td>\n",
       "    </tr>\n",
       "    <tr>\n",
       "      <th>22898</th>\n",
       "      <td>Wyoming</td>\n",
       "      <td>322.27</td>\n",
       "    </tr>\n",
       "  </tbody>\n",
       "</table>\n",
       "<p>22899 rows × 2 columns</p>\n",
       "</div>"
      ],
      "text/plain": [
       "               State   HighQ\n",
       "0            Alabama  339.06\n",
       "1             Alaska  288.75\n",
       "2            Arizona  303.31\n",
       "3           Arkansas  361.85\n",
       "4         California  248.78\n",
       "...              ...     ...\n",
       "22894       Virginia  364.98\n",
       "22895     Washington  233.05\n",
       "22896  West Virginia  359.35\n",
       "22897      Wisconsin  350.52\n",
       "22898        Wyoming  322.27\n",
       "\n",
       "[22899 rows x 2 columns]"
      ]
     },
     "execution_count": 4,
     "metadata": {},
     "output_type": "execute_result"
    }
   ],
   "source": [
    "df[['State','HighQ']]"
   ]
  },
  {
   "cell_type": "code",
   "execution_count": 18,
   "metadata": {
    "colab": {},
    "colab_type": "code",
    "collapsed": true,
    "id": "v1XEPIf8ZzN2",
    "outputId": "00ad7dc2-d5f3-4b4a-b97a-e81d70f747b8"
   },
   "outputs": [
    {
     "data": {
      "text/plain": [
       "0        339.06\n",
       "1        288.75\n",
       "2        303.31\n",
       "3        361.85\n",
       "4        248.78\n",
       "5        236.31\n",
       "6        347.90\n",
       "7        373.18\n",
       "8        352.26\n",
       "9        306.43\n",
       "10       332.21\n",
       "11       310.96\n",
       "12       276.05\n",
       "13       359.74\n",
       "14       336.80\n",
       "15       371.70\n",
       "16       353.51\n",
       "17       337.33\n",
       "18       377.71\n",
       "19       321.10\n",
       "20       279.73\n",
       "21       352.64\n",
       "22       269.61\n",
       "23       366.47\n",
       "24       354.91\n",
       "25       293.86\n",
       "26       351.98\n",
       "27       355.88\n",
       "28       412.84\n",
       "29       336.63\n",
       "          ...  \n",
       "22869    335.65\n",
       "22870    266.33\n",
       "22871    353.87\n",
       "22872    345.36\n",
       "22873    289.20\n",
       "22874    343.89\n",
       "22875    345.28\n",
       "22876    393.94\n",
       "22877    332.70\n",
       "22878    354.61\n",
       "22879    205.80\n",
       "22880    366.04\n",
       "22881    345.66\n",
       "22882    288.10\n",
       "22883    351.60\n",
       "22884    334.70\n",
       "22885    351.55\n",
       "22886    363.15\n",
       "22887    317.15\n",
       "22888    336.98\n",
       "22889    357.05\n",
       "22890    348.95\n",
       "22891    334.18\n",
       "22892    290.42\n",
       "22893    371.23\n",
       "22894    364.98\n",
       "22895    233.05\n",
       "22896    359.35\n",
       "22897    350.52\n",
       "22898    322.27\n",
       "Name: HighQ, Length: 22899, dtype: float64"
      ]
     },
     "execution_count": 18,
     "metadata": {},
     "output_type": "execute_result"
    }
   ],
   "source": [
    "df[df.columns[1]]"
   ]
  },
  {
   "cell_type": "code",
   "execution_count": 19,
   "metadata": {
    "colab": {},
    "colab_type": "code",
    "id": "AFCx3PVTZzN9",
    "outputId": "c8a4bcd5-09a4-4466-813e-11a4f7f56186"
   },
   "outputs": [
    {
     "data": {
      "text/plain": [
       "0       Alabama\n",
       "1        Alaska\n",
       "2       Arizona\n",
       "3      Arkansas\n",
       "4    California\n",
       "Name: State, dtype: object"
      ]
     },
     "execution_count": 19,
     "metadata": {},
     "output_type": "execute_result"
    }
   ],
   "source": [
    "# Selecting specific column and rows\n",
    "df[0:5][\"State\"]"
   ]
  },
  {
   "cell_type": "code",
   "execution_count": 20,
   "metadata": {
    "colab": {},
    "colab_type": "code",
    "id": "xygS6lrMZzOC",
    "outputId": "093e6ffd-1eb8-447a-acb0-7e695f11ad7c"
   },
   "outputs": [
    {
     "data": {
      "text/plain": [
       "0       Alabama\n",
       "1        Alaska\n",
       "2       Arizona\n",
       "3      Arkansas\n",
       "4    California\n",
       "Name: State, dtype: object"
      ]
     },
     "execution_count": 20,
     "metadata": {},
     "output_type": "execute_result"
    }
   ],
   "source": [
    "# Works both ways\n",
    "df[\"State\"][0:5]"
   ]
  },
  {
   "cell_type": "markdown",
   "metadata": {
    "colab_type": "text",
    "id": "yNh3_0JcZzOH"
   },
   "source": [
    "## 1.7 Slicing columns using pandas"
   ]
  },
  {
   "cell_type": "code",
   "execution_count": 21,
   "metadata": {
    "colab": {},
    "colab_type": "code",
    "id": "mXDOKaOlZzOI",
    "outputId": "d34e86e5-a0b5-4330-9139-e28964231c1e"
   },
   "outputs": [
    {
     "data": {
      "text/plain": [
       "RangeIndex(start=0, stop=22899, step=1)"
      ]
     },
     "execution_count": 21,
     "metadata": {},
     "output_type": "execute_result"
    }
   ],
   "source": [
    "df.index"
   ]
  },
  {
   "cell_type": "code",
   "execution_count": 22,
   "metadata": {
    "colab": {},
    "colab_type": "code",
    "id": "0LAzoMhnZzOO",
    "outputId": "0eb28f8e-7a02-43e0-ee30-a8f4ef5b0800"
   },
   "outputs": [
    {
     "data": {
      "text/html": [
       "<div>\n",
       "<style scoped>\n",
       "    .dataframe tbody tr th:only-of-type {\n",
       "        vertical-align: middle;\n",
       "    }\n",
       "\n",
       "    .dataframe tbody tr th {\n",
       "        vertical-align: top;\n",
       "    }\n",
       "\n",
       "    .dataframe thead th {\n",
       "        text-align: right;\n",
       "    }\n",
       "</style>\n",
       "<table border=\"1\" class=\"dataframe\">\n",
       "  <thead>\n",
       "    <tr style=\"text-align: right;\">\n",
       "      <th></th>\n",
       "      <th>State</th>\n",
       "      <th>HighQ</th>\n",
       "      <th>HighQN</th>\n",
       "      <th>MedQ</th>\n",
       "      <th>MedQN</th>\n",
       "      <th>LowQ</th>\n",
       "      <th>LowQN</th>\n",
       "      <th>date</th>\n",
       "    </tr>\n",
       "  </thead>\n",
       "  <tbody>\n",
       "    <tr>\n",
       "      <th>0</th>\n",
       "      <td>Alabama</td>\n",
       "      <td>339.06</td>\n",
       "      <td>1042</td>\n",
       "      <td>198.64</td>\n",
       "      <td>933</td>\n",
       "      <td>149.49</td>\n",
       "      <td>123</td>\n",
       "      <td>2014-01-01</td>\n",
       "    </tr>\n",
       "    <tr>\n",
       "      <th>1</th>\n",
       "      <td>Alaska</td>\n",
       "      <td>288.75</td>\n",
       "      <td>252</td>\n",
       "      <td>260.60</td>\n",
       "      <td>297</td>\n",
       "      <td>388.58</td>\n",
       "      <td>26</td>\n",
       "      <td>2014-01-01</td>\n",
       "    </tr>\n",
       "    <tr>\n",
       "      <th>2</th>\n",
       "      <td>Arizona</td>\n",
       "      <td>303.31</td>\n",
       "      <td>1941</td>\n",
       "      <td>209.35</td>\n",
       "      <td>1625</td>\n",
       "      <td>189.45</td>\n",
       "      <td>222</td>\n",
       "      <td>2014-01-01</td>\n",
       "    </tr>\n",
       "    <tr>\n",
       "      <th>3</th>\n",
       "      <td>Arkansas</td>\n",
       "      <td>361.85</td>\n",
       "      <td>576</td>\n",
       "      <td>185.62</td>\n",
       "      <td>544</td>\n",
       "      <td>125.87</td>\n",
       "      <td>112</td>\n",
       "      <td>2014-01-01</td>\n",
       "    </tr>\n",
       "    <tr>\n",
       "      <th>4</th>\n",
       "      <td>California</td>\n",
       "      <td>248.78</td>\n",
       "      <td>12096</td>\n",
       "      <td>193.56</td>\n",
       "      <td>12812</td>\n",
       "      <td>192.92</td>\n",
       "      <td>778</td>\n",
       "      <td>2014-01-01</td>\n",
       "    </tr>\n",
       "  </tbody>\n",
       "</table>\n",
       "</div>"
      ],
      "text/plain": [
       "        State   HighQ  HighQN    MedQ  MedQN    LowQ  LowQN       date\n",
       "0     Alabama  339.06    1042  198.64    933  149.49    123 2014-01-01\n",
       "1      Alaska  288.75     252  260.60    297  388.58     26 2014-01-01\n",
       "2     Arizona  303.31    1941  209.35   1625  189.45    222 2014-01-01\n",
       "3    Arkansas  361.85     576  185.62    544  125.87    112 2014-01-01\n",
       "4  California  248.78   12096  193.56  12812  192.92    778 2014-01-01"
      ]
     },
     "execution_count": 22,
     "metadata": {},
     "output_type": "execute_result"
    }
   ],
   "source": [
    "df.head()"
   ]
  },
  {
   "cell_type": "code",
   "execution_count": 101,
   "metadata": {
    "colab": {},
    "colab_type": "code",
    "id": "Kdpwga5bZzOb",
    "outputId": "449f1b25-731b-4830-da3b-b34ac0ead4e3"
   },
   "outputs": [
    {
     "data": {
      "text/plain": [
       "'Alaska'"
      ]
     },
     "execution_count": 101,
     "metadata": {},
     "output_type": "execute_result"
    }
   ],
   "source": [
    "df.iloc[1,0]"
   ]
  },
  {
   "cell_type": "code",
   "execution_count": 103,
   "metadata": {},
   "outputs": [
    {
     "data": {
      "text/plain": [
       "'Alaska'"
      ]
     },
     "execution_count": 103,
     "metadata": {},
     "output_type": "execute_result"
    }
   ],
   "source": [
    "df.loc[1,\"State\"]"
   ]
  },
  {
   "cell_type": "code",
   "execution_count": 102,
   "metadata": {
    "colab": {},
    "colab_type": "code",
    "id": "uEIqA1SuZzOh",
    "outputId": "d9efd3f0-a589-4d42-d7d5-1137ab080c11"
   },
   "outputs": [
    {
     "name": "stderr",
     "output_type": "stream",
     "text": [
      "/home/ishwarya/.virtualenvs/wtbi2i_3/lib/python3.6/site-packages/ipykernel_launcher.py:1: DeprecationWarning: \n",
      ".ix is deprecated. Please use\n",
      ".loc for label based indexing or\n",
      ".iloc for positional indexing\n",
      "\n",
      "See the documentation here:\n",
      "http://pandas.pydata.org/pandas-docs/stable/indexing.html#ix-indexer-is-deprecated\n",
      "  \"\"\"Entry point for launching an IPython kernel.\n"
     ]
    },
    {
     "data": {
      "text/plain": [
       "'Alaska'"
      ]
     },
     "execution_count": 102,
     "metadata": {},
     "output_type": "execute_result"
    }
   ],
   "source": [
    "df.ix[1,'State']"
   ]
  },
  {
   "cell_type": "code",
   "execution_count": 86,
   "metadata": {
    "colab": {},
    "colab_type": "code",
    "id": "Ml4FYMl5ZzOp"
   },
   "outputs": [],
   "source": [
    "import pandas as pd , numpy as np\n",
    "s = pd.Series([45,54,63,72,81,90,99,108,117,126], index=[49,48,47,46,45, 1,1, 2, 3, 4],name='My_Series')"
   ]
  },
  {
   "cell_type": "code",
   "execution_count": 87,
   "metadata": {
    "colab": {},
    "colab_type": "code",
    "id": "O_9sn1tmZzOu",
    "outputId": "291bd8b3-1a60-462d-92e1-95d50bf1c18f"
   },
   "outputs": [
    {
     "data": {
      "text/plain": [
       "49     45\n",
       "48     54\n",
       "47     63\n",
       "46     72\n",
       "45     81\n",
       "1      90\n",
       "1      99\n",
       "2     108\n",
       "3     117\n",
       "4     126\n",
       "Name: My_Series, dtype: int64"
      ]
     },
     "execution_count": 87,
     "metadata": {},
     "output_type": "execute_result"
    }
   ],
   "source": [
    "s"
   ]
  },
  {
   "cell_type": "code",
   "execution_count": 88,
   "metadata": {},
   "outputs": [
    {
     "data": {
      "text/plain": [
       "1    90\n",
       "1    99\n",
       "Name: My_Series, dtype: int64"
      ]
     },
     "execution_count": 88,
     "metadata": {},
     "output_type": "execute_result"
    }
   ],
   "source": [
    "s.loc[1]"
   ]
  },
  {
   "cell_type": "code",
   "execution_count": 89,
   "metadata": {},
   "outputs": [
    {
     "data": {
      "text/plain": [
       "54"
      ]
     },
     "execution_count": 89,
     "metadata": {},
     "output_type": "execute_result"
    }
   ],
   "source": [
    "s.iloc[1]"
   ]
  },
  {
   "cell_type": "code",
   "execution_count": 5,
   "metadata": {
    "collapsed": true
   },
   "outputs": [
    {
     "data": {
      "text/html": [
       "<div>\n",
       "<style scoped>\n",
       "    .dataframe tbody tr th:only-of-type {\n",
       "        vertical-align: middle;\n",
       "    }\n",
       "\n",
       "    .dataframe tbody tr th {\n",
       "        vertical-align: top;\n",
       "    }\n",
       "\n",
       "    .dataframe thead th {\n",
       "        text-align: right;\n",
       "    }\n",
       "</style>\n",
       "<table border=\"1\" class=\"dataframe\">\n",
       "  <thead>\n",
       "    <tr style=\"text-align: right;\">\n",
       "      <th></th>\n",
       "      <th>State</th>\n",
       "      <th>HighQ</th>\n",
       "      <th>HighQN</th>\n",
       "      <th>MedQ</th>\n",
       "      <th>MedQN</th>\n",
       "      <th>LowQ</th>\n",
       "      <th>LowQN</th>\n",
       "      <th>date</th>\n",
       "    </tr>\n",
       "  </thead>\n",
       "  <tbody>\n",
       "    <tr>\n",
       "      <th>0</th>\n",
       "      <td>Alabama</td>\n",
       "      <td>339.06</td>\n",
       "      <td>1042</td>\n",
       "      <td>198.64</td>\n",
       "      <td>933</td>\n",
       "      <td>149.49</td>\n",
       "      <td>123</td>\n",
       "      <td>2014-01-01</td>\n",
       "    </tr>\n",
       "    <tr>\n",
       "      <th>1</th>\n",
       "      <td>Alaska</td>\n",
       "      <td>288.75</td>\n",
       "      <td>252</td>\n",
       "      <td>260.60</td>\n",
       "      <td>297</td>\n",
       "      <td>388.58</td>\n",
       "      <td>26</td>\n",
       "      <td>2014-01-01</td>\n",
       "    </tr>\n",
       "    <tr>\n",
       "      <th>2</th>\n",
       "      <td>Arizona</td>\n",
       "      <td>303.31</td>\n",
       "      <td>1941</td>\n",
       "      <td>209.35</td>\n",
       "      <td>1625</td>\n",
       "      <td>189.45</td>\n",
       "      <td>222</td>\n",
       "      <td>2014-01-01</td>\n",
       "    </tr>\n",
       "    <tr>\n",
       "      <th>3</th>\n",
       "      <td>Arkansas</td>\n",
       "      <td>361.85</td>\n",
       "      <td>576</td>\n",
       "      <td>185.62</td>\n",
       "      <td>544</td>\n",
       "      <td>125.87</td>\n",
       "      <td>112</td>\n",
       "      <td>2014-01-01</td>\n",
       "    </tr>\n",
       "    <tr>\n",
       "      <th>4</th>\n",
       "      <td>California</td>\n",
       "      <td>248.78</td>\n",
       "      <td>12096</td>\n",
       "      <td>193.56</td>\n",
       "      <td>12812</td>\n",
       "      <td>192.92</td>\n",
       "      <td>778</td>\n",
       "      <td>2014-01-01</td>\n",
       "    </tr>\n",
       "    <tr>\n",
       "      <th>5</th>\n",
       "      <td>Colorado</td>\n",
       "      <td>236.31</td>\n",
       "      <td>2161</td>\n",
       "      <td>195.29</td>\n",
       "      <td>1728</td>\n",
       "      <td>213.50</td>\n",
       "      <td>128</td>\n",
       "      <td>2014-01-01</td>\n",
       "    </tr>\n",
       "    <tr>\n",
       "      <th>6</th>\n",
       "      <td>Connecticut</td>\n",
       "      <td>347.90</td>\n",
       "      <td>1294</td>\n",
       "      <td>273.97</td>\n",
       "      <td>1316</td>\n",
       "      <td>257.36</td>\n",
       "      <td>91</td>\n",
       "      <td>2014-01-01</td>\n",
       "    </tr>\n",
       "    <tr>\n",
       "      <th>7</th>\n",
       "      <td>Delaware</td>\n",
       "      <td>373.18</td>\n",
       "      <td>347</td>\n",
       "      <td>226.25</td>\n",
       "      <td>273</td>\n",
       "      <td>199.88</td>\n",
       "      <td>34</td>\n",
       "      <td>2014-01-01</td>\n",
       "    </tr>\n",
       "    <tr>\n",
       "      <th>8</th>\n",
       "      <td>District of Columbia</td>\n",
       "      <td>352.26</td>\n",
       "      <td>433</td>\n",
       "      <td>295.67</td>\n",
       "      <td>349</td>\n",
       "      <td>213.72</td>\n",
       "      <td>39</td>\n",
       "      <td>2014-01-01</td>\n",
       "    </tr>\n",
       "    <tr>\n",
       "      <th>9</th>\n",
       "      <td>Florida</td>\n",
       "      <td>306.43</td>\n",
       "      <td>6506</td>\n",
       "      <td>220.03</td>\n",
       "      <td>5237</td>\n",
       "      <td>158.26</td>\n",
       "      <td>514</td>\n",
       "      <td>2014-01-01</td>\n",
       "    </tr>\n",
       "    <tr>\n",
       "      <th>10</th>\n",
       "      <td>Georgia</td>\n",
       "      <td>332.21</td>\n",
       "      <td>3099</td>\n",
       "      <td>213.52</td>\n",
       "      <td>2269</td>\n",
       "      <td>153.45</td>\n",
       "      <td>229</td>\n",
       "      <td>2014-01-01</td>\n",
       "    </tr>\n",
       "    <tr>\n",
       "      <th>11</th>\n",
       "      <td>Hawaii</td>\n",
       "      <td>310.96</td>\n",
       "      <td>328</td>\n",
       "      <td>270.38</td>\n",
       "      <td>350</td>\n",
       "      <td>160.46</td>\n",
       "      <td>25</td>\n",
       "      <td>2014-01-01</td>\n",
       "    </tr>\n",
       "    <tr>\n",
       "      <th>12</th>\n",
       "      <td>Idaho</td>\n",
       "      <td>276.05</td>\n",
       "      <td>315</td>\n",
       "      <td>254.96</td>\n",
       "      <td>445</td>\n",
       "      <td>132.61</td>\n",
       "      <td>20</td>\n",
       "      <td>2014-01-01</td>\n",
       "    </tr>\n",
       "    <tr>\n",
       "      <th>13</th>\n",
       "      <td>Illinois</td>\n",
       "      <td>359.74</td>\n",
       "      <td>4008</td>\n",
       "      <td>287.23</td>\n",
       "      <td>3644</td>\n",
       "      <td>181.25</td>\n",
       "      <td>329</td>\n",
       "      <td>2014-01-01</td>\n",
       "    </tr>\n",
       "    <tr>\n",
       "      <th>14</th>\n",
       "      <td>Indiana</td>\n",
       "      <td>336.80</td>\n",
       "      <td>1665</td>\n",
       "      <td>206.24</td>\n",
       "      <td>1446</td>\n",
       "      <td>154.05</td>\n",
       "      <td>248</td>\n",
       "      <td>2014-01-01</td>\n",
       "    </tr>\n",
       "    <tr>\n",
       "      <th>15</th>\n",
       "      <td>Iowa</td>\n",
       "      <td>371.70</td>\n",
       "      <td>697</td>\n",
       "      <td>292.34</td>\n",
       "      <td>649</td>\n",
       "      <td>252.24</td>\n",
       "      <td>103</td>\n",
       "      <td>2014-01-01</td>\n",
       "    </tr>\n",
       "    <tr>\n",
       "      <th>16</th>\n",
       "      <td>Kansas</td>\n",
       "      <td>353.51</td>\n",
       "      <td>838</td>\n",
       "      <td>260.97</td>\n",
       "      <td>628</td>\n",
       "      <td>124.27</td>\n",
       "      <td>109</td>\n",
       "      <td>2014-01-01</td>\n",
       "    </tr>\n",
       "    <tr>\n",
       "      <th>17</th>\n",
       "      <td>Kentucky</td>\n",
       "      <td>337.33</td>\n",
       "      <td>1013</td>\n",
       "      <td>183.17</td>\n",
       "      <td>986</td>\n",
       "      <td>120.31</td>\n",
       "      <td>132</td>\n",
       "      <td>2014-01-01</td>\n",
       "    </tr>\n",
       "    <tr>\n",
       "      <th>18</th>\n",
       "      <td>Louisiana</td>\n",
       "      <td>377.71</td>\n",
       "      <td>1071</td>\n",
       "      <td>243.26</td>\n",
       "      <td>864</td>\n",
       "      <td>153.73</td>\n",
       "      <td>224</td>\n",
       "      <td>2014-01-01</td>\n",
       "    </tr>\n",
       "    <tr>\n",
       "      <th>19</th>\n",
       "      <td>Maine</td>\n",
       "      <td>321.10</td>\n",
       "      <td>450</td>\n",
       "      <td>259.18</td>\n",
       "      <td>425</td>\n",
       "      <td>214.80</td>\n",
       "      <td>52</td>\n",
       "      <td>2014-01-01</td>\n",
       "    </tr>\n",
       "  </tbody>\n",
       "</table>\n",
       "</div>"
      ],
      "text/plain": [
       "                   State   HighQ  HighQN    MedQ  MedQN    LowQ  LowQN  \\\n",
       "0                Alabama  339.06    1042  198.64    933  149.49    123   \n",
       "1                 Alaska  288.75     252  260.60    297  388.58     26   \n",
       "2                Arizona  303.31    1941  209.35   1625  189.45    222   \n",
       "3               Arkansas  361.85     576  185.62    544  125.87    112   \n",
       "4             California  248.78   12096  193.56  12812  192.92    778   \n",
       "5               Colorado  236.31    2161  195.29   1728  213.50    128   \n",
       "6            Connecticut  347.90    1294  273.97   1316  257.36     91   \n",
       "7               Delaware  373.18     347  226.25    273  199.88     34   \n",
       "8   District of Columbia  352.26     433  295.67    349  213.72     39   \n",
       "9                Florida  306.43    6506  220.03   5237  158.26    514   \n",
       "10               Georgia  332.21    3099  213.52   2269  153.45    229   \n",
       "11                Hawaii  310.96     328  270.38    350  160.46     25   \n",
       "12                 Idaho  276.05     315  254.96    445  132.61     20   \n",
       "13              Illinois  359.74    4008  287.23   3644  181.25    329   \n",
       "14               Indiana  336.80    1665  206.24   1446  154.05    248   \n",
       "15                  Iowa  371.70     697  292.34    649  252.24    103   \n",
       "16                Kansas  353.51     838  260.97    628  124.27    109   \n",
       "17              Kentucky  337.33    1013  183.17    986  120.31    132   \n",
       "18             Louisiana  377.71    1071  243.26    864  153.73    224   \n",
       "19                 Maine  321.10     450  259.18    425  214.80     52   \n",
       "\n",
       "          date  \n",
       "0   2014-01-01  \n",
       "1   2014-01-01  \n",
       "2   2014-01-01  \n",
       "3   2014-01-01  \n",
       "4   2014-01-01  \n",
       "5   2014-01-01  \n",
       "6   2014-01-01  \n",
       "7   2014-01-01  \n",
       "8   2014-01-01  \n",
       "9   2014-01-01  \n",
       "10  2014-01-01  \n",
       "11  2014-01-01  \n",
       "12  2014-01-01  \n",
       "13  2014-01-01  \n",
       "14  2014-01-01  \n",
       "15  2014-01-01  \n",
       "16  2014-01-01  \n",
       "17  2014-01-01  \n",
       "18  2014-01-01  \n",
       "19  2014-01-01  "
      ]
     },
     "execution_count": 5,
     "metadata": {},
     "output_type": "execute_result"
    }
   ],
   "source": [
    "df.head(20)"
   ]
  },
  {
   "cell_type": "code",
   "execution_count": 105,
   "metadata": {},
   "outputs": [],
   "source": [
    "# loc can be used to change values in the data based on condition\n",
    "df.loc[df[\"LowQN\"]==123,\"LowQN\"]=321"
   ]
  },
  {
   "cell_type": "code",
   "execution_count": 106,
   "metadata": {},
   "outputs": [
    {
     "data": {
      "text/html": [
       "<div>\n",
       "<style scoped>\n",
       "    .dataframe tbody tr th:only-of-type {\n",
       "        vertical-align: middle;\n",
       "    }\n",
       "\n",
       "    .dataframe tbody tr th {\n",
       "        vertical-align: top;\n",
       "    }\n",
       "\n",
       "    .dataframe thead th {\n",
       "        text-align: right;\n",
       "    }\n",
       "</style>\n",
       "<table border=\"1\" class=\"dataframe\">\n",
       "  <thead>\n",
       "    <tr style=\"text-align: right;\">\n",
       "      <th></th>\n",
       "      <th>State</th>\n",
       "      <th>HighQ</th>\n",
       "      <th>HighQN</th>\n",
       "      <th>MedQ</th>\n",
       "      <th>MedQN</th>\n",
       "      <th>LowQ</th>\n",
       "      <th>LowQN</th>\n",
       "      <th>date</th>\n",
       "    </tr>\n",
       "  </thead>\n",
       "  <tbody>\n",
       "    <tr>\n",
       "      <th>0</th>\n",
       "      <td>Alabama</td>\n",
       "      <td>339.06</td>\n",
       "      <td>1042</td>\n",
       "      <td>198.64</td>\n",
       "      <td>933</td>\n",
       "      <td>149.49</td>\n",
       "      <td>321</td>\n",
       "      <td>2014-01-01</td>\n",
       "    </tr>\n",
       "    <tr>\n",
       "      <th>1</th>\n",
       "      <td>Alaska</td>\n",
       "      <td>288.75</td>\n",
       "      <td>252</td>\n",
       "      <td>260.60</td>\n",
       "      <td>297</td>\n",
       "      <td>388.58</td>\n",
       "      <td>26</td>\n",
       "      <td>2014-01-01</td>\n",
       "    </tr>\n",
       "    <tr>\n",
       "      <th>2</th>\n",
       "      <td>Arizona</td>\n",
       "      <td>303.31</td>\n",
       "      <td>1941</td>\n",
       "      <td>209.35</td>\n",
       "      <td>1625</td>\n",
       "      <td>189.45</td>\n",
       "      <td>222</td>\n",
       "      <td>2014-01-01</td>\n",
       "    </tr>\n",
       "    <tr>\n",
       "      <th>3</th>\n",
       "      <td>Arkansas</td>\n",
       "      <td>361.85</td>\n",
       "      <td>576</td>\n",
       "      <td>185.62</td>\n",
       "      <td>544</td>\n",
       "      <td>125.87</td>\n",
       "      <td>112</td>\n",
       "      <td>2014-01-01</td>\n",
       "    </tr>\n",
       "    <tr>\n",
       "      <th>4</th>\n",
       "      <td>California</td>\n",
       "      <td>248.78</td>\n",
       "      <td>12096</td>\n",
       "      <td>193.56</td>\n",
       "      <td>12812</td>\n",
       "      <td>192.92</td>\n",
       "      <td>778</td>\n",
       "      <td>2014-01-01</td>\n",
       "    </tr>\n",
       "  </tbody>\n",
       "</table>\n",
       "</div>"
      ],
      "text/plain": [
       "        State   HighQ  HighQN    MedQ  MedQN    LowQ  LowQN       date\n",
       "0     Alabama  339.06    1042  198.64    933  149.49    321 2014-01-01\n",
       "1      Alaska  288.75     252  260.60    297  388.58     26 2014-01-01\n",
       "2     Arizona  303.31    1941  209.35   1625  189.45    222 2014-01-01\n",
       "3    Arkansas  361.85     576  185.62    544  125.87    112 2014-01-01\n",
       "4  California  248.78   12096  193.56  12812  192.92    778 2014-01-01"
      ]
     },
     "execution_count": 106,
     "metadata": {},
     "output_type": "execute_result"
    }
   ],
   "source": [
    "df.head()"
   ]
  },
  {
   "cell_type": "code",
   "execution_count": 33,
   "metadata": {
    "colab": {},
    "colab_type": "code",
    "id": "HlsJWBOKZzPO"
   },
   "outputs": [
    {
     "data": {
      "text/plain": [
       "\"If you're only indexing using labels, or only indexing using integer positions, \\nstick with loc or iloc to avoid unexpected results.\\nIf however you have a DataFrame and you want to mix label and positional index types, ix lets you do this\\n\""
      ]
     },
     "execution_count": 33,
     "metadata": {},
     "output_type": "execute_result"
    }
   ],
   "source": [
    "#General advice: \n",
    "'''If you're only indexing using labels, or only indexing using integer positions, \n",
    "stick with loc or iloc to avoid unexpected results.\n",
    "If however you have a DataFrame and you want to mix label and positional index types, ix lets you do this\n",
    "'''"
   ]
  },
  {
   "cell_type": "markdown",
   "metadata": {
    "colab_type": "text",
    "id": "Tw8t3ZfIZzPT"
   },
   "source": [
    "# Exercise\n",
    "\n",
    "1) Load the Demographics_State.csv dataset"
   ]
  },
  {
   "cell_type": "code",
   "execution_count": null,
   "metadata": {
    "colab": {},
    "colab_type": "code",
    "id": "LRCLlvaKZzPU"
   },
   "outputs": [],
   "source": []
  },
  {
   "cell_type": "markdown",
   "metadata": {
    "colab_type": "text",
    "id": "zeny3JzMZzPY"
   },
   "source": [
    "2) Show the five first rows of the dataset"
   ]
  },
  {
   "cell_type": "code",
   "execution_count": null,
   "metadata": {
    "colab": {},
    "colab_type": "code",
    "id": "8-85z_IoZzPZ"
   },
   "outputs": [],
   "source": []
  },
  {
   "cell_type": "markdown",
   "metadata": {
    "colab_type": "text",
    "id": "5IFM0E6XZzPh"
   },
   "source": [
    "3) Select the column with the State name in the data frame"
   ]
  },
  {
   "cell_type": "code",
   "execution_count": null,
   "metadata": {
    "colab": {},
    "colab_type": "code",
    "id": "2P889CXIZzPu"
   },
   "outputs": [],
   "source": []
  }
 ],
 "metadata": {
  "colab": {
   "name": "1-Acquire.ipynb",
   "provenance": []
  },
  "kernelspec": {
   "display_name": "Python 3",
   "language": "python",
   "name": "python3"
  },
  "language_info": {
   "codemirror_mode": {
    "name": "ipython",
    "version": 3
   },
   "file_extension": ".py",
   "mimetype": "text/x-python",
   "name": "python",
   "nbconvert_exporter": "python",
   "pygments_lexer": "ipython3",
   "version": "3.8.3"
  }
 },
 "nbformat": 4,
 "nbformat_minor": 1
}
