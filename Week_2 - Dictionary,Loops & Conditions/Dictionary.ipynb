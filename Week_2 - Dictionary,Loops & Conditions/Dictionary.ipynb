{
 "cells": [
  {
   "cell_type": "markdown",
   "metadata": {
    "colab_type": "text",
    "id": "DTu89ir-m7Iv"
   },
   "source": [
    "# *DICTIONARY*"
   ]
  },
  {
   "cell_type": "markdown",
   "metadata": {
    "colab_type": "text",
    "id": "OXVSdhpdm7Iw"
   },
   "source": [
    "Python programs or scripts without lists and dictionaries are nearly inconceivable. Like lists dictionaries can easily be\n",
    "changed, can be shrunk and grown ad libitum at run time. They shrink and grow without the necessity of making copies. \n",
    "Dictionaries can be contained in lists and vice versa. But what's the difference between lists and dictionaries?\n",
    "Lists are ordered sets of objects, whereas dictionaries are unordered sets. \n",
    "\n",
    "But the main difference is that items in dictionaries are accessed via keys and not via their position. \n",
    "A dictionary is an associative array (also known as hashes). \n",
    "Any key of the dictionary is associated (or mapped) to a value. \n",
    "The values of a dictionary can be any Python data type. So dictionaries are unordered key-value-pairs.\n",
    "\n",
    "Dictionary don't support the sequence operation of the sequence data types like strings, tuples and lists. \n",
    "Dictionaries belong to the built-in mapping type. They are the sole representative of this kind!\n",
    "\n",
    "At the end of this chapter, we will show how a dictionary can be turned into one list,\n",
    "containing (key,value)-tuples or two lists, i.e. one with the keys and one with the values. \n",
    "This transformation can be done reversely as well. "
   ]
  },
  {
   "cell_type": "markdown",
   "metadata": {
    "colab_type": "text",
    "id": "7-JbDW5Sm7Iy"
   },
   "source": [
    "### Our first example is the most simple dictionary, an empty dictionary: "
   ]
  },
  {
   "cell_type": "code",
   "execution_count": 1,
   "metadata": {
    "ExecuteTime": {
     "end_time": "2019-06-13T11:19:31.536675Z",
     "start_time": "2019-06-13T11:19:31.531663Z"
    },
    "colab": {
     "base_uri": "https://localhost:8080/",
     "height": 34
    },
    "colab_type": "code",
    "executionInfo": {
     "elapsed": 2132,
     "status": "ok",
     "timestamp": 1595306351936,
     "user": {
      "displayName": "Sreekiran A R",
      "photoUrl": "",
      "userId": "08081610524516152222"
     },
     "user_tz": -330
    },
    "id": "b21BU8H6m7Iy",
    "outputId": "da192958-c831-491d-e0a6-8e6be5e016c1"
   },
   "outputs": [
    {
     "name": "stdout",
     "output_type": "stream",
     "text": [
      "{}\n"
     ]
    }
   ],
   "source": [
    "#execute the following\n",
    "empty = {}\n",
    "\n",
    "print(empty)"
   ]
  },
  {
   "cell_type": "code",
   "execution_count": 3,
   "metadata": {
    "colab": {
     "base_uri": "https://localhost:8080/",
     "height": 34
    },
    "colab_type": "code",
    "executionInfo": {
     "elapsed": 987,
     "status": "ok",
     "timestamp": 1595306374672,
     "user": {
      "displayName": "Sreekiran A R",
      "photoUrl": "",
      "userId": "08081610524516152222"
     },
     "user_tz": -330
    },
    "id": "SYSJbybVp0Jh",
    "outputId": "fafe2ffc-2d08-482f-b0ab-3b6c0fccfe02"
   },
   "outputs": [
    {
     "data": {
      "text/plain": [
       "{}"
      ]
     },
     "execution_count": 3,
     "metadata": {
      "tags": []
     },
     "output_type": "execute_result"
    }
   ],
   "source": [
    "empty= dict()\n",
    "empty"
   ]
  },
  {
   "cell_type": "code",
   "execution_count": 4,
   "metadata": {
    "colab": {
     "base_uri": "https://localhost:8080/",
     "height": 34
    },
    "colab_type": "code",
    "executionInfo": {
     "elapsed": 1014,
     "status": "ok",
     "timestamp": 1595306388369,
     "user": {
      "displayName": "Sreekiran A R",
      "photoUrl": "",
      "userId": "08081610524516152222"
     },
     "user_tz": -330
    },
    "id": "Zpj4GKiwq4Hz",
    "outputId": "f2dc693b-6cf3-4b65-a8b3-5fd75c8386b8"
   },
   "outputs": [
    {
     "data": {
      "text/plain": [
       "dict"
      ]
     },
     "execution_count": 4,
     "metadata": {
      "tags": []
     },
     "output_type": "execute_result"
    }
   ],
   "source": [
    "type(empty)"
   ]
  },
  {
   "cell_type": "markdown",
   "metadata": {
    "colab_type": "text",
    "id": "j5qx2pj0m7I4"
   },
   "source": [
    "## 1. Create a dictionary"
   ]
  },
  {
   "cell_type": "markdown",
   "metadata": {
    "ExecuteTime": {
     "end_time": "2019-06-13T08:13:02.352607Z",
     "start_time": "2019-06-13T08:13:01.884958Z"
    },
    "colab_type": "text",
    "id": "X_TM_Znem7I5"
   },
   "source": [
    "a = {key:value}"
   ]
  },
  {
   "cell_type": "code",
   "execution_count": 5,
   "metadata": {
    "ExecuteTime": {
     "end_time": "2019-06-13T11:17:53.216599Z",
     "start_time": "2019-06-13T11:17:53.174027Z"
    },
    "colab": {
     "base_uri": "https://localhost:8080/",
     "height": 34
    },
    "colab_type": "code",
    "executionInfo": {
     "elapsed": 899,
     "status": "ok",
     "timestamp": 1595306462811,
     "user": {
      "displayName": "Sreekiran A R",
      "photoUrl": "",
      "userId": "08081610524516152222"
     },
     "user_tz": -330
    },
    "id": "9f2ZW-nGm7I6",
    "outputId": "64bee2a6-9a53-4730-fdee-41e4078f963d"
   },
   "outputs": [
    {
     "name": "stdout",
     "output_type": "stream",
     "text": [
      "{1: 'apple', 2: 'ball'}\n"
     ]
    }
   ],
   "source": [
    "# empty dictionary\n",
    "my_dict = {}\n",
    "\n",
    "# dictionary with integer keys\n",
    "my_dict = {1: 'apple', 2: 'ball'}\n",
    "\n",
    "print(my_dict)"
   ]
  },
  {
   "cell_type": "code",
   "execution_count": 6,
   "metadata": {
    "ExecuteTime": {
     "end_time": "2019-06-13T11:18:01.041800Z",
     "start_time": "2019-06-13T11:18:01.015764Z"
    },
    "colab": {
     "base_uri": "https://localhost:8080/",
     "height": 34
    },
    "colab_type": "code",
    "executionInfo": {
     "elapsed": 937,
     "status": "ok",
     "timestamp": 1595306502495,
     "user": {
      "displayName": "Sreekiran A R",
      "photoUrl": "",
      "userId": "08081610524516152222"
     },
     "user_tz": -330
    },
    "id": "sT-_ezE7m7I-",
    "outputId": "99aa81d4-363e-486d-f99e-d12775a3d3fc"
   },
   "outputs": [
    {
     "name": "stdout",
     "output_type": "stream",
     "text": [
      "{'name': 'John', 1: [2, 4, 3]}\n"
     ]
    }
   ],
   "source": [
    "# dictionary with mixed keys\n",
    "my_dict = {'name': 'John', 1: [2, 4, 3]}\n",
    "\n",
    "print(my_dict)"
   ]
  },
  {
   "cell_type": "markdown",
   "metadata": {
    "colab_type": "text",
    "id": "N5WzrKVam7JD"
   },
   "source": [
    "### Dictionary can also be created via dict() method:"
   ]
  },
  {
   "cell_type": "code",
   "execution_count": 7,
   "metadata": {
    "ExecuteTime": {
     "end_time": "2019-06-13T11:18:06.547547Z",
     "start_time": "2019-06-13T11:18:06.500963Z"
    },
    "colab": {
     "base_uri": "https://localhost:8080/",
     "height": 34
    },
    "colab_type": "code",
    "executionInfo": {
     "elapsed": 935,
     "status": "ok",
     "timestamp": 1595306536527,
     "user": {
      "displayName": "Sreekiran A R",
      "photoUrl": "",
      "userId": "08081610524516152222"
     },
     "user_tz": -330
    },
    "id": "s9VSfOzbm7JE",
    "outputId": "dbae0af5-c03b-45e2-893e-7f406b49373f"
   },
   "outputs": [
    {
     "name": "stdout",
     "output_type": "stream",
     "text": [
      "{1: 'apple', 2: 'ball'}\n"
     ]
    }
   ],
   "source": [
    "# using dict()\n",
    "my_dict = dict({1:'apple', 2:'ball'})\n",
    "\n",
    "print(my_dict)"
   ]
  },
  {
   "cell_type": "markdown",
   "metadata": {
    "colab_type": "text",
    "id": "aujG5fy0m7JI"
   },
   "source": [
    "### Or a list of tuple as well:"
   ]
  },
  {
   "cell_type": "code",
   "execution_count": 8,
   "metadata": {
    "ExecuteTime": {
     "end_time": "2019-06-13T11:18:09.368487Z",
     "start_time": "2019-06-13T11:18:09.351439Z"
    },
    "colab": {
     "base_uri": "https://localhost:8080/",
     "height": 34
    },
    "colab_type": "code",
    "executionInfo": {
     "elapsed": 1005,
     "status": "ok",
     "timestamp": 1595306591898,
     "user": {
      "displayName": "Sreekiran A R",
      "photoUrl": "",
      "userId": "08081610524516152222"
     },
     "user_tz": -330
    },
    "id": "EwCH2oqpm7JM",
    "outputId": "a5ffaa02-21da-436f-bea7-f305dda1e171"
   },
   "outputs": [
    {
     "name": "stdout",
     "output_type": "stream",
     "text": [
      "{1: 'apple', 2: 'ball'}\n"
     ]
    }
   ],
   "source": [
    "# from sequence having each item as a pair\n",
    "my_dict = dict([(1,'apple'), (2,'ball')])\n",
    "\n",
    "print(my_dict)"
   ]
  },
  {
   "cell_type": "code",
   "execution_count": 18,
   "metadata": {
    "colab": {
     "base_uri": "https://localhost:8080/",
     "height": 34
    },
    "colab_type": "code",
    "executionInfo": {
     "elapsed": 959,
     "status": "ok",
     "timestamp": 1595306921727,
     "user": {
      "displayName": "Sreekiran A R",
      "photoUrl": "",
      "userId": "08081610524516152222"
     },
     "user_tz": -330
    },
    "id": "mcNCpgaosq-p",
    "outputId": "5b2678b7-3b2a-4319-acdb-ea4b16188489"
   },
   "outputs": [
    {
     "data": {
      "text/plain": [
       "{1: 'one', 2: 'two', 3: 'three'}"
      ]
     },
     "execution_count": 18,
     "metadata": {
      "tags": []
     },
     "output_type": "execute_result"
    }
   ],
   "source": [
    "my_list=[(1,'one'),(2,'two'),(3,'three')]\n",
    "my_dict_list=dict(my_list)\n",
    "\n",
    "my_dict_list"
   ]
  },
  {
   "cell_type": "code",
   "execution_count": 19,
   "metadata": {
    "colab": {
     "base_uri": "https://localhost:8080/",
     "height": 35
    },
    "colab_type": "code",
    "executionInfo": {
     "elapsed": 1183,
     "status": "ok",
     "timestamp": 1595306940912,
     "user": {
      "displayName": "Sreekiran A R",
      "photoUrl": "",
      "userId": "08081610524516152222"
     },
     "user_tz": -330
    },
    "id": "z7bapxfZs-GD",
    "outputId": "d15b6a01-5e8e-4029-ea11-9e9b13ef2e11"
   },
   "outputs": [
    {
     "data": {
      "application/vnd.google.colaboratory.intrinsic": {
       "type": "string"
      },
      "text/plain": [
       "'one'"
      ]
     },
     "execution_count": 19,
     "metadata": {
      "tags": []
     },
     "output_type": "execute_result"
    }
   ],
   "source": [
    "my_dict_list[1]"
   ]
  },
  {
   "cell_type": "code",
   "execution_count": 9,
   "metadata": {
    "ExecuteTime": {
     "end_time": "2019-06-13T11:20:08.881730Z",
     "start_time": "2019-06-13T11:20:08.876718Z"
    },
    "colab": {
     "base_uri": "https://localhost:8080/",
     "height": 34
    },
    "colab_type": "code",
    "executionInfo": {
     "elapsed": 964,
     "status": "ok",
     "timestamp": 1595306602959,
     "user": {
      "displayName": "Sreekiran A R",
      "photoUrl": "",
      "userId": "08081610524516152222"
     },
     "user_tz": -330
    },
    "id": "4ziX9yCqm7JS",
    "outputId": "8b0b00ae-6d83-4630-f0cd-8daede57e14e"
   },
   "outputs": [
    {
     "name": "stdout",
     "output_type": "stream",
     "text": [
      "{1: 'apple', 'ball': 2}\n"
     ]
    }
   ],
   "source": [
    "my_dict = dict([(1,'apple'), ('ball',2)])\n",
    "\n",
    "print(my_dict)"
   ]
  },
  {
   "cell_type": "markdown",
   "metadata": {
    "colab_type": "text",
    "id": "VUbyteqqm7JW"
   },
   "source": []
  },
  {
   "cell_type": "markdown",
   "metadata": {
    "colab_type": "text",
    "id": "fWbfUio2m7JY"
   },
   "source": [
    "### Let's work with a dictionary about some special food items:"
   ]
  },
  {
   "cell_type": "code",
   "execution_count": 10,
   "metadata": {
    "ExecuteTime": {
     "end_time": "2019-06-13T12:07:33.046324Z",
     "start_time": "2019-06-13T12:07:33.042816Z"
    },
    "colab": {},
    "colab_type": "code",
    "executionInfo": {
     "elapsed": 956,
     "status": "ok",
     "timestamp": 1595306641803,
     "user": {
      "displayName": "Sreekiran A R",
      "photoUrl": "",
      "userId": "08081610524516152222"
     },
     "user_tz": -330
    },
    "id": "mKIZAu75m7JY"
   },
   "outputs": [],
   "source": [
    "#execute the following\n",
    "food = {\"ham\" : \"yes\", \"egg\" : \"yes\", \"bread\" : \"no\" }"
   ]
  },
  {
   "cell_type": "code",
   "execution_count": 11,
   "metadata": {
    "ExecuteTime": {
     "end_time": "2019-06-13T12:07:33.248181Z",
     "start_time": "2019-06-13T12:07:33.242165Z"
    },
    "colab": {
     "base_uri": "https://localhost:8080/",
     "height": 34
    },
    "colab_type": "code",
    "executionInfo": {
     "elapsed": 910,
     "status": "ok",
     "timestamp": 1595306643977,
     "user": {
      "displayName": "Sreekiran A R",
      "photoUrl": "",
      "userId": "08081610524516152222"
     },
     "user_tz": -330
    },
    "id": "-W1dE4y5m7Jc",
    "outputId": "2c6951ae-5e0c-405b-d182-534591854ebd"
   },
   "outputs": [
    {
     "data": {
      "text/plain": [
       "{'bread': 'no', 'egg': 'yes', 'ham': 'yes'}"
      ]
     },
     "execution_count": 11,
     "metadata": {
      "tags": []
     },
     "output_type": "execute_result"
    }
   ],
   "source": [
    "food"
   ]
  },
  {
   "cell_type": "code",
   "execution_count": 12,
   "metadata": {
    "ExecuteTime": {
     "end_time": "2019-06-13T12:07:33.408210Z",
     "start_time": "2019-06-13T12:07:33.403195Z"
    },
    "colab": {
     "base_uri": "https://localhost:8080/",
     "height": 34
    },
    "colab_type": "code",
    "executionInfo": {
     "elapsed": 879,
     "status": "ok",
     "timestamp": 1595306674223,
     "user": {
      "displayName": "Sreekiran A R",
      "photoUrl": "",
      "userId": "08081610524516152222"
     },
     "user_tz": -330
    },
    "id": "MjW9lrn7m7Jg",
    "outputId": "f6ddacc2-a650-4793-daec-74e92818f584"
   },
   "outputs": [
    {
     "data": {
      "text/plain": [
       "dict_keys(['ham', 'egg', 'bread'])"
      ]
     },
     "execution_count": 12,
     "metadata": {
      "tags": []
     },
     "output_type": "execute_result"
    }
   ],
   "source": [
    "food.keys()"
   ]
  },
  {
   "cell_type": "code",
   "execution_count": 13,
   "metadata": {
    "ExecuteTime": {
     "end_time": "2019-06-13T12:07:33.562296Z",
     "start_time": "2019-06-13T12:07:33.556282Z"
    },
    "colab": {
     "base_uri": "https://localhost:8080/",
     "height": 34
    },
    "colab_type": "code",
    "executionInfo": {
     "elapsed": 1045,
     "status": "ok",
     "timestamp": 1595306689739,
     "user": {
      "displayName": "Sreekiran A R",
      "photoUrl": "",
      "userId": "08081610524516152222"
     },
     "user_tz": -330
    },
    "id": "U2OwSfpbm7Jj",
    "outputId": "614b644f-a670-4177-a8d1-52c2a8ffe794"
   },
   "outputs": [
    {
     "data": {
      "text/plain": [
       "dict_values(['yes', 'yes', 'no'])"
      ]
     },
     "execution_count": 13,
     "metadata": {
      "tags": []
     },
     "output_type": "execute_result"
    }
   ],
   "source": [
    "food.values()"
   ]
  },
  {
   "cell_type": "markdown",
   "metadata": {
    "colab_type": "text",
    "id": "eUEuMmYgm7Jm"
   },
   "source": [
    "## 2. Accessing a dictionary"
   ]
  },
  {
   "cell_type": "code",
   "execution_count": 14,
   "metadata": {
    "ExecuteTime": {
     "end_time": "2019-06-13T11:29:10.564260Z",
     "start_time": "2019-06-13T11:29:10.558249Z"
    },
    "colab": {
     "base_uri": "https://localhost:8080/",
     "height": 35
    },
    "colab_type": "code",
    "executionInfo": {
     "elapsed": 1074,
     "status": "ok",
     "timestamp": 1595306743368,
     "user": {
      "displayName": "Sreekiran A R",
      "photoUrl": "",
      "userId": "08081610524516152222"
     },
     "user_tz": -330
    },
    "id": "e4FoUy3Hm7Jn",
    "outputId": "631213b4-d5c7-4bb6-e3a2-9806a681abf0"
   },
   "outputs": [
    {
     "data": {
      "application/vnd.google.colaboratory.intrinsic": {
       "type": "string"
      },
      "text/plain": [
       "'yes'"
      ]
     },
     "execution_count": 14,
     "metadata": {
      "tags": []
     },
     "output_type": "execute_result"
    }
   ],
   "source": [
    "food['egg']"
   ]
  },
  {
   "cell_type": "code",
   "execution_count": 15,
   "metadata": {
    "ExecuteTime": {
     "end_time": "2019-06-13T11:29:10.777044Z",
     "start_time": "2019-06-13T11:29:10.773036Z"
    },
    "colab": {
     "base_uri": "https://localhost:8080/",
     "height": 35
    },
    "colab_type": "code",
    "executionInfo": {
     "elapsed": 1060,
     "status": "ok",
     "timestamp": 1595306763972,
     "user": {
      "displayName": "Sreekiran A R",
      "photoUrl": "",
      "userId": "08081610524516152222"
     },
     "user_tz": -330
    },
    "id": "ZLmpDZOGm7Jq",
    "outputId": "2fb6034c-5b80-4303-c6be-343016ee35fd"
   },
   "outputs": [
    {
     "data": {
      "application/vnd.google.colaboratory.intrinsic": {
       "type": "string"
      },
      "text/plain": [
       "'yes'"
      ]
     },
     "execution_count": 15,
     "metadata": {
      "tags": []
     },
     "output_type": "execute_result"
    }
   ],
   "source": [
    "food.get('egg')"
   ]
  },
  {
   "cell_type": "code",
   "execution_count": 16,
   "metadata": {
    "ExecuteTime": {
     "end_time": "2019-06-13T11:29:11.194070Z",
     "start_time": "2019-06-13T11:29:11.189054Z"
    },
    "colab": {
     "base_uri": "https://localhost:8080/",
     "height": 34
    },
    "colab_type": "code",
    "executionInfo": {
     "elapsed": 938,
     "status": "ok",
     "timestamp": 1595306807528,
     "user": {
      "displayName": "Sreekiran A R",
      "photoUrl": "",
      "userId": "08081610524516152222"
     },
     "user_tz": -330
    },
    "id": "46rhsx37m7J3",
    "outputId": "47854350-1235-412f-d217-c02b9693d180"
   },
   "outputs": [
    {
     "data": {
      "text/plain": [
       "{'bread': 'yes', 'egg': 'yes', 'ham': 'yes'}"
      ]
     },
     "execution_count": 16,
     "metadata": {
      "tags": []
     },
     "output_type": "execute_result"
    }
   ],
   "source": [
    "# Make change to the value of a dict\n",
    "\n",
    "food[\"bread\"] = \"yes\"\n",
    "food"
   ]
  },
  {
   "cell_type": "code",
   "execution_count": 20,
   "metadata": {
    "colab": {
     "base_uri": "https://localhost:8080/",
     "height": 34
    },
    "colab_type": "code",
    "executionInfo": {
     "elapsed": 965,
     "status": "ok",
     "timestamp": 1595307045798,
     "user": {
      "displayName": "Sreekiran A R",
      "photoUrl": "",
      "userId": "08081610524516152222"
     },
     "user_tz": -330
    },
    "id": "AYnqe6R8tZxN",
    "outputId": "ad052aaf-4d8b-4431-b31e-e283b1a840e4"
   },
   "outputs": [
    {
     "data": {
      "text/plain": [
       "{'bread': 'yes', 'egg': 'yes', 'ham': 'yes'}"
      ]
     },
     "execution_count": 20,
     "metadata": {
      "tags": []
     },
     "output_type": "execute_result"
    }
   ],
   "source": [
    "food"
   ]
  },
  {
   "cell_type": "code",
   "execution_count": 21,
   "metadata": {
    "colab": {
     "base_uri": "https://localhost:8080/",
     "height": 34
    },
    "colab_type": "code",
    "executionInfo": {
     "elapsed": 978,
     "status": "ok",
     "timestamp": 1595307071961,
     "user": {
      "displayName": "Sreekiran A R",
      "photoUrl": "",
      "userId": "08081610524516152222"
     },
     "user_tz": -330
    },
    "id": "kr-7durEtb8E",
    "outputId": "e30382f5-8685-4531-88d2-76610117414d"
   },
   "outputs": [
    {
     "data": {
      "text/plain": [
       "{'bread': 'yes', 'egg': 'yes', 'ham': 'yes', 'milk': 'yes'}"
      ]
     },
     "execution_count": 21,
     "metadata": {
      "tags": []
     },
     "output_type": "execute_result"
    }
   ],
   "source": [
    "food['milk']='yes'\n",
    "food"
   ]
  },
  {
   "cell_type": "markdown",
   "metadata": {
    "colab_type": "text",
    "id": "aCrXAjaom7J7"
   },
   "source": [
    "### One might wonder, what if someone wants to change the key itself\n",
    "\n",
    "#### That can be done in two ways:"
   ]
  },
  {
   "cell_type": "code",
   "execution_count": null,
   "metadata": {
    "colab": {},
    "colab_type": "code",
    "id": "gsSdz6lEtbTn"
   },
   "outputs": [],
   "source": []
  },
  {
   "cell_type": "code",
   "execution_count": 25,
   "metadata": {
    "ExecuteTime": {
     "end_time": "2019-06-13T11:29:11.607806Z",
     "start_time": "2019-06-13T11:29:11.602783Z"
    },
    "colab": {
     "base_uri": "https://localhost:8080/",
     "height": 34
    },
    "colab_type": "code",
    "executionInfo": {
     "elapsed": 1077,
     "status": "ok",
     "timestamp": 1595307217957,
     "user": {
      "displayName": "Sreekiran A R",
      "photoUrl": "",
      "userId": "08081610524516152222"
     },
     "user_tz": -330
    },
    "id": "zQgZioiXm7J8",
    "outputId": "377e0239-f350-4740-c20d-5b66b58a8fa9"
   },
   "outputs": [
    {
     "name": "stdout",
     "output_type": "stream",
     "text": [
      "{'ham': 'yes', 'egg': 'yes', 'milk': 'yes', 'butter': 'yes'}\n"
     ]
    }
   ],
   "source": [
    "food['butter'] = food['bread']\n",
    "del food['bread']\n",
    "\n",
    "print(food)"
   ]
  },
  {
   "cell_type": "markdown",
   "metadata": {
    "colab_type": "text",
    "id": "x3JDfEXqm7KA"
   },
   "source": [
    "#### Or do it this way:"
   ]
  },
  {
   "cell_type": "code",
   "execution_count": 23,
   "metadata": {
    "ExecuteTime": {
     "end_time": "2019-06-13T11:29:12.014588Z",
     "start_time": "2019-06-13T11:29:12.009580Z"
    },
    "colab": {
     "base_uri": "https://localhost:8080/",
     "height": 34
    },
    "colab_type": "code",
    "executionInfo": {
     "elapsed": 1100,
     "status": "ok",
     "timestamp": 1595307194005,
     "user": {
      "displayName": "Sreekiran A R",
      "photoUrl": "",
      "userId": "08081610524516152222"
     },
     "user_tz": -330
    },
    "id": "TheiJ8N4m7KA",
    "outputId": "33751f3c-2348-4968-e667-68fbe39b7e0e"
   },
   "outputs": [
    {
     "name": "stdout",
     "output_type": "stream",
     "text": [
      "{'ham': 'yes', 'egg': 'yes', 'milk': 'yes', 'bread': 'yes'}\n"
     ]
    }
   ],
   "source": [
    "food['bread'] = food.pop('butter')\n",
    "\n",
    "print(food)"
   ]
  },
  {
   "cell_type": "code",
   "execution_count": 26,
   "metadata": {
    "colab": {
     "base_uri": "https://localhost:8080/",
     "height": 35
    },
    "colab_type": "code",
    "executionInfo": {
     "elapsed": 1752,
     "status": "ok",
     "timestamp": 1595307222018,
     "user": {
      "displayName": "Sreekiran A R",
      "photoUrl": "",
      "userId": "08081610524516152222"
     },
     "user_tz": -330
    },
    "id": "oeZbGHgRuDJc",
    "outputId": "56dfa26c-54fa-45c6-f8b8-18f89e3bae8c"
   },
   "outputs": [
    {
     "data": {
      "application/vnd.google.colaboratory.intrinsic": {
       "type": "string"
      },
      "text/plain": [
       "'yes'"
      ]
     },
     "execution_count": 26,
     "metadata": {
      "tags": []
     },
     "output_type": "execute_result"
    }
   ],
   "source": [
    "food.pop('butter')"
   ]
  },
  {
   "cell_type": "markdown",
   "metadata": {
    "colab_type": "text",
    "id": "FNujV-T7m7KF"
   },
   "source": [
    "## 3. Mutable data structures can't be used as key\n",
    "\n",
    "### So for example a list can't be used as a key"
   ]
  },
  {
   "cell_type": "code",
   "execution_count": 27,
   "metadata": {
    "ExecuteTime": {
     "end_time": "2019-06-13T11:29:12.890993Z",
     "start_time": "2019-06-13T11:29:12.818296Z"
    },
    "colab": {
     "base_uri": "https://localhost:8080/",
     "height": 163
    },
    "colab_type": "code",
    "executionInfo": {
     "elapsed": 1152,
     "status": "error",
     "timestamp": 1595307311948,
     "user": {
      "displayName": "Sreekiran A R",
      "photoUrl": "",
      "userId": "08081610524516152222"
     },
     "user_tz": -330
    },
    "id": "HAM8LUtQm7KG",
    "outputId": "c7731d47-87e5-48bf-f8ba-84e6a848365a"
   },
   "outputs": [
    {
     "ename": "TypeError",
     "evalue": "ignored",
     "output_type": "error",
     "traceback": [
      "\u001b[0;31m---------------------------------------------------------------------------\u001b[0m",
      "\u001b[0;31mTypeError\u001b[0m                                 Traceback (most recent call last)",
      "\u001b[0;32m<ipython-input-27-5ae01e0d3ca7>\u001b[0m in \u001b[0;36m<module>\u001b[0;34m()\u001b[0m\n\u001b[0;32m----> 1\u001b[0;31m \u001b[0ma\u001b[0m \u001b[0;34m=\u001b[0m \u001b[0;34m{\u001b[0m\u001b[0;34m[\u001b[0m\u001b[0;36m1\u001b[0m\u001b[0;34m,\u001b[0m\u001b[0;36m2\u001b[0m\u001b[0;34m,\u001b[0m\u001b[0;36m3\u001b[0m\u001b[0;34m]\u001b[0m\u001b[0;34m:\u001b[0m\u001b[0;34m'a'\u001b[0m\u001b[0;34m}\u001b[0m\u001b[0;34m\u001b[0m\u001b[0;34m\u001b[0m\u001b[0m\n\u001b[0m",
      "\u001b[0;31mTypeError\u001b[0m: unhashable type: 'list'"
     ]
    }
   ],
   "source": [
    "a = {[1,2,3]:'a'}"
   ]
  },
  {
   "cell_type": "markdown",
   "metadata": {
    "colab_type": "text",
    "id": "HGpEKTIum7KK"
   },
   "source": [
    "### But a tuple can be"
   ]
  },
  {
   "cell_type": "code",
   "execution_count": 28,
   "metadata": {
    "ExecuteTime": {
     "end_time": "2019-06-13T11:29:53.148906Z",
     "start_time": "2019-06-13T11:29:53.143892Z"
    },
    "colab": {
     "base_uri": "https://localhost:8080/",
     "height": 34
    },
    "colab_type": "code",
    "executionInfo": {
     "elapsed": 1917,
     "status": "ok",
     "timestamp": 1595307344561,
     "user": {
      "displayName": "Sreekiran A R",
      "photoUrl": "",
      "userId": "08081610524516152222"
     },
     "user_tz": -330
    },
    "id": "rdgu5Te8m7KL",
    "outputId": "3f1746b1-d3da-4676-f47f-400cb7b65616"
   },
   "outputs": [
    {
     "name": "stdout",
     "output_type": "stream",
     "text": [
      "{(1, 2, 3): 'a'}\n"
     ]
    }
   ],
   "source": [
    "a = {(1,2,3):'a'}\n",
    "\n",
    "print(a)"
   ]
  },
  {
   "cell_type": "markdown",
   "metadata": {
    "colab_type": "text",
    "id": "yOEgLFKlm7KS"
   },
   "source": [
    "### For more detail reasoning:\n",
    "\n",
    "https://wiki.python.org/moin/DictionaryKeys"
   ]
  },
  {
   "cell_type": "markdown",
   "metadata": {
    "colab_type": "text",
    "id": "lCSOkYr9m7KU"
   },
   "source": [
    "## 4. Nesting with Dictionaries\n",
    "\n",
    "### Let's see a dictionary nested inside a dictionary:"
   ]
  },
  {
   "cell_type": "code",
   "execution_count": 47,
   "metadata": {
    "ExecuteTime": {
     "end_time": "2019-06-13T14:29:30.154067Z",
     "start_time": "2019-06-13T14:29:30.151061Z"
    },
    "colab": {
     "base_uri": "https://localhost:8080/",
     "height": 34
    },
    "colab_type": "code",
    "executionInfo": {
     "elapsed": 1118,
     "status": "ok",
     "timestamp": 1595308068551,
     "user": {
      "displayName": "Sreekiran A R",
      "photoUrl": "",
      "userId": "08081610524516152222"
     },
     "user_tz": -330
    },
    "id": "2ZCV9YJ1m7KV",
    "outputId": "6f498be9-a60d-41e5-f73b-a9b6c5f31214"
   },
   "outputs": [
    {
     "data": {
      "text/plain": [
       "{'key1': 'random'}"
      ]
     },
     "execution_count": 47,
     "metadata": {
      "tags": []
     },
     "output_type": "execute_result"
    }
   ],
   "source": [
    "# Dictionary nested inside a dictionary nested inside a dictionary\n",
    "d = {'key1':{'key1':{'subnestkey':45}},'key1':'random'}\n",
    "d"
   ]
  },
  {
   "cell_type": "code",
   "execution_count": 46,
   "metadata": {
    "colab": {
     "base_uri": "https://localhost:8080/",
     "height": 34
    },
    "colab_type": "code",
    "executionInfo": {
     "elapsed": 920,
     "status": "ok",
     "timestamp": 1595308036577,
     "user": {
      "displayName": "Sreekiran A R",
      "photoUrl": "",
      "userId": "08081610524516152222"
     },
     "user_tz": -330
    },
    "id": "QOMDCWT8vS55",
    "outputId": "eee48e32-2282-46a4-cc92-d7d36ec14f54"
   },
   "outputs": [
    {
     "data": {
      "text/plain": [
       "45"
      ]
     },
     "execution_count": 46,
     "metadata": {
      "tags": []
     },
     "output_type": "execute_result"
    }
   ],
   "source": [
    "sb=d['key1']['key1']['subnestkey']\n",
    "sb"
   ]
  },
  {
   "cell_type": "code",
   "execution_count": 42,
   "metadata": {
    "colab": {
     "base_uri": "https://localhost:8080/",
     "height": 34
    },
    "colab_type": "code",
    "executionInfo": {
     "elapsed": 2436,
     "status": "ok",
     "timestamp": 1595307957025,
     "user": {
      "displayName": "Sreekiran A R",
      "photoUrl": "",
      "userId": "08081610524516152222"
     },
     "user_tz": -330
    },
    "id": "MpHXMutFwwWU",
    "outputId": "4127f5bf-c605-4ffe-97ec-df135681fded"
   },
   "outputs": [
    {
     "data": {
      "text/plain": [
       "{'subnestkey': 45}"
      ]
     },
     "execution_count": 42,
     "metadata": {
      "tags": []
     },
     "output_type": "execute_result"
    }
   ],
   "source": [
    "ssb=sb['nestkey']\n",
    "ssb"
   ]
  },
  {
   "cell_type": "code",
   "execution_count": 43,
   "metadata": {
    "colab": {
     "base_uri": "https://localhost:8080/",
     "height": 34
    },
    "colab_type": "code",
    "executionInfo": {
     "elapsed": 1020,
     "status": "ok",
     "timestamp": 1595307971418,
     "user": {
      "displayName": "Sreekiran A R",
      "photoUrl": "",
      "userId": "08081610524516152222"
     },
     "user_tz": -330
    },
    "id": "lUXSlawNw51h",
    "outputId": "3cdba847-0bff-413c-d4c2-8dca52568210"
   },
   "outputs": [
    {
     "data": {
      "text/plain": [
       "45"
      ]
     },
     "execution_count": 43,
     "metadata": {
      "tags": []
     },
     "output_type": "execute_result"
    }
   ],
   "source": [
    "ssb['subnestkey']"
   ]
  },
  {
   "cell_type": "code",
   "execution_count": 35,
   "metadata": {
    "colab": {
     "base_uri": "https://localhost:8080/",
     "height": 34
    },
    "colab_type": "code",
    "executionInfo": {
     "elapsed": 1077,
     "status": "ok",
     "timestamp": 1595307687881,
     "user": {
      "displayName": "Sreekiran A R",
      "photoUrl": "",
      "userId": "08081610524516152222"
     },
     "user_tz": -330
    },
    "id": "V_MFI1GHvS1I",
    "outputId": "0a3c9115-4f66-46db-fcc5-8672fc07dfe0"
   },
   "outputs": [
    {
     "data": {
      "text/plain": [
       "{'subnestkey': 45}"
      ]
     },
     "execution_count": 35,
     "metadata": {
      "tags": []
     },
     "output_type": "execute_result"
    }
   ],
   "source": [
    "sub_nest={'subnestkey':45}\n",
    "sub_nest"
   ]
  },
  {
   "cell_type": "code",
   "execution_count": 36,
   "metadata": {
    "colab": {
     "base_uri": "https://localhost:8080/",
     "height": 34
    },
    "colab_type": "code",
    "executionInfo": {
     "elapsed": 953,
     "status": "ok",
     "timestamp": 1595307707201,
     "user": {
      "displayName": "Sreekiran A R",
      "photoUrl": "",
      "userId": "08081610524516152222"
     },
     "user_tz": -330
    },
    "id": "WgpSNUB4vSwl",
    "outputId": "6279a383-afda-4085-fd75-bbd38c765e0e"
   },
   "outputs": [
    {
     "data": {
      "text/plain": [
       "{'nestkey': {'subnestkey': 45}}"
      ]
     },
     "execution_count": 36,
     "metadata": {
      "tags": []
     },
     "output_type": "execute_result"
    }
   ],
   "source": [
    "nest={'nestkey':sub_nest}\n",
    "nest"
   ]
  },
  {
   "cell_type": "code",
   "execution_count": 37,
   "metadata": {
    "colab": {
     "base_uri": "https://localhost:8080/",
     "height": 34
    },
    "colab_type": "code",
    "executionInfo": {
     "elapsed": 703,
     "status": "ok",
     "timestamp": 1595307728192,
     "user": {
      "displayName": "Sreekiran A R",
      "photoUrl": "",
      "userId": "08081610524516152222"
     },
     "user_tz": -330
    },
    "id": "N9ErNMj_vxkM",
    "outputId": "79e44dd3-16ef-42e1-b6ac-8635fabc946b"
   },
   "outputs": [
    {
     "data": {
      "text/plain": [
       "{'key': {'nestkey': {'subnestkey': 45}}}"
      ]
     },
     "execution_count": 37,
     "metadata": {
      "tags": []
     },
     "output_type": "execute_result"
    }
   ],
   "source": [
    "d={'key':nest}\n",
    "d"
   ]
  },
  {
   "cell_type": "code",
   "execution_count": null,
   "metadata": {
    "colab": {},
    "colab_type": "code",
    "id": "kOO-oqrKvxx5"
   },
   "outputs": [],
   "source": []
  },
  {
   "cell_type": "code",
   "execution_count": null,
   "metadata": {
    "ExecuteTime": {
     "end_time": "2019-06-13T14:29:30.421898Z",
     "start_time": "2019-06-13T14:29:30.417389Z"
    },
    "colab": {},
    "colab_type": "code",
    "id": "sbUvWvQkm7KZ"
   },
   "outputs": [],
   "source": [
    "# Keep calling the keys\n",
    "d['key1']['nestkey']['subnestkey']"
   ]
  },
  {
   "cell_type": "markdown",
   "metadata": {
    "colab_type": "text",
    "id": "52pWxHhLm7Kc"
   },
   "source": []
  },
  {
   "cell_type": "markdown",
   "metadata": {
    "colab_type": "text",
    "id": "PY2buRNbm7Kd"
   },
   "source": [
    "## 5. How to delete or remove elements from a dictionary?"
   ]
  },
  {
   "cell_type": "code",
   "execution_count": 48,
   "metadata": {
    "ExecuteTime": {
     "end_time": "2019-06-13T11:34:24.152871Z",
     "start_time": "2019-06-13T11:34:24.147858Z"
    },
    "colab": {},
    "colab_type": "code",
    "executionInfo": {
     "elapsed": 743,
     "status": "ok",
     "timestamp": 1595308152806,
     "user": {
      "displayName": "Sreekiran A R",
      "photoUrl": "",
      "userId": "08081610524516152222"
     },
     "user_tz": -330
    },
    "id": "mFdCEV7em7Kd"
   },
   "outputs": [],
   "source": [
    "# create a dictionary\n",
    "squares = {1:1, 2:4, 3:9, 4:16, 5:25} "
   ]
  },
  {
   "cell_type": "code",
   "execution_count": 49,
   "metadata": {
    "ExecuteTime": {
     "end_time": "2019-06-13T11:34:24.389515Z",
     "start_time": "2019-06-13T11:34:24.385507Z"
    },
    "colab": {
     "base_uri": "https://localhost:8080/",
     "height": 34
    },
    "colab_type": "code",
    "executionInfo": {
     "elapsed": 884,
     "status": "ok",
     "timestamp": 1595308154475,
     "user": {
      "displayName": "Sreekiran A R",
      "photoUrl": "",
      "userId": "08081610524516152222"
     },
     "user_tz": -330
    },
    "id": "ZA1tmlGdm7Kh",
    "outputId": "de083766-f40f-448e-bd06-73b73bb3710c"
   },
   "outputs": [
    {
     "data": {
      "text/plain": [
       "{1: 1, 2: 4, 3: 9, 4: 16, 5: 25}"
      ]
     },
     "execution_count": 49,
     "metadata": {
      "tags": []
     },
     "output_type": "execute_result"
    }
   ],
   "source": [
    "squares"
   ]
  },
  {
   "cell_type": "markdown",
   "metadata": {
    "colab_type": "text",
    "id": "FNy1WbjLm7Kn"
   },
   "source": [
    "### Remove a particular item"
   ]
  },
  {
   "cell_type": "code",
   "execution_count": 50,
   "metadata": {
    "ExecuteTime": {
     "end_time": "2019-06-13T11:34:24.850323Z",
     "start_time": "2019-06-13T11:34:24.811257Z"
    },
    "colab": {
     "base_uri": "https://localhost:8080/",
     "height": 34
    },
    "colab_type": "code",
    "executionInfo": {
     "elapsed": 1156,
     "status": "ok",
     "timestamp": 1595308209375,
     "user": {
      "displayName": "Sreekiran A R",
      "photoUrl": "",
      "userId": "08081610524516152222"
     },
     "user_tz": -330
    },
    "id": "Nwq79ljMm7Ko",
    "outputId": "151b3245-d685-4986-91d7-d457f6242e61"
   },
   "outputs": [
    {
     "name": "stdout",
     "output_type": "stream",
     "text": [
      "16\n"
     ]
    }
   ],
   "source": [
    "# Output: 16\n",
    "print(squares.pop(4))"
   ]
  },
  {
   "cell_type": "code",
   "execution_count": 51,
   "metadata": {
    "ExecuteTime": {
     "end_time": "2019-06-13T11:34:25.079727Z",
     "start_time": "2019-06-13T11:34:25.062680Z"
    },
    "colab": {
     "base_uri": "https://localhost:8080/",
     "height": 34
    },
    "colab_type": "code",
    "executionInfo": {
     "elapsed": 956,
     "status": "ok",
     "timestamp": 1595308213929,
     "user": {
      "displayName": "Sreekiran A R",
      "photoUrl": "",
      "userId": "08081610524516152222"
     },
     "user_tz": -330
    },
    "id": "Mbc2A6num7Kt",
    "outputId": "1fbd20a6-1105-4add-8851-d960632f8167"
   },
   "outputs": [
    {
     "name": "stdout",
     "output_type": "stream",
     "text": [
      "{1: 1, 2: 4, 3: 9, 5: 25}\n"
     ]
    }
   ],
   "source": [
    "print(squares)"
   ]
  },
  {
   "cell_type": "markdown",
   "metadata": {
    "colab_type": "text",
    "id": "IJaVBJqMm7Kx"
   },
   "source": [
    "### Remove an arbitrary item"
   ]
  },
  {
   "cell_type": "code",
   "execution_count": 52,
   "metadata": {
    "ExecuteTime": {
     "end_time": "2019-06-13T11:34:27.447278Z",
     "start_time": "2019-06-13T11:34:27.443270Z"
    },
    "colab": {
     "base_uri": "https://localhost:8080/",
     "height": 34
    },
    "colab_type": "code",
    "executionInfo": {
     "elapsed": 1046,
     "status": "ok",
     "timestamp": 1595308248524,
     "user": {
      "displayName": "Sreekiran A R",
      "photoUrl": "",
      "userId": "08081610524516152222"
     },
     "user_tz": -330
    },
    "id": "4RqAnS-Qm7Ky",
    "outputId": "eafecd7f-f00f-4a60-f331-9c1903c6ff6d"
   },
   "outputs": [
    {
     "name": "stdout",
     "output_type": "stream",
     "text": [
      "(5, 25)\n"
     ]
    }
   ],
   "source": [
    "# Output: (5, 25)\n",
    "print(squares.popitem())"
   ]
  },
  {
   "cell_type": "code",
   "execution_count": 53,
   "metadata": {
    "ExecuteTime": {
     "end_time": "2019-06-13T11:34:42.608778Z",
     "start_time": "2019-06-13T11:34:42.605770Z"
    },
    "colab": {
     "base_uri": "https://localhost:8080/",
     "height": 34
    },
    "colab_type": "code",
    "executionInfo": {
     "elapsed": 1062,
     "status": "ok",
     "timestamp": 1595308260754,
     "user": {
      "displayName": "Sreekiran A R",
      "photoUrl": "",
      "userId": "08081610524516152222"
     },
     "user_tz": -330
    },
    "id": "Nc5dzYGim7K1",
    "outputId": "eba308e7-4803-4e02-e5da-1a61691652b4"
   },
   "outputs": [
    {
     "name": "stdout",
     "output_type": "stream",
     "text": [
      "{1: 1, 2: 4, 3: 9}\n"
     ]
    }
   ],
   "source": [
    "# Output: {1: 1, 2: 4, 3: 9}\n",
    "print(squares)"
   ]
  },
  {
   "cell_type": "markdown",
   "metadata": {
    "colab_type": "text",
    "id": "uX8pzfnRm7K4"
   },
   "source": [
    "### Delete a particular item"
   ]
  },
  {
   "cell_type": "code",
   "execution_count": 54,
   "metadata": {
    "ExecuteTime": {
     "end_time": "2019-06-13T11:34:58.827776Z",
     "start_time": "2019-06-13T11:34:58.823764Z"
    },
    "colab": {
     "base_uri": "https://localhost:8080/",
     "height": 34
    },
    "colab_type": "code",
    "executionInfo": {
     "elapsed": 1007,
     "status": "ok",
     "timestamp": 1595308285078,
     "user": {
      "displayName": "Sreekiran A R",
      "photoUrl": "",
      "userId": "08081610524516152222"
     },
     "user_tz": -330
    },
    "id": "xaGwKjKwm7K5",
    "outputId": "f4874cc8-200b-46da-c30a-6e3cbe345892"
   },
   "outputs": [
    {
     "name": "stdout",
     "output_type": "stream",
     "text": [
      "{2: 4, 3: 9}\n"
     ]
    }
   ],
   "source": [
    "del squares[1]  \n",
    "\n",
    "# Output: {2: 4, 3: 9}\n",
    "print(squares)"
   ]
  },
  {
   "cell_type": "markdown",
   "metadata": {
    "colab_type": "text",
    "id": "SYFBp6xDm7K9"
   },
   "source": [
    "### Remove all items"
   ]
  },
  {
   "cell_type": "code",
   "execution_count": 55,
   "metadata": {
    "ExecuteTime": {
     "end_time": "2019-06-13T11:35:44.724623Z",
     "start_time": "2019-06-13T11:35:44.720612Z"
    },
    "colab": {
     "base_uri": "https://localhost:8080/",
     "height": 34
    },
    "colab_type": "code",
    "executionInfo": {
     "elapsed": 1050,
     "status": "ok",
     "timestamp": 1595308300523,
     "user": {
      "displayName": "Sreekiran A R",
      "photoUrl": "",
      "userId": "08081610524516152222"
     },
     "user_tz": -330
    },
    "id": "5qxKTWJQm7K-",
    "outputId": "92df11f8-69c9-4a86-c2dc-9f7bd4797888"
   },
   "outputs": [
    {
     "name": "stdout",
     "output_type": "stream",
     "text": [
      "{}\n"
     ]
    }
   ],
   "source": [
    "squares.clear()\n",
    "\n",
    "# Output: {}\n",
    "print(squares)"
   ]
  },
  {
   "cell_type": "markdown",
   "metadata": {
    "colab_type": "text",
    "id": "Jl7I7bvRm7LA"
   },
   "source": [
    "### Delete the dictionary itself"
   ]
  },
  {
   "cell_type": "code",
   "execution_count": 56,
   "metadata": {
    "ExecuteTime": {
     "end_time": "2019-06-13T11:36:01.352576Z",
     "start_time": "2019-06-13T11:36:01.310430Z"
    },
    "colab": {
     "base_uri": "https://localhost:8080/",
     "height": 197
    },
    "colab_type": "code",
    "executionInfo": {
     "elapsed": 1092,
     "status": "error",
     "timestamp": 1595308329821,
     "user": {
      "displayName": "Sreekiran A R",
      "photoUrl": "",
      "userId": "08081610524516152222"
     },
     "user_tz": -330
    },
    "id": "S765oWBam7LB",
    "outputId": "fd7a1d8b-9c21-4085-dff5-d0052ee7b94b"
   },
   "outputs": [
    {
     "ename": "NameError",
     "evalue": "ignored",
     "output_type": "error",
     "traceback": [
      "\u001b[0;31m---------------------------------------------------------------------------\u001b[0m",
      "\u001b[0;31mNameError\u001b[0m                                 Traceback (most recent call last)",
      "\u001b[0;32m<ipython-input-56-eb7970e0650a>\u001b[0m in \u001b[0;36m<module>\u001b[0;34m()\u001b[0m\n\u001b[1;32m      2\u001b[0m \u001b[0;34m\u001b[0m\u001b[0m\n\u001b[1;32m      3\u001b[0m \u001b[0;31m# Throws Error since there is no dictionary\u001b[0m\u001b[0;34m\u001b[0m\u001b[0;34m\u001b[0m\u001b[0;34m\u001b[0m\u001b[0m\n\u001b[0;32m----> 4\u001b[0;31m \u001b[0mprint\u001b[0m\u001b[0;34m(\u001b[0m\u001b[0msquares\u001b[0m\u001b[0;34m)\u001b[0m\u001b[0;34m\u001b[0m\u001b[0;34m\u001b[0m\u001b[0m\n\u001b[0m",
      "\u001b[0;31mNameError\u001b[0m: name 'squares' is not defined"
     ]
    }
   ],
   "source": [
    "del squares\n",
    "\n",
    "# Throws Error since there is no dictionary \n",
    "print(squares)"
   ]
  },
  {
   "cell_type": "markdown",
   "metadata": {
    "colab_type": "text",
    "id": "H8DUrISsm7LH"
   },
   "source": [
    "## 6. Pass by reference in Dictionary\n",
    "\n",
    "### Similar to list, any change you make to a copy of a dictionary, will reflect in the original dictionary"
   ]
  },
  {
   "cell_type": "code",
   "execution_count": 57,
   "metadata": {
    "ExecuteTime": {
     "end_time": "2019-06-13T11:36:34.479432Z",
     "start_time": "2019-06-13T11:36:34.475469Z"
    },
    "colab": {},
    "colab_type": "code",
    "executionInfo": {
     "elapsed": 1464,
     "status": "ok",
     "timestamp": 1595308393727,
     "user": {
      "displayName": "Sreekiran A R",
      "photoUrl": "",
      "userId": "08081610524516152222"
     },
     "user_tz": -330
    },
    "id": "PIBGy6A4m7LI"
   },
   "outputs": [],
   "source": [
    "squares = {1:1, 2:4, 3:9, 4:16, 5:25} "
   ]
  },
  {
   "cell_type": "code",
   "execution_count": 58,
   "metadata": {
    "ExecuteTime": {
     "end_time": "2019-06-13T11:36:35.057765Z",
     "start_time": "2019-06-13T11:36:35.053755Z"
    },
    "colab": {},
    "colab_type": "code",
    "executionInfo": {
     "elapsed": 1203,
     "status": "ok",
     "timestamp": 1595308400854,
     "user": {
      "displayName": "Sreekiran A R",
      "photoUrl": "",
      "userId": "08081610524516152222"
     },
     "user_tz": -330
    },
    "id": "VbqMq-ICm7LL"
   },
   "outputs": [],
   "source": [
    "square = squares"
   ]
  },
  {
   "cell_type": "code",
   "execution_count": 59,
   "metadata": {
    "ExecuteTime": {
     "end_time": "2019-06-13T11:36:36.846020Z",
     "start_time": "2019-06-13T11:36:36.842009Z"
    },
    "colab": {},
    "colab_type": "code",
    "executionInfo": {
     "elapsed": 1235,
     "status": "ok",
     "timestamp": 1595308418782,
     "user": {
      "displayName": "Sreekiran A R",
      "photoUrl": "",
      "userId": "08081610524516152222"
     },
     "user_tz": -330
    },
    "id": "xNJguooYm7LO"
   },
   "outputs": [],
   "source": [
    "square[6] = 36"
   ]
  },
  {
   "cell_type": "code",
   "execution_count": 60,
   "metadata": {
    "ExecuteTime": {
     "end_time": "2019-06-13T11:36:57.746929Z",
     "start_time": "2019-06-13T11:36:57.740913Z"
    },
    "colab": {
     "base_uri": "https://localhost:8080/",
     "height": 34
    },
    "colab_type": "code",
    "executionInfo": {
     "elapsed": 1229,
     "status": "ok",
     "timestamp": 1595308421405,
     "user": {
      "displayName": "Sreekiran A R",
      "photoUrl": "",
      "userId": "08081610524516152222"
     },
     "user_tz": -330
    },
    "id": "cy3ufJ4om7LR",
    "outputId": "52c79d93-5cd5-449f-ded3-e2e1bef1a944"
   },
   "outputs": [
    {
     "data": {
      "text/plain": [
       "{1: 1, 2: 4, 3: 9, 4: 16, 5: 25, 6: 36}"
      ]
     },
     "execution_count": 60,
     "metadata": {
      "tags": []
     },
     "output_type": "execute_result"
    }
   ],
   "source": [
    "square"
   ]
  },
  {
   "cell_type": "code",
   "execution_count": 61,
   "metadata": {
    "ExecuteTime": {
     "end_time": "2019-06-13T11:36:58.040849Z",
     "start_time": "2019-06-13T11:36:58.022800Z"
    },
    "colab": {
     "base_uri": "https://localhost:8080/",
     "height": 34
    },
    "colab_type": "code",
    "executionInfo": {
     "elapsed": 1769,
     "status": "ok",
     "timestamp": 1595308430265,
     "user": {
      "displayName": "Sreekiran A R",
      "photoUrl": "",
      "userId": "08081610524516152222"
     },
     "user_tz": -330
    },
    "id": "d0U84_s1m7LZ",
    "outputId": "c0ac2b26-92b1-482c-b8be-428a3075b6c6"
   },
   "outputs": [
    {
     "data": {
      "text/plain": [
       "{1: 1, 2: 4, 3: 9, 4: 16, 5: 25, 6: 36}"
      ]
     },
     "execution_count": 61,
     "metadata": {
      "tags": []
     },
     "output_type": "execute_result"
    }
   ],
   "source": [
    "squares"
   ]
  },
  {
   "cell_type": "markdown",
   "metadata": {
    "colab_type": "text",
    "id": "TWLP08PIm7Ld"
   },
   "source": []
  },
  {
   "cell_type": "markdown",
   "metadata": {
    "colab_type": "text",
    "id": "n_uFWJJ8m7Le"
   },
   "source": [
    "### Other useful methods that can be used under Dictionary"
   ]
  },
  {
   "cell_type": "markdown",
   "metadata": {
    "colab_type": "text",
    "id": "1OxLCVEzm7Lf"
   },
   "source": [
    "|Methods|                Use                  |\n",
    "|-------|-------------------------------------|\n",
    "|clear()| Remove all items form the dictionary|\n",
    "|copy() | Return a shallow copy of the dictionary |\n",
    "|fromkeys(seq[, v])|Return a new dictionary with keys from seq <br>and value equal to v (defaults to None)<br>|\n",
    "|get(key[,d]) |Return the value of key. If key doesnot <br>exit, return d (defaults to None)|\n",
    "|items()|Return a new view of the dictionary's <br>items (key, value)|\n",
    "|keys()|Return a new view of the dictionary's keys|\n",
    "|pop(key[,d])|Remove the item with key and return <br>its value or d if key is not found.<br> If d is not provided and key <br>is not found, raises KeyError|\n",
    "|popitem()|Remove and return an arbitary item (key, value).<br>Raises KeyError if the dictionary is empty|\n",
    "|setdefault(key[,d])|If key is in the dictionary, return its value.<br>If not, insert key with a value of d and<br> return d (defaults to None)|\n",
    "|update([other])|Update the dictionary with the key/value <br>pairs from other, overwriting existing keys|\n",
    "|values() \t|Return a new view of the dictionary's values|"
   ]
  },
  {
   "cell_type": "markdown",
   "metadata": {
    "colab_type": "text",
    "id": "TL_Vw_agm7Lg"
   },
   "source": [
    "### Just to show you guys, one of those functions above can be used to create dictionary too, let's see:"
   ]
  },
  {
   "cell_type": "code",
   "execution_count": 62,
   "metadata": {
    "ExecuteTime": {
     "end_time": "2019-06-13T11:57:35.065964Z",
     "start_time": "2019-06-13T11:57:35.060952Z"
    },
    "colab": {
     "base_uri": "https://localhost:8080/",
     "height": 34
    },
    "colab_type": "code",
    "executionInfo": {
     "elapsed": 1030,
     "status": "ok",
     "timestamp": 1595308612381,
     "user": {
      "displayName": "Sreekiran A R",
      "photoUrl": "",
      "userId": "08081610524516152222"
     },
     "user_tz": -330
    },
    "id": "m7ERrYgJm7Lh",
    "outputId": "eab0bb02-6bfa-44f1-c152-01f81df317cd"
   },
   "outputs": [
    {
     "name": "stdout",
     "output_type": "stream",
     "text": [
      "{'Math': 0, 'English': 0, 'Science': 0}\n"
     ]
    }
   ],
   "source": [
    "marks1 = dict()\n",
    "\n",
    "marks1 = marks1.fromkeys(['Math','English','Science'], 0)\n",
    "print(marks1)"
   ]
  },
  {
   "cell_type": "code",
   "execution_count": 63,
   "metadata": {
    "ExecuteTime": {
     "end_time": "2019-06-13T12:03:34.163440Z",
     "start_time": "2019-06-13T12:03:34.159429Z"
    },
    "colab": {
     "base_uri": "https://localhost:8080/",
     "height": 34
    },
    "colab_type": "code",
    "executionInfo": {
     "elapsed": 1140,
     "status": "ok",
     "timestamp": 1595308621582,
     "user": {
      "displayName": "Sreekiran A R",
      "photoUrl": "",
      "userId": "08081610524516152222"
     },
     "user_tz": -330
    },
    "id": "zn5hG8GXm7Lj",
    "outputId": "692b7558-7e12-48e1-e071-92f2c210c1a8"
   },
   "outputs": [
    {
     "name": "stdout",
     "output_type": "stream",
     "text": [
      "{'Math': 95, 'English': 95, 'Science': 95}\n"
     ]
    }
   ],
   "source": [
    "marks2 = {}.fromkeys(['Math','English','Science'], 95)\n",
    "print(marks2)"
   ]
  },
  {
   "cell_type": "code",
   "execution_count": 64,
   "metadata": {
    "ExecuteTime": {
     "end_time": "2019-06-13T12:03:35.222803Z",
     "start_time": "2019-06-13T12:03:35.217825Z"
    },
    "colab": {
     "base_uri": "https://localhost:8080/",
     "height": 34
    },
    "colab_type": "code",
    "executionInfo": {
     "elapsed": 1132,
     "status": "ok",
     "timestamp": 1595308625285,
     "user": {
      "displayName": "Sreekiran A R",
      "photoUrl": "",
      "userId": "08081610524516152222"
     },
     "user_tz": -330
    },
    "id": "P7kO8k3bm7Lm",
    "outputId": "8babed50-ada7-47d1-d6de-a826726ebfc5"
   },
   "outputs": [
    {
     "data": {
      "text/plain": [
       "dict_values([95, 95, 95])"
      ]
     },
     "execution_count": 64,
     "metadata": {
      "tags": []
     },
     "output_type": "execute_result"
    }
   ],
   "source": [
    "marks2.values()"
   ]
  },
  {
   "cell_type": "markdown",
   "metadata": {
    "colab_type": "text",
    "id": "TXzACTRjm7Lp"
   },
   "source": [
    "## 7. Working with dictionary items:"
   ]
  },
  {
   "cell_type": "code",
   "execution_count": 65,
   "metadata": {
    "ExecuteTime": {
     "end_time": "2019-06-13T12:03:36.750567Z",
     "start_time": "2019-06-13T12:03:36.745561Z"
    },
    "colab": {
     "base_uri": "https://localhost:8080/",
     "height": 34
    },
    "colab_type": "code",
    "executionInfo": {
     "elapsed": 956,
     "status": "ok",
     "timestamp": 1595308652587,
     "user": {
      "displayName": "Sreekiran A R",
      "photoUrl": "",
      "userId": "08081610524516152222"
     },
     "user_tz": -330
    },
    "id": "VkeGl8Vom7Lq",
    "outputId": "41726541-6de3-40c6-ae39-0cc5212e83ba"
   },
   "outputs": [
    {
     "data": {
      "text/plain": [
       "dict_items([('Math', 95), ('English', 95), ('Science', 95)])"
      ]
     },
     "execution_count": 65,
     "metadata": {
      "tags": []
     },
     "output_type": "execute_result"
    }
   ],
   "source": [
    "marks2.items()"
   ]
  },
  {
   "cell_type": "code",
   "execution_count": 66,
   "metadata": {
    "ExecuteTime": {
     "end_time": "2019-06-13T12:03:39.520329Z",
     "start_time": "2019-06-13T12:03:39.515315Z"
    },
    "colab": {
     "base_uri": "https://localhost:8080/",
     "height": 68
    },
    "colab_type": "code",
    "executionInfo": {
     "elapsed": 1057,
     "status": "ok",
     "timestamp": 1595308687822,
     "user": {
      "displayName": "Sreekiran A R",
      "photoUrl": "",
      "userId": "08081610524516152222"
     },
     "user_tz": -330
    },
    "id": "yHTtLzDHm7Lv",
    "outputId": "ddac2735-e1e7-4fd3-ef38-14f53105867c"
   },
   "outputs": [
    {
     "name": "stdout",
     "output_type": "stream",
     "text": [
      "('Math', 95)\n",
      "('English', 95)\n",
      "('Science', 95)\n"
     ]
    }
   ],
   "source": [
    "for item in marks2.items():\n",
    "    print(item)"
   ]
  },
  {
   "cell_type": "code",
   "execution_count": 67,
   "metadata": {
    "ExecuteTime": {
     "end_time": "2019-06-13T12:04:39.112161Z",
     "start_time": "2019-06-13T12:04:39.108151Z"
    },
    "colab": {
     "base_uri": "https://localhost:8080/",
     "height": 119
    },
    "colab_type": "code",
    "executionInfo": {
     "elapsed": 1115,
     "status": "ok",
     "timestamp": 1595308709610,
     "user": {
      "displayName": "Sreekiran A R",
      "photoUrl": "",
      "userId": "08081610524516152222"
     },
     "user_tz": -330
    },
    "id": "Z0sIcwjwm7Lz",
    "outputId": "e9f088de-25d3-489a-c408-ccde78fc468f"
   },
   "outputs": [
    {
     "name": "stdout",
     "output_type": "stream",
     "text": [
      "In subject Math I scored 95 marks.\n",
      "\n",
      "In subject English I scored 95 marks.\n",
      "\n",
      "In subject Science I scored 95 marks.\n",
      "\n"
     ]
    }
   ],
   "source": [
    "for key, value in marks2.items():\n",
    "    print(f'In subject {key} I scored {value} marks.\\n')"
   ]
  },
  {
   "cell_type": "markdown",
   "metadata": {
    "colab_type": "text",
    "id": "u8tYdvwRm7L8"
   },
   "source": [
    "## 8. Check if an element is in a dictionary"
   ]
  },
  {
   "cell_type": "code",
   "execution_count": 69,
   "metadata": {
    "ExecuteTime": {
     "end_time": "2019-06-13T12:08:24.830546Z",
     "start_time": "2019-06-13T12:08:24.825533Z"
    },
    "colab": {
     "base_uri": "https://localhost:8080/",
     "height": 51
    },
    "colab_type": "code",
    "executionInfo": {
     "elapsed": 1836,
     "status": "ok",
     "timestamp": 1595308964690,
     "user": {
      "displayName": "Sreekiran A R",
      "photoUrl": "",
      "userId": "08081610524516152222"
     },
     "user_tz": -330
    },
    "id": "vVMediJim7L9",
    "outputId": "c200cdbb-93d3-4811-fb08-84f50b840c19"
   },
   "outputs": [
    {
     "name": "stdout",
     "output_type": "stream",
     "text": [
      "False\n",
      "True\n"
     ]
    }
   ],
   "source": [
    "squares = {1: 1, 3: 9, 5: 25, 7: 49, 9: 81}\n",
    "\n",
    "print(1 not in squares)\n",
    "\n",
    "print(2 not in squares)"
   ]
  },
  {
   "cell_type": "markdown",
   "metadata": {
    "colab_type": "text",
    "id": "DwJeRPZrm7MC"
   },
   "source": [
    "### Membership tests are usually for key only not value\n"
   ]
  },
  {
   "cell_type": "code",
   "execution_count": 71,
   "metadata": {
    "ExecuteTime": {
     "end_time": "2019-06-13T12:08:39.647192Z",
     "start_time": "2019-06-13T12:08:39.642170Z"
    },
    "colab": {
     "base_uri": "https://localhost:8080/",
     "height": 34
    },
    "colab_type": "code",
    "executionInfo": {
     "elapsed": 3080,
     "status": "ok",
     "timestamp": 1595309001955,
     "user": {
      "displayName": "Sreekiran A R",
      "photoUrl": "",
      "userId": "08081610524516152222"
     },
     "user_tz": -330
    },
    "id": "kkC6XaU0m7MC",
    "outputId": "cbd04bf0-075f-4948-8944-12ceaecde69d"
   },
   "outputs": [
    {
     "name": "stdout",
     "output_type": "stream",
     "text": [
      "True\n"
     ]
    }
   ],
   "source": [
    "print(49 in squares.values())"
   ]
  },
  {
   "cell_type": "markdown",
   "metadata": {
    "colab_type": "text",
    "id": "5xyMVDadm7MH"
   },
   "source": [
    "## 9. Some built in functions that can be used with a dictionary"
   ]
  },
  {
   "cell_type": "markdown",
   "metadata": {
    "colab_type": "raw",
    "id": "S-qTWusgm7MI"
   },
   "source": [
    "all() \t    Return True if all keys of the dictionary are true, If the dictionary is empty, return True.\n",
    "any() \t    Return True if any key of the dictionary is true. If the dictionary is empty, return False.\n",
    "len() \t    Return the length (the number of items) in the dictionary.\n",
    "sorted() \tReturn a new sorted list of keys in the dictionary."
   ]
  },
  {
   "cell_type": "markdown",
   "metadata": {
    "colab_type": "text",
    "id": "uGFyk1csm7MI"
   },
   "source": [
    "### Let's see these in use"
   ]
  },
  {
   "cell_type": "code",
   "execution_count": 72,
   "metadata": {
    "ExecuteTime": {
     "end_time": "2019-06-13T14:16:21.688197Z",
     "start_time": "2019-06-13T14:16:21.680677Z"
    },
    "colab": {
     "base_uri": "https://localhost:8080/",
     "height": 119
    },
    "colab_type": "code",
    "executionInfo": {
     "elapsed": 940,
     "status": "ok",
     "timestamp": 1595309105359,
     "user": {
      "displayName": "Sreekiran A R",
      "photoUrl": "",
      "userId": "08081610524516152222"
     },
     "user_tz": -330
    },
    "id": "1ig8ZGvJm7MJ",
    "outputId": "898a5e89-7a05-4226-e186-db459d594728"
   },
   "outputs": [
    {
     "name": "stdout",
     "output_type": "stream",
     "text": [
      "False\n",
      "True\n",
      "True\n",
      "False\n",
      "False\n",
      "True\n"
     ]
    }
   ],
   "source": [
    "print(any([False, False, False]))\n",
    "\n",
    "print(any([True, False, False]))\n",
    "\n",
    "print(any([1, 0, 0]))\n",
    "\n",
    "print(all([True, False, False]))\n",
    "\n",
    "print(any([]))\n",
    "\n",
    "print(all([]))"
   ]
  },
  {
   "cell_type": "code",
   "execution_count": 73,
   "metadata": {
    "ExecuteTime": {
     "end_time": "2019-06-13T14:17:15.647525Z",
     "start_time": "2019-06-13T14:17:15.641006Z"
    },
    "colab": {
     "base_uri": "https://localhost:8080/",
     "height": 102
    },
    "colab_type": "code",
    "executionInfo": {
     "elapsed": 895,
     "status": "ok",
     "timestamp": 1595309149571,
     "user": {
      "displayName": "Sreekiran A R",
      "photoUrl": "",
      "userId": "08081610524516152222"
     },
     "user_tz": -330
    },
    "id": "Ro4JK0Y9m7MM",
    "outputId": "978a7927-dcab-474e-fa27-67e97e2d069c"
   },
   "outputs": [
    {
     "name": "stdout",
     "output_type": "stream",
     "text": [
      "False\n",
      "True\n",
      "True\n",
      "False\n",
      "True\n"
     ]
    }
   ],
   "source": [
    "d = {0: 'False'}\n",
    "print(any(d))\n",
    "\n",
    "d = {0: 'False', 1: 'True'}\n",
    "print(any(d))\n",
    "\n",
    "d = {1: 'True', False: 0}\n",
    "print(any(d))\n",
    "\n",
    "d = {}\n",
    "print(any(d))\n",
    "\n",
    "# 0 is False\n",
    "# '0' is True\n",
    "d = {'0': 'False'}\n",
    "print(any(d))"
   ]
  },
  {
   "cell_type": "markdown",
   "metadata": {
    "colab_type": "text",
    "id": "tAcvr1IEm7MP"
   },
   "source": [
    "### Another useful feature is: sorted():"
   ]
  },
  {
   "cell_type": "code",
   "execution_count": 74,
   "metadata": {
    "ExecuteTime": {
     "end_time": "2019-06-13T14:17:43.625252Z",
     "start_time": "2019-06-13T14:17:43.619737Z"
    },
    "colab": {
     "base_uri": "https://localhost:8080/",
     "height": 34
    },
    "colab_type": "code",
    "executionInfo": {
     "elapsed": 608,
     "status": "ok",
     "timestamp": 1595309268171,
     "user": {
      "displayName": "Sreekiran A R",
      "photoUrl": "",
      "userId": "08081610524516152222"
     },
     "user_tz": -330
    },
    "id": "iZuYtPCNm7MP",
    "outputId": "632cb16a-25c3-4339-89f5-47b7089e0603"
   },
   "outputs": [
    {
     "data": {
      "text/plain": [
       "{'English': 95, 'Math': 95, 'Science': 95}"
      ]
     },
     "execution_count": 74,
     "metadata": {
      "tags": []
     },
     "output_type": "execute_result"
    }
   ],
   "source": [
    "marks2 = {}.fromkeys(['Math','English','Science'], 95)\n",
    "marks2"
   ]
  },
  {
   "cell_type": "code",
   "execution_count": 75,
   "metadata": {
    "ExecuteTime": {
     "end_time": "2019-06-13T14:17:49.167185Z",
     "start_time": "2019-06-13T14:17:49.161169Z"
    },
    "colab": {
     "base_uri": "https://localhost:8080/",
     "height": 34
    },
    "colab_type": "code",
    "executionInfo": {
     "elapsed": 939,
     "status": "ok",
     "timestamp": 1595309300940,
     "user": {
      "displayName": "Sreekiran A R",
      "photoUrl": "",
      "userId": "08081610524516152222"
     },
     "user_tz": -330
    },
    "id": "WR4zOcmym7MT",
    "outputId": "a8cd36ec-46b3-4942-d2f5-5e0b7739f72b"
   },
   "outputs": [
    {
     "data": {
      "text/plain": [
       "['English', 'Math', 'Science']"
      ]
     },
     "execution_count": 75,
     "metadata": {
      "tags": []
     },
     "output_type": "execute_result"
    }
   ],
   "source": [
    "list(sorted(marks2))"
   ]
  },
  {
   "cell_type": "code",
   "execution_count": 77,
   "metadata": {
    "ExecuteTime": {
     "end_time": "2019-06-13T14:17:49.500072Z",
     "start_time": "2019-06-13T14:17:49.494558Z"
    },
    "colab": {
     "base_uri": "https://localhost:8080/",
     "height": 34
    },
    "colab_type": "code",
    "executionInfo": {
     "elapsed": 1051,
     "status": "ok",
     "timestamp": 1595309322136,
     "user": {
      "displayName": "Sreekiran A R",
      "photoUrl": "",
      "userId": "08081610524516152222"
     },
     "user_tz": -330
    },
    "id": "zWqQWtQKm7Ma",
    "outputId": "b4767e6e-85ca-40f6-d518-99d69edf13b5"
   },
   "outputs": [
    {
     "data": {
      "text/plain": [
       "[95, 95, 95]"
      ]
     },
     "execution_count": 77,
     "metadata": {
      "tags": []
     },
     "output_type": "execute_result"
    }
   ],
   "source": [
    "list(sorted(marks2.values()))"
   ]
  },
  {
   "cell_type": "markdown",
   "metadata": {
    "colab_type": "text",
    "id": "UW8bRDHam7Mg"
   },
   "source": [
    "### Another example:"
   ]
  },
  {
   "cell_type": "code",
   "execution_count": 78,
   "metadata": {
    "ExecuteTime": {
     "end_time": "2019-06-13T14:19:48.732716Z",
     "start_time": "2019-06-13T14:19:48.729206Z"
    },
    "colab": {},
    "colab_type": "code",
    "executionInfo": {
     "elapsed": 1343,
     "status": "ok",
     "timestamp": 1595309340426,
     "user": {
      "displayName": "Sreekiran A R",
      "photoUrl": "",
      "userId": "08081610524516152222"
     },
     "user_tz": -330
    },
    "id": "TxBPhMDJm7Mh"
   },
   "outputs": [],
   "source": [
    "squares = {'1': 1, '3': 9, 5: 25, 7: 49, 9: 81}"
   ]
  },
  {
   "cell_type": "code",
   "execution_count": 79,
   "metadata": {
    "ExecuteTime": {
     "end_time": "2019-06-13T14:19:49.298762Z",
     "start_time": "2019-06-13T14:19:49.201001Z"
    },
    "colab": {
     "base_uri": "https://localhost:8080/",
     "height": 163
    },
    "colab_type": "code",
    "executionInfo": {
     "elapsed": 1216,
     "status": "error",
     "timestamp": 1595309342900,
     "user": {
      "displayName": "Sreekiran A R",
      "photoUrl": "",
      "userId": "08081610524516152222"
     },
     "user_tz": -330
    },
    "id": "PMo_fH67m7Mp",
    "outputId": "2a7fa97a-83db-41ff-dcd2-ef42c1c8eb0f"
   },
   "outputs": [
    {
     "ename": "TypeError",
     "evalue": "ignored",
     "output_type": "error",
     "traceback": [
      "\u001b[0;31m---------------------------------------------------------------------------\u001b[0m",
      "\u001b[0;31mTypeError\u001b[0m                                 Traceback (most recent call last)",
      "\u001b[0;32m<ipython-input-79-d0e2881fbc2d>\u001b[0m in \u001b[0;36m<module>\u001b[0;34m()\u001b[0m\n\u001b[0;32m----> 1\u001b[0;31m \u001b[0mprint\u001b[0m\u001b[0;34m(\u001b[0m\u001b[0msorted\u001b[0m\u001b[0;34m(\u001b[0m\u001b[0msquares\u001b[0m\u001b[0;34m)\u001b[0m\u001b[0;34m)\u001b[0m\u001b[0;34m\u001b[0m\u001b[0;34m\u001b[0m\u001b[0m\n\u001b[0m",
      "\u001b[0;31mTypeError\u001b[0m: '<' not supported between instances of 'int' and 'str'"
     ]
    }
   ],
   "source": [
    "print(sorted(squares))"
   ]
  },
  {
   "cell_type": "code",
   "execution_count": 80,
   "metadata": {
    "ExecuteTime": {
     "end_time": "2019-06-13T14:19:39.083049Z",
     "start_time": "2019-06-13T14:19:39.078067Z"
    },
    "colab": {
     "base_uri": "https://localhost:8080/",
     "height": 34
    },
    "colab_type": "code",
    "executionInfo": {
     "elapsed": 2480,
     "status": "ok",
     "timestamp": 1595309357921,
     "user": {
      "displayName": "Sreekiran A R",
      "photoUrl": "",
      "userId": "08081610524516152222"
     },
     "user_tz": -330
    },
    "id": "V1puh01lm7Mx",
    "outputId": "b8acb650-9292-4b29-9c30-f023dccef370"
   },
   "outputs": [
    {
     "name": "stdout",
     "output_type": "stream",
     "text": [
      "['1', '3', '5', '7', '9']\n"
     ]
    }
   ],
   "source": [
    "squares = {'3': 9, '1': 1, '5': 25, '7': 49, '9': 81}\n",
    "print(sorted(squares))"
   ]
  },
  {
   "cell_type": "markdown",
   "metadata": {
    "colab_type": "text",
    "id": "FziTio_Xm7M2"
   },
   "source": [
    "### And similarly the len() function:"
   ]
  },
  {
   "cell_type": "code",
   "execution_count": 81,
   "metadata": {
    "ExecuteTime": {
     "end_time": "2019-06-13T14:20:38.179738Z",
     "start_time": "2019-06-13T14:20:38.164698Z"
    },
    "colab": {
     "base_uri": "https://localhost:8080/",
     "height": 34
    },
    "colab_type": "code",
    "executionInfo": {
     "elapsed": 1045,
     "status": "ok",
     "timestamp": 1595309383622,
     "user": {
      "displayName": "Sreekiran A R",
      "photoUrl": "",
      "userId": "08081610524516152222"
     },
     "user_tz": -330
    },
    "id": "GxT-QxuKm7M2",
    "outputId": "f83bb224-3fa5-41e9-8c42-486774bfe1b5"
   },
   "outputs": [
    {
     "name": "stdout",
     "output_type": "stream",
     "text": [
      "5\n"
     ]
    }
   ],
   "source": [
    "# Output: 5\n",
    "print(len(squares))"
   ]
  },
  {
   "cell_type": "markdown",
   "metadata": {
    "colab_type": "text",
    "id": "YOa5Q2fbm7M6"
   },
   "source": []
  },
  {
   "cell_type": "markdown",
   "metadata": {
    "colab_type": "text",
    "id": "43-e19tCm7M6"
   },
   "source": [
    "## 10. Question for you guys:"
   ]
  },
  {
   "cell_type": "markdown",
   "metadata": {
    "colab_type": "text",
    "collapsed": true,
    "id": "7vs67wz3m7M7"
   },
   "source": [
    "### Grab 'hello' from each of these dictionaries:"
   ]
  },
  {
   "cell_type": "code",
   "execution_count": null,
   "metadata": {
    "ExecuteTime": {
     "end_time": "2019-06-14T10:05:25.877146Z",
     "start_time": "2019-06-14T10:05:25.871663Z"
    },
    "colab": {},
    "colab_type": "code",
    "id": "j5R-fzbdm7M8"
   },
   "outputs": [],
   "source": [
    "#1 \n",
    "\n",
    "d = {'simple_key':'hello'}"
   ]
  },
  {
   "cell_type": "code",
   "execution_count": null,
   "metadata": {
    "colab": {},
    "colab_type": "code",
    "id": "qD5HjfiNm7M-"
   },
   "outputs": [],
   "source": []
  },
  {
   "cell_type": "code",
   "execution_count": null,
   "metadata": {
    "colab": {},
    "colab_type": "code",
    "id": "9t6iBCrgm7NA"
   },
   "outputs": [],
   "source": []
  },
  {
   "cell_type": "code",
   "execution_count": null,
   "metadata": {
    "colab": {},
    "colab_type": "code",
    "id": "FqVQHvu6m7ND"
   },
   "outputs": [],
   "source": [
    "# Ans 1\n",
    "\n",
    "d['simple_key']"
   ]
  },
  {
   "cell_type": "code",
   "execution_count": null,
   "metadata": {
    "ExecuteTime": {
     "end_time": "2019-06-14T10:05:48.259967Z",
     "start_time": "2019-06-14T10:05:48.250723Z"
    },
    "colab": {},
    "colab_type": "code",
    "id": "Lu0LKGFJm7NG"
   },
   "outputs": [],
   "source": [
    "# 2.\n",
    "\n",
    "d = {'k1':{'k2':'hello'}}"
   ]
  },
  {
   "cell_type": "code",
   "execution_count": null,
   "metadata": {
    "colab": {},
    "colab_type": "code",
    "id": "D9wTOP5Zm7NJ"
   },
   "outputs": [],
   "source": []
  },
  {
   "cell_type": "code",
   "execution_count": null,
   "metadata": {
    "colab": {},
    "colab_type": "code",
    "id": "7g_aB9mUm7NT"
   },
   "outputs": [],
   "source": []
  },
  {
   "cell_type": "code",
   "execution_count": null,
   "metadata": {
    "colab": {},
    "colab_type": "code",
    "id": "77WUjVWdm7NV"
   },
   "outputs": [],
   "source": []
  },
  {
   "cell_type": "code",
   "execution_count": null,
   "metadata": {
    "colab": {},
    "colab_type": "code",
    "id": "Ev0tPKk_m7NX"
   },
   "outputs": [],
   "source": []
  },
  {
   "cell_type": "code",
   "execution_count": null,
   "metadata": {
    "colab": {},
    "colab_type": "code",
    "id": "g3CHwuVkm7NZ"
   },
   "outputs": [],
   "source": [
    "# Ans 2.\n",
    "d['k1']['k2']"
   ]
  },
  {
   "cell_type": "markdown",
   "metadata": {
    "colab_type": "text",
    "id": "g8wPkMtfm7Nb"
   },
   "source": [
    "### How about this one:"
   ]
  },
  {
   "cell_type": "code",
   "execution_count": null,
   "metadata": {
    "colab": {},
    "colab_type": "code",
    "id": "U9P7GGbhm7Nb"
   },
   "outputs": [],
   "source": [
    "# 3. Getting a little tricker\n",
    "d = {'k1':[{'nest_key':['this is deep',['hello']]}]}"
   ]
  },
  {
   "cell_type": "code",
   "execution_count": null,
   "metadata": {
    "colab": {},
    "colab_type": "code",
    "id": "uzKz7htxm7Nd"
   },
   "outputs": [],
   "source": []
  },
  {
   "cell_type": "code",
   "execution_count": null,
   "metadata": {
    "colab": {},
    "colab_type": "code",
    "id": "YehPIhi7m7Ng"
   },
   "outputs": [],
   "source": []
  },
  {
   "cell_type": "code",
   "execution_count": null,
   "metadata": {
    "colab": {},
    "colab_type": "code",
    "id": "xJQRxfodm7Nk"
   },
   "outputs": [],
   "source": []
  },
  {
   "cell_type": "code",
   "execution_count": null,
   "metadata": {
    "colab": {},
    "colab_type": "code",
    "id": "pdSjFd_pm7Nn"
   },
   "outputs": [],
   "source": [
    "# Ans 3.\n",
    "d['k1'][0]['nest_key'][1][0]"
   ]
  },
  {
   "cell_type": "markdown",
   "metadata": {
    "colab_type": "text",
    "id": "LqryteKnm7Np"
   },
   "source": [
    "### And this:"
   ]
  },
  {
   "cell_type": "code",
   "execution_count": null,
   "metadata": {
    "colab": {},
    "colab_type": "code",
    "id": "vHYq_DG8m7Np"
   },
   "outputs": [],
   "source": [
    "# 4. This will be hard and annoying!\n",
    "d = {'k1':[1,2,{'k2':['this is tricky',{'tough':[1,2,['hello']]}]}]}"
   ]
  },
  {
   "cell_type": "code",
   "execution_count": null,
   "metadata": {
    "colab": {},
    "colab_type": "code",
    "id": "u628Bzpcm7N3"
   },
   "outputs": [],
   "source": []
  },
  {
   "cell_type": "code",
   "execution_count": null,
   "metadata": {
    "colab": {},
    "colab_type": "code",
    "id": "ZWKCo5mkm7N7"
   },
   "outputs": [],
   "source": []
  },
  {
   "cell_type": "code",
   "execution_count": null,
   "metadata": {
    "colab": {},
    "colab_type": "code",
    "id": "vn5LvW8pm7N_"
   },
   "outputs": [],
   "source": []
  },
  {
   "cell_type": "code",
   "execution_count": null,
   "metadata": {
    "colab": {},
    "colab_type": "code",
    "id": "ZArtI8P0m7OB"
   },
   "outputs": [],
   "source": []
  },
  {
   "cell_type": "code",
   "execution_count": null,
   "metadata": {
    "colab": {},
    "colab_type": "code",
    "id": "M3F3rMigm7OD"
   },
   "outputs": [],
   "source": [
    "# And 4.\n",
    "d['k1'][2]['k2'][1]['tough'][2][0]"
   ]
  },
  {
   "cell_type": "markdown",
   "metadata": {
    "colab_type": "text",
    "id": "65h_qYKCm7OF"
   },
   "source": [
    "## The End"
   ]
  },
  {
   "cell_type": "code",
   "execution_count": null,
   "metadata": {
    "colab": {},
    "colab_type": "code",
    "id": "WPPxBqMsm7OF"
   },
   "outputs": [],
   "source": []
  }
 ],
 "metadata": {
  "celltoolbar": "Slideshow",
  "colab": {
   "name": "Dictionary.ipynb",
   "provenance": []
  },
  "kernelspec": {
   "display_name": "Python 3",
   "language": "python",
   "name": "python3"
  },
  "language_info": {
   "codemirror_mode": {
    "name": "ipython",
    "version": 3
   },
   "file_extension": ".py",
   "mimetype": "text/x-python",
   "name": "python",
   "nbconvert_exporter": "python",
   "pygments_lexer": "ipython3",
   "version": "3.8.8"
  }
 },
 "nbformat": 4,
 "nbformat_minor": 1
}
